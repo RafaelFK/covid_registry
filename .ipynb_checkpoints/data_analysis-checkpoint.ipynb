{
 "cells": [
  {
   "cell_type": "code",
   "execution_count": 14,
   "metadata": {},
   "outputs": [],
   "source": [
    "import pandas as pd\n",
    "import numpy as np \n",
    "import matplotlib.pyplot as plt\n",
    "import datetime\n",
    "\n",
    "#RJ = pd.read_csv('grande_rio_janeiro.csv')\n",
    "df = pd.read_csv(\n",
    "    'maio/grande_rio_maio_sorted.csv',\n",
    "    usecols=['Date', 'State', 'City', 'Age', 'Gender', 'Place of Death', 'Cause', '#'],\n",
    "    index_col=0,\n",
    "    parse_dates=[0]\n",
    ")\n"
   ]
  },
  {
   "cell_type": "code",
   "execution_count": 15,
   "metadata": {},
   "outputs": [
    {
     "data": {
      "text/html": [
       "<div>\n",
       "<style scoped>\n",
       "    .dataframe tbody tr th:only-of-type {\n",
       "        vertical-align: middle;\n",
       "    }\n",
       "\n",
       "    .dataframe tbody tr th {\n",
       "        vertical-align: top;\n",
       "    }\n",
       "\n",
       "    .dataframe thead th {\n",
       "        text-align: right;\n",
       "    }\n",
       "</style>\n",
       "<table border=\"1\" class=\"dataframe\">\n",
       "  <thead>\n",
       "    <tr style=\"text-align: right;\">\n",
       "      <th></th>\n",
       "      <th>State</th>\n",
       "      <th>City</th>\n",
       "      <th>Age</th>\n",
       "      <th>Gender</th>\n",
       "      <th>Place of Death</th>\n",
       "      <th>Cause</th>\n",
       "      <th>#</th>\n",
       "    </tr>\n",
       "    <tr>\n",
       "      <th>Date</th>\n",
       "      <th></th>\n",
       "      <th></th>\n",
       "      <th></th>\n",
       "      <th></th>\n",
       "      <th></th>\n",
       "      <th></th>\n",
       "      <th></th>\n",
       "    </tr>\n",
       "  </thead>\n",
       "  <tbody>\n",
       "    <tr>\n",
       "      <th>2019-05-01</th>\n",
       "      <td>RJ</td>\n",
       "      <td>Belford Roxo</td>\n",
       "      <td>80 - 89</td>\n",
       "      <td>F</td>\n",
       "      <td>HOSPITAL</td>\n",
       "      <td>OUTRAS</td>\n",
       "      <td>1</td>\n",
       "    </tr>\n",
       "    <tr>\n",
       "      <th>2019-05-01</th>\n",
       "      <td>RJ</td>\n",
       "      <td>Belford Roxo</td>\n",
       "      <td>80 - 89</td>\n",
       "      <td>F</td>\n",
       "      <td>HOSPITAL</td>\n",
       "      <td>PNEUMONIA</td>\n",
       "      <td>1</td>\n",
       "    </tr>\n",
       "    <tr>\n",
       "      <th>2019-05-01</th>\n",
       "      <td>RJ</td>\n",
       "      <td>Duque de Caxias</td>\n",
       "      <td>20 - 29</td>\n",
       "      <td>M</td>\n",
       "      <td>HOSPITAL</td>\n",
       "      <td>OUTRAS</td>\n",
       "      <td>1</td>\n",
       "    </tr>\n",
       "    <tr>\n",
       "      <th>2019-05-01</th>\n",
       "      <td>RJ</td>\n",
       "      <td>Duque de Caxias</td>\n",
       "      <td>30 - 39</td>\n",
       "      <td>M</td>\n",
       "      <td>DOMICILIO</td>\n",
       "      <td>OUTRAS</td>\n",
       "      <td>1</td>\n",
       "    </tr>\n",
       "    <tr>\n",
       "      <th>2019-05-01</th>\n",
       "      <td>RJ</td>\n",
       "      <td>Duque de Caxias</td>\n",
       "      <td>50 - 59</td>\n",
       "      <td>F</td>\n",
       "      <td>HOSPITAL</td>\n",
       "      <td>INSUFICIENCIA_RESPIRATORIA</td>\n",
       "      <td>1</td>\n",
       "    </tr>\n",
       "  </tbody>\n",
       "</table>\n",
       "</div>"
      ],
      "text/plain": [
       "           State             City      Age Gender Place of Death  \\\n",
       "Date                                                               \n",
       "2019-05-01    RJ     Belford Roxo  80 - 89      F       HOSPITAL   \n",
       "2019-05-01    RJ     Belford Roxo  80 - 89      F       HOSPITAL   \n",
       "2019-05-01    RJ  Duque de Caxias  20 - 29      M       HOSPITAL   \n",
       "2019-05-01    RJ  Duque de Caxias  30 - 39      M      DOMICILIO   \n",
       "2019-05-01    RJ  Duque de Caxias  50 - 59      F       HOSPITAL   \n",
       "\n",
       "                                 Cause  #  \n",
       "Date                                       \n",
       "2019-05-01                      OUTRAS  1  \n",
       "2019-05-01                   PNEUMONIA  1  \n",
       "2019-05-01                      OUTRAS  1  \n",
       "2019-05-01                      OUTRAS  1  \n",
       "2019-05-01  INSUFICIENCIA_RESPIRATORIA  1  "
      ]
     },
     "execution_count": 15,
     "metadata": {},
     "output_type": "execute_result"
    }
   ],
   "source": [
    "df.head()"
   ]
  },
  {
   "cell_type": "code",
   "execution_count": 18,
   "metadata": {},
   "outputs": [],
   "source": [
    "dfTeste = df.copy()\n",
    "#A = RJ.values\n",
    "cidade = \"Niteroi\"\n",
    "sexo = \"F\" \n",
    "age = \"90 - 99\"\n",
    "\n",
    "df = df[df[\"City\"] == cidade] \n",
    "\n",
    "df_Covid = df[df[\"Cause\"] == \"COVID\"] \n",
    "\n",
    "\n",
    "\n",
    "#df_noCovid = df[df[\"Cause\"] != \"COVID\"]\n",
    "df_noCovid = df\n",
    "df_age_2019 = df_noCovid.loc['2019-05-01':'2019-05-31']\n",
    "df_age_2020 = df_noCovid.loc['2020-05-01':'2020-05-31']\n",
    "\n",
    "\n",
    "#df_covid = df[df[\"Cause\"] == \"COVID\"] \n",
    "#df_covid = df_covid.loc['2020-01-01':'2020-05-20']\n",
    "\n",
    "\n",
    "\n",
    "\n",
    "\n",
    "df_plot2019 =  df_age_2019[\"#\"]\n",
    "\n",
    "df_plot2020 =  df_age_2020[\"#\"]"
   ]
  },
  {
   "cell_type": "code",
   "execution_count": 19,
   "metadata": {},
   "outputs": [
    {
     "data": {
      "text/plain": [
       "Date\n",
       "2019-05-01    1\n",
       "2019-05-01    1\n",
       "2019-05-01    1\n",
       "2019-05-01    1\n",
       "2019-05-01    1\n",
       "Name: #, dtype: int64"
      ]
     },
     "execution_count": 19,
     "metadata": {},
     "output_type": "execute_result"
    }
   ],
   "source": [
    "df_plot2019.head()"
   ]
  },
  {
   "cell_type": "code",
   "execution_count": 20,
   "metadata": {},
   "outputs": [
    {
     "data": {
      "text/plain": [
       "DatetimeIndex(['2019-05-01', '2019-05-01', '2019-05-01', '2019-05-01',\n",
       "               '2019-05-01', '2019-05-01', '2019-05-01', '2019-05-01',\n",
       "               '2019-05-02', '2019-05-02',\n",
       "               ...\n",
       "               '2019-05-31', '2019-05-31', '2019-05-31', '2019-05-31',\n",
       "               '2019-05-31', '2019-05-31', '2019-05-31', '2019-05-31',\n",
       "               '2019-05-31', '2019-05-31'],\n",
       "              dtype='datetime64[ns]', name='Date', length=410, freq=None)"
      ]
     },
     "execution_count": 20,
     "metadata": {},
     "output_type": "execute_result"
    }
   ],
   "source": [
    "df_plot2019.index"
   ]
  },
  {
   "cell_type": "code",
   "execution_count": 23,
   "metadata": {},
   "outputs": [
    {
     "data": {
      "image/png": "[encoded data removed]",
      "text/plain": [
       "<Figure size 432x288 with 1 Axes>"
      ]
     },
     "metadata": {
      "needs_background": "light"
     },
     "output_type": "display_data"
    }
   ],
   "source": [
    "df_Covid = df_Covid.loc['2020-05-01':'2020-05-31']\n",
    "CausasCovid = df_Covid[\"#\"].cumsum()\n",
    "\n",
    " \n",
    "fig, ax = plt.subplots()\n",
    "\n",
    "datetime_index2019 = df_plot2019.index + datetime.timedelta(days=366)\n",
    "\n",
    "#or x in range(len(df_plot2019)):\n",
    "#  datetime_index2019[x] = df_plot2019.index[x] + datetime.timedelta(days=366)\n",
    "\n",
    "\n",
    "\n",
    "index2019 = df_plot2019.index + datetime.timedelta(days=365) #pd.date_range(df_plot2019.index[0] +datetime.timedelta(days=366) , periods=len(df_plot2019), freq='1440min')\n",
    "\n",
    "\n",
    "\n",
    "    \n",
    "#ax.bar(index2019,df_plot2019.cumsum(),width=0.8, color ='b', label='Todas as causas - 2019')\n",
    "ax.bar(df_plot2020.index,df_plot2020.cumsum(),width=0.8, color = 'g', label='Todas as causas (Incl. COVID) - 2020')\n",
    "ax.bar(index2019,df_plot2019.cumsum(),width=0.8, color ='b', label='Todas as causas - 2019')\n",
    "ax.bar(CausasCovid.index,CausasCovid,width=0.8, color='r', label='Covid')\n",
    "\n",
    "ax.legend()\n",
    "\n",
    "\n",
    "\n",
    "\n",
    "#plt.plot(CausasTotais_2019.values,'r')\n",
    "#plt.plot(CausasTotais_2020.values,'b')\n",
    "title = \"Óbitos \" + cidade + \"-\" + \"RJ\"  + \" faixa etária- \" + age  \n",
    "plt.title(title)\n",
    "plt.xticks(rotation=70)\n",
    "plt.show()"
   ]
  },
  {
   "cell_type": "code",
   "execution_count": 1,
   "metadata": {},
   "outputs": [],
   "source": [
    "from pathlib import Path\n",
    "import pandas as pd\n",
    "import matplotlib.pyplot as plt"
   ]
  },
  {
   "cell_type": "markdown",
   "metadata": {},
   "source": [
    "# Analisando os dados de Óbitos no Rio de Janeiro"
   ]
  },
  {
   "cell_type": "markdown",
   "metadata": {},
   "source": [
    "Vamos exemplificar algumas consultas e visualizações dos dados de óbitos da região metropolitana do Rio de Janeiro. Esses dados estão divididos em tabelas referentes aos meses de janeiro à maio. Precisaremos primeiro importá-los e, em seguida, poderemos fazer vários tipos de consulta sobre eles:"
   ]
  },
  {
   "cell_type": "markdown",
   "metadata": {},
   "source": [
    "## 1. Importação e preparação dos dados"
   ]
  },
  {
   "cell_type": "markdown",
   "metadata": {},
   "source": [
    "Primeiro, criamos uma lista com os caminhos dos arquivos que precisamos:"
   ]
  },
  {
   "cell_type": "code",
   "execution_count": 11,
   "metadata": {},
   "outputs": [
    {
     "data": {
      "text/plain": [
       "[PosixPath('maio/grande_rio_maio.csv'),\n",
       " PosixPath('abril/grande_rio_abril.csv'),\n",
       " PosixPath('fevereiro/grande_rio_fevereiro.csv'),\n",
       " PosixPath('janeiro/grande_rio_janeiro.csv'),\n",
       " PosixPath('marco/grande_rio_marco.csv'),\n",
       " PosixPath('Capitais/obitos_covid_capitais.csv')]"
      ]
     },
     "execution_count": 11,
     "metadata": {},
     "output_type": "execute_result"
    }
   ],
   "source": [
    "p = Path('.')\n",
    "paths = list(p.glob('*/*.csv'))\n",
    "paths"
   ]
  },
  {
   "cell_type": "markdown",
   "metadata": {},
   "source": [
    "São apenas os cinco primeiros da lista. Excuímos o último:"
   ]
  },
  {
   "cell_type": "code",
   "execution_count": 12,
   "metadata": {},
   "outputs": [
    {
     "data": {
      "text/plain": [
       "[PosixPath('maio/grande_rio_maio.csv'),\n",
       " PosixPath('abril/grande_rio_abril.csv'),\n",
       " PosixPath('fevereiro/grande_rio_fevereiro.csv'),\n",
       " PosixPath('janeiro/grande_rio_janeiro.csv'),\n",
       " PosixPath('marco/grande_rio_marco.csv')]"
      ]
     },
     "execution_count": 12,
     "metadata": {},
     "output_type": "execute_result"
    }
   ],
   "source": [
    "paths = paths[:-1]\n",
    "paths"
   ]
  },
  {
   "cell_type": "markdown",
   "metadata": {},
   "source": [
    "Agora, importamos cada um deles como um Data Frame independente:"
   ]
  },
  {
   "cell_type": "code",
   "execution_count": 81,
   "metadata": {},
   "outputs": [],
   "source": [
    "dataframes = [\n",
    "    pd.read_csv(\n",
    "        path,\n",
    "        usecols=['Date', 'State', 'City', 'Age', 'Gender', 'Place of Death', 'Cause' ,'#',],\n",
    "        parse_dates=[0],\n",
    "        index_col=0\n",
    "    )\n",
    "    for path in paths\n",
    "]"
   ]
  },
  {
   "cell_type": "markdown",
   "metadata": {},
   "source": [
    "Vamos verificar as cinco primeiras linhas do primeiro Data Frame para ver se está tudo certo:"
   ]
  },
  {
   "cell_type": "code",
   "execution_count": 82,
   "metadata": {},
   "outputs": [
    {
     "data": {
      "text/html": [
       "<div>\n",
       "<style scoped>\n",
       "    .dataframe tbody tr th:only-of-type {\n",
       "        vertical-align: middle;\n",
       "    }\n",
       "\n",
       "    .dataframe tbody tr th {\n",
       "        vertical-align: top;\n",
       "    }\n",
       "\n",
       "    .dataframe thead th {\n",
       "        text-align: right;\n",
       "    }\n",
       "</style>\n",
       "<table border=\"1\" class=\"dataframe\">\n",
       "  <thead>\n",
       "    <tr style=\"text-align: right;\">\n",
       "      <th></th>\n",
       "      <th>State</th>\n",
       "      <th>City</th>\n",
       "      <th>Age</th>\n",
       "      <th>Gender</th>\n",
       "      <th>Place of Death</th>\n",
       "      <th>Cause</th>\n",
       "      <th>#</th>\n",
       "    </tr>\n",
       "    <tr>\n",
       "      <th>Date</th>\n",
       "      <th></th>\n",
       "      <th></th>\n",
       "      <th></th>\n",
       "      <th></th>\n",
       "      <th></th>\n",
       "      <th></th>\n",
       "      <th></th>\n",
       "    </tr>\n",
       "  </thead>\n",
       "  <tbody>\n",
       "    <tr>\n",
       "      <th>2019-05-01</th>\n",
       "      <td>RJ</td>\n",
       "      <td>Rio de Janeiro</td>\n",
       "      <td>&lt; 9</td>\n",
       "      <td>M</td>\n",
       "      <td>HOSPITAL</td>\n",
       "      <td>OUTRAS</td>\n",
       "      <td>1</td>\n",
       "    </tr>\n",
       "    <tr>\n",
       "      <th>2019-05-01</th>\n",
       "      <td>RJ</td>\n",
       "      <td>Rio de Janeiro</td>\n",
       "      <td>&lt; 9</td>\n",
       "      <td>M</td>\n",
       "      <td>HOSPITAL</td>\n",
       "      <td>PNEUMONIA</td>\n",
       "      <td>1</td>\n",
       "    </tr>\n",
       "    <tr>\n",
       "      <th>2019-05-01</th>\n",
       "      <td>RJ</td>\n",
       "      <td>Rio de Janeiro</td>\n",
       "      <td>10 - 19</td>\n",
       "      <td>M</td>\n",
       "      <td>HOSPITAL</td>\n",
       "      <td>OUTRAS</td>\n",
       "      <td>1</td>\n",
       "    </tr>\n",
       "    <tr>\n",
       "      <th>2020-05-01</th>\n",
       "      <td>RJ</td>\n",
       "      <td>Rio de Janeiro</td>\n",
       "      <td>10 - 19</td>\n",
       "      <td>M</td>\n",
       "      <td>HOSPITAL</td>\n",
       "      <td>OUTRAS</td>\n",
       "      <td>2</td>\n",
       "    </tr>\n",
       "    <tr>\n",
       "      <th>2019-05-01</th>\n",
       "      <td>RJ</td>\n",
       "      <td>Rio de Janeiro</td>\n",
       "      <td>20 - 29</td>\n",
       "      <td>M</td>\n",
       "      <td>HOSPITAL</td>\n",
       "      <td>SEPTICEMIA</td>\n",
       "      <td>1</td>\n",
       "    </tr>\n",
       "  </tbody>\n",
       "</table>\n",
       "</div>"
      ],
      "text/plain": [
       "           State            City      Age Gender Place of Death       Cause  #\n",
       "Date                                                                          \n",
       "2019-05-01    RJ  Rio de Janeiro      < 9      M       HOSPITAL      OUTRAS  1\n",
       "2019-05-01    RJ  Rio de Janeiro      < 9      M       HOSPITAL   PNEUMONIA  1\n",
       "2019-05-01    RJ  Rio de Janeiro  10 - 19      M       HOSPITAL      OUTRAS  1\n",
       "2020-05-01    RJ  Rio de Janeiro  10 - 19      M       HOSPITAL      OUTRAS  2\n",
       "2019-05-01    RJ  Rio de Janeiro  20 - 29      M       HOSPITAL  SEPTICEMIA  1"
      ]
     },
     "execution_count": 82,
     "metadata": {},
     "output_type": "execute_result"
    }
   ],
   "source": [
    "dataframes[0].head()"
   ]
  },
  {
   "cell_type": "markdown",
   "metadata": {},
   "source": [
    "Como vamos querer analisar os dados como um todo, vamos juntar todos esses Data Frames em um só e ordená-lo:"
   ]
  },
  {
   "cell_type": "code",
   "execution_count": 16,
   "metadata": {},
   "outputs": [],
   "source": [
    "# Concatenando data frames\n",
    "obitos_df = pd.concat(dataframes)\n",
    "\n",
    "# Ordenando o data frame\n",
    "obitos_df.sort_values(by=['Date', 'State', 'City', 'Age', 'Gender', 'Place of Death', 'Cause'], axis=0, inplace=True)"
   ]
  },
  {
   "cell_type": "code",
   "execution_count": 17,
   "metadata": {},
   "outputs": [
    {
     "data": {
      "text/html": [
       "<div>\n",
       "<style scoped>\n",
       "    .dataframe tbody tr th:only-of-type {\n",
       "        vertical-align: middle;\n",
       "    }\n",
       "\n",
       "    .dataframe tbody tr th {\n",
       "        vertical-align: top;\n",
       "    }\n",
       "\n",
       "    .dataframe thead th {\n",
       "        text-align: right;\n",
       "    }\n",
       "</style>\n",
       "<table border=\"1\" class=\"dataframe\">\n",
       "  <thead>\n",
       "    <tr style=\"text-align: right;\">\n",
       "      <th></th>\n",
       "      <th>State</th>\n",
       "      <th>City</th>\n",
       "      <th>Age</th>\n",
       "      <th>Gender</th>\n",
       "      <th>Place of Death</th>\n",
       "      <th>Cause</th>\n",
       "      <th>#</th>\n",
       "    </tr>\n",
       "    <tr>\n",
       "      <th>Date</th>\n",
       "      <th></th>\n",
       "      <th></th>\n",
       "      <th></th>\n",
       "      <th></th>\n",
       "      <th></th>\n",
       "      <th></th>\n",
       "      <th></th>\n",
       "    </tr>\n",
       "  </thead>\n",
       "  <tbody>\n",
       "    <tr>\n",
       "      <th>2019-01-01</th>\n",
       "      <td>RJ</td>\n",
       "      <td>Belford Roxo</td>\n",
       "      <td>30 - 39</td>\n",
       "      <td>F</td>\n",
       "      <td>HOSPITAL</td>\n",
       "      <td>INSUFICIENCIA_RESPIRATORIA</td>\n",
       "      <td>1</td>\n",
       "    </tr>\n",
       "    <tr>\n",
       "      <th>2019-01-01</th>\n",
       "      <td>RJ</td>\n",
       "      <td>Belford Roxo</td>\n",
       "      <td>60 - 69</td>\n",
       "      <td>M</td>\n",
       "      <td>HOSPITAL</td>\n",
       "      <td>SEPTICEMIA</td>\n",
       "      <td>1</td>\n",
       "    </tr>\n",
       "    <tr>\n",
       "      <th>2019-01-01</th>\n",
       "      <td>RJ</td>\n",
       "      <td>Belford Roxo</td>\n",
       "      <td>80 - 89</td>\n",
       "      <td>F</td>\n",
       "      <td>HOSPITAL</td>\n",
       "      <td>OUTRAS</td>\n",
       "      <td>1</td>\n",
       "    </tr>\n",
       "    <tr>\n",
       "      <th>2019-01-01</th>\n",
       "      <td>RJ</td>\n",
       "      <td>Belford Roxo</td>\n",
       "      <td>90 - 99</td>\n",
       "      <td>F</td>\n",
       "      <td>DOMICILIO</td>\n",
       "      <td>OUTRAS</td>\n",
       "      <td>1</td>\n",
       "    </tr>\n",
       "    <tr>\n",
       "      <th>2019-01-01</th>\n",
       "      <td>RJ</td>\n",
       "      <td>Duque de Caxias</td>\n",
       "      <td>20 - 29</td>\n",
       "      <td>M</td>\n",
       "      <td>VIA_PUBLICA</td>\n",
       "      <td>OUTRAS</td>\n",
       "      <td>1</td>\n",
       "    </tr>\n",
       "  </tbody>\n",
       "</table>\n",
       "</div>"
      ],
      "text/plain": [
       "           State             City      Age Gender Place of Death  \\\n",
       "Date                                                               \n",
       "2019-01-01    RJ     Belford Roxo  30 - 39      F       HOSPITAL   \n",
       "2019-01-01    RJ     Belford Roxo  60 - 69      M       HOSPITAL   \n",
       "2019-01-01    RJ     Belford Roxo  80 - 89      F       HOSPITAL   \n",
       "2019-01-01    RJ     Belford Roxo  90 - 99      F      DOMICILIO   \n",
       "2019-01-01    RJ  Duque de Caxias  20 - 29      M    VIA_PUBLICA   \n",
       "\n",
       "                                 Cause  #  \n",
       "Date                                       \n",
       "2019-01-01  INSUFICIENCIA_RESPIRATORIA  1  \n",
       "2019-01-01                  SEPTICEMIA  1  \n",
       "2019-01-01                      OUTRAS  1  \n",
       "2019-01-01                      OUTRAS  1  \n",
       "2019-01-01                      OUTRAS  1  "
      ]
     },
     "execution_count": 17,
     "metadata": {},
     "output_type": "execute_result"
    }
   ],
   "source": [
    "obitos_df.head()"
   ]
  },
  {
   "cell_type": "code",
   "execution_count": 18,
   "metadata": {},
   "outputs": [
    {
     "data": {
      "text/html": [
       "<div>\n",
       "<style scoped>\n",
       "    .dataframe tbody tr th:only-of-type {\n",
       "        vertical-align: middle;\n",
       "    }\n",
       "\n",
       "    .dataframe tbody tr th {\n",
       "        vertical-align: top;\n",
       "    }\n",
       "\n",
       "    .dataframe thead th {\n",
       "        text-align: right;\n",
       "    }\n",
       "</style>\n",
       "<table border=\"1\" class=\"dataframe\">\n",
       "  <thead>\n",
       "    <tr style=\"text-align: right;\">\n",
       "      <th></th>\n",
       "      <th>State</th>\n",
       "      <th>City</th>\n",
       "      <th>Age</th>\n",
       "      <th>Gender</th>\n",
       "      <th>Place of Death</th>\n",
       "      <th>Cause</th>\n",
       "      <th>#</th>\n",
       "    </tr>\n",
       "    <tr>\n",
       "      <th>Date</th>\n",
       "      <th></th>\n",
       "      <th></th>\n",
       "      <th></th>\n",
       "      <th></th>\n",
       "      <th></th>\n",
       "      <th></th>\n",
       "      <th></th>\n",
       "    </tr>\n",
       "  </thead>\n",
       "  <tbody>\n",
       "    <tr>\n",
       "      <th>2020-05-31</th>\n",
       "      <td>RJ</td>\n",
       "      <td>São Gonçalo</td>\n",
       "      <td>60 - 69</td>\n",
       "      <td>M</td>\n",
       "      <td>HOSPITAL</td>\n",
       "      <td>COVID</td>\n",
       "      <td>1</td>\n",
       "    </tr>\n",
       "    <tr>\n",
       "      <th>2020-05-31</th>\n",
       "      <td>RJ</td>\n",
       "      <td>São Gonçalo</td>\n",
       "      <td>60 - 69</td>\n",
       "      <td>M</td>\n",
       "      <td>HOSPITAL</td>\n",
       "      <td>PNEUMONIA</td>\n",
       "      <td>1</td>\n",
       "    </tr>\n",
       "    <tr>\n",
       "      <th>2020-05-31</th>\n",
       "      <td>RJ</td>\n",
       "      <td>São Gonçalo</td>\n",
       "      <td>70 - 79</td>\n",
       "      <td>F</td>\n",
       "      <td>HOSPITAL</td>\n",
       "      <td>OUTRAS</td>\n",
       "      <td>2</td>\n",
       "    </tr>\n",
       "    <tr>\n",
       "      <th>2020-05-31</th>\n",
       "      <td>RJ</td>\n",
       "      <td>São Gonçalo</td>\n",
       "      <td>70 - 79</td>\n",
       "      <td>F</td>\n",
       "      <td>OUTROS</td>\n",
       "      <td>OUTRAS</td>\n",
       "      <td>1</td>\n",
       "    </tr>\n",
       "    <tr>\n",
       "      <th>2020-05-31</th>\n",
       "      <td>RJ</td>\n",
       "      <td>Tanguá</td>\n",
       "      <td>70 - 79</td>\n",
       "      <td>F</td>\n",
       "      <td>DOMICILIO</td>\n",
       "      <td>OUTRAS</td>\n",
       "      <td>1</td>\n",
       "    </tr>\n",
       "  </tbody>\n",
       "</table>\n",
       "</div>"
      ],
      "text/plain": [
       "           State         City      Age Gender Place of Death      Cause  #\n",
       "Date                                                                      \n",
       "2020-05-31    RJ  São Gonçalo  60 - 69      M       HOSPITAL      COVID  1\n",
       "2020-05-31    RJ  São Gonçalo  60 - 69      M       HOSPITAL  PNEUMONIA  1\n",
       "2020-05-31    RJ  São Gonçalo  70 - 79      F       HOSPITAL     OUTRAS  2\n",
       "2020-05-31    RJ  São Gonçalo  70 - 79      F         OUTROS     OUTRAS  1\n",
       "2020-05-31    RJ       Tanguá  70 - 79      F      DOMICILIO     OUTRAS  1"
      ]
     },
     "execution_count": 18,
     "metadata": {},
     "output_type": "execute_result"
    }
   ],
   "source": [
    "obitos_df.tail()"
   ]
  },
  {
   "cell_type": "markdown",
   "metadata": {},
   "source": [
    "## 2. Análise de Dados"
   ]
  },
  {
   "cell_type": "markdown",
   "metadata": {},
   "source": [
    "Tendo todos os nossos dados de interesse em uma estrutura conveniente como um data frame, podemos realizar uma uma ampla gama de sumarizações e visualizações, usando as funcionalidades providas pelas bibliotecas ```pandas``` e ```matplotlib```. É interessante notar que, apesar de termos de usar comandos diferentes para produzir cada visualização, a lógica subjacente é sempre a mesma e recebe o nome de [Split-Apply-Combine Strategy](http://vita.had.co.nz/papers/plyr.pdf)."
   ]
  },
  {
   "cell_type": "markdown",
   "metadata": {},
   "source": [
    "### 2.1 Comparando óbitos entre 2019 e 2020"
   ]
  },
  {
   "cell_type": "markdown",
   "metadata": {},
   "source": [
    "Uma primeira pergunta básica que podemos fazer é: qual o total de óbitos registrados?"
   ]
  },
  {
   "cell_type": "code",
   "execution_count": 43,
   "metadata": {},
   "outputs": [
    {
     "data": {
      "text/html": [
       "<div>\n",
       "<style scoped>\n",
       "    .dataframe tbody tr th:only-of-type {\n",
       "        vertical-align: middle;\n",
       "    }\n",
       "\n",
       "    .dataframe tbody tr th {\n",
       "        vertical-align: top;\n",
       "    }\n",
       "\n",
       "    .dataframe thead th {\n",
       "        text-align: right;\n",
       "    }\n",
       "</style>\n",
       "<table border=\"1\" class=\"dataframe\">\n",
       "  <thead>\n",
       "    <tr style=\"text-align: right;\">\n",
       "      <th></th>\n",
       "      <th>#</th>\n",
       "    </tr>\n",
       "    <tr>\n",
       "      <th>Date</th>\n",
       "      <th></th>\n",
       "    </tr>\n",
       "  </thead>\n",
       "  <tbody>\n",
       "    <tr>\n",
       "      <th>2019</th>\n",
       "      <td>39101</td>\n",
       "    </tr>\n",
       "    <tr>\n",
       "      <th>2020</th>\n",
       "      <td>46815</td>\n",
       "    </tr>\n",
       "  </tbody>\n",
       "</table>\n",
       "</div>"
      ],
      "text/plain": [
       "          #\n",
       "Date       \n",
       "2019  39101\n",
       "2020  46815"
      ]
     },
     "execution_count": 43,
     "metadata": {},
     "output_type": "execute_result"
    }
   ],
   "source": [
    "obitos_by_year = obitos_df.groupby([obitos_df.index.year]).sum()\n",
    "obitos_by_year"
   ]
  },
  {
   "cell_type": "markdown",
   "metadata": {},
   "source": [
    "O que fizemos aqui foi agrupar os óbitos registrados por seus respectivos anos e, em seguida, somar os óbitos em seus grupos. "
   ]
  },
  {
   "cell_type": "markdown",
   "metadata": {},
   "source": [
    "É fácil agora plotar esse resultado:"
   ]
  },
  {
   "cell_type": "code",
   "execution_count": 107,
   "metadata": {},
   "outputs": [
    {
     "data": {
      "image/png": "[encoded data removed]",
      "text/plain": [
       "<Figure size 432x288 with 1 Axes>"
      ]
     },
     "metadata": {
      "needs_background": "light"
     },
     "output_type": "display_data"
    }
   ],
   "source": [
    "obitos_by_year.plot.bar(rot=0);"
   ]
  },
  {
   "cell_type": "markdown",
   "metadata": {},
   "source": [
    "Poderíamos ter também plotado a transposta desse data frame, que produz um resultado mais bonito:"
   ]
  },
  {
   "cell_type": "code",
   "execution_count": 106,
   "metadata": {},
   "outputs": [
    {
     "data": {
      "image/png": "[encoded data removed]",
      "text/plain": [
       "<Figure size 432x288 with 1 Axes>"
      ]
     },
     "metadata": {
      "needs_background": "light"
     },
     "output_type": "display_data"
    }
   ],
   "source": [
    "obitos_by_year.T.plot.bar(rot=0);"
   ]
  },
  {
   "cell_type": "markdown",
   "metadata": {},
   "source": [
    "## 2.2. Estratificando por causa"
   ]
  },
  {
   "cell_type": "markdown",
   "metadata": {},
   "source": [
    "Se quiséssemos continuar comparando os dois anos, mas estratificar os óbitos em função da causa declarada?"
   ]
  },
  {
   "cell_type": "code",
   "execution_count": 85,
   "metadata": {},
   "outputs": [
    {
     "data": {
      "text/html": [
       "<div>\n",
       "<style scoped>\n",
       "    .dataframe tbody tr th:only-of-type {\n",
       "        vertical-align: middle;\n",
       "    }\n",
       "\n",
       "    .dataframe tbody tr th {\n",
       "        vertical-align: top;\n",
       "    }\n",
       "\n",
       "    .dataframe thead th {\n",
       "        text-align: right;\n",
       "    }\n",
       "</style>\n",
       "<table border=\"1\" class=\"dataframe\">\n",
       "  <thead>\n",
       "    <tr style=\"text-align: right;\">\n",
       "      <th></th>\n",
       "      <th></th>\n",
       "      <th>#</th>\n",
       "    </tr>\n",
       "    <tr>\n",
       "      <th>Date</th>\n",
       "      <th>Cause</th>\n",
       "      <th></th>\n",
       "    </tr>\n",
       "  </thead>\n",
       "  <tbody>\n",
       "    <tr>\n",
       "      <th rowspan=\"6\" valign=\"top\">2019</th>\n",
       "      <th>INDETERMINADA</th>\n",
       "      <td>12</td>\n",
       "    </tr>\n",
       "    <tr>\n",
       "      <th>INSUFICIENCIA_RESPIRATORIA</th>\n",
       "      <td>2534</td>\n",
       "    </tr>\n",
       "    <tr>\n",
       "      <th>OUTRAS</th>\n",
       "      <td>22179</td>\n",
       "    </tr>\n",
       "    <tr>\n",
       "      <th>PNEUMONIA</th>\n",
       "      <td>6955</td>\n",
       "    </tr>\n",
       "    <tr>\n",
       "      <th>SEPTICEMIA</th>\n",
       "      <td>7389</td>\n",
       "    </tr>\n",
       "    <tr>\n",
       "      <th>SRAG</th>\n",
       "      <td>32</td>\n",
       "    </tr>\n",
       "    <tr>\n",
       "      <th rowspan=\"7\" valign=\"top\">2020</th>\n",
       "      <th>COVID</th>\n",
       "      <td>7023</td>\n",
       "    </tr>\n",
       "    <tr>\n",
       "      <th>INDETERMINADA</th>\n",
       "      <td>694</td>\n",
       "    </tr>\n",
       "    <tr>\n",
       "      <th>INSUFICIENCIA_RESPIRATORIA</th>\n",
       "      <td>2988</td>\n",
       "    </tr>\n",
       "    <tr>\n",
       "      <th>OUTRAS</th>\n",
       "      <td>21960</td>\n",
       "    </tr>\n",
       "    <tr>\n",
       "      <th>PNEUMONIA</th>\n",
       "      <td>7094</td>\n",
       "    </tr>\n",
       "    <tr>\n",
       "      <th>SEPTICEMIA</th>\n",
       "      <td>6230</td>\n",
       "    </tr>\n",
       "    <tr>\n",
       "      <th>SRAG</th>\n",
       "      <td>826</td>\n",
       "    </tr>\n",
       "  </tbody>\n",
       "</table>\n",
       "</div>"
      ],
      "text/plain": [
       "                                     #\n",
       "Date Cause                            \n",
       "2019 INDETERMINADA                  12\n",
       "     INSUFICIENCIA_RESPIRATORIA   2534\n",
       "     OUTRAS                      22179\n",
       "     PNEUMONIA                    6955\n",
       "     SEPTICEMIA                   7389\n",
       "     SRAG                           32\n",
       "2020 COVID                        7023\n",
       "     INDETERMINADA                 694\n",
       "     INSUFICIENCIA_RESPIRATORIA   2988\n",
       "     OUTRAS                      21960\n",
       "     PNEUMONIA                    7094\n",
       "     SEPTICEMIA                   6230\n",
       "     SRAG                          826"
      ]
     },
     "execution_count": 85,
     "metadata": {},
     "output_type": "execute_result"
    }
   ],
   "source": [
    "obitos_by_year_cause = obitos_df.groupby([obitos_df.index.year, obitos_df.Cause]).sum()\n",
    "obitos_by_year_cause"
   ]
  },
  {
   "cell_type": "markdown",
   "metadata": {},
   "source": [
    "Para que possamos plotar esse resultado de forma conveniente, temos que fazer algumas transformações no data frame. Primeiro, transformar as causas em colunas:"
   ]
  },
  {
   "cell_type": "code",
   "execution_count": 86,
   "metadata": {},
   "outputs": [
    {
     "data": {
      "text/html": [
       "<div>\n",
       "<style scoped>\n",
       "    .dataframe tbody tr th:only-of-type {\n",
       "        vertical-align: middle;\n",
       "    }\n",
       "\n",
       "    .dataframe tbody tr th {\n",
       "        vertical-align: top;\n",
       "    }\n",
       "\n",
       "    .dataframe thead th {\n",
       "        text-align: right;\n",
       "    }\n",
       "</style>\n",
       "<table border=\"1\" class=\"dataframe\">\n",
       "  <thead>\n",
       "    <tr style=\"text-align: right;\">\n",
       "      <th>Cause</th>\n",
       "      <th>COVID</th>\n",
       "      <th>INDETERMINADA</th>\n",
       "      <th>INSUFICIENCIA_RESPIRATORIA</th>\n",
       "      <th>OUTRAS</th>\n",
       "      <th>PNEUMONIA</th>\n",
       "      <th>SEPTICEMIA</th>\n",
       "      <th>SRAG</th>\n",
       "    </tr>\n",
       "    <tr>\n",
       "      <th>Date</th>\n",
       "      <th></th>\n",
       "      <th></th>\n",
       "      <th></th>\n",
       "      <th></th>\n",
       "      <th></th>\n",
       "      <th></th>\n",
       "      <th></th>\n",
       "    </tr>\n",
       "  </thead>\n",
       "  <tbody>\n",
       "    <tr>\n",
       "      <th>2019</th>\n",
       "      <td>0</td>\n",
       "      <td>12</td>\n",
       "      <td>2534</td>\n",
       "      <td>22179</td>\n",
       "      <td>6955</td>\n",
       "      <td>7389</td>\n",
       "      <td>32</td>\n",
       "    </tr>\n",
       "    <tr>\n",
       "      <th>2020</th>\n",
       "      <td>7023</td>\n",
       "      <td>694</td>\n",
       "      <td>2988</td>\n",
       "      <td>21960</td>\n",
       "      <td>7094</td>\n",
       "      <td>6230</td>\n",
       "      <td>826</td>\n",
       "    </tr>\n",
       "  </tbody>\n",
       "</table>\n",
       "</div>"
      ],
      "text/plain": [
       "Cause  COVID  INDETERMINADA  INSUFICIENCIA_RESPIRATORIA  OUTRAS  PNEUMONIA  \\\n",
       "Date                                                                         \n",
       "2019       0             12                        2534   22179       6955   \n",
       "2020    7023            694                        2988   21960       7094   \n",
       "\n",
       "Cause  SEPTICEMIA  SRAG  \n",
       "Date                     \n",
       "2019         7389    32  \n",
       "2020         6230   826  "
      ]
     },
     "execution_count": 86,
     "metadata": {},
     "output_type": "execute_result"
    }
   ],
   "source": [
    "obitos_by_year_cause = obitos_by_year_cause.unstack(fill_value=0) # Fill_value=0 faz com que o dado faltante de covid em 2019 seja preenchido com zero\n",
    "obitos_by_year_cause.columns = obitos_by_year_cause.columns.droplevel() # Simplificando a rotulação das colunas\n",
    "obitos_by_year_cause"
   ]
  },
  {
   "cell_type": "code",
   "execution_count": 105,
   "metadata": {},
   "outputs": [
    {
     "data": {
      "image/png": "[encoded data removed]",
      "text/plain": [
       "<Figure size 432x288 with 1 Axes>"
      ]
     },
     "metadata": {
      "needs_background": "light"
     },
     "output_type": "display_data"
    }
   ],
   "source": [
    "obitos_by_year_cause.plot.bar(rot=0, width=.9);"
   ]
  },
  {
   "cell_type": "markdown",
   "metadata": {},
   "source": [
    "Esse gráfico torna extremamente evidente que o número oficial de óbitos por COVID19 subestima o excedente de mortos provavelmente acarretados pela pandemia."
   ]
  },
  {
   "cell_type": "markdown",
   "metadata": {},
   "source": [
    "Desse resultado também podemos plotar apenas certas causas:"
   ]
  },
  {
   "cell_type": "code",
   "execution_count": 111,
   "metadata": {},
   "outputs": [
    {
     "data": {
      "image/png": "[encoded data removed]",
      "text/plain": [
       "<Figure size 432x288 with 1 Axes>"
      ]
     },
     "metadata": {
      "needs_background": "light"
     },
     "output_type": "display_data"
    }
   ],
   "source": [
    "obitos_by_year_cause.plot.bar(rot=0, width=.9, y=['SRAG', 'INDETERMINADA']);"
   ]
  },
  {
   "cell_type": "markdown",
   "metadata": {},
   "source": [
    "Esse gráfico escancara ainda mais que casos de COVID quase que certamente estão sendo erroneamente classificados."
   ]
  },
  {
   "cell_type": "markdown",
   "metadata": {},
   "source": [
    "Podemos também plotar o primeiro gráfico excetuando a causa 'OUTRAS', que dificulta a visualização das demais:"
   ]
  },
  {
   "cell_type": "code",
   "execution_count": 116,
   "metadata": {},
   "outputs": [
    {
     "data": {
      "image/png": "[encoded data removed]",
      "text/plain": [
       "<Figure size 432x288 with 1 Axes>"
      ]
     },
     "metadata": {
      "needs_background": "light"
     },
     "output_type": "display_data"
    }
   ],
   "source": [
    "obitos_by_year_cause.plot.bar(rot=0, width=.9, y=obitos_by_year_cause.columns.difference(['OUTRAS']));"
   ]
  },
  {
   "cell_type": "markdown",
   "metadata": {},
   "source": [
    "## 2.3. Por local de óbito"
   ]
  },
  {
   "cell_type": "markdown",
   "metadata": {},
   "source": [
    "Vamos agora observar como a taxa de óbitos mudou entre os dois anos relativo aos locais de óbito. O procedimento é similar ao realizado na última análise:"
   ]
  },
  {
   "cell_type": "code",
   "execution_count": 117,
   "metadata": {},
   "outputs": [
    {
     "data": {
      "text/html": [
       "<div>\n",
       "<style scoped>\n",
       "    .dataframe tbody tr th:only-of-type {\n",
       "        vertical-align: middle;\n",
       "    }\n",
       "\n",
       "    .dataframe tbody tr th {\n",
       "        vertical-align: top;\n",
       "    }\n",
       "\n",
       "    .dataframe thead th {\n",
       "        text-align: right;\n",
       "    }\n",
       "</style>\n",
       "<table border=\"1\" class=\"dataframe\">\n",
       "  <thead>\n",
       "    <tr style=\"text-align: right;\">\n",
       "      <th></th>\n",
       "      <th></th>\n",
       "      <th>#</th>\n",
       "    </tr>\n",
       "    <tr>\n",
       "      <th>Date</th>\n",
       "      <th>Place of Death</th>\n",
       "      <th></th>\n",
       "    </tr>\n",
       "  </thead>\n",
       "  <tbody>\n",
       "    <tr>\n",
       "      <th rowspan=\"4\" valign=\"top\">2019</th>\n",
       "      <th>DOMICILIO</th>\n",
       "      <td>5152</td>\n",
       "    </tr>\n",
       "    <tr>\n",
       "      <th>HOSPITAL</th>\n",
       "      <td>33079</td>\n",
       "    </tr>\n",
       "    <tr>\n",
       "      <th>OUTROS</th>\n",
       "      <td>744</td>\n",
       "    </tr>\n",
       "    <tr>\n",
       "      <th>VIA_PUBLICA</th>\n",
       "      <td>126</td>\n",
       "    </tr>\n",
       "    <tr>\n",
       "      <th rowspan=\"4\" valign=\"top\">2020</th>\n",
       "      <th>DOMICILIO</th>\n",
       "      <td>6772</td>\n",
       "    </tr>\n",
       "    <tr>\n",
       "      <th>HOSPITAL</th>\n",
       "      <td>39066</td>\n",
       "    </tr>\n",
       "    <tr>\n",
       "      <th>OUTROS</th>\n",
       "      <td>758</td>\n",
       "    </tr>\n",
       "    <tr>\n",
       "      <th>VIA_PUBLICA</th>\n",
       "      <td>219</td>\n",
       "    </tr>\n",
       "  </tbody>\n",
       "</table>\n",
       "</div>"
      ],
      "text/plain": [
       "                         #\n",
       "Date Place of Death       \n",
       "2019 DOMICILIO        5152\n",
       "     HOSPITAL        33079\n",
       "     OUTROS            744\n",
       "     VIA_PUBLICA       126\n",
       "2020 DOMICILIO        6772\n",
       "     HOSPITAL        39066\n",
       "     OUTROS            758\n",
       "     VIA_PUBLICA       219"
      ]
     },
     "execution_count": 117,
     "metadata": {},
     "output_type": "execute_result"
    }
   ],
   "source": [
    "obitos_by_year_place = obitos_df.groupby([obitos_df.index.year, obitos_df['Place of Death']]).sum()\n",
    "obitos_by_year_place"
   ]
  },
  {
   "cell_type": "code",
   "execution_count": 118,
   "metadata": {},
   "outputs": [
    {
     "data": {
      "text/html": [
       "<div>\n",
       "<style scoped>\n",
       "    .dataframe tbody tr th:only-of-type {\n",
       "        vertical-align: middle;\n",
       "    }\n",
       "\n",
       "    .dataframe tbody tr th {\n",
       "        vertical-align: top;\n",
       "    }\n",
       "\n",
       "    .dataframe thead th {\n",
       "        text-align: right;\n",
       "    }\n",
       "</style>\n",
       "<table border=\"1\" class=\"dataframe\">\n",
       "  <thead>\n",
       "    <tr style=\"text-align: right;\">\n",
       "      <th>Place of Death</th>\n",
       "      <th>DOMICILIO</th>\n",
       "      <th>HOSPITAL</th>\n",
       "      <th>OUTROS</th>\n",
       "      <th>VIA_PUBLICA</th>\n",
       "    </tr>\n",
       "    <tr>\n",
       "      <th>Date</th>\n",
       "      <th></th>\n",
       "      <th></th>\n",
       "      <th></th>\n",
       "      <th></th>\n",
       "    </tr>\n",
       "  </thead>\n",
       "  <tbody>\n",
       "    <tr>\n",
       "      <th>2019</th>\n",
       "      <td>5152</td>\n",
       "      <td>33079</td>\n",
       "      <td>744</td>\n",
       "      <td>126</td>\n",
       "    </tr>\n",
       "    <tr>\n",
       "      <th>2020</th>\n",
       "      <td>6772</td>\n",
       "      <td>39066</td>\n",
       "      <td>758</td>\n",
       "      <td>219</td>\n",
       "    </tr>\n",
       "  </tbody>\n",
       "</table>\n",
       "</div>"
      ],
      "text/plain": [
       "Place of Death  DOMICILIO  HOSPITAL  OUTROS  VIA_PUBLICA\n",
       "Date                                                    \n",
       "2019                 5152     33079     744          126\n",
       "2020                 6772     39066     758          219"
      ]
     },
     "execution_count": 118,
     "metadata": {},
     "output_type": "execute_result"
    }
   ],
   "source": [
    "obitos_by_year_place = obitos_by_year_place.unstack(fill_value=0)\n",
    "obitos_by_year_place.columns = obitos_by_year_place.columns.droplevel()\n",
    "obitos_by_year_place"
   ]
  },
  {
   "cell_type": "code",
   "execution_count": 119,
   "metadata": {},
   "outputs": [
    {
     "data": {
      "image/png": "[encoded data removed]",
      "text/plain": [
       "<Figure size 432x288 with 1 Axes>"
      ]
     },
     "metadata": {
      "needs_background": "light"
     },
     "output_type": "display_data"
    }
   ],
   "source": [
    "obitos_by_year_place.plot.bar(rot=0, width=.9);"
   ]
  },
  {
   "cell_type": "markdown",
   "metadata": {},
   "source": [
    "Como número de óbitos em hospitais é significativamente maior que todos os outros locais, vamos omití-lo para melhor visualizá-los:"
   ]
  },
  {
   "cell_type": "code",
   "execution_count": null,
   "metadata": {},
   "outputs": [],
   "source": [
    "y=obitos_by_year_cause.columns.difference(['OUTRAS'])"
   ]
  },
  {
   "cell_type": "code",
   "execution_count": 120,
   "metadata": {},
   "outputs": [
    {
     "data": {
      "image/png": "[encoded data removed]",
      "text/plain": [
       "<Figure size 432x288 with 1 Axes>"
      ]
     },
     "metadata": {
      "needs_background": "light"
     },
     "output_type": "display_data"
    }
   ],
   "source": [
    "obitos_by_year_place.plot.bar(rot=0, width=.9, y=obitos_by_year_place.columns.difference(['HOSPITAL']));"
   ]
  },
  {
   "cell_type": "markdown",
   "metadata": {},
   "source": [
    "O excesso de óbitos domiciliares não é desprezível. Possivelmente evidência uma dificuldade de acesso a cuidados médicos encarados por uma parcela das vítimas da pandêmia"
   ]
  },
  {
   "cell_type": "markdown",
   "metadata": {},
   "source": [
    "## 2.4. Analisando os dados diariamente"
   ]
  },
  {
   "cell_type": "markdown",
   "metadata": {},
   "source": [
    "Até agora, avaliamos os dados sumarizados por seus respectivos anos. Isso, no entanto, não nos permite compreender o impacto da dinâmica de propagação do vírus. Para tal, precisamos usar uma unidade mais granular de tempo."
   ]
  },
  {
   "cell_type": "markdown",
   "metadata": {},
   "source": [
    "## 2.4.1. Indiscriminando causa e local"
   ]
  },
  {
   "cell_type": "markdown",
   "metadata": {},
   "source": [
    "Primeiro, criamos uma função auxiliar para criar os dados sumarizados dia a dia:"
   ]
  },
  {
   "cell_type": "code",
   "execution_count": 271,
   "metadata": {},
   "outputs": [],
   "source": [
    "def df_by_day(df, groupby=[]):\n",
    "    temps = []\n",
    "    for year in ['2019', '2020']:\n",
    "        temp = df[year].reset_index()\n",
    "        temp['date_str'] = list(map(lambda t: '{:02d}-{:02d}'.format(*t), zip(temp['Date'].dt.month, temp['Date'].dt.day)))\n",
    "        temp = temp.groupby([temp.Date.dt.year, temp.date_str, *groupby]).sum().unstack([0]+[2+i for i in range(len(groupby))], fill_value=0)\n",
    "        temp.columns = temp.columns.droplevel()\n",
    "        temps.append(temp)\n",
    "        \n",
    "    return pd.concat(temps, axis=1).sort_index().fillna(0)"
   ]
  },
  {
   "cell_type": "code",
   "execution_count": 289,
   "metadata": {},
   "outputs": [
    {
     "data": {
      "text/html": [
       "<div>\n",
       "<style scoped>\n",
       "    .dataframe tbody tr th:only-of-type {\n",
       "        vertical-align: middle;\n",
       "    }\n",
       "\n",
       "    .dataframe tbody tr th {\n",
       "        vertical-align: top;\n",
       "    }\n",
       "\n",
       "    .dataframe thead th {\n",
       "        text-align: right;\n",
       "    }\n",
       "</style>\n",
       "<table border=\"1\" class=\"dataframe\">\n",
       "  <thead>\n",
       "    <tr style=\"text-align: right;\">\n",
       "      <th>Date</th>\n",
       "      <th>2019</th>\n",
       "      <th>2020</th>\n",
       "    </tr>\n",
       "  </thead>\n",
       "  <tbody>\n",
       "    <tr>\n",
       "      <th>01-01</th>\n",
       "      <td>240.0</td>\n",
       "      <td>297</td>\n",
       "    </tr>\n",
       "    <tr>\n",
       "      <th>01-02</th>\n",
       "      <td>229.0</td>\n",
       "      <td>238</td>\n",
       "    </tr>\n",
       "    <tr>\n",
       "      <th>01-03</th>\n",
       "      <td>262.0</td>\n",
       "      <td>220</td>\n",
       "    </tr>\n",
       "    <tr>\n",
       "      <th>01-04</th>\n",
       "      <td>296.0</td>\n",
       "      <td>219</td>\n",
       "    </tr>\n",
       "    <tr>\n",
       "      <th>01-05</th>\n",
       "      <td>239.0</td>\n",
       "      <td>232</td>\n",
       "    </tr>\n",
       "    <tr>\n",
       "      <th>...</th>\n",
       "      <td>...</td>\n",
       "      <td>...</td>\n",
       "    </tr>\n",
       "    <tr>\n",
       "      <th>05-27</th>\n",
       "      <td>322.0</td>\n",
       "      <td>363</td>\n",
       "    </tr>\n",
       "    <tr>\n",
       "      <th>05-28</th>\n",
       "      <td>303.0</td>\n",
       "      <td>318</td>\n",
       "    </tr>\n",
       "    <tr>\n",
       "      <th>05-29</th>\n",
       "      <td>295.0</td>\n",
       "      <td>291</td>\n",
       "    </tr>\n",
       "    <tr>\n",
       "      <th>05-30</th>\n",
       "      <td>288.0</td>\n",
       "      <td>234</td>\n",
       "    </tr>\n",
       "    <tr>\n",
       "      <th>05-31</th>\n",
       "      <td>302.0</td>\n",
       "      <td>80</td>\n",
       "    </tr>\n",
       "  </tbody>\n",
       "</table>\n",
       "<p>152 rows × 2 columns</p>\n",
       "</div>"
      ],
      "text/plain": [
       "Date    2019  2020\n",
       "01-01  240.0   297\n",
       "01-02  229.0   238\n",
       "01-03  262.0   220\n",
       "01-04  296.0   219\n",
       "01-05  239.0   232\n",
       "...      ...   ...\n",
       "05-27  322.0   363\n",
       "05-28  303.0   318\n",
       "05-29  295.0   291\n",
       "05-30  288.0   234\n",
       "05-31  302.0    80\n",
       "\n",
       "[152 rows x 2 columns]"
      ]
     },
     "execution_count": 289,
     "metadata": {},
     "output_type": "execute_result"
    }
   ],
   "source": [
    "temp = df_by_day(obitos_df)\n",
    "temp"
   ]
  },
  {
   "cell_type": "markdown",
   "metadata": {},
   "source": [
    "Plotando o valor cumulativo de óbitos ao longo do tempo:"
   ]
  },
  {
   "cell_type": "code",
   "execution_count": 301,
   "metadata": {},
   "outputs": [
    {
     "data": {
      "image/png": "[encoded data removed]",
      "text/plain": [
       "<Figure size 432x288 with 1 Axes>"
      ]
     },
     "metadata": {
      "needs_background": "light"
     },
     "output_type": "display_data"
    }
   ],
   "source": [
    "fig, ax = plt.subplots()\n",
    "\n",
    "plt.plot(temp.index, temp[2019].cumsum(), label='2019')\n",
    "plt.plot(temp.index, temp[2020].cumsum(), label='2020')\n",
    "\n",
    "every_nth = 20\n",
    "for n, label in enumerate(ax.xaxis.get_ticklabels()):\n",
    "    if n % every_nth != 0:\n",
    "        label.set_visible(False)\n",
    "        \n",
    "plt.xticks(rotation=70)\n",
    "plt.legend()\n",
    "plt.show()"
   ]
  },
  {
   "cell_type": "markdown",
   "metadata": {},
   "source": [
    "É interessante notar que o descolamento das curvas só acontece a partir de meados de abril."
   ]
  },
  {
   "cell_type": "code",
   "execution_count": null,
   "metadata": {},
   "outputs": [],
   "source": []
  }
 ],
 "metadata": {
  "kernelspec": {
   "display_name": "Python 3",
   "language": "python",
   "name": "python3"
  },
  "language_info": {
   "codemirror_mode": {
    "name": "ipython",
    "version": 3
   },
   "file_extension": ".py",
   "mimetype": "text/x-python",
   "name": "python",
   "nbconvert_exporter": "python",
   "pygments_lexer": "ipython3",
   "version": "3.7.7"
  }
 },
 "nbformat": 4,
 "nbformat_minor": 4
}
