{
 "cells": [
  {
   "cell_type": "code",
   "execution_count": 1,
   "metadata": {},
   "outputs": [],
   "source": [
    "import pandas as pd\n",
    "from datetime import date, timedelta\n",
    "from covid_registry import CovidRegistry\n",
    "import time"
   ]
  },
  {
   "cell_type": "markdown",
   "metadata": {},
   "source": [
    "Dia 6 de maio:"
   ]
  },
  {
   "cell_type": "code",
   "execution_count": 2,
   "metadata": {},
   "outputs": [],
   "source": [
    "d = date(2020, 5, 6)\n",
    "reg = CovidRegistry()\n",
    "await reg.connect()\n",
    "res = await reg.query(date=d)\n",
    "await reg.close()"
   ]
  },
  {
   "cell_type": "code",
   "execution_count": 3,
   "metadata": {},
   "outputs": [
    {
     "data": {
      "text/html": [
       "<div>\n",
       "<style scoped>\n",
       "    .dataframe tbody tr th:only-of-type {\n",
       "        vertical-align: middle;\n",
       "    }\n",
       "\n",
       "    .dataframe tbody tr th {\n",
       "        vertical-align: top;\n",
       "    }\n",
       "\n",
       "    .dataframe thead th {\n",
       "        text-align: right;\n",
       "    }\n",
       "</style>\n",
       "<table border=\"1\" class=\"dataframe\">\n",
       "  <thead>\n",
       "    <tr style=\"text-align: right;\">\n",
       "      <th></th>\n",
       "      <th>Date</th>\n",
       "      <th>State</th>\n",
       "      <th>City</th>\n",
       "      <th>Age</th>\n",
       "      <th>Gender</th>\n",
       "      <th>Place of Death</th>\n",
       "      <th>Cause</th>\n",
       "      <th>#</th>\n",
       "    </tr>\n",
       "  </thead>\n",
       "  <tbody>\n",
       "    <tr>\n",
       "      <th>0</th>\n",
       "      <td>2019-05-06</td>\n",
       "      <td>RJ</td>\n",
       "      <td>Rio de Janeiro</td>\n",
       "      <td>&lt; 9</td>\n",
       "      <td>M</td>\n",
       "      <td>HOSPITAL</td>\n",
       "      <td>OUTRAS</td>\n",
       "      <td>4</td>\n",
       "    </tr>\n",
       "    <tr>\n",
       "      <th>1</th>\n",
       "      <td>2020-05-06</td>\n",
       "      <td>RJ</td>\n",
       "      <td>Rio de Janeiro</td>\n",
       "      <td>&lt; 9</td>\n",
       "      <td>M</td>\n",
       "      <td>HOSPITAL</td>\n",
       "      <td>SEPTICEMIA</td>\n",
       "      <td>1</td>\n",
       "    </tr>\n",
       "    <tr>\n",
       "      <th>2</th>\n",
       "      <td>2019-05-06</td>\n",
       "      <td>RJ</td>\n",
       "      <td>Rio de Janeiro</td>\n",
       "      <td>20 - 29</td>\n",
       "      <td>M</td>\n",
       "      <td>HOSPITAL</td>\n",
       "      <td>OUTRAS</td>\n",
       "      <td>3</td>\n",
       "    </tr>\n",
       "    <tr>\n",
       "      <th>3</th>\n",
       "      <td>2020-05-06</td>\n",
       "      <td>RJ</td>\n",
       "      <td>Rio de Janeiro</td>\n",
       "      <td>20 - 29</td>\n",
       "      <td>M</td>\n",
       "      <td>HOSPITAL</td>\n",
       "      <td>OUTRAS</td>\n",
       "      <td>2</td>\n",
       "    </tr>\n",
       "    <tr>\n",
       "      <th>4</th>\n",
       "      <td>2020-05-06</td>\n",
       "      <td>RJ</td>\n",
       "      <td>Rio de Janeiro</td>\n",
       "      <td>20 - 29</td>\n",
       "      <td>M</td>\n",
       "      <td>HOSPITAL</td>\n",
       "      <td>COVID</td>\n",
       "      <td>1</td>\n",
       "    </tr>\n",
       "    <tr>\n",
       "      <th>...</th>\n",
       "      <td>...</td>\n",
       "      <td>...</td>\n",
       "      <td>...</td>\n",
       "      <td>...</td>\n",
       "      <td>...</td>\n",
       "      <td>...</td>\n",
       "      <td>...</td>\n",
       "      <td>...</td>\n",
       "    </tr>\n",
       "    <tr>\n",
       "      <th>59</th>\n",
       "      <td>2019-05-06</td>\n",
       "      <td>RJ</td>\n",
       "      <td>Rio de Janeiro</td>\n",
       "      <td>&gt; 100</td>\n",
       "      <td>M</td>\n",
       "      <td>HOSPITAL</td>\n",
       "      <td>PNEUMONIA</td>\n",
       "      <td>1</td>\n",
       "    </tr>\n",
       "    <tr>\n",
       "      <th>60</th>\n",
       "      <td>2020-05-06</td>\n",
       "      <td>RJ</td>\n",
       "      <td>Rio de Janeiro</td>\n",
       "      <td>&gt; 100</td>\n",
       "      <td>M</td>\n",
       "      <td>HOSPITAL</td>\n",
       "      <td>COVID</td>\n",
       "      <td>2</td>\n",
       "    </tr>\n",
       "    <tr>\n",
       "      <th>61</th>\n",
       "      <td>2020-05-06</td>\n",
       "      <td>RJ</td>\n",
       "      <td>Rio de Janeiro</td>\n",
       "      <td>&gt; 100</td>\n",
       "      <td>M</td>\n",
       "      <td>HOSPITAL</td>\n",
       "      <td>PNEUMONIA</td>\n",
       "      <td>1</td>\n",
       "    </tr>\n",
       "    <tr>\n",
       "      <th>62</th>\n",
       "      <td>2020-05-06</td>\n",
       "      <td>RJ</td>\n",
       "      <td>Rio de Janeiro</td>\n",
       "      <td>10 - 19</td>\n",
       "      <td>M</td>\n",
       "      <td>HOSPITAL</td>\n",
       "      <td>OUTRAS</td>\n",
       "      <td>1</td>\n",
       "    </tr>\n",
       "    <tr>\n",
       "      <th>63</th>\n",
       "      <td>2020-05-06</td>\n",
       "      <td>RJ</td>\n",
       "      <td>Rio de Janeiro</td>\n",
       "      <td>30 - 39</td>\n",
       "      <td>M</td>\n",
       "      <td>HOSPITAL</td>\n",
       "      <td>COVID</td>\n",
       "      <td>3</td>\n",
       "    </tr>\n",
       "  </tbody>\n",
       "</table>\n",
       "<p>64 rows × 8 columns</p>\n",
       "</div>"
      ],
      "text/plain": [
       "          Date State            City      Age Gender Place of Death  \\\n",
       "0   2019-05-06    RJ  Rio de Janeiro      < 9      M       HOSPITAL   \n",
       "1   2020-05-06    RJ  Rio de Janeiro      < 9      M       HOSPITAL   \n",
       "2   2019-05-06    RJ  Rio de Janeiro  20 - 29      M       HOSPITAL   \n",
       "3   2020-05-06    RJ  Rio de Janeiro  20 - 29      M       HOSPITAL   \n",
       "4   2020-05-06    RJ  Rio de Janeiro  20 - 29      M       HOSPITAL   \n",
       "..         ...   ...             ...      ...    ...            ...   \n",
       "59  2019-05-06    RJ  Rio de Janeiro    > 100      M       HOSPITAL   \n",
       "60  2020-05-06    RJ  Rio de Janeiro    > 100      M       HOSPITAL   \n",
       "61  2020-05-06    RJ  Rio de Janeiro    > 100      M       HOSPITAL   \n",
       "62  2020-05-06    RJ  Rio de Janeiro  10 - 19      M       HOSPITAL   \n",
       "63  2020-05-06    RJ  Rio de Janeiro  30 - 39      M       HOSPITAL   \n",
       "\n",
       "         Cause  #  \n",
       "0       OUTRAS  4  \n",
       "1   SEPTICEMIA  1  \n",
       "2       OUTRAS  3  \n",
       "3       OUTRAS  2  \n",
       "4        COVID  1  \n",
       "..         ... ..  \n",
       "59   PNEUMONIA  1  \n",
       "60       COVID  2  \n",
       "61   PNEUMONIA  1  \n",
       "62      OUTRAS  1  \n",
       "63       COVID  3  \n",
       "\n",
       "[64 rows x 8 columns]"
      ]
     },
     "execution_count": 3,
     "metadata": {},
     "output_type": "execute_result"
    }
   ],
   "source": [
    "res"
   ]
  },
  {
   "cell_type": "markdown",
   "metadata": {},
   "source": [
    "Vamos fazer um dump dos dados relativos à região metropolitana do Rio de Janeiro no mês de maio:"
   ]
  },
  {
   "cell_type": "code",
   "execution_count": 4,
   "metadata": {},
   "outputs": [],
   "source": [
    "grande_rio = [\n",
    "    'Rio de Janeiro',\n",
    "    'São Gonçalo',\n",
    "    'Duque de Caxias',\n",
    "    'Nova Iguaçu',\n",
    "    'Niteroi',\n",
    "    'Belford Roxo',\n",
    "    'São João de Meriti',\n",
    "    'Mage',\n",
    "    'Itaborai',\n",
    "    'Mesquita',\n",
    "    'Nilópolis',\n",
    "    'Maricá',\n",
    "    'Queimados',\n",
    "    'Itaguai',\n",
    "    'Japeri',\n",
    "    'Seropedica',\n",
    "    'Guapimirim',\n",
    "    'Paracambi',\n",
    "    'Tanguá',\n",
    "]"
   ]
  },
  {
   "cell_type": "markdown",
   "metadata": {},
   "source": [
    "Vamos tomar os dados mês a mês, começando com janeiro:"
   ]
  },
  {
   "cell_type": "code",
   "execution_count": null,
   "metadata": {},
   "outputs": [
    {
     "name": "stdout",
     "output_type": "stream",
     "text": [
      "This operation will take 5890 requests. Checkpoints will be created once every 200 requests.\n",
      "#0001 -- 200/5890 requests -- 109 failures -- Elapsed: 0:03:50.213968\n",
      "#0002 -- 400/5890 requests -- 202 failures -- Elapsed: 0:07:34.474367\n",
      "#0003 -- 600/5890 requests -- 232 failures -- Elapsed: 0:11:01.107708\n",
      "#0004 -- 800/5890 requests -- 235 failures -- Elapsed: 0:14:19.409451\n",
      "#0005 -- 1000/5890 requests -- 235 failures -- Elapsed: 0:17:34.558550\n",
      "#0006 -- 1200/5890 requests -- 235 failures -- Elapsed: 0:20:47.677664\n",
      "#0007 -- 1400/5890 requests -- 235 failures -- Elapsed: 0:24:14.580821\n",
      "#0008 -- 1600/5890 requests -- 235 failures -- Elapsed: 0:27:29.125623\n",
      "#0009 -- 1800/5890 requests -- 235 failures -- Elapsed: 0:30:44.939174\n"
     ]
    }
   ],
   "source": [
    "async with CovidRegistry() as reg:\n",
    "    dates = pd.date_range(start='20200101', end='20200131')\n",
    "    await reg.dump(dates, states=['RJ'], cities=grande_rio, file='grande_rio_janeiro.csv')"
   ]
  },
  {
   "cell_type": "markdown",
   "metadata": {},
   "source": [
    "Fevereiro:"
   ]
  },
  {
   "cell_type": "code",
   "execution_count": null,
   "metadata": {},
   "outputs": [],
   "source": [
    "async with CovidRegistry() as reg:\n",
    "    dates = pd.date_range(start='20200201', end='20200229')\n",
    "    await reg.dump(dates, states=['RJ'], cities=grande_rio, file='grande_rio_maio.csv')"
   ]
  },
  {
   "cell_type": "markdown",
   "metadata": {},
   "source": [
    "Março:"
   ]
  },
  {
   "cell_type": "code",
   "execution_count": null,
   "metadata": {},
   "outputs": [],
   "source": [
    "async with CovidRegistry() as reg:\n",
    "    dates = pd.date_range(start='20200301', end='20200331')\n",
    "    await reg.dump(dates, states=['RJ'], cities=grande_rio, file='grande_rio_maio.csv')"
   ]
  },
  {
   "cell_type": "markdown",
   "metadata": {},
   "source": [
    "Abril:"
   ]
  },
  {
   "cell_type": "code",
   "execution_count": null,
   "metadata": {},
   "outputs": [],
   "source": [
    "async with CovidRegistry() as reg:\n",
    "    dates = pd.date_range(start='20200401', end='20200430')\n",
    "    await reg.dump(dates, states=['RJ'], cities=grande_rio, file='grande_rio_maio.csv')"
   ]
  },
  {
   "cell_type": "markdown",
   "metadata": {},
   "source": [
    "Maio:"
   ]
  },
  {
   "cell_type": "code",
   "execution_count": null,
   "metadata": {},
   "outputs": [],
   "source": [
    "async with CovidRegistry() as reg:\n",
    "    dates = pd.date_range(start='20200501', end='20200525')\n",
    "    await reg.dump(dates, states=['RJ'], cities=grande_rio, file='grande_rio_maio.csv')"
   ]
  },
  {
   "cell_type": "markdown",
   "metadata": {},
   "source": [
    "Vamos tentar consolidar os dados de óbitos no Rio de Janeiro do dia 4 ao dia 8 de maio em um DataFrame:"
   ]
  }
 ],
 "metadata": {
  "kernelspec": {
   "display_name": "Python 3.7.7 64-bit",
   "language": "python",
   "name": "python37764bitda9ab85a77be4d569586d3660dd51de9"
  },
  "language_info": {
   "codemirror_mode": {
    "name": "ipython",
    "version": 3
   },
   "file_extension": ".py",
   "mimetype": "text/x-python",
   "name": "python",
   "nbconvert_exporter": "python",
   "pygments_lexer": "ipython3",
   "version": "3.7.7"
  }
 },
 "nbformat": 4,
 "nbformat_minor": 4
}
