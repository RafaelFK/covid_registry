{
 "cells": [
  {
   "cell_type": "code",
   "execution_count": 1,
   "metadata": {},
   "outputs": [],
   "source": [
    "from datetime import date, timedelta\n",
    "from covid_registry import CovidRegistry\n",
    "import pandas as pd"
   ]
  },
  {
   "cell_type": "markdown",
   "metadata": {},
   "source": [
    "# Dados de março"
   ]
  },
  {
   "cell_type": "code",
   "execution_count": 2,
   "metadata": {},
   "outputs": [],
   "source": [
    "grande_rio = [\n",
    "    'Rio de Janeiro',\n",
    "    'São Gonçalo',\n",
    "    'Duque de Caxias',\n",
    "    'Nova Iguaçu',\n",
    "    'Niteroi',\n",
    "    'Belford Roxo',\n",
    "    'São João de Meriti',\n",
    "    'Mage',\n",
    "    'Itaborai',\n",
    "    'Mesquita',\n",
    "    'Nilópolis',\n",
    "    'Maricá',\n",
    "    'Queimados',\n",
    "    'Itaguai',\n",
    "    'Japeri',\n",
    "    'Seropedica',\n",
    "    'Guapimirim',\n",
    "    'Paracambi',\n",
    "    'Tanguá',\n",
    "]"
   ]
  },
  {
   "cell_type": "code",
   "execution_count": 3,
   "metadata": {},
   "outputs": [
    {
     "name": "stdout",
     "output_type": "stream",
     "text": [
      "This operation will take 5890 requests. Checkpoints will be created once every 200 requests.\n",
      "#0001 -- 200/5890 requests -- 154 failures -- Elapsed: 0:00:25.866191\n",
      "Errors found in chunk:\n",
      "[\"<class 'aiohttp.client_exceptions.ClientResponseError'>\"]\n"
     ]
    },
    {
     "name": "stderr",
     "output_type": "stream",
     "text": [
      "Traceback (most recent call last):\n",
      "  File \"/home/rkatopodis/project/covid_registry/covid_registry.py\", line 82, in query\n",
      "    j = (await (await self._get(self.api_url, params)).json())['chart']\n",
      "  File \"/home/rkatopodis/project/covid_registry/covid_registry.py\", line 245, in _get\n",
      "    res.raise_for_status()\n",
      "  File \"/home/rkatopodis/miniconda3/envs/covid/lib/python3.7/site-packages/aiohttp/client_reqrep.py\", line 946, in raise_for_status\n",
      "    headers=self.headers)\n",
      "aiohttp.client_exceptions.ClientResponseError: 500, message='Internal Server Error', url=URL('https://transparencia.registrocivil.org.br/api/covid-covid-registral?start_date=2020-03-01&end_date=2020-03-01&state=RJ&city_id=4646&chart=chart3&gender=F&places%5B%5D=AMBULANCIA')\n"
     ]
    },
    {
     "name": "stdout",
     "output_type": "stream",
     "text": [
      "#0002 -- 400/5890 requests -- 85 failures -- Elapsed: 0:00:42.993042\n",
      "Errors found in chunk:\n",
      "[\"<class 'aiohttp.client_exceptions.ClientResponseError'>\"]\n"
     ]
    },
    {
     "name": "stderr",
     "output_type": "stream",
     "text": [
      "Traceback (most recent call last):\n",
      "  File \"/home/rkatopodis/project/covid_registry/covid_registry.py\", line 82, in query\n",
      "    j = (await (await self._get(self.api_url, params)).json())['chart']\n",
      "  File \"/home/rkatopodis/project/covid_registry/covid_registry.py\", line 245, in _get\n",
      "    res.raise_for_status()\n",
      "  File \"/home/rkatopodis/miniconda3/envs/covid/lib/python3.7/site-packages/aiohttp/client_reqrep.py\", line 946, in raise_for_status\n",
      "    headers=self.headers)\n",
      "aiohttp.client_exceptions.ClientResponseError: 500, message='Internal Server Error', url=URL('https://transparencia.registrocivil.org.br/api/covid-covid-registral?start_date=2020-03-02&end_date=2020-03-02&state=RJ&city_id=4658&chart=chart3&gender=F&places%5B%5D=DOMICILIO')\n"
     ]
    },
    {
     "name": "stdout",
     "output_type": "stream",
     "text": [
      "#0003 -- 600/5890 requests -- 78 failures -- Elapsed: 0:01:05.019572\n",
      "Errors found in chunk:\n",
      "[\"<class 'aiohttp.client_exceptions.ClientResponseError'>\"]\n"
     ]
    },
    {
     "name": "stderr",
     "output_type": "stream",
     "text": [
      "Traceback (most recent call last):\n",
      "  File \"/home/rkatopodis/project/covid_registry/covid_registry.py\", line 82, in query\n",
      "    j = (await (await self._get(self.api_url, params)).json())['chart']\n",
      "  File \"/home/rkatopodis/project/covid_registry/covid_registry.py\", line 245, in _get\n",
      "    res.raise_for_status()\n",
      "  File \"/home/rkatopodis/miniconda3/envs/covid/lib/python3.7/site-packages/aiohttp/client_reqrep.py\", line 946, in raise_for_status\n",
      "    headers=self.headers)\n",
      "aiohttp.client_exceptions.ClientResponseError: 500, message='Internal Server Error', url=URL('https://transparencia.registrocivil.org.br/api/covid-covid-registral?start_date=2020-03-03&end_date=2020-03-03&state=RJ&city_id=4658&chart=chart2&gender=M&places%5B%5D=DOMICILIO')\n"
     ]
    },
    {
     "name": "stdout",
     "output_type": "stream",
     "text": [
      "#0004 -- 800/5890 requests -- 144 failures -- Elapsed: 0:01:18.299360\n",
      "Errors found in chunk:\n",
      "[\"<class 'aiohttp.client_exceptions.ClientResponseError'>\"]\n"
     ]
    },
    {
     "name": "stderr",
     "output_type": "stream",
     "text": [
      "Traceback (most recent call last):\n",
      "  File \"/home/rkatopodis/project/covid_registry/covid_registry.py\", line 82, in query\n",
      "    j = (await (await self._get(self.api_url, params)).json())['chart']\n",
      "  File \"/home/rkatopodis/project/covid_registry/covid_registry.py\", line 245, in _get\n",
      "    res.raise_for_status()\n",
      "  File \"/home/rkatopodis/miniconda3/envs/covid/lib/python3.7/site-packages/aiohttp/client_reqrep.py\", line 946, in raise_for_status\n",
      "    headers=self.headers)\n",
      "aiohttp.client_exceptions.ClientResponseError: 500, message='Internal Server Error', url=URL('https://transparencia.registrocivil.org.br/api/covid-covid-registral?start_date=2020-03-04&end_date=2020-03-04&state=RJ&city_id=4653&chart=chart2&gender=M&places%5B%5D=VIA_PUBLICA')\n"
     ]
    },
    {
     "name": "stdout",
     "output_type": "stream",
     "text": [
      "#0005 -- 1000/5890 requests -- 115 failures -- Elapsed: 0:01:30.406346\n",
      "Errors found in chunk:\n",
      "[\"<class 'aiohttp.client_exceptions.ClientResponseError'>\"]\n"
     ]
    },
    {
     "name": "stderr",
     "output_type": "stream",
     "text": [
      "Traceback (most recent call last):\n",
      "  File \"/home/rkatopodis/project/covid_registry/covid_registry.py\", line 82, in query\n",
      "    j = (await (await self._get(self.api_url, params)).json())['chart']\n",
      "  File \"/home/rkatopodis/project/covid_registry/covid_registry.py\", line 245, in _get\n",
      "    res.raise_for_status()\n",
      "  File \"/home/rkatopodis/miniconda3/envs/covid/lib/python3.7/site-packages/aiohttp/client_reqrep.py\", line 946, in raise_for_status\n",
      "    headers=self.headers)\n",
      "aiohttp.client_exceptions.ClientResponseError: 500, message='Internal Server Error', url=URL('https://transparencia.registrocivil.org.br/api/covid-covid-registral?start_date=2020-03-05&end_date=2020-03-05&state=RJ&city_id=4657&chart=chart3&gender=F&places%5B%5D=HOSPITAL')\n"
     ]
    },
    {
     "name": "stdout",
     "output_type": "stream",
     "text": [
      "#0006 -- 1200/5890 requests -- 108 failures -- Elapsed: 0:01:55.934871\n",
      "Errors found in chunk:\n",
      "[\"<class 'aiohttp.client_exceptions.ClientResponseError'>\"]\n"
     ]
    },
    {
     "name": "stderr",
     "output_type": "stream",
     "text": [
      "Traceback (most recent call last):\n",
      "  File \"/home/rkatopodis/project/covid_registry/covid_registry.py\", line 82, in query\n",
      "    j = (await (await self._get(self.api_url, params)).json())['chart']\n",
      "  File \"/home/rkatopodis/project/covid_registry/covid_registry.py\", line 245, in _get\n",
      "    res.raise_for_status()\n",
      "  File \"/home/rkatopodis/miniconda3/envs/covid/lib/python3.7/site-packages/aiohttp/client_reqrep.py\", line 946, in raise_for_status\n",
      "    headers=self.headers)\n",
      "aiohttp.client_exceptions.ClientResponseError: 500, message='Internal Server Error', url=URL('https://transparencia.registrocivil.org.br/api/covid-covid-registral?start_date=2020-03-06&end_date=2020-03-06&state=RJ&city_id=4672&chart=chart3&gender=F&places%5B%5D=AMBULANCIA')\n"
     ]
    },
    {
     "name": "stdout",
     "output_type": "stream",
     "text": [
      "#0007 -- 1400/5890 requests -- 43 failures -- Elapsed: 0:02:11.156456\n",
      "Errors found in chunk:\n",
      "[\"<class 'aiohttp.client_exceptions.ClientResponseError'>\"]\n"
     ]
    },
    {
     "name": "stderr",
     "output_type": "stream",
     "text": [
      "Traceback (most recent call last):\n",
      "  File \"/home/rkatopodis/project/covid_registry/covid_registry.py\", line 82, in query\n",
      "    j = (await (await self._get(self.api_url, params)).json())['chart']\n",
      "  File \"/home/rkatopodis/project/covid_registry/covid_registry.py\", line 245, in _get\n",
      "    res.raise_for_status()\n",
      "  File \"/home/rkatopodis/miniconda3/envs/covid/lib/python3.7/site-packages/aiohttp/client_reqrep.py\", line 946, in raise_for_status\n",
      "    headers=self.headers)\n",
      "aiohttp.client_exceptions.ClientResponseError: 500, message='Internal Server Error', url=URL('https://transparencia.registrocivil.org.br/api/covid-covid-registral?start_date=2020-03-07&end_date=2020-03-07&state=RJ&city_id=4660&chart=chart3&gender=F&places%5B%5D=OUTROS')\n"
     ]
    },
    {
     "name": "stdout",
     "output_type": "stream",
     "text": [
      "#0008 -- 1600/5890 requests -- 73 failures -- Elapsed: 0:02:32.434458\n",
      "Errors found in chunk:\n",
      "[\"<class 'aiohttp.client_exceptions.ClientResponseError'>\"]\n"
     ]
    },
    {
     "name": "stderr",
     "output_type": "stream",
     "text": [
      "Traceback (most recent call last):\n",
      "  File \"/home/rkatopodis/project/covid_registry/covid_registry.py\", line 82, in query\n",
      "    j = (await (await self._get(self.api_url, params)).json())['chart']\n",
      "  File \"/home/rkatopodis/project/covid_registry/covid_registry.py\", line 245, in _get\n",
      "    res.raise_for_status()\n",
      "  File \"/home/rkatopodis/miniconda3/envs/covid/lib/python3.7/site-packages/aiohttp/client_reqrep.py\", line 946, in raise_for_status\n",
      "    headers=self.headers)\n",
      "aiohttp.client_exceptions.ClientResponseError: 500, message='Internal Server Error', url=URL('https://transparencia.registrocivil.org.br/api/covid-covid-registral?start_date=2020-03-08&end_date=2020-03-08&state=RJ&city_id=4638&chart=chart3&gender=F&places%5B%5D=AMBULANCIA')\n"
     ]
    },
    {
     "name": "stdout",
     "output_type": "stream",
     "text": [
      "#0009 -- 1800/5890 requests -- 96 failures -- Elapsed: 0:03:02.663884\n",
      "Errors found in chunk:\n",
      "[\"<class 'aiohttp.client_exceptions.ClientResponseError'>\"]\n"
     ]
    },
    {
     "name": "stderr",
     "output_type": "stream",
     "text": [
      "Traceback (most recent call last):\n",
      "  File \"/home/rkatopodis/project/covid_registry/covid_registry.py\", line 82, in query\n",
      "    j = (await (await self._get(self.api_url, params)).json())['chart']\n",
      "  File \"/home/rkatopodis/project/covid_registry/covid_registry.py\", line 245, in _get\n",
      "    res.raise_for_status()\n",
      "  File \"/home/rkatopodis/miniconda3/envs/covid/lib/python3.7/site-packages/aiohttp/client_reqrep.py\", line 946, in raise_for_status\n",
      "    headers=self.headers)\n",
      "aiohttp.client_exceptions.ClientResponseError: 500, message='Internal Server Error', url=URL('https://transparencia.registrocivil.org.br/api/covid-covid-registral?start_date=2020-03-09&end_date=2020-03-09&state=RJ&city_id=4670&chart=chart3&gender=F&places%5B%5D=VIA_PUBLICA')\n"
     ]
    },
    {
     "name": "stdout",
     "output_type": "stream",
     "text": [
      "#0010 -- 2000/5890 requests -- 84 failures -- Elapsed: 0:03:39.844427\n",
      "Errors found in chunk:\n",
      "[\"<class 'aiohttp.client_exceptions.ClientResponseError'>\"]\n"
     ]
    },
    {
     "name": "stderr",
     "output_type": "stream",
     "text": [
      "Traceback (most recent call last):\n",
      "  File \"/home/rkatopodis/project/covid_registry/covid_registry.py\", line 82, in query\n",
      "    j = (await (await self._get(self.api_url, params)).json())['chart']\n",
      "  File \"/home/rkatopodis/project/covid_registry/covid_registry.py\", line 245, in _get\n",
      "    res.raise_for_status()\n",
      "  File \"/home/rkatopodis/miniconda3/envs/covid/lib/python3.7/site-packages/aiohttp/client_reqrep.py\", line 946, in raise_for_status\n",
      "    headers=self.headers)\n",
      "aiohttp.client_exceptions.ClientResponseError: 500, message='Internal Server Error', url=URL('https://transparencia.registrocivil.org.br/api/covid-covid-registral?start_date=2020-03-10&end_date=2020-03-10&state=RJ&city_id=4670&chart=chart3&gender=F&places%5B%5D=OUTROS')\n"
     ]
    },
    {
     "name": "stdout",
     "output_type": "stream",
     "text": [
      "#0011 -- 2200/5890 requests -- 88 failures -- Elapsed: 0:03:55.079769\n",
      "Errors found in chunk:\n",
      "[\"<class 'aiohttp.client_exceptions.ClientResponseError'>\"]\n"
     ]
    },
    {
     "name": "stderr",
     "output_type": "stream",
     "text": [
      "Traceback (most recent call last):\n",
      "  File \"/home/rkatopodis/project/covid_registry/covid_registry.py\", line 82, in query\n",
      "    j = (await (await self._get(self.api_url, params)).json())['chart']\n",
      "  File \"/home/rkatopodis/project/covid_registry/covid_registry.py\", line 245, in _get\n",
      "    res.raise_for_status()\n",
      "  File \"/home/rkatopodis/miniconda3/envs/covid/lib/python3.7/site-packages/aiohttp/client_reqrep.py\", line 946, in raise_for_status\n",
      "    headers=self.headers)\n",
      "aiohttp.client_exceptions.ClientResponseError: 500, message='Internal Server Error', url=URL('https://transparencia.registrocivil.org.br/api/covid-covid-registral?start_date=2020-03-11&end_date=2020-03-11&state=RJ&city_id=4655&chart=chart3&gender=F&places%5B%5D=OUTROS')\n"
     ]
    },
    {
     "name": "stdout",
     "output_type": "stream",
     "text": [
      "#0012 -- 2400/5890 requests -- 65 failures -- Elapsed: 0:04:21.785084\n",
      "Errors found in chunk:\n",
      "[\"<class 'aiohttp.client_exceptions.ClientResponseError'>\"]\n"
     ]
    },
    {
     "name": "stderr",
     "output_type": "stream",
     "text": [
      "Traceback (most recent call last):\n",
      "  File \"/home/rkatopodis/project/covid_registry/covid_registry.py\", line 82, in query\n",
      "    j = (await (await self._get(self.api_url, params)).json())['chart']\n",
      "  File \"/home/rkatopodis/project/covid_registry/covid_registry.py\", line 245, in _get\n",
      "    res.raise_for_status()\n",
      "  File \"/home/rkatopodis/miniconda3/envs/covid/lib/python3.7/site-packages/aiohttp/client_reqrep.py\", line 946, in raise_for_status\n",
      "    headers=self.headers)\n",
      "aiohttp.client_exceptions.ClientResponseError: 500, message='Internal Server Error', url=URL('https://transparencia.registrocivil.org.br/api/covid-covid-registral?start_date=2020-03-12&end_date=2020-03-12&state=RJ&city_id=4669&chart=chart3&gender=F&places%5B%5D=HOSPITAL')\n"
     ]
    },
    {
     "name": "stdout",
     "output_type": "stream",
     "text": [
      "#0013 -- 2600/5890 requests -- 87 failures -- Elapsed: 0:04:34.829572\n",
      "Errors found in chunk:\n",
      "[\"<class 'aiohttp.client_exceptions.ClientResponseError'>\"]\n"
     ]
    },
    {
     "name": "stderr",
     "output_type": "stream",
     "text": [
      "Traceback (most recent call last):\n",
      "  File \"/home/rkatopodis/project/covid_registry/covid_registry.py\", line 82, in query\n",
      "    j = (await (await self._get(self.api_url, params)).json())['chart']\n",
      "  File \"/home/rkatopodis/project/covid_registry/covid_registry.py\", line 245, in _get\n",
      "    res.raise_for_status()\n",
      "  File \"/home/rkatopodis/miniconda3/envs/covid/lib/python3.7/site-packages/aiohttp/client_reqrep.py\", line 946, in raise_for_status\n",
      "    headers=self.headers)\n",
      "aiohttp.client_exceptions.ClientResponseError: 500, message='Internal Server Error', url=URL('https://transparencia.registrocivil.org.br/api/covid-covid-registral?start_date=2020-03-13&end_date=2020-03-13&state=RJ&city_id=4664&chart=chart2&gender=M&places%5B%5D=HOSPITAL')\n"
     ]
    },
    {
     "name": "stdout",
     "output_type": "stream",
     "text": [
      "#0014 -- 2800/5890 requests -- 84 failures -- Elapsed: 0:04:50.155139\n",
      "Errors found in chunk:\n",
      "[\"<class 'aiohttp.client_exceptions.ClientResponseError'>\"]\n"
     ]
    },
    {
     "name": "stderr",
     "output_type": "stream",
     "text": [
      "Traceback (most recent call last):\n",
      "  File \"/home/rkatopodis/project/covid_registry/covid_registry.py\", line 82, in query\n",
      "    j = (await (await self._get(self.api_url, params)).json())['chart']\n",
      "  File \"/home/rkatopodis/project/covid_registry/covid_registry.py\", line 245, in _get\n",
      "    res.raise_for_status()\n",
      "  File \"/home/rkatopodis/miniconda3/envs/covid/lib/python3.7/site-packages/aiohttp/client_reqrep.py\", line 946, in raise_for_status\n",
      "    headers=self.headers)\n",
      "aiohttp.client_exceptions.ClientResponseError: 500, message='Internal Server Error', url=URL('https://transparencia.registrocivil.org.br/api/covid-covid-registral?start_date=2020-03-14&end_date=2020-03-14&state=RJ&city_id=4660&chart=chart3&gender=F&places%5B%5D=VIA_PUBLICA')\n"
     ]
    },
    {
     "name": "stdout",
     "output_type": "stream",
     "text": [
      "#0015 -- 3000/5890 requests -- 120 failures -- Elapsed: 0:05:09.107500\n",
      "Errors found in chunk:\n",
      "[\"<class 'aiohttp.client_exceptions.ClientResponseError'>\"]\n"
     ]
    },
    {
     "name": "stderr",
     "output_type": "stream",
     "text": [
      "Traceback (most recent call last):\n",
      "  File \"/home/rkatopodis/project/covid_registry/covid_registry.py\", line 82, in query\n",
      "    j = (await (await self._get(self.api_url, params)).json())['chart']\n",
      "  File \"/home/rkatopodis/project/covid_registry/covid_registry.py\", line 245, in _get\n",
      "    res.raise_for_status()\n",
      "  File \"/home/rkatopodis/miniconda3/envs/covid/lib/python3.7/site-packages/aiohttp/client_reqrep.py\", line 946, in raise_for_status\n",
      "    headers=self.headers)\n",
      "aiohttp.client_exceptions.ClientResponseError: 500, message='Internal Server Error', url=URL('https://transparencia.registrocivil.org.br/api/covid-covid-registral?start_date=2020-03-15&end_date=2020-03-15&state=RJ&city_id=4664&chart=chart2&gender=M&places%5B%5D=DOMICILIO')\n"
     ]
    },
    {
     "name": "stdout",
     "output_type": "stream",
     "text": [
      "#0016 -- 3200/5890 requests -- 87 failures -- Elapsed: 0:05:25.139932\n",
      "Errors found in chunk:\n",
      "[\"<class 'aiohttp.client_exceptions.ClientResponseError'>\"]\n"
     ]
    },
    {
     "name": "stderr",
     "output_type": "stream",
     "text": [
      "Traceback (most recent call last):\n",
      "  File \"/home/rkatopodis/project/covid_registry/covid_registry.py\", line 82, in query\n",
      "    j = (await (await self._get(self.api_url, params)).json())['chart']\n",
      "  File \"/home/rkatopodis/project/covid_registry/covid_registry.py\", line 245, in _get\n",
      "    res.raise_for_status()\n",
      "  File \"/home/rkatopodis/miniconda3/envs/covid/lib/python3.7/site-packages/aiohttp/client_reqrep.py\", line 946, in raise_for_status\n",
      "    headers=self.headers)\n",
      "aiohttp.client_exceptions.ClientResponseError: 500, message='Internal Server Error', url=URL('https://transparencia.registrocivil.org.br/api/covid-covid-registral?start_date=2020-03-16&end_date=2020-03-16&state=RJ&city_id=4664&chart=chart2&gender=M&places%5B%5D=DOMICILIO')\n"
     ]
    },
    {
     "name": "stdout",
     "output_type": "stream",
     "text": [
      "#0017 -- 3400/5890 requests -- 0 failures -- Elapsed: 0:05:33.589311\n",
      "#0018 -- 3600/5890 requests -- 0 failures -- Elapsed: 0:05:47.076633\n",
      "#0019 -- 3800/5890 requests -- 2 failures -- Elapsed: 0:06:01.237028\n",
      "Errors found in chunk:\n",
      "[\"<class 'aiohttp.client_exceptions.ClientResponseError'>\"]\n"
     ]
    },
    {
     "name": "stderr",
     "output_type": "stream",
     "text": [
      "Traceback (most recent call last):\n",
      "  File \"/home/rkatopodis/project/covid_registry/covid_registry.py\", line 82, in query\n",
      "    j = (await (await self._get(self.api_url, params)).json())['chart']\n",
      "  File \"/home/rkatopodis/project/covid_registry/covid_registry.py\", line 245, in _get\n",
      "    res.raise_for_status()\n",
      "  File \"/home/rkatopodis/miniconda3/envs/covid/lib/python3.7/site-packages/aiohttp/client_reqrep.py\", line 946, in raise_for_status\n",
      "    headers=self.headers)\n",
      "aiohttp.client_exceptions.ClientResponseError: 500, message='Internal Server Error', url=URL('https://transparencia.registrocivil.org.br/api/covid-covid-registral?start_date=2020-03-20&end_date=2020-03-20&state=RJ&city_id=4669&chart=chart3&gender=F&places%5B%5D=HOSPITAL')\n"
     ]
    },
    {
     "name": "stdout",
     "output_type": "stream",
     "text": [
      "#0020 -- 4000/5890 requests -- 111 failures -- Elapsed: 0:06:48.570188\n",
      "Errors found in chunk:\n",
      "[\"<class 'aiohttp.client_exceptions.ClientResponseError'>\"]\n"
     ]
    },
    {
     "name": "stderr",
     "output_type": "stream",
     "text": [
      "Traceback (most recent call last):\n",
      "  File \"/home/rkatopodis/project/covid_registry/covid_registry.py\", line 82, in query\n",
      "    j = (await (await self._get(self.api_url, params)).json())['chart']\n",
      "  File \"/home/rkatopodis/project/covid_registry/covid_registry.py\", line 245, in _get\n",
      "    return res\n",
      "  File \"/home/rkatopodis/miniconda3/envs/covid/lib/python3.7/site-packages/aiohttp/client_reqrep.py\", line 946, in raise_for_status\n",
      "    headers=self.headers)\n",
      "aiohttp.client_exceptions.ClientResponseError: 500, message='Internal Server Error', url=URL('https://transparencia.registrocivil.org.br/api/covid-covid-registral?start_date=2020-03-21&end_date=2020-03-21&state=RJ&city_id=4656&chart=chart3&gender=F&places%5B%5D=AMBULANCIA')\n"
     ]
    },
    {
     "name": "stdout",
     "output_type": "stream",
     "text": [
      "#0021 -- 4200/5890 requests -- 157 failures -- Elapsed: 0:07:13.025334\n",
      "Errors found in chunk:\n",
      "[\"<class 'aiohttp.client_exceptions.ClientResponseError'>\"]\n"
     ]
    },
    {
     "name": "stderr",
     "output_type": "stream",
     "text": [
      "Traceback (most recent call last):\n",
      "  File \"/home/rkatopodis/project/covid_registry/covid_registry.py\", line 82, in query\n",
      "    j = (await (await self._get(self.api_url, params)).json())['chart']\n",
      "  File \"/home/rkatopodis/project/covid_registry/covid_registry.py\", line 245, in _get\n",
      "    return res\n",
      "  File \"/home/rkatopodis/miniconda3/envs/covid/lib/python3.7/site-packages/aiohttp/client_reqrep.py\", line 946, in raise_for_status\n",
      "    headers=self.headers)\n",
      "aiohttp.client_exceptions.ClientResponseError: 500, message='Internal Server Error', url=URL('https://transparencia.registrocivil.org.br/api/covid-covid-registral?start_date=2020-03-22&end_date=2020-03-22&state=RJ&city_id=4656&chart=chart2&gender=M&places%5B%5D=DOMICILIO')\n"
     ]
    },
    {
     "name": "stdout",
     "output_type": "stream",
     "text": [
      "#0022 -- 4400/5890 requests -- 171 failures -- Elapsed: 0:07:23.886284\n",
      "Errors found in chunk:\n",
      "[\"<class 'aiohttp.client_exceptions.ClientResponseError'>\"]\n"
     ]
    },
    {
     "name": "stderr",
     "output_type": "stream",
     "text": [
      "Traceback (most recent call last):\n",
      "  File \"/home/rkatopodis/project/covid_registry/covid_registry.py\", line 82, in query\n",
      "    j = (await (await self._get(self.api_url, params)).json())['chart']\n",
      "  File \"/home/rkatopodis/project/covid_registry/covid_registry.py\", line 245, in _get\n",
      "    return res\n",
      "  File \"/home/rkatopodis/miniconda3/envs/covid/lib/python3.7/site-packages/aiohttp/client_reqrep.py\", line 946, in raise_for_status\n",
      "    headers=self.headers)\n",
      "aiohttp.client_exceptions.ClientResponseError: 500, message='Internal Server Error', url=URL('https://transparencia.registrocivil.org.br/api/covid-covid-registral?start_date=2020-03-23&end_date=2020-03-23&state=RJ&city_id=4658&chart=chart2&gender=M&places%5B%5D=DOMICILIO')\n"
     ]
    },
    {
     "name": "stdout",
     "output_type": "stream",
     "text": [
      "#0023 -- 4600/5890 requests -- 139 failures -- Elapsed: 0:07:34.887931\n",
      "Errors found in chunk:\n",
      "[\"<class 'aiohttp.client_exceptions.ClientResponseError'>\"]\n"
     ]
    },
    {
     "name": "stderr",
     "output_type": "stream",
     "text": [
      "Traceback (most recent call last):\n",
      "  File \"/home/rkatopodis/project/covid_registry/covid_registry.py\", line 82, in query\n",
      "    j = (await (await self._get(self.api_url, params)).json())['chart']\n",
      "  File \"/home/rkatopodis/project/covid_registry/covid_registry.py\", line 245, in _get\n",
      "    return res\n",
      "  File \"/home/rkatopodis/miniconda3/envs/covid/lib/python3.7/site-packages/aiohttp/client_reqrep.py\", line 946, in raise_for_status\n",
      "    headers=self.headers)\n",
      "aiohttp.client_exceptions.ClientResponseError: 500, message='Internal Server Error', url=URL('https://transparencia.registrocivil.org.br/api/covid-covid-registral?start_date=2020-03-24&end_date=2020-03-24&state=RJ&city_id=4653&chart=chart2&gender=M&places%5B%5D=DOMICILIO')\n"
     ]
    },
    {
     "name": "stdout",
     "output_type": "stream",
     "text": [
      "#0024 -- 4800/5890 requests -- 75 failures -- Elapsed: 0:08:25.158247\n",
      "Errors found in chunk:\n",
      "[\"<class 'aiohttp.client_exceptions.ClientResponseError'>\"]\n"
     ]
    },
    {
     "name": "stderr",
     "output_type": "stream",
     "text": [
      "Traceback (most recent call last):\n",
      "  File \"/home/rkatopodis/project/covid_registry/covid_registry.py\", line 82, in query\n",
      "    j = (await (await self._get(self.api_url, params)).json())['chart']\n",
      "  File \"/home/rkatopodis/project/covid_registry/covid_registry.py\", line 245, in _get\n",
      "  File \"/home/rkatopodis/miniconda3/envs/covid/lib/python3.7/site-packages/aiohttp/client_reqrep.py\", line 946, in raise_for_status\n",
      "    headers=self.headers)\n",
      "aiohttp.client_exceptions.ClientResponseError: 500, message='Internal Server Error', url=URL('https://transparencia.registrocivil.org.br/api/covid-covid-registral?start_date=2020-03-25&end_date=2020-03-25&state=RJ&city_id=4657&chart=chart2&gender=M&places%5B%5D=DOMICILIO')\n"
     ]
    },
    {
     "name": "stdout",
     "output_type": "stream",
     "text": [
      "#0025 -- 5000/5890 requests -- 144 failures -- Elapsed: 0:08:46.960140\n",
      "Errors found in chunk:\n",
      "[\"<class 'aiohttp.client_exceptions.ClientResponseError'>\"]\n"
     ]
    },
    {
     "name": "stderr",
     "output_type": "stream",
     "text": [
      "Traceback (most recent call last):\n",
      "  File \"/home/rkatopodis/project/covid_registry/covid_registry.py\", line 82, in query\n",
      "    j = (await (await self._get(self.api_url, params)).json())['chart']\n",
      "  File \"/home/rkatopodis/project/covid_registry/covid_registry.py\", line 245, in _get\n",
      "  File \"/home/rkatopodis/miniconda3/envs/covid/lib/python3.7/site-packages/aiohttp/client_reqrep.py\", line 946, in raise_for_status\n",
      "    headers=self.headers)\n",
      "aiohttp.client_exceptions.ClientResponseError: 500, message='Internal Server Error', url=URL('https://transparencia.registrocivil.org.br/api/covid-covid-registral?start_date=2020-03-26&end_date=2020-03-26&state=RJ&city_id=4672&chart=chart2&gender=M&places%5B%5D=OUTROS')\n"
     ]
    },
    {
     "name": "stdout",
     "output_type": "stream",
     "text": [
      "#0026 -- 5200/5890 requests -- 120 failures -- Elapsed: 0:09:17.967004\n",
      "Errors found in chunk:\n",
      "[\"<class 'aiohttp.client_exceptions.ClientResponseError'>\"]\n"
     ]
    },
    {
     "name": "stderr",
     "output_type": "stream",
     "text": [
      "Traceback (most recent call last):\n",
      "  File \"/home/rkatopodis/project/covid_registry/covid_registry.py\", line 82, in query\n",
      "    j = (await (await self._get(self.api_url, params)).json())['chart']\n",
      "  File \"/home/rkatopodis/project/covid_registry/covid_registry.py\", line 245, in _get\n",
      "  File \"/home/rkatopodis/miniconda3/envs/covid/lib/python3.7/site-packages/aiohttp/client_reqrep.py\", line 946, in raise_for_status\n",
      "    headers=self.headers)\n",
      "aiohttp.client_exceptions.ClientResponseError: 500, message='Internal Server Error', url=URL('https://transparencia.registrocivil.org.br/api/covid-covid-registral?start_date=2020-03-27&end_date=2020-03-27&state=RJ&city_id=4643&chart=chart2&gender=M&places%5B%5D=OUTROS')\n"
     ]
    },
    {
     "name": "stdout",
     "output_type": "stream",
     "text": [
      "#0027 -- 5400/5890 requests -- 55 failures -- Elapsed: 0:09:29.887436\n",
      "Errors found in chunk:\n",
      "[\"<class 'aiohttp.client_exceptions.ClientResponseError'>\"]\n"
     ]
    },
    {
     "name": "stderr",
     "output_type": "stream",
     "text": [
      "Traceback (most recent call last):\n",
      "  File \"/home/rkatopodis/project/covid_registry/covid_registry.py\", line 82, in query\n",
      "    j = (await (await self._get(self.api_url, params)).json())['chart']\n",
      "  File \"/home/rkatopodis/project/covid_registry/covid_registry.py\", line 245, in _get\n",
      "  File \"/home/rkatopodis/miniconda3/envs/covid/lib/python3.7/site-packages/aiohttp/client_reqrep.py\", line 946, in raise_for_status\n",
      "    headers=self.headers)\n",
      "aiohttp.client_exceptions.ClientResponseError: 500, message='Internal Server Error', url=URL('https://transparencia.registrocivil.org.br/api/covid-covid-registral?start_date=2020-03-28&end_date=2020-03-28&state=RJ&city_id=4662&chart=chart3&gender=F&places%5B%5D=AMBULANCIA')\n"
     ]
    },
    {
     "name": "stdout",
     "output_type": "stream",
     "text": [
      "#0028 -- 5600/5890 requests -- 69 failures -- Elapsed: 0:09:47.220581\n",
      "Errors found in chunk:\n",
      "[\"<class 'aiohttp.client_exceptions.ClientResponseError'>\"]\n"
     ]
    },
    {
     "name": "stderr",
     "output_type": "stream",
     "text": [
      "Traceback (most recent call last):\n",
      "  File \"/home/rkatopodis/project/covid_registry/covid_registry.py\", line 82, in query\n",
      "    j = (await (await self._get(self.api_url, params)).json())['chart']\n",
      "  File \"/home/rkatopodis/project/covid_registry/covid_registry.py\", line 245, in _get\n",
      "  File \"/home/rkatopodis/miniconda3/envs/covid/lib/python3.7/site-packages/aiohttp/client_reqrep.py\", line 946, in raise_for_status\n",
      "    headers=self.headers)\n",
      "aiohttp.client_exceptions.ClientResponseError: 500, message='Internal Server Error', url=URL('https://transparencia.registrocivil.org.br/api/covid-covid-registral?start_date=2020-03-29&end_date=2020-03-29&state=RJ&city_id=4662&chart=chart2&gender=M&places%5B%5D=AMBULANCIA')\n"
     ]
    },
    {
     "name": "stdout",
     "output_type": "stream",
     "text": [
      "#0029 -- 5800/5890 requests -- 86 failures -- Elapsed: 0:10:03.551673\n",
      "Errors found in chunk:\n",
      "[\"<class 'aiohttp.client_exceptions.ClientResponseError'>\"]\n"
     ]
    },
    {
     "name": "stderr",
     "output_type": "stream",
     "text": [
      "Traceback (most recent call last):\n",
      "  File \"/home/rkatopodis/project/covid_registry/covid_registry.py\", line 82, in query\n",
      "    j = (await (await self._get(self.api_url, params)).json())['chart']\n",
      "  File \"/home/rkatopodis/project/covid_registry/covid_registry.py\", line 245, in _get\n",
      "  File \"/home/rkatopodis/miniconda3/envs/covid/lib/python3.7/site-packages/aiohttp/client_reqrep.py\", line 946, in raise_for_status\n",
      "    headers=self.headers)\n",
      "aiohttp.client_exceptions.ClientResponseError: 500, message='Internal Server Error', url=URL('https://transparencia.registrocivil.org.br/api/covid-covid-registral?start_date=2020-03-30&end_date=2020-03-30&state=RJ&city_id=4670&chart=chart3&gender=F&places%5B%5D=DOMICILIO')\n"
     ]
    },
    {
     "name": "stdout",
     "output_type": "stream",
     "text": [
      "#0030 -- 5890/5890 requests -- 11 failures -- Elapsed: 0:10:08.277576\n",
      "Errors found in chunk:\n",
      "[\"<class 'aiohttp.client_exceptions.ClientResponseError'>\"]\n",
      "2651 failures occured. Retrying...\n",
      "This operation will take 2651 requests. Checkpoints will be created once every 200 requests.\n"
     ]
    },
    {
     "name": "stderr",
     "output_type": "stream",
     "text": [
      "Traceback (most recent call last):\n",
      "  File \"/home/rkatopodis/project/covid_registry/covid_registry.py\", line 82, in query\n",
      "    j = (await (await self._get(self.api_url, params)).json())['chart']\n",
      "  File \"/home/rkatopodis/project/covid_registry/covid_registry.py\", line 245, in _get\n",
      "  File \"/home/rkatopodis/miniconda3/envs/covid/lib/python3.7/site-packages/aiohttp/client_reqrep.py\", line 946, in raise_for_status\n",
      "    headers=self.headers)\n",
      "aiohttp.client_exceptions.ClientResponseError: 500, message='Internal Server Error', url=URL('https://transparencia.registrocivil.org.br/api/covid-covid-registral?start_date=2020-03-31&end_date=2020-03-31&state=RJ&city_id=4706&chart=chart2&gender=M&places%5B%5D=VIA_PUBLICA')\n"
     ]
    },
    {
     "name": "stdout",
     "output_type": "stream",
     "text": [
      "#0001 -- 200/2651 requests -- 74 failures -- Elapsed: 0:10:21.829957\n",
      "Errors found in chunk:\n",
      "[\"<class 'aiohttp.client_exceptions.ClientResponseError'>\"]\n"
     ]
    },
    {
     "name": "stderr",
     "output_type": "stream",
     "text": [
      "Traceback (most recent call last):\n",
      "  File \"/home/rkatopodis/project/covid_registry/covid_registry.py\", line 82, in query\n",
      "    j = (await (await self._get(self.api_url, params)).json())['chart']\n",
      "  File \"/home/rkatopodis/project/covid_registry/covid_registry.py\", line 245, in _get\n",
      "  File \"/home/rkatopodis/miniconda3/envs/covid/lib/python3.7/site-packages/aiohttp/client_reqrep.py\", line 946, in raise_for_status\n",
      "    headers=self.headers)\n",
      "aiohttp.client_exceptions.ClientResponseError: 500, message='Internal Server Error', url=URL('https://transparencia.registrocivil.org.br/api/covid-covid-registral?start_date=2020-03-01&end_date=2020-03-01&state=RJ&city_id=4656&chart=chart2&gender=M&places%5B%5D=DOMICILIO')\n"
     ]
    },
    {
     "name": "stdout",
     "output_type": "stream",
     "text": [
      "#0002 -- 400/2651 requests -- 116 failures -- Elapsed: 0:10:37.070950\n",
      "Errors found in chunk:\n",
      "[\"<class 'aiohttp.client_exceptions.ClientResponseError'>\"]\n"
     ]
    },
    {
     "name": "stderr",
     "output_type": "stream",
     "text": [
      "Traceback (most recent call last):\n",
      "  File \"/home/rkatopodis/project/covid_registry/covid_registry.py\", line 82, in query\n",
      "    j = (await (await self._get(self.api_url, params)).json())['chart']\n",
      "  File \"/home/rkatopodis/project/covid_registry/covid_registry.py\", line 245, in _get\n",
      "  File \"/home/rkatopodis/miniconda3/envs/covid/lib/python3.7/site-packages/aiohttp/client_reqrep.py\", line 946, in raise_for_status\n",
      "    headers=self.headers)\n",
      "aiohttp.client_exceptions.ClientResponseError: 500, message='Internal Server Error', url=URL('https://transparencia.registrocivil.org.br/api/covid-covid-registral?start_date=2020-03-02&end_date=2020-03-02&state=RJ&city_id=4706&chart=chart2&gender=M&places%5B%5D=DOMICILIO')\n"
     ]
    },
    {
     "name": "stdout",
     "output_type": "stream",
     "text": [
      "#0003 -- 600/2651 requests -- 120 failures -- Elapsed: 0:10:59.024721\n",
      "Errors found in chunk:\n",
      "[\"<class 'aiohttp.client_exceptions.ClientResponseError'>\"]\n"
     ]
    },
    {
     "name": "stderr",
     "output_type": "stream",
     "text": [
      "Traceback (most recent call last):\n",
      "  File \"/home/rkatopodis/project/covid_registry/covid_registry.py\", line 82, in query\n",
      "    j = (await (await self._get(self.api_url, params)).json())['chart']\n",
      "  File \"/home/rkatopodis/project/covid_registry/covid_registry.py\", line 245, in _get\n",
      "  File \"/home/rkatopodis/miniconda3/envs/covid/lib/python3.7/site-packages/aiohttp/client_reqrep.py\", line 946, in raise_for_status\n",
      "    headers=self.headers)\n",
      "aiohttp.client_exceptions.ClientResponseError: 500, message='Internal Server Error', url=URL('https://transparencia.registrocivil.org.br/api/covid-covid-registral?start_date=2020-03-04&end_date=2020-03-04&state=RJ&city_id=4664&chart=chart3&gender=F&places%5B%5D=OUTROS')\n"
     ]
    },
    {
     "name": "stdout",
     "output_type": "stream",
     "text": [
      "#0004 -- 800/2651 requests -- 57 failures -- Elapsed: 0:12:11.397557\n",
      "Errors found in chunk:\n",
      "[\"<class 'aiohttp.client_exceptions.ClientResponseError'>\"]\n"
     ]
    },
    {
     "name": "stderr",
     "output_type": "stream",
     "text": [
      "Traceback (most recent call last):\n",
      "  File \"/home/rkatopodis/project/covid_registry/covid_registry.py\", line 82, in query\n",
      "    j = (await (await self._get(self.api_url, params)).json())['chart']\n",
      "  File \"/home/rkatopodis/project/covid_registry/covid_registry.py\", line 245, in _get\n",
      "  File \"/home/rkatopodis/miniconda3/envs/covid/lib/python3.7/site-packages/aiohttp/client_reqrep.py\", line 946, in raise_for_status\n",
      "    headers=self.headers)\n",
      "aiohttp.client_exceptions.ClientResponseError: 500, message='Internal Server Error', url=URL('https://transparencia.registrocivil.org.br/api/covid-covid-registral?start_date=2020-03-06&end_date=2020-03-06&state=RJ&city_id=4655&chart=chart2&gender=M&places%5B%5D=OUTROS')\n"
     ]
    },
    {
     "name": "stdout",
     "output_type": "stream",
     "text": [
      "#0005 -- 1000/2651 requests -- 7 failures -- Elapsed: 0:13:38.367634\n",
      "Errors found in chunk:\n",
      "[\"<class 'aiohttp.client_exceptions.ClientResponseError'>\"]\n"
     ]
    },
    {
     "name": "stderr",
     "output_type": "stream",
     "text": [
      "Traceback (most recent call last):\n",
      "  File \"/home/rkatopodis/project/covid_registry/covid_registry.py\", line 82, in query\n",
      "    j = (await (await self._get(self.api_url, params)).json())['chart']\n",
      "  File \"/home/rkatopodis/project/covid_registry/covid_registry.py\", line 245, in _get\n",
      "  File \"/home/rkatopodis/miniconda3/envs/covid/lib/python3.7/site-packages/aiohttp/client_reqrep.py\", line 946, in raise_for_status\n",
      "    headers=self.headers)\n",
      "aiohttp.client_exceptions.ClientResponseError: 500, message='Internal Server Error', url=URL('https://transparencia.registrocivil.org.br/api/covid-covid-registral?start_date=2020-03-09&end_date=2020-03-09&state=RJ&city_id=4664&chart=chart2&gender=M&places%5B%5D=HOSPITAL')\n"
     ]
    },
    {
     "name": "stdout",
     "output_type": "stream",
     "text": [
      "#0006 -- 1200/2651 requests -- 8 failures -- Elapsed: 0:15:05.400039\n",
      "Errors found in chunk:\n",
      "[\"<class 'aiohttp.client_exceptions.ClientResponseError'>\"]\n"
     ]
    },
    {
     "name": "stderr",
     "output_type": "stream",
     "text": [
      "Traceback (most recent call last):\n",
      "  File \"/home/rkatopodis/project/covid_registry/covid_registry.py\", line 82, in query\n",
      "    j = (await (await self._get(self.api_url, params)).json())['chart']\n",
      "  File \"/home/rkatopodis/project/covid_registry/covid_registry.py\", line 245, in _get\n",
      "  File \"/home/rkatopodis/miniconda3/envs/covid/lib/python3.7/site-packages/aiohttp/client_reqrep.py\", line 946, in raise_for_status\n",
      "    headers=self.headers)\n",
      "aiohttp.client_exceptions.ClientResponseError: 408, message='REQUEST_TIMEOUT', url=URL('https://transparencia.registrocivil.org.br/api/covid-covid-registral?start_date=2020-03-14&end_date=2020-03-14&state=RJ&city_id=4662&chart=chart2&gender=M&places%5B%5D=HOSPITAL')\n"
     ]
    },
    {
     "name": "stdout",
     "output_type": "stream",
     "text": [
      "#0007 -- 1400/2651 requests -- 23 failures -- Elapsed: 0:16:09.838746\n",
      "Errors found in chunk:\n",
      "[\"<class 'aiohttp.client_exceptions.ClientResponseError'>\"]\n"
     ]
    },
    {
     "name": "stderr",
     "output_type": "stream",
     "text": [
      "Traceback (most recent call last):\n",
      "  File \"/home/rkatopodis/project/covid_registry/covid_registry.py\", line 82, in query\n",
      "    j = (await (await self._get(self.api_url, params)).json())['chart']\n",
      "  File \"/home/rkatopodis/project/covid_registry/covid_registry.py\", line 245, in _get\n",
      "  File \"/home/rkatopodis/miniconda3/envs/covid/lib/python3.7/site-packages/aiohttp/client_reqrep.py\", line 946, in raise_for_status\n",
      "    headers=self.headers)\n",
      "aiohttp.client_exceptions.ClientResponseError: 500, message='Internal Server Error', url=URL('https://transparencia.registrocivil.org.br/api/covid-covid-registral?start_date=2020-03-14&end_date=2020-03-14&state=RJ&city_id=4701&chart=chart2&gender=M&places%5B%5D=VIA_PUBLICA')\n"
     ]
    },
    {
     "name": "stdout",
     "output_type": "stream",
     "text": [
      "#0008 -- 1600/2651 requests -- 93 failures -- Elapsed: 0:16:29.650792\n",
      "Errors found in chunk:\n",
      "[\"<class 'aiohttp.client_exceptions.ClientResponseError'>\"]\n"
     ]
    },
    {
     "name": "stderr",
     "output_type": "stream",
     "text": [
      "Traceback (most recent call last):\n",
      "  File \"/home/rkatopodis/project/covid_registry/covid_registry.py\", line 82, in query\n",
      "    j = (await (await self._get(self.api_url, params)).json())['chart']\n",
      "  File \"/home/rkatopodis/project/covid_registry/covid_registry.py\", line 245, in _get\n",
      "  File \"/home/rkatopodis/miniconda3/envs/covid/lib/python3.7/site-packages/aiohttp/client_reqrep.py\", line 946, in raise_for_status\n",
      "    headers=self.headers)\n",
      "aiohttp.client_exceptions.ClientResponseError: 500, message='Internal Server Error', url=URL('https://transparencia.registrocivil.org.br/api/covid-covid-registral?start_date=2020-03-16&end_date=2020-03-16&state=RJ&city_id=4660&chart=chart3&gender=F&places%5B%5D=VIA_PUBLICA')\n"
     ]
    },
    {
     "name": "stdout",
     "output_type": "stream",
     "text": [
      "#0009 -- 1800/2651 requests -- 56 failures -- Elapsed: 0:18:29.395144\n",
      "Errors found in chunk:\n",
      "[\"<class 'aiohttp.client_exceptions.ClientResponseError'>\"]\n"
     ]
    },
    {
     "name": "stderr",
     "output_type": "stream",
     "text": [
      "Traceback (most recent call last):\n",
      "  File \"/home/rkatopodis/project/covid_registry/covid_registry.py\", line 82, in query\n",
      "    j = (await (await self._get(self.api_url, params)).json())['chart']\n",
      "  File \"/home/rkatopodis/project/covid_registry/covid_registry.py\", line 245, in _get\n",
      "  File \"/home/rkatopodis/miniconda3/envs/covid/lib/python3.7/site-packages/aiohttp/client_reqrep.py\", line 946, in raise_for_status\n",
      "    headers=self.headers)\n",
      "aiohttp.client_exceptions.ClientResponseError: 500, message='Internal Server Error', url=URL('https://transparencia.registrocivil.org.br/api/covid-covid-registral?start_date=2020-03-21&end_date=2020-03-21&state=RJ&city_id=4664&chart=chart3&gender=F&places%5B%5D=HOSPITAL')\n"
     ]
    },
    {
     "name": "stdout",
     "output_type": "stream",
     "text": [
      "#0010 -- 2000/2651 requests -- 8 failures -- Elapsed: 0:20:05.397532\n",
      "Errors found in chunk:\n",
      "[\"<class 'aiohttp.client_exceptions.ClientResponseError'>\"]\n"
     ]
    },
    {
     "name": "stderr",
     "output_type": "stream",
     "text": [
      "Traceback (most recent call last):\n",
      "  File \"/home/rkatopodis/project/covid_registry/covid_registry.py\", line 82, in query\n",
      "    j = (await (await self._get(self.api_url, params)).json())['chart']\n",
      "  File \"/home/rkatopodis/project/covid_registry/covid_registry.py\", line 245, in _get\n",
      "  File \"/home/rkatopodis/miniconda3/envs/covid/lib/python3.7/site-packages/aiohttp/client_reqrep.py\", line 946, in raise_for_status\n",
      "    headers=self.headers)\n",
      "aiohttp.client_exceptions.ClientResponseError: 408, message='REQUEST_TIMEOUT', url=URL('https://transparencia.registrocivil.org.br/api/covid-covid-registral?start_date=2020-03-23&end_date=2020-03-23&state=RJ&city_id=4670&chart=chart3&gender=F&places%5B%5D=DOMICILIO')\n"
     ]
    },
    {
     "name": "stdout",
     "output_type": "stream",
     "text": [
      "#0011 -- 2200/2651 requests -- 77 failures -- Elapsed: 0:20:46.530200\n",
      "Errors found in chunk:\n",
      "[\"<class 'aiohttp.client_exceptions.ClientResponseError'>\"]\n"
     ]
    },
    {
     "name": "stderr",
     "output_type": "stream",
     "text": [
      "Traceback (most recent call last):\n",
      "  File \"/home/rkatopodis/project/covid_registry/covid_registry.py\", line 82, in query\n",
      "    j = (await (await self._get(self.api_url, params)).json())['chart']\n",
      "  File \"/home/rkatopodis/project/covid_registry/covid_registry.py\", line 245, in _get\n",
      "  File \"/home/rkatopodis/miniconda3/envs/covid/lib/python3.7/site-packages/aiohttp/client_reqrep.py\", line 946, in raise_for_status\n",
      "    headers=self.headers)\n",
      "aiohttp.client_exceptions.ClientResponseError: 500, message='Internal Server Error', url=URL('https://transparencia.registrocivil.org.br/api/covid-covid-registral?start_date=2020-03-24&end_date=2020-03-24&state=RJ&city_id=4670&chart=chart3&gender=F&places%5B%5D=DOMICILIO')\n"
     ]
    },
    {
     "name": "stdout",
     "output_type": "stream",
     "text": [
      "#0012 -- 2400/2651 requests -- 28 failures -- Elapsed: 0:22:02.395837\n",
      "Errors found in chunk:\n",
      "[\"<class 'aiohttp.client_exceptions.ClientResponseError'>\"]\n"
     ]
    },
    {
     "name": "stderr",
     "output_type": "stream",
     "text": [
      "Traceback (most recent call last):\n",
      "  File \"/home/rkatopodis/project/covid_registry/covid_registry.py\", line 82, in query\n",
      "    j = (await (await self._get(self.api_url, params)).json())['chart']\n",
      "  File \"/home/rkatopodis/project/covid_registry/covid_registry.py\", line 245, in _get\n",
      "  File \"/home/rkatopodis/miniconda3/envs/covid/lib/python3.7/site-packages/aiohttp/client_reqrep.py\", line 946, in raise_for_status\n",
      "    headers=self.headers)\n",
      "aiohttp.client_exceptions.ClientResponseError: 504, message='GATEWAY_TIMEOUT', url=URL('https://transparencia.registrocivil.org.br/api/covid-covid-registral?start_date=2020-03-26&end_date=2020-03-26&state=RJ&city_id=4706&chart=chart2&gender=M&places%5B%5D=AMBULANCIA')\n"
     ]
    },
    {
     "name": "stdout",
     "output_type": "stream",
     "text": [
      "#0013 -- 2600/2651 requests -- 28 failures -- Elapsed: 0:22:58.471066\n",
      "Errors found in chunk:\n",
      "[\"<class 'aiohttp.client_exceptions.ClientResponseError'>\"]\n"
     ]
    },
    {
     "name": "stderr",
     "output_type": "stream",
     "text": [
      "Traceback (most recent call last):\n",
      "  File \"/home/rkatopodis/project/covid_registry/covid_registry.py\", line 82, in query\n",
      "    j = (await (await self._get(self.api_url, params)).json())['chart']\n",
      "  File \"/home/rkatopodis/project/covid_registry/covid_registry.py\", line 245, in _get\n",
      "  File \"/home/rkatopodis/miniconda3/envs/covid/lib/python3.7/site-packages/aiohttp/client_reqrep.py\", line 946, in raise_for_status\n",
      "    headers=self.headers)\n",
      "aiohttp.client_exceptions.ClientResponseError: 500, message='Internal Server Error', url=URL('https://transparencia.registrocivil.org.br/api/covid-covid-registral?start_date=2020-03-28&end_date=2020-03-28&state=RJ&city_id=4657&chart=chart2&gender=M&places%5B%5D=DOMICILIO')\n"
     ]
    },
    {
     "name": "stdout",
     "output_type": "stream",
     "text": [
      "#0014 -- 2651/2651 requests -- 19 failures -- Elapsed: 0:23:04.793040\n",
      "Errors found in chunk:\n",
      "[\"<class 'aiohttp.client_exceptions.ClientResponseError'>\"]\n",
      "714 failures occured. Retrying...\n",
      "This operation will take 714 requests. Checkpoints will be created once every 200 requests.\n"
     ]
    },
    {
     "name": "stderr",
     "output_type": "stream",
     "text": [
      "Traceback (most recent call last):\n",
      "  File \"/home/rkatopodis/project/covid_registry/covid_registry.py\", line 82, in query\n",
      "    j = (await (await self._get(self.api_url, params)).json())['chart']\n",
      "  File \"/home/rkatopodis/project/covid_registry/covid_registry.py\", line 245, in _get\n",
      "  File \"/home/rkatopodis/miniconda3/envs/covid/lib/python3.7/site-packages/aiohttp/client_reqrep.py\", line 946, in raise_for_status\n",
      "    headers=self.headers)\n",
      "aiohttp.client_exceptions.ClientResponseError: 500, message='Internal Server Error', url=URL('https://transparencia.registrocivil.org.br/api/covid-covid-registral?start_date=2020-03-31&end_date=2020-03-31&state=RJ&city_id=4643&chart=chart2&gender=M&places%5B%5D=OUTROS')\n"
     ]
    },
    {
     "name": "stdout",
     "output_type": "stream",
     "text": [
      "#0001 -- 200/714 requests -- 66 failures -- Elapsed: 0:23:18.919488\n",
      "Errors found in chunk:\n",
      "[\"<class 'aiohttp.client_exceptions.ClientResponseError'>\"]\n"
     ]
    },
    {
     "name": "stderr",
     "output_type": "stream",
     "text": [
      "Traceback (most recent call last):\n",
      "  File \"/home/rkatopodis/project/covid_registry/covid_registry.py\", line 82, in query\n",
      "    j = (await (await self._get(self.api_url, params)).json())['chart']\n",
      "  File \"/home/rkatopodis/project/covid_registry/covid_registry.py\", line 245, in _get\n",
      "  File \"/home/rkatopodis/miniconda3/envs/covid/lib/python3.7/site-packages/aiohttp/client_reqrep.py\", line 946, in raise_for_status\n",
      "    headers=self.headers)\n",
      "aiohttp.client_exceptions.ClientResponseError: 500, message='Internal Server Error', url=URL('https://transparencia.registrocivil.org.br/api/covid-covid-registral?start_date=2020-03-01&end_date=2020-03-01&state=RJ&city_id=4660&chart=chart3&gender=F&places%5B%5D=HOSPITAL')\n"
     ]
    },
    {
     "name": "stdout",
     "output_type": "stream",
     "text": [
      "#0002 -- 400/714 requests -- 39 failures -- Elapsed: 0:23:31.922525\n",
      "Errors found in chunk:\n",
      "[\"<class 'aiohttp.client_exceptions.ClientResponseError'>\"]\n"
     ]
    },
    {
     "name": "stderr",
     "output_type": "stream",
     "text": [
      "Traceback (most recent call last):\n",
      "  File \"/home/rkatopodis/project/covid_registry/covid_registry.py\", line 82, in query\n",
      "    j = (await (await self._get(self.api_url, params)).json())['chart']\n",
      "  File \"/home/rkatopodis/project/covid_registry/covid_registry.py\", line 245, in _get\n",
      "  File \"/home/rkatopodis/miniconda3/envs/covid/lib/python3.7/site-packages/aiohttp/client_reqrep.py\", line 946, in raise_for_status\n",
      "    headers=self.headers)\n",
      "aiohttp.client_exceptions.ClientResponseError: 500, message='Internal Server Error', url=URL('https://transparencia.registrocivil.org.br/api/covid-covid-registral?start_date=2020-03-05&end_date=2020-03-05&state=RJ&city_id=4653&chart=chart3&gender=F&places%5B%5D=VIA_PUBLICA')\n"
     ]
    },
    {
     "name": "stdout",
     "output_type": "stream",
     "text": [
      "#0003 -- 600/714 requests -- 83 failures -- Elapsed: 0:23:47.929399\n",
      "Errors found in chunk:\n",
      "[\"<class 'aiohttp.client_exceptions.ClientResponseError'>\"]\n"
     ]
    },
    {
     "name": "stderr",
     "output_type": "stream",
     "text": [
      "Traceback (most recent call last):\n",
      "  File \"/home/rkatopodis/project/covid_registry/covid_registry.py\", line 82, in query\n",
      "    j = (await (await self._get(self.api_url, params)).json())['chart']\n",
      "  File \"/home/rkatopodis/project/covid_registry/covid_registry.py\", line 245, in _get\n",
      "  File \"/home/rkatopodis/miniconda3/envs/covid/lib/python3.7/site-packages/aiohttp/client_reqrep.py\", line 946, in raise_for_status\n",
      "    headers=self.headers)\n",
      "aiohttp.client_exceptions.ClientResponseError: 500, message='Internal Server Error', url=URL('https://transparencia.registrocivil.org.br/api/covid-covid-registral?start_date=2020-03-16&end_date=2020-03-16&state=RJ&city_id=4655&chart=chart2&gender=M&places%5B%5D=DOMICILIO')\n"
     ]
    },
    {
     "name": "stdout",
     "output_type": "stream",
     "text": [
      "#0004 -- 714/714 requests -- 41 failures -- Elapsed: 0:24:00.415918\n",
      "Errors found in chunk:\n",
      "[\"<class 'aiohttp.client_exceptions.ClientResponseError'>\"]\n",
      "229 failures occured. Retrying...\n",
      "This operation will take 229 requests. Checkpoints will be created once every 200 requests.\n"
     ]
    },
    {
     "name": "stderr",
     "output_type": "stream",
     "text": [
      "Traceback (most recent call last):\n",
      "  File \"/home/rkatopodis/project/covid_registry/covid_registry.py\", line 82, in query\n",
      "    j = (await (await self._get(self.api_url, params)).json())['chart']\n",
      "  File \"/home/rkatopodis/project/covid_registry/covid_registry.py\", line 245, in _get\n",
      "  File \"/home/rkatopodis/miniconda3/envs/covid/lib/python3.7/site-packages/aiohttp/client_reqrep.py\", line 946, in raise_for_status\n",
      "    headers=self.headers)\n",
      "aiohttp.client_exceptions.ClientResponseError: 500, message='Internal Server Error', url=URL('https://transparencia.registrocivil.org.br/api/covid-covid-registral?start_date=2020-03-25&end_date=2020-03-25&state=RJ&city_id=4686&chart=chart3&gender=F&places%5B%5D=OUTROS')\n"
     ]
    },
    {
     "name": "stdout",
     "output_type": "stream",
     "text": [
      "#0001 -- 200/229 requests -- 61 failures -- Elapsed: 0:24:11.119686\n",
      "Errors found in chunk:\n",
      "[\"<class 'aiohttp.client_exceptions.ClientResponseError'>\"]\n"
     ]
    },
    {
     "name": "stderr",
     "output_type": "stream",
     "text": [
      "Traceback (most recent call last):\n",
      "  File \"/home/rkatopodis/project/covid_registry/covid_registry.py\", line 82, in query\n",
      "    j = (await (await self._get(self.api_url, params)).json())['chart']\n",
      "  File \"/home/rkatopodis/project/covid_registry/covid_registry.py\", line 245, in _get\n",
      "  File \"/home/rkatopodis/miniconda3/envs/covid/lib/python3.7/site-packages/aiohttp/client_reqrep.py\", line 946, in raise_for_status\n",
      "    headers=self.headers)\n",
      "aiohttp.client_exceptions.ClientResponseError: 500, message='Internal Server Error', url=URL('https://transparencia.registrocivil.org.br/api/covid-covid-registral?start_date=2020-03-01&end_date=2020-03-01&state=RJ&city_id=4686&chart=chart2&gender=M&places%5B%5D=HOSPITAL')\n"
     ]
    },
    {
     "name": "stdout",
     "output_type": "stream",
     "text": [
      "#0002 -- 229/229 requests -- 4 failures -- Elapsed: 0:24:13.969674\n",
      "Errors found in chunk:\n",
      "[\"<class 'aiohttp.client_exceptions.ClientResponseError'>\"]\n",
      "65 failures occured. Retrying...\n",
      "This operation will take 65 requests. Checkpoints will be created once every 200 requests.\n"
     ]
    },
    {
     "name": "stderr",
     "output_type": "stream",
     "text": [
      "Traceback (most recent call last):\n",
      "  File \"/home/rkatopodis/project/covid_registry/covid_registry.py\", line 82, in query\n",
      "    j = (await (await self._get(self.api_url, params)).json())['chart']\n",
      "  File \"/home/rkatopodis/project/covid_registry/covid_registry.py\", line 245, in _get\n",
      "  File \"/home/rkatopodis/miniconda3/envs/covid/lib/python3.7/site-packages/aiohttp/client_reqrep.py\", line 946, in raise_for_status\n",
      "    headers=self.headers)\n",
      "aiohttp.client_exceptions.ClientResponseError: 500, message='Internal Server Error', url=URL('https://transparencia.registrocivil.org.br/api/covid-covid-registral?start_date=2020-03-30&end_date=2020-03-30&state=RJ&city_id=4643&chart=chart2&gender=M&places%5B%5D=VIA_PUBLICA')\n"
     ]
    },
    {
     "name": "stdout",
     "output_type": "stream",
     "text": [
      "#0001 -- 65/65 requests -- 26 failures -- Elapsed: 0:24:22.399514\n",
      "Errors found in chunk:\n",
      "[\"<class 'aiohttp.client_exceptions.ClientResponseError'>\"]\n",
      "26 failures occured. Retrying...\n",
      "This operation will take 26 requests. Checkpoints will be created once every 200 requests.\n"
     ]
    },
    {
     "name": "stderr",
     "output_type": "stream",
     "text": [
      "Traceback (most recent call last):\n",
      "  File \"/home/rkatopodis/project/covid_registry/covid_registry.py\", line 82, in query\n",
      "    j = (await (await self._get(self.api_url, params)).json())['chart']\n",
      "  File \"/home/rkatopodis/project/covid_registry/covid_registry.py\", line 245, in _get\n",
      "  File \"/home/rkatopodis/miniconda3/envs/covid/lib/python3.7/site-packages/aiohttp/client_reqrep.py\", line 946, in raise_for_status\n",
      "    headers=self.headers)\n",
      "aiohttp.client_exceptions.ClientResponseError: 500, message='Internal Server Error', url=URL('https://transparencia.registrocivil.org.br/api/covid-covid-registral?start_date=2020-03-04&end_date=2020-03-04&state=RJ&city_id=4638&chart=chart3&gender=F&places%5B%5D=AMBULANCIA')\n"
     ]
    },
    {
     "name": "stdout",
     "output_type": "stream",
     "text": [
      "#0001 -- 26/26 requests -- 0 failures -- Elapsed: 0:24:26.648607\n"
     ]
    }
   ],
   "source": [
    "name = 'marco/grande_rio_marco.csv'\n",
    "pkl = 'marco/remaining_tasks.pkl'\n",
    "\n",
    "async with CovidRegistry() as reg:\n",
    "    dates = pd.date_range(start='20200301', end='20200331')\n",
    "    await reg.dump(dates, states=['RJ'], cities=grande_rio, file=name, pkl=pkl)"
   ]
  },
  {
   "cell_type": "markdown",
   "metadata": {},
   "source": [
    "Verificando se há duplicatas:"
   ]
  },
  {
   "cell_type": "code",
   "execution_count": 4,
   "metadata": {},
   "outputs": [],
   "source": [
    "df = pd.read_csv(\n",
    "    name,\n",
    "    usecols=['Date', 'State', 'City', 'Age', 'Gender', 'Place of Death', 'Cause', '#'],\n",
    "    parse_dates=[1]\n",
    ")"
   ]
  },
  {
   "cell_type": "code",
   "execution_count": 5,
   "metadata": {},
   "outputs": [
    {
     "data": {
      "text/plain": [
       "False    9049\n",
       "dtype: int64"
      ]
     },
     "execution_count": 5,
     "metadata": {},
     "output_type": "execute_result"
    }
   ],
   "source": [
    "df.duplicated(keep=False).value_counts()"
   ]
  },
  {
   "cell_type": "code",
   "execution_count": null,
   "metadata": {},
   "outputs": [],
   "source": []
  }
 ],
 "metadata": {
  "kernelspec": {
   "display_name": "Python 3.7.7 64-bit",
   "language": "python",
   "name": "python37764bitda9ab85a77be4d569586d3660dd51de9"
  },
  "language_info": {
   "codemirror_mode": {
    "name": "ipython",
    "version": 3
   },
   "file_extension": ".py",
   "mimetype": "text/x-python",
   "name": "python",
   "nbconvert_exporter": "python",
   "pygments_lexer": "ipython3",
   "version": "3.7.7"
  }
 },
 "nbformat": 4,
 "nbformat_minor": 4
}
