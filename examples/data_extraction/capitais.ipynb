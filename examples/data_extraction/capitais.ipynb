{
 "cells": [
  {
   "cell_type": "code",
   "execution_count": 1,
   "metadata": {},
   "outputs": [],
   "source": [
    "from datetime import date, timedelta\n",
    "import sys\n",
    "sys.path.insert(1, '../..')\n",
    "from covid_registry import CovidRegistry\n",
    "import pandas as pd"
   ]
  },
  {
   "cell_type": "markdown",
   "metadata": {},
   "source": [
    "# Dados das Capitais estaduais do Brasil"
   ]
  },
  {
   "cell_type": "markdown",
   "metadata": {},
   "source": [
    "## Acre"
   ]
  },
  {
   "cell_type": "markdown",
   "metadata": {},
   "source": [
    "A capital do Acre é Rio Branco"
   ]
  },
  {
   "cell_type": "code",
   "execution_count": 2,
   "metadata": {},
   "outputs": [
    {
     "name": "stderr",
     "output_type": "stream",
     "text": [
      "Progress: 100%|██████████| 1810/1810 [01:16<00:00, 23.52requests/s, failures=523]\n",
      "Retrying: 100%|██████████| 523/523 [00:27<00:00, 19.18requests/s, failures=135]\n",
      "Retrying: 100%|██████████| 135/135 [00:06<00:00, 21.04requests/s, failures=54]\n",
      "Retrying: 100%|██████████| 54/54 [00:03<00:00, 17.14requests/s, failures=19]\n",
      "Retrying: 100%|██████████| 19/19 [00:01<00:00, 12.32requests/s, failures=0]"
     ]
    },
    {
     "name": "stdout",
     "output_type": "stream",
     "text": [
      "Total elapsed time: 0:01:55.363553\n"
     ]
    },
    {
     "name": "stderr",
     "output_type": "stream",
     "text": [
      "\n"
     ]
    }
   ],
   "source": [
    "name = '../../data/capitais/Acre/acre_rio_branco.csv'\n",
    "pkl = '../../data/capitais/Acre/remaining_tasks.pkl'\n",
    "\n",
    "async with CovidRegistry() as reg:\n",
    "    dates = pd.date_range(start='20200101', end='20200629')\n",
    "    await reg.dump(dates, states=['AC'], cities=['Rio Branco'], include_cardiac=True, file=name, pkl=pkl)"
   ]
  },
  {
   "cell_type": "markdown",
   "metadata": {},
   "source": [
    "## Alagoas"
   ]
  },
  {
   "cell_type": "markdown",
   "metadata": {},
   "source": [
    "A capital de Alagoas é Maceió"
   ]
  },
  {
   "cell_type": "code",
   "execution_count": 3,
   "metadata": {},
   "outputs": [
    {
     "name": "stderr",
     "output_type": "stream",
     "text": [
      "Progress: 100%|██████████| 1810/1810 [01:29<00:00, 20.14requests/s, failures=1181]\n",
      "Retrying: 100%|██████████| 1181/1181 [01:02<00:00, 19.04requests/s, failures=760]\n",
      "Retrying: 100%|██████████| 760/760 [00:38<00:00, 19.72requests/s, failures=479]\n",
      "Retrying: 100%|██████████| 479/479 [00:24<00:00, 19.57requests/s, failures=310]\n",
      "Retrying: 100%|██████████| 310/310 [00:16<00:00, 18.36requests/s, failures=192]\n",
      "Retrying: 100%|██████████| 192/192 [00:09<00:00, 21.22requests/s, failures=110]\n",
      "Retrying: 100%|██████████| 110/110 [00:07<00:00, 15.59requests/s, failures=60]\n",
      "Retrying: 100%|██████████| 60/60 [00:04<00:00, 12.60requests/s, failures=32]\n",
      "Retrying: 100%|██████████| 32/32 [00:04<00:00,  6.84requests/s, failures=11]\n",
      "Retrying: 100%|██████████| 11/11 [00:01<00:00,  7.14requests/s, failures=0]"
     ]
    },
    {
     "name": "stdout",
     "output_type": "stream",
     "text": [
      "Total elapsed time: 0:04:18.915680\n"
     ]
    },
    {
     "name": "stderr",
     "output_type": "stream",
     "text": [
      "\n"
     ]
    }
   ],
   "source": [
    "name = '../../data/capitais/Alagoas/alagoas_maceio.csv'\n",
    "pkl = '../../data/capitais/Alagoas/remaining_tasks.pkl'\n",
    "\n",
    "async with CovidRegistry() as reg:\n",
    "    dates = pd.date_range(start='20200101', end='20200629')\n",
    "    await reg.dump(dates, states=['AL'], cities=['Maceio'], include_cardiac=True, file=name, pkl=pkl)"
   ]
  },
  {
   "cell_type": "markdown",
   "metadata": {},
   "source": [
    "## Amapá"
   ]
  },
  {
   "cell_type": "markdown",
   "metadata": {},
   "source": [
    "A capital do Amapá é Macapá"
   ]
  },
  {
   "cell_type": "code",
   "execution_count": 4,
   "metadata": {},
   "outputs": [
    {
     "name": "stderr",
     "output_type": "stream",
     "text": [
      "Progress: 100%|██████████| 1810/1810 [01:19<00:00, 22.66requests/s, failures=639]\n",
      "Retrying: 100%|██████████| 639/639 [00:32<00:00, 19.72requests/s, failures=185]\n",
      "Retrying: 100%|██████████| 185/185 [00:08<00:00, 23.12requests/s, failures=46]\n",
      "Retrying: 100%|██████████| 46/46 [00:02<00:00, 17.07requests/s, failures=11]\n",
      "Retrying: 100%|██████████| 11/11 [00:01<00:00, 10.48requests/s, failures=0]"
     ]
    },
    {
     "name": "stdout",
     "output_type": "stream",
     "text": [
      "Total elapsed time: 0:02:04.046005\n"
     ]
    },
    {
     "name": "stderr",
     "output_type": "stream",
     "text": [
      "\n"
     ]
    }
   ],
   "source": [
    "name = '../../data/capitais/Amapa/Amapa_macapa.csv'\n",
    "pkl = '../../data/capitais/Amapa/remaining_tasks.pkl'\n",
    "\n",
    "async with CovidRegistry() as reg:\n",
    "    dates = pd.date_range(start='20200101', end='20200629')\n",
    "    await reg.dump(dates, states=['AP'], cities=['Macapa'], include_cardiac=True, file=name, pkl=pkl)"
   ]
  },
  {
   "cell_type": "markdown",
   "metadata": {},
   "source": [
    "## Amazonas"
   ]
  },
  {
   "cell_type": "markdown",
   "metadata": {},
   "source": [
    "A capital do Amazonas é Manaus"
   ]
  },
  {
   "cell_type": "code",
   "execution_count": 5,
   "metadata": {},
   "outputs": [
    {
     "name": "stderr",
     "output_type": "stream",
     "text": [
      "Progress: 100%|██████████| 1810/1810 [01:41<00:00, 17.91requests/s, failures=1319]\n",
      "Retrying: 100%|██████████| 1319/1319 [01:12<00:00, 18.10requests/s, failures=944]\n",
      "Retrying: 100%|██████████| 944/944 [00:54<00:00, 17.17requests/s, failures=684]\n",
      "Retrying: 100%|██████████| 684/684 [00:39<00:00, 17.29requests/s, failures=492]\n",
      "Retrying: 100%|██████████| 492/492 [00:28<00:00, 17.43requests/s, failures=326]\n",
      "Retrying: 100%|██████████| 326/326 [00:20<00:00, 16.26requests/s, failures=232]\n",
      "Retrying: 100%|██████████| 232/232 [00:13<00:00, 17.03requests/s, failures=154]\n",
      "Retrying: 100%|██████████| 154/154 [00:09<00:00, 16.79requests/s, failures=106]\n",
      "Retrying: 100%|██████████| 106/106 [00:07<00:00, 14.67requests/s, failures=59]\n",
      "Retrying: 100%|██████████| 59/59 [00:09<00:00,  6.08requests/s, failures=30]\n",
      "Retrying: 100%|██████████| 30/30 [00:04<00:00,  7.29requests/s, failures=10]\n",
      "Retrying: 100%|██████████| 10/10 [00:02<00:00,  4.47requests/s, failures=0]"
     ]
    },
    {
     "name": "stdout",
     "output_type": "stream",
     "text": [
      "Total elapsed time: 0:06:02.840641\n"
     ]
    },
    {
     "name": "stderr",
     "output_type": "stream",
     "text": [
      "\n"
     ]
    }
   ],
   "source": [
    "name = '../../data/capitais/Amazonas/amazonas_manaus.csv'\n",
    "pkl = '../../data/capitais/Amazonas/remaining_tasks.pkl'\n",
    "\n",
    "async with CovidRegistry() as reg:\n",
    "    dates = pd.date_range(start='20200101', end='20200629')\n",
    "    await reg.dump(dates, states=['AM'], cities=['Manaus'], include_cardiac=True, file=name, pkl=pkl)"
   ]
  },
  {
   "cell_type": "markdown",
   "metadata": {},
   "source": [
    "## Bahia"
   ]
  },
  {
   "cell_type": "markdown",
   "metadata": {},
   "source": [
    "A capital da Bahia é Salvador"
   ]
  },
  {
   "cell_type": "code",
   "execution_count": 6,
   "metadata": {},
   "outputs": [
    {
     "name": "stderr",
     "output_type": "stream",
     "text": [
      "Progress: 100%|██████████| 1810/1810 [01:53<00:00, 15.99requests/s, failures=1322]\n",
      "Retrying: 100%|██████████| 1322/1322 [01:26<00:00, 15.27requests/s, failures=943]\n",
      "Retrying: 100%|██████████| 943/943 [00:56<00:00, 16.72requests/s, failures=698]\n",
      "Retrying: 100%|██████████| 698/698 [00:44<00:00, 15.63requests/s, failures=504]\n",
      "Retrying: 100%|██████████| 504/504 [00:32<00:00, 15.32requests/s, failures=350]\n",
      "Retrying: 100%|██████████| 350/350 [00:22<00:00, 15.23requests/s, failures=248]\n",
      "Retrying: 100%|██████████| 248/248 [00:19<00:00, 12.91requests/s, failures=168]\n",
      "Retrying: 100%|██████████| 168/168 [00:11<00:00, 15.26requests/s, failures=126]\n",
      "Retrying: 100%|██████████| 126/126 [00:10<00:00, 11.99requests/s, failures=82]\n",
      "Retrying: 100%|██████████| 82/82 [00:08<00:00,  9.92requests/s, failures=57]\n",
      "Retrying: 100%|██████████| 57/57 [00:06<00:00,  8.26requests/s, failures=32]\n",
      "Retrying: 100%|██████████| 32/32 [00:05<00:00,  5.49requests/s, failures=9]\n",
      "Retrying: 100%|██████████| 9/9 [00:02<00:00,  3.41requests/s, failures=0]"
     ]
    },
    {
     "name": "stdout",
     "output_type": "stream",
     "text": [
      "Total elapsed time: 0:07:01.148170\n"
     ]
    },
    {
     "name": "stderr",
     "output_type": "stream",
     "text": [
      "\n"
     ]
    }
   ],
   "source": [
    "name = '../../data/capitais/Bahia/bahia_salvador.csv'\n",
    "pkl = '../../data/capitais/Bahia/remaining_tasks.pkl'\n",
    "\n",
    "async with CovidRegistry() as reg:\n",
    "    dates = pd.date_range(start='20200101', end='20200629')\n",
    "    await reg.dump(dates, states=['BA'], cities=['Salvador'], include_cardiac=True, file=name, pkl=pkl)"
   ]
  },
  {
   "cell_type": "markdown",
   "metadata": {},
   "source": [
    "## Ceará"
   ]
  },
  {
   "cell_type": "markdown",
   "metadata": {},
   "source": [
    "A capital do Ceará é Fortaleza"
   ]
  },
  {
   "cell_type": "code",
   "execution_count": 7,
   "metadata": {},
   "outputs": [
    {
     "name": "stderr",
     "output_type": "stream",
     "text": [
      "Progress: 100%|██████████| 1810/1810 [02:15<00:00, 13.40requests/s, failures=1310]\n",
      "Retrying: 100%|██████████| 1310/1310 [01:41<00:00, 12.88requests/s, failures=962]\n",
      "Retrying: 100%|██████████| 962/962 [01:10<00:00, 13.57requests/s, failures=722]\n",
      "Retrying: 100%|██████████| 722/722 [00:55<00:00, 13.10requests/s, failures=540]\n",
      "Retrying: 100%|██████████| 540/540 [00:41<00:00, 13.11requests/s, failures=369]\n",
      "Retrying: 100%|██████████| 369/369 [00:27<00:00, 13.48requests/s, failures=282]\n",
      "Retrying: 100%|██████████| 282/282 [00:25<00:00, 11.03requests/s, failures=199]\n",
      "Retrying: 100%|██████████| 199/199 [00:12<00:00, 15.37requests/s, failures=166]\n",
      "Retrying: 100%|██████████| 166/166 [00:13<00:00, 12.63requests/s, failures=120]\n",
      "Retrying: 100%|██████████| 120/120 [00:13<00:00,  9.07requests/s, failures=72]\n",
      "Retrying: 100%|██████████| 72/72 [00:11<00:00,  6.22requests/s, failures=33]\n",
      "Retrying: 100%|██████████| 33/33 [00:07<00:00,  4.14requests/s, failures=6]\n",
      "Retrying: 100%|██████████| 6/6 [00:02<00:00,  2.46requests/s, failures=0]"
     ]
    },
    {
     "name": "stdout",
     "output_type": "stream",
     "text": [
      "Total elapsed time: 0:08:38.233922\n"
     ]
    },
    {
     "name": "stderr",
     "output_type": "stream",
     "text": [
      "\n"
     ]
    }
   ],
   "source": [
    "name = '../../data/capitais/Ceara/ceara_fortaleza.csv'\n",
    "pkl = '../../data/capitais/Ceara/remaining_tasks.pkl'\n",
    "\n",
    "async with CovidRegistry() as reg:\n",
    "    dates = pd.date_range(start='20200101', end='20200629')\n",
    "    await reg.dump(dates, states=['CE'], cities=['Fortaleza'], include_cardiac=True, file=name, pkl=pkl)"
   ]
  },
  {
   "cell_type": "markdown",
   "metadata": {},
   "source": [
    "## Distrito Federal"
   ]
  },
  {
   "cell_type": "markdown",
   "metadata": {},
   "source": [
    "A capital do Distrito Federal é Brasília"
   ]
  },
  {
   "cell_type": "code",
   "execution_count": 8,
   "metadata": {},
   "outputs": [
    {
     "name": "stderr",
     "output_type": "stream",
     "text": [
      "Progress: 100%|██████████| 1810/1810 [01:19<00:00, 22.79requests/s, failures=715]\n",
      "Retrying: 100%|██████████| 715/715 [00:32<00:00, 21.94requests/s, failures=311]\n",
      "Retrying: 100%|██████████| 311/311 [00:13<00:00, 22.94requests/s, failures=145]\n",
      "Retrying: 100%|██████████| 145/145 [00:06<00:00, 21.89requests/s, failures=69]\n",
      "Retrying: 100%|██████████| 69/69 [00:03<00:00, 18.22requests/s, failures=24]\n",
      "Retrying: 100%|██████████| 24/24 [00:02<00:00, 11.95requests/s, failures=2]\n",
      "Retrying: 100%|██████████| 2/2 [00:00<00:00,  3.04requests/s, failures=0]"
     ]
    },
    {
     "name": "stdout",
     "output_type": "stream",
     "text": [
      "Total elapsed time: 0:02:18.663780\n"
     ]
    },
    {
     "name": "stderr",
     "output_type": "stream",
     "text": [
      "\n"
     ]
    }
   ],
   "source": [
    "name = '../../data/capitais/Distrito_Federal/distrito_federal_brasilia.csv'\n",
    "pkl = '../../data/capitais/Distrito_Federal/remaining_tasks.pkl'\n",
    "\n",
    "async with CovidRegistry() as reg:\n",
    "    dates = pd.date_range(start='20200101', end='20200629')\n",
    "    await reg.dump(dates, states=['DF'], cities=['Brasília'], include_cardiac=True, file=name, pkl=pkl)"
   ]
  },
  {
   "cell_type": "markdown",
   "metadata": {},
   "source": [
    "## Espírito Santo"
   ]
  },
  {
   "cell_type": "markdown",
   "metadata": {},
   "source": [
    "A capital do Espírito Santo é Vitória"
   ]
  },
  {
   "cell_type": "code",
   "execution_count": 9,
   "metadata": {},
   "outputs": [
    {
     "name": "stderr",
     "output_type": "stream",
     "text": [
      "Progress: 100%|██████████| 1810/1810 [01:19<00:00, 22.68requests/s, failures=712]\n",
      "Retrying: 100%|██████████| 712/712 [00:33<00:00, 21.29requests/s, failures=258]\n",
      "Retrying: 100%|██████████| 258/258 [00:11<00:00, 22.67requests/s, failures=104]\n",
      "Retrying: 100%|██████████| 104/104 [00:05<00:00, 20.78requests/s, failures=42]\n",
      "Retrying: 100%|██████████| 42/42 [00:03<00:00, 13.94requests/s, failures=17]\n",
      "Retrying: 100%|██████████| 17/17 [00:01<00:00, 11.54requests/s, failures=0]"
     ]
    },
    {
     "name": "stdout",
     "output_type": "stream",
     "text": [
      "Total elapsed time: 0:02:14.134080\n"
     ]
    },
    {
     "name": "stderr",
     "output_type": "stream",
     "text": [
      "\n"
     ]
    }
   ],
   "source": [
    "name = '../../data/capitais/Espirito_Santo/espirito_santo_vitoria.csv'\n",
    "pkl = '../../data/capitais/Espirito_Santo/remaining_tasks.pkl'\n",
    "\n",
    "async with CovidRegistry() as reg:\n",
    "    dates = pd.date_range(start='20200101', end='20200629')\n",
    "    await reg.dump(dates, states=['ES'], cities=['Vitória'], include_cardiac=True, file=name, pkl=pkl)"
   ]
  },
  {
   "cell_type": "markdown",
   "metadata": {},
   "source": [
    "## Goiás"
   ]
  },
  {
   "cell_type": "markdown",
   "metadata": {},
   "source": [
    "A capital de Goiás é Goiânia"
   ]
  },
  {
   "cell_type": "code",
   "execution_count": 10,
   "metadata": {},
   "outputs": [
    {
     "name": "stderr",
     "output_type": "stream",
     "text": [
      "Progress: 100%|██████████| 1810/1810 [01:33<00:00, 19.36requests/s, failures=1277]\n",
      "Retrying: 100%|██████████| 1277/1277 [01:14<00:00, 17.03requests/s, failures=893]\n",
      "Retrying: 100%|██████████| 893/893 [00:49<00:00, 18.08requests/s, failures=662]\n",
      "Retrying: 100%|██████████| 662/662 [00:36<00:00, 18.27requests/s, failures=435]\n",
      "Retrying: 100%|██████████| 435/435 [00:26<00:00, 16.17requests/s, failures=274]\n",
      "Retrying: 100%|██████████| 274/274 [00:17<00:00, 15.32requests/s, failures=186]\n",
      "Retrying: 100%|██████████| 186/186 [00:10<00:00, 17.60requests/s, failures=131]\n",
      "Retrying: 100%|██████████| 131/131 [00:07<00:00, 17.08requests/s, failures=84]\n",
      "Retrying: 100%|██████████| 84/84 [00:06<00:00, 12.99requests/s, failures=39]\n",
      "Retrying: 100%|██████████| 39/39 [00:05<00:00,  6.70requests/s, failures=13]\n",
      "Retrying: 100%|██████████| 13/13 [00:02<00:00,  5.76requests/s, failures=0]"
     ]
    },
    {
     "name": "stdout",
     "output_type": "stream",
     "text": [
      "Total elapsed time: 0:05:31.665308\n"
     ]
    },
    {
     "name": "stderr",
     "output_type": "stream",
     "text": [
      "\n"
     ]
    }
   ],
   "source": [
    "name = '../../data/capitais/Goias/goias_goiania.csv'\n",
    "pkl = '../../data/capitais/Goias/remaining_tasks.pkl'\n",
    "\n",
    "async with CovidRegistry() as reg:\n",
    "    dates = pd.date_range(start='20200101', end='20200629')\n",
    "    await reg.dump(dates, states=['GO'], cities=['Goiânia'], include_cardiac=True, file=name, pkl=pkl)"
   ]
  },
  {
   "cell_type": "markdown",
   "metadata": {},
   "source": [
    "## Maranhão"
   ]
  },
  {
   "cell_type": "markdown",
   "metadata": {},
   "source": [
    "A capital do Maranhão é São Luís"
   ]
  },
  {
   "cell_type": "code",
   "execution_count": 11,
   "metadata": {},
   "outputs": [
    {
     "name": "stderr",
     "output_type": "stream",
     "text": [
      "Progress: 100%|██████████| 1810/1810 [01:22<00:00, 21.86requests/s, failures=1057]\n",
      "Retrying: 100%|██████████| 1057/1057 [00:52<00:00, 20.19requests/s, failures=583]\n",
      "Retrying: 100%|██████████| 583/583 [00:26<00:00, 21.64requests/s, failures=351]\n",
      "Retrying: 100%|██████████| 351/351 [00:16<00:00, 21.52requests/s, failures=155]\n",
      "Retrying: 100%|██████████| 155/155 [00:07<00:00, 21.20requests/s, failures=104]\n",
      "Retrying: 100%|██████████| 104/104 [00:05<00:00, 17.57requests/s, failures=56]\n",
      "Retrying: 100%|██████████| 56/56 [00:04<00:00, 13.09requests/s, failures=28]\n",
      "Retrying: 100%|██████████| 28/28 [00:02<00:00, 13.32requests/s, failures=10]\n",
      "Retrying: 100%|██████████| 10/10 [00:01<00:00,  6.76requests/s, failures=0]"
     ]
    },
    {
     "name": "stdout",
     "output_type": "stream",
     "text": [
      "Total elapsed time: 0:03:19.515042\n"
     ]
    },
    {
     "name": "stderr",
     "output_type": "stream",
     "text": [
      "\n"
     ]
    }
   ],
   "source": [
    "name = '../../data/capitais/Maranhao/maranhao_sao_luis.csv'\n",
    "pkl = '../../data/capitais/Maranhao/remaining_tasks.pkl'\n",
    "\n",
    "async with CovidRegistry() as reg:\n",
    "    dates = pd.date_range(start='20200101', end='20200629')\n",
    "    await reg.dump(dates, states=['MA'], cities=['São Luís'], include_cardiac=True, file=name, pkl=pkl)"
   ]
  },
  {
   "cell_type": "markdown",
   "metadata": {},
   "source": [
    "## Mato Grosso"
   ]
  },
  {
   "cell_type": "markdown",
   "metadata": {},
   "source": [
    "A capital do Mato Grosso é Cuiabá"
   ]
  },
  {
   "cell_type": "code",
   "execution_count": 12,
   "metadata": {},
   "outputs": [
    {
     "name": "stderr",
     "output_type": "stream",
     "text": [
      "Progress: 100%|██████████| 1810/1810 [01:19<00:00, 22.85requests/s, failures=902]\n",
      "Retrying: 100%|██████████| 902/902 [00:40<00:00, 22.18requests/s, failures=474]\n",
      "Retrying: 100%|██████████| 474/474 [00:22<00:00, 21.08requests/s, failures=236]\n",
      "Retrying: 100%|██████████| 236/236 [00:11<00:00, 21.07requests/s, failures=120]\n",
      "Retrying: 100%|██████████| 120/120 [00:06<00:00, 19.60requests/s, failures=59]\n",
      "Retrying: 100%|██████████| 59/59 [00:03<00:00, 15.42requests/s, failures=26]\n",
      "Retrying: 100%|██████████| 26/26 [00:02<00:00,  9.44requests/s, failures=1]\n",
      "Retrying: 100%|██████████| 1/1 [00:00<00:00,  1.25requests/s, failures=0]"
     ]
    },
    {
     "name": "stdout",
     "output_type": "stream",
     "text": [
      "Total elapsed time: 0:02:47.065130\n"
     ]
    },
    {
     "name": "stderr",
     "output_type": "stream",
     "text": [
      "\n"
     ]
    }
   ],
   "source": [
    "name = '../../data/capitais/Mato_Grosso/mato_grosso_cuiaba.csv'\n",
    "pkl = '../../data/capitais/Mato_Grosso/remaining_tasks.pkl'\n",
    "\n",
    "async with CovidRegistry() as reg:\n",
    "    dates = pd.date_range(start='20200101', end='20200629')\n",
    "    await reg.dump(dates, states=['MT'], cities=['Cuiaba'], include_cardiac=True, file=name, pkl=pkl)"
   ]
  },
  {
   "cell_type": "markdown",
   "metadata": {},
   "source": [
    "## Mato Grosso do Sul"
   ]
  },
  {
   "cell_type": "markdown",
   "metadata": {},
   "source": [
    "A capital do Mato Grosso do Sul é Campo Grande"
   ]
  },
  {
   "cell_type": "code",
   "execution_count": 13,
   "metadata": {},
   "outputs": [
    {
     "name": "stderr",
     "output_type": "stream",
     "text": [
      "Progress: 100%|██████████| 1810/1810 [01:24<00:00, 21.43requests/s, failures=1086]\n",
      "Retrying: 100%|██████████| 1086/1086 [00:51<00:00, 21.24requests/s, failures=661]\n",
      "Retrying: 100%|██████████| 661/661 [00:31<00:00, 21.30requests/s, failures=410]\n",
      "Retrying: 100%|██████████| 410/410 [00:19<00:00, 20.56requests/s, failures=232]\n",
      "Retrying: 100%|██████████| 232/232 [00:11<00:00, 19.35requests/s, failures=146]\n",
      "Retrying: 100%|██████████| 146/146 [00:07<00:00, 20.10requests/s, failures=84]\n",
      "Retrying: 100%|██████████| 84/84 [00:05<00:00, 14.79requests/s, failures=48]\n",
      "Retrying: 100%|██████████| 48/48 [00:03<00:00, 15.13requests/s, failures=17]\n",
      "Retrying: 100%|██████████| 17/17 [00:02<00:00,  8.21requests/s, failures=1]\n",
      "Retrying: 100%|██████████| 1/1 [00:00<00:00,  1.67requests/s, failures=0]"
     ]
    },
    {
     "name": "stdout",
     "output_type": "stream",
     "text": [
      "Total elapsed time: 0:03:37.343695\n"
     ]
    },
    {
     "name": "stderr",
     "output_type": "stream",
     "text": [
      "\n"
     ]
    }
   ],
   "source": [
    "name = '../../data/capitais/Mato_Grosso_Sul/mato_grosso_sul_campo_grande.csv'\n",
    "pkl = '../../data/capitais/Mato_Grosso_Sul/remaining_tasks.pkl'\n",
    "\n",
    "async with CovidRegistry() as reg:\n",
    "    dates = pd.date_range(start='20200101', end='20200629')\n",
    "    await reg.dump(dates, states=['MS'], cities=['Campo Grande'], include_cardiac=True, file=name, pkl=pkl)"
   ]
  },
  {
   "cell_type": "markdown",
   "metadata": {},
   "source": [
    "## Minas Gerais"
   ]
  },
  {
   "cell_type": "markdown",
   "metadata": {},
   "source": [
    "A capital de Minas Gerais é Belo Horizonte"
   ]
  },
  {
   "cell_type": "code",
   "execution_count": 14,
   "metadata": {},
   "outputs": [
    {
     "name": "stderr",
     "output_type": "stream",
     "text": [
      "Progress: 100%|██████████| 1810/1810 [01:43<00:00, 17.56requests/s, failures=1288]\n",
      "Retrying: 100%|██████████| 1288/1288 [01:13<00:00, 17.63requests/s, failures=887]\n",
      "Retrying: 100%|██████████| 887/887 [00:52<00:00, 17.02requests/s, failures=661]\n",
      "Retrying: 100%|██████████| 661/661 [00:40<00:00, 16.15requests/s, failures=466]\n",
      "Retrying: 100%|██████████| 466/466 [00:30<00:00, 15.22requests/s, failures=301]\n",
      "Retrying: 100%|██████████| 301/301 [00:18<00:00, 16.02requests/s, failures=200]\n",
      "Retrying: 100%|██████████| 200/200 [00:11<00:00, 17.48requests/s, failures=163]\n",
      "Retrying: 100%|██████████| 163/163 [00:10<00:00, 15.44requests/s, failures=111]\n",
      "Retrying: 100%|██████████| 111/111 [00:07<00:00, 13.97requests/s, failures=76]\n",
      "Retrying: 100%|██████████| 76/76 [00:07<00:00,  9.88requests/s, failures=48]\n",
      "Retrying: 100%|██████████| 48/48 [00:06<00:00,  7.48requests/s, failures=27]\n",
      "Retrying: 100%|██████████| 27/27 [00:08<00:00,  3.01requests/s, failures=10]\n",
      "Retrying: 100%|██████████| 10/10 [00:01<00:00,  5.68requests/s, failures=0]"
     ]
    },
    {
     "name": "stdout",
     "output_type": "stream",
     "text": [
      "Total elapsed time: 0:06:13.358502\n"
     ]
    },
    {
     "name": "stderr",
     "output_type": "stream",
     "text": [
      "\n"
     ]
    }
   ],
   "source": [
    "name = '../../data/capitais/Minas_Gerais/minas_gerais_belo_horizonte.csv'\n",
    "pkl = '../../data/capitais/Minas_Gerais/remaining_tasks.pkl'\n",
    "\n",
    "async with CovidRegistry() as reg:\n",
    "    dates = pd.date_range(start='20200101', end='20200629')\n",
    "    await reg.dump(dates, states=['MG'], cities=['Belo Horizonte'], include_cardiac=True, file=name, pkl=pkl)"
   ]
  },
  {
   "cell_type": "markdown",
   "metadata": {},
   "source": [
    "## Pará"
   ]
  },
  {
   "cell_type": "markdown",
   "metadata": {},
   "source": [
    "A capital do Pará é Belém"
   ]
  },
  {
   "cell_type": "code",
   "execution_count": 15,
   "metadata": {},
   "outputs": [
    {
     "name": "stderr",
     "output_type": "stream",
     "text": [
      "Progress: 100%|██████████| 1810/1810 [01:30<00:00, 19.98requests/s, failures=1256]\n",
      "Retrying: 100%|██████████| 1256/1256 [01:06<00:00, 19.03requests/s, failures=874]\n",
      "Retrying: 100%|██████████| 874/874 [00:45<00:00, 19.22requests/s, failures=612]\n",
      "Retrying: 100%|██████████| 612/612 [00:32<00:00, 18.61requests/s, failures=434]\n",
      "Retrying: 100%|██████████| 434/434 [00:23<00:00, 18.10requests/s, failures=300]\n",
      "Retrying: 100%|██████████| 300/300 [00:18<00:00, 15.97requests/s, failures=169]\n",
      "Retrying: 100%|██████████| 169/169 [00:09<00:00, 18.50requests/s, failures=105]\n",
      "Retrying: 100%|██████████| 105/105 [00:07<00:00, 14.15requests/s, failures=59]\n",
      "Retrying: 100%|██████████| 59/59 [00:06<00:00,  8.50requests/s, failures=28]\n",
      "Retrying: 100%|██████████| 28/28 [00:04<00:00,  6.60requests/s, failures=7]\n",
      "Retrying: 100%|██████████| 7/7 [00:01<00:00,  4.58requests/s, failures=0]"
     ]
    },
    {
     "name": "stdout",
     "output_type": "stream",
     "text": [
      "Total elapsed time: 0:05:06.991026\n"
     ]
    },
    {
     "name": "stderr",
     "output_type": "stream",
     "text": [
      "\n"
     ]
    }
   ],
   "source": [
    "name = '../../data/capitais/Para/para_belem.csv'\n",
    "pkl = '../../data/capitais/Para/remaining_tasks.pkl'\n",
    "\n",
    "async with CovidRegistry() as reg:\n",
    "    dates = pd.date_range(start='20200101', end='20200629')\n",
    "    await reg.dump(dates, states=['PA'], cities=['Belém'], include_cardiac=True, file=name, pkl=pkl)"
   ]
  },
  {
   "cell_type": "markdown",
   "metadata": {},
   "source": [
    "## Paraíba"
   ]
  },
  {
   "cell_type": "markdown",
   "metadata": {},
   "source": [
    "A capital da Paraíba é João Pessoa"
   ]
  },
  {
   "cell_type": "code",
   "execution_count": 16,
   "metadata": {},
   "outputs": [
    {
     "name": "stderr",
     "output_type": "stream",
     "text": [
      "Progress: 100%|██████████| 1810/1810 [01:22<00:00, 21.99requests/s, failures=1072]\n",
      "Retrying: 100%|██████████| 1072/1072 [00:50<00:00, 21.40requests/s, failures=657]\n",
      "Retrying: 100%|██████████| 657/657 [00:30<00:00, 21.56requests/s, failures=400]\n",
      "Retrying: 100%|██████████| 400/400 [00:19<00:00, 20.16requests/s, failures=232]\n",
      "Retrying: 100%|██████████| 232/232 [00:12<00:00, 19.23requests/s, failures=133]\n",
      "Retrying: 100%|██████████| 133/133 [00:06<00:00, 20.04requests/s, failures=71]\n",
      "Retrying: 100%|██████████| 71/71 [00:05<00:00, 13.12requests/s, failures=38]\n",
      "Retrying: 100%|██████████| 38/38 [00:03<00:00, 10.58requests/s, failures=13]\n",
      "Retrying: 100%|██████████| 13/13 [00:02<00:00,  6.05requests/s, failures=0]"
     ]
    },
    {
     "name": "stdout",
     "output_type": "stream",
     "text": [
      "Total elapsed time: 0:03:32.569358\n"
     ]
    },
    {
     "name": "stderr",
     "output_type": "stream",
     "text": [
      "\n"
     ]
    }
   ],
   "source": [
    "name = '../../data/capitais/Paraiba/paraiba_joao_pessoa.csv'\n",
    "pkl = '../../data/capitais/Paraiba/remaining_tasks.pkl'\n",
    "\n",
    "async with CovidRegistry() as reg:\n",
    "    dates = pd.date_range(start='20200101', end='20200629')\n",
    "    await reg.dump(dates, states=['PB'], cities=['Joao Pessoa'], include_cardiac=True, file=name, pkl=pkl)"
   ]
  },
  {
   "cell_type": "markdown",
   "metadata": {},
   "source": [
    "## Paraná"
   ]
  },
  {
   "cell_type": "markdown",
   "metadata": {},
   "source": [
    "A capital do Paraná é Curitiba"
   ]
  },
  {
   "cell_type": "code",
   "execution_count": 17,
   "metadata": {},
   "outputs": [
    {
     "name": "stderr",
     "output_type": "stream",
     "text": [
      "Progress: 100%|██████████| 1810/1810 [01:35<00:00, 18.91requests/s, failures=1307]\n",
      "Retrying: 100%|██████████| 1307/1307 [01:10<00:00, 18.46requests/s, failures=864]\n",
      "Retrying: 100%|██████████| 864/864 [00:48<00:00, 17.98requests/s, failures=589]\n",
      "Retrying: 100%|██████████| 589/589 [00:31<00:00, 18.88requests/s, failures=430]\n",
      "Retrying: 100%|██████████| 430/430 [00:24<00:00, 17.47requests/s, failures=308]\n",
      "Retrying: 100%|██████████| 308/308 [00:18<00:00, 16.43requests/s, failures=218]\n",
      "Retrying: 100%|██████████| 218/218 [00:13<00:00, 15.73requests/s, failures=152]\n",
      "Retrying: 100%|██████████| 152/152 [00:08<00:00, 17.00requests/s, failures=113]\n",
      "Retrying: 100%|██████████| 113/113 [00:07<00:00, 15.73requests/s, failures=77]\n",
      "Retrying: 100%|██████████| 77/77 [00:06<00:00, 11.64requests/s, failures=45]\n",
      "Retrying: 100%|██████████| 45/45 [00:04<00:00,  9.89requests/s, failures=27]\n",
      "Retrying: 100%|██████████| 27/27 [00:04<00:00,  6.05requests/s, failures=10]\n",
      "Retrying: 100%|██████████| 10/10 [00:02<00:00,  3.79requests/s, failures=0]"
     ]
    },
    {
     "name": "stdout",
     "output_type": "stream",
     "text": [
      "Total elapsed time: 0:05:37.395814\n"
     ]
    },
    {
     "name": "stderr",
     "output_type": "stream",
     "text": [
      "\n"
     ]
    }
   ],
   "source": [
    "name = '../../data/capitais/Parana/parana_curitiba.csv'\n",
    "pkl = '../../data/capitais/Parana/remaining_tasks.pkl'\n",
    "\n",
    "async with CovidRegistry() as reg:\n",
    "    dates = pd.date_range(start='20200101', end='20200629')\n",
    "    await reg.dump(dates, states=['PR'], cities=['Curitiba'], include_cardiac=True, file=name, pkl=pkl)"
   ]
  },
  {
   "cell_type": "markdown",
   "metadata": {},
   "source": [
    "## Pernambuco"
   ]
  },
  {
   "cell_type": "markdown",
   "metadata": {},
   "source": [
    "A capital de Pernambuco é Recife"
   ]
  },
  {
   "cell_type": "code",
   "execution_count": 18,
   "metadata": {},
   "outputs": [
    {
     "name": "stderr",
     "output_type": "stream",
     "text": [
      "Progress: 100%|██████████| 1810/1810 [02:01<00:00, 14.91requests/s, failures=1361]\n",
      "Retrying: 100%|██████████| 1361/1361 [01:30<00:00, 15.05requests/s, failures=1059]\n",
      "Retrying: 100%|██████████| 1059/1059 [01:09<00:00, 15.25requests/s, failures=784]\n",
      "Retrying: 100%|██████████| 784/784 [00:54<00:00, 14.47requests/s, failures=543]\n",
      "Retrying: 100%|██████████| 543/543 [00:36<00:00, 14.72requests/s, failures=411]\n",
      "Retrying: 100%|██████████| 411/411 [00:29<00:00, 13.97requests/s, failures=310]\n",
      "Retrying: 100%|██████████| 310/310 [00:24<00:00, 12.60requests/s, failures=207]\n",
      "Retrying: 100%|██████████| 207/207 [00:15<00:00, 13.11requests/s, failures=150]\n",
      "Retrying: 100%|██████████| 150/150 [00:12<00:00, 12.41requests/s, failures=112]\n",
      "Retrying: 100%|██████████| 112/112 [00:10<00:00, 10.67requests/s, failures=73]\n",
      "Retrying: 100%|██████████| 73/73 [00:07<00:00,  9.31requests/s, failures=43]\n",
      "Retrying: 100%|██████████| 43/43 [00:07<00:00,  5.49requests/s, failures=22]\n",
      "Retrying: 100%|██████████| 22/22 [00:04<00:00,  5.50requests/s, failures=4]\n",
      "Retrying: 100%|██████████| 4/4 [00:01<00:00,  2.07requests/s, failures=0]"
     ]
    },
    {
     "name": "stdout",
     "output_type": "stream",
     "text": [
      "Total elapsed time: 0:08:06.418830\n"
     ]
    },
    {
     "name": "stderr",
     "output_type": "stream",
     "text": [
      "\n"
     ]
    }
   ],
   "source": [
    "name = '../../data/capitais/Pernambuco/pernambuco_recife.csv'\n",
    "pkl = '../../data/capitais/Pernambuco/remaining_tasks.pkl'\n",
    "\n",
    "async with CovidRegistry() as reg:\n",
    "    dates = pd.date_range(start='20200101', end='20200629')\n",
    "    await reg.dump(dates, states=['PE'], cities=['Recife'], include_cardiac=True, file=name, pkl=pkl)"
   ]
  },
  {
   "cell_type": "markdown",
   "metadata": {},
   "source": [
    "## Piauí"
   ]
  },
  {
   "cell_type": "markdown",
   "metadata": {},
   "source": [
    "A capital do Piauí é Teresina"
   ]
  },
  {
   "cell_type": "code",
   "execution_count": 19,
   "metadata": {},
   "outputs": [
    {
     "name": "stderr",
     "output_type": "stream",
     "text": [
      "Progress: 100%|██████████| 1810/1810 [01:18<00:00, 23.09requests/s, failures=738]\n",
      "Retrying: 100%|██████████| 738/738 [00:30<00:00, 23.94requests/s, failures=307]\n",
      "Retrying: 100%|██████████| 307/307 [00:13<00:00, 22.32requests/s, failures=140]\n",
      "Retrying: 100%|██████████| 140/140 [00:06<00:00, 21.94requests/s, failures=62]\n",
      "Retrying: 100%|██████████| 62/62 [00:04<00:00, 14.35requests/s, failures=30]\n",
      "Retrying: 100%|██████████| 30/30 [00:02<00:00, 11.82requests/s, failures=5]\n",
      "Retrying: 100%|██████████| 5/5 [00:00<00:00,  5.37requests/s, failures=0]"
     ]
    },
    {
     "name": "stdout",
     "output_type": "stream",
     "text": [
      "Total elapsed time: 0:02:17.148097\n"
     ]
    },
    {
     "name": "stderr",
     "output_type": "stream",
     "text": [
      "\n"
     ]
    }
   ],
   "source": [
    "name = '../../data/capitais/Piaui/piaui_teresina.csv'\n",
    "pkl = '../../data/capitais/Piaui/remaining_tasks.pkl'\n",
    "\n",
    "async with CovidRegistry() as reg:\n",
    "    dates = pd.date_range(start='20200101', end='20200629')\n",
    "    await reg.dump(dates, states=['PI'], cities=['Teresina'], include_cardiac=True, file=name, pkl=pkl)"
   ]
  },
  {
   "cell_type": "markdown",
   "metadata": {},
   "source": [
    "## Rio Grande do Norte"
   ]
  },
  {
   "cell_type": "markdown",
   "metadata": {},
   "source": [
    "A capital do Rio Grande do Norte é Natal"
   ]
  },
  {
   "cell_type": "code",
   "execution_count": 20,
   "metadata": {},
   "outputs": [
    {
     "name": "stderr",
     "output_type": "stream",
     "text": [
      "Progress: 100%|██████████| 1810/1810 [01:21<00:00, 22.32requests/s, failures=1033]\n",
      "Retrying: 100%|██████████| 1033/1033 [00:46<00:00, 22.24requests/s, failures=569]\n",
      "Retrying: 100%|██████████| 569/569 [00:25<00:00, 22.00requests/s, failures=333]\n",
      "Retrying: 100%|██████████| 333/333 [00:15<00:00, 21.01requests/s, failures=163]\n",
      "Retrying: 100%|██████████| 163/163 [00:07<00:00, 21.07requests/s, failures=98]\n",
      "Retrying: 100%|██████████| 98/98 [00:05<00:00, 18.00requests/s, failures=54]\n",
      "Retrying: 100%|██████████| 54/54 [00:03<00:00, 14.42requests/s, failures=24]\n",
      "Retrying: 100%|██████████| 24/24 [00:02<00:00,  8.63requests/s, failures=4]\n",
      "Retrying: 100%|██████████| 4/4 [00:00<00:00,  4.42requests/s, failures=0]"
     ]
    },
    {
     "name": "stdout",
     "output_type": "stream",
     "text": [
      "Total elapsed time: 0:03:09.883501\n"
     ]
    },
    {
     "name": "stderr",
     "output_type": "stream",
     "text": [
      "\n"
     ]
    }
   ],
   "source": [
    "name = '../../data/capitais/Rio_Grande_Norte/rio_grande_norte_natal.csv'\n",
    "pkl = '../../data/capitais/Rio_Grande_Norte/remaining_tasks.pkl'\n",
    "\n",
    "async with CovidRegistry() as reg:\n",
    "    dates = pd.date_range(start='20200101', end='20200629')\n",
    "    await reg.dump(dates, states=['RN'], cities=['Natal'], include_cardiac=True, file=name, pkl=pkl)"
   ]
  },
  {
   "cell_type": "markdown",
   "metadata": {},
   "source": [
    "## Rio Grande do Sul"
   ]
  },
  {
   "cell_type": "markdown",
   "metadata": {},
   "source": [
    "A capital do Rio Grande do Sul é Porto Alegre"
   ]
  },
  {
   "cell_type": "code",
   "execution_count": 21,
   "metadata": {},
   "outputs": [
    {
     "name": "stderr",
     "output_type": "stream",
     "text": [
      "Progress: 100%|██████████| 1810/1810 [01:56<00:00, 15.49requests/s, failures=1303]\n",
      "Retrying: 100%|██████████| 1303/1303 [01:27<00:00, 14.87requests/s, failures=940]\n",
      "Retrying: 100%|██████████| 940/940 [01:00<00:00, 15.61requests/s, failures=669]\n",
      "Retrying: 100%|██████████| 669/669 [00:45<00:00, 14.68requests/s, failures=478]\n",
      "Retrying: 100%|██████████| 478/478 [00:34<00:00, 13.66requests/s, failures=324]\n",
      "Retrying: 100%|██████████| 324/324 [00:23<00:00, 13.99requests/s, failures=218]\n",
      "Retrying: 100%|██████████| 218/218 [00:17<00:00, 12.76requests/s, failures=151]\n",
      "Retrying: 100%|██████████| 151/151 [00:14<00:00, 10.15requests/s, failures=92]\n",
      "Retrying: 100%|██████████| 92/92 [00:12<00:00,  7.58requests/s, failures=70]\n",
      "Retrying: 100%|██████████| 70/70 [00:10<00:00,  6.87requests/s, failures=44]\n",
      "Retrying: 100%|██████████| 44/44 [00:07<00:00,  5.78requests/s, failures=13]\n",
      "Retrying: 100%|██████████| 13/13 [00:07<00:00,  1.74requests/s, failures=0]"
     ]
    },
    {
     "name": "stdout",
     "output_type": "stream",
     "text": [
      "Total elapsed time: 0:07:17.845263\n"
     ]
    },
    {
     "name": "stderr",
     "output_type": "stream",
     "text": [
      "\n"
     ]
    }
   ],
   "source": [
    "name = '../../data/capitais/Rio_Grande_Sul/rio_grande_sul_porto_alegre.csv'\n",
    "pkl = '../../data/capitais/Rio_Grande_Sul/remaining_tasks.pkl'\n",
    "\n",
    "async with CovidRegistry() as reg:\n",
    "    dates = pd.date_range(start='20200101', end='20200629')\n",
    "    await reg.dump(dates, states=['RS'], cities=['Porto Alegre'], include_cardiac=True, file=name, pkl=pkl)"
   ]
  },
  {
   "cell_type": "markdown",
   "metadata": {},
   "source": [
    "## Rio de Janeiro"
   ]
  },
  {
   "cell_type": "markdown",
   "metadata": {},
   "source": [
    "A capital do Rio de Janeiro é o Rio de Janeiro :)"
   ]
  },
  {
   "cell_type": "code",
   "execution_count": 22,
   "metadata": {},
   "outputs": [
    {
     "name": "stderr",
     "output_type": "stream",
     "text": [
      "Progress: 100%|██████████| 1810/1810 [02:42<00:00, 11.17requests/s, failures=0]"
     ]
    },
    {
     "name": "stdout",
     "output_type": "stream",
     "text": [
      "Total elapsed time: 0:02:42.105082\n"
     ]
    },
    {
     "name": "stderr",
     "output_type": "stream",
     "text": [
      "\n"
     ]
    }
   ],
   "source": [
    "name = '../../data/capitais/Rio_Janeiro/rio_janeiro_rio_janeiro.csv'\n",
    "pkl = '../../data/capitais/Rio_Janeiro/remaining_tasks.pkl'\n",
    "\n",
    "async with CovidRegistry() as reg:\n",
    "    dates = pd.date_range(start='20200101', end='20200629')\n",
    "    await reg.dump(dates, states=['RJ'], cities=['Rio de Janeiro'], include_cardiac=True, file=name, pkl=pkl)"
   ]
  },
  {
   "cell_type": "markdown",
   "metadata": {},
   "source": [
    "## Rondônia"
   ]
  },
  {
   "cell_type": "markdown",
   "metadata": {},
   "source": [
    "A capital de Rondônia é Porto Velho"
   ]
  },
  {
   "cell_type": "code",
   "execution_count": 23,
   "metadata": {},
   "outputs": [
    {
     "name": "stderr",
     "output_type": "stream",
     "text": [
      "Progress: 100%|██████████| 1810/1810 [01:14<00:00, 24.21requests/s, failures=577]\n",
      "Retrying: 100%|██████████| 577/577 [00:23<00:00, 24.40requests/s, failures=189]\n",
      "Retrying: 100%|██████████| 189/189 [00:07<00:00, 24.36requests/s, failures=67]\n",
      "Retrying: 100%|██████████| 67/67 [00:03<00:00, 18.56requests/s, failures=24]\n",
      "Retrying: 100%|██████████| 24/24 [00:01<00:00, 12.42requests/s, failures=3]\n",
      "Retrying: 100%|██████████| 3/3 [00:00<00:00,  4.62requests/s, failures=0]"
     ]
    },
    {
     "name": "stdout",
     "output_type": "stream",
     "text": [
      "Total elapsed time: 0:01:52.369310\n"
     ]
    },
    {
     "name": "stderr",
     "output_type": "stream",
     "text": [
      "\n"
     ]
    }
   ],
   "source": [
    "name = '../../data/capitais/Rondonia/rondonia_porto_velho.csv'\n",
    "pkl = '../../data/capitais/Rondonia/remaining_tasks.pkl'\n",
    "\n",
    "async with CovidRegistry() as reg:\n",
    "    dates = pd.date_range(start='20200101', end='20200629')\n",
    "    await reg.dump(dates, states=['RO'], cities=['Porto Velho'], include_cardiac=True, file=name, pkl=pkl)"
   ]
  },
  {
   "cell_type": "markdown",
   "metadata": {},
   "source": [
    "## Roraima"
   ]
  },
  {
   "cell_type": "markdown",
   "metadata": {},
   "source": [
    "A capital de Roraima é Boa Vista"
   ]
  },
  {
   "cell_type": "code",
   "execution_count": 24,
   "metadata": {},
   "outputs": [
    {
     "name": "stderr",
     "output_type": "stream",
     "text": [
      "Progress: 100%|██████████| 1810/1810 [01:15<00:00, 23.82requests/s, failures=574]\n",
      "Retrying: 100%|██████████| 574/574 [00:22<00:00, 25.09requests/s, failures=194]\n",
      "Retrying: 100%|██████████| 194/194 [00:07<00:00, 24.42requests/s, failures=74]\n",
      "Retrying: 100%|██████████| 74/74 [00:03<00:00, 19.82requests/s, failures=27]\n",
      "Retrying: 100%|██████████| 27/27 [00:01<00:00, 14.24requests/s, failures=2]\n",
      "Retrying: 100%|██████████| 2/2 [00:00<00:00,  3.46requests/s, failures=0]"
     ]
    },
    {
     "name": "stdout",
     "output_type": "stream",
     "text": [
      "Total elapsed time: 0:01:53.026586\n"
     ]
    },
    {
     "name": "stderr",
     "output_type": "stream",
     "text": [
      "\n"
     ]
    }
   ],
   "source": [
    "name = '../../data/capitais/Roraima/roraima_boa_vista.csv'\n",
    "pkl = '../../data/capitais/Roraima/remaining_tasks.pkl'\n",
    "\n",
    "async with CovidRegistry() as reg:\n",
    "    dates = pd.date_range(start='20200101', end='20200629')\n",
    "    await reg.dump(dates, states=['RR'], cities=['Boa Vista'], include_cardiac=True, file=name, pkl=pkl)"
   ]
  },
  {
   "cell_type": "markdown",
   "metadata": {},
   "source": [
    "## Santa Catarina"
   ]
  },
  {
   "cell_type": "markdown",
   "metadata": {},
   "source": [
    "A capital de Santa Catarina é Florianópolis"
   ]
  },
  {
   "cell_type": "code",
   "execution_count": 25,
   "metadata": {},
   "outputs": [
    {
     "name": "stderr",
     "output_type": "stream",
     "text": [
      "Progress: 100%|██████████| 1810/1810 [01:19<00:00, 22.77requests/s, failures=537]\n",
      "Retrying: 100%|██████████| 537/537 [00:22<00:00, 23.80requests/s, failures=164]\n",
      "Retrying: 100%|██████████| 164/164 [00:07<00:00, 23.38requests/s, failures=65]\n",
      "Retrying: 100%|██████████| 65/65 [00:03<00:00, 18.16requests/s, failures=25]\n",
      "Retrying: 100%|██████████| 25/25 [00:01<00:00, 14.16requests/s, failures=2]\n",
      "Retrying: 100%|██████████| 2/2 [00:00<00:00,  3.04requests/s, failures=0]"
     ]
    },
    {
     "name": "stdout",
     "output_type": "stream",
     "text": [
      "Total elapsed time: 0:01:55.102887\n"
     ]
    },
    {
     "name": "stderr",
     "output_type": "stream",
     "text": [
      "\n"
     ]
    }
   ],
   "source": [
    "name = '../../data/capitais/Santa_Catarina/santa_catarina_florianopolis.csv'\n",
    "pkl = '../../data/capitais/Santa_Catarina/remaining_tasks.pkl'\n",
    "\n",
    "async with CovidRegistry() as reg:\n",
    "    dates = pd.date_range(start='20200101', end='20200629')\n",
    "    await reg.dump(dates, states=['SC'], cities=['Florianopolis'], include_cardiac=True, file=name, pkl=pkl)"
   ]
  },
  {
   "cell_type": "markdown",
   "metadata": {},
   "source": [
    "## São Paulo"
   ]
  },
  {
   "cell_type": "markdown",
   "metadata": {},
   "source": [
    "A capital de São Paulo é São Paulo"
   ]
  },
  {
   "cell_type": "code",
   "execution_count": 26,
   "metadata": {},
   "outputs": [
    {
     "name": "stderr",
     "output_type": "stream",
     "text": [
      "Progress: 100%|██████████| 1810/1810 [09:19<00:00,  3.23requests/s, failures=1417]\n",
      "Retrying: 100%|██████████| 1417/1417 [06:55<00:00,  3.41requests/s, failures=1053]\n",
      "Retrying: 100%|██████████| 1053/1053 [05:32<00:00,  3.17requests/s, failures=746]\n",
      "Retrying: 100%|██████████| 746/746 [03:22<00:00,  3.68requests/s, failures=546]\n",
      "Retrying: 100%|██████████| 546/546 [02:48<00:00,  3.24requests/s, failures=441]\n",
      "Retrying: 100%|██████████| 441/441 [02:35<00:00,  2.84requests/s, failures=317]\n",
      "Retrying: 100%|██████████| 317/317 [01:47<00:00,  2.94requests/s, failures=217]\n",
      "Retrying: 100%|██████████| 217/217 [01:09<00:00,  3.14requests/s, failures=161]\n",
      "Retrying: 100%|██████████| 161/161 [00:53<00:00,  2.98requests/s, failures=136]\n",
      "Retrying: 100%|██████████| 136/136 [00:50<00:00,  2.68requests/s, failures=109]\n",
      "Retrying: 100%|██████████| 109/109 [00:51<00:00,  2.10requests/s, failures=71]\n",
      "Retrying: 100%|██████████| 71/71 [00:56<00:00,  1.27requests/s, failures=36]\n",
      "Retrying: 100%|██████████| 36/36 [00:57<00:00,  1.59s/requests, failures=6]\n",
      "Retrying: 100%|██████████| 6/6 [00:12<00:00,  2.16s/requests, failures=0]"
     ]
    },
    {
     "name": "stdout",
     "output_type": "stream",
     "text": [
      "Total elapsed time: 0:38:14.091316\n"
     ]
    },
    {
     "name": "stderr",
     "output_type": "stream",
     "text": [
      "\n"
     ]
    }
   ],
   "source": [
    "name = '../../data/capitais/Sao_Paulo/sao_paulo_sao_paulo.csv'\n",
    "pkl = '../../data/capitais/Sao_Paulo/remaining_tasks.pkl'\n",
    "\n",
    "async with CovidRegistry() as reg:\n",
    "    dates = pd.date_range(start='20200101', end='20200629')\n",
    "    await reg.dump(dates, states=['SP'], cities=['São Paulo'], include_cardiac=True, file=name, pkl=pkl)"
   ]
  },
  {
   "cell_type": "markdown",
   "metadata": {},
   "source": [
    "## Sergipe"
   ]
  },
  {
   "cell_type": "markdown",
   "metadata": {},
   "source": [
    "A capital de Sergipe é Aracaju"
   ]
  },
  {
   "cell_type": "code",
   "execution_count": 27,
   "metadata": {},
   "outputs": [
    {
     "name": "stderr",
     "output_type": "stream",
     "text": [
      "Progress: 100%|██████████| 1810/1810 [01:26<00:00, 20.84requests/s, failures=1205]\n",
      "Retrying: 100%|██████████| 1205/1205 [00:53<00:00, 22.37requests/s, failures=729]\n",
      "Retrying: 100%|██████████| 729/729 [00:33<00:00, 21.75requests/s, failures=410]\n",
      "Retrying: 100%|██████████| 410/410 [00:20<00:00, 20.40requests/s, failures=249]\n",
      "Retrying: 100%|██████████| 249/249 [00:12<00:00, 20.48requests/s, failures=152]\n",
      "Retrying: 100%|██████████| 152/152 [00:07<00:00, 20.69requests/s, failures=82]\n",
      "Retrying: 100%|██████████| 82/82 [00:04<00:00, 17.27requests/s, failures=49]\n",
      "Retrying: 100%|██████████| 49/49 [00:04<00:00, 12.21requests/s, failures=27]\n",
      "Retrying: 100%|██████████| 27/27 [00:02<00:00,  9.13requests/s, failures=11]\n",
      "Retrying: 100%|██████████| 11/11 [00:01<00:00,  6.54requests/s, failures=0]"
     ]
    },
    {
     "name": "stdout",
     "output_type": "stream",
     "text": [
      "Total elapsed time: 0:03:47.256317\n"
     ]
    },
    {
     "name": "stderr",
     "output_type": "stream",
     "text": [
      "\n"
     ]
    }
   ],
   "source": [
    "name = '../../data/capitais/Sergipe/sergipe_aracaju.csv'\n",
    "pkl = '../../data/capitais/Sergipe/remaining_tasks.pkl'\n",
    "\n",
    "async with CovidRegistry() as reg:\n",
    "    dates = pd.date_range(start='20200101', end='20200629')\n",
    "    await reg.dump(dates, states=['SE'], cities=['Aracaju'], include_cardiac=True, file=name, pkl=pkl)"
   ]
  },
  {
   "cell_type": "markdown",
   "metadata": {},
   "source": [
    "## Tocantins"
   ]
  },
  {
   "cell_type": "markdown",
   "metadata": {},
   "source": [
    "A capital do Tocantis é Palmas"
   ]
  },
  {
   "cell_type": "code",
   "execution_count": 28,
   "metadata": {},
   "outputs": [
    {
     "name": "stderr",
     "output_type": "stream",
     "text": [
      "Progress: 100%|██████████| 1810/1810 [01:12<00:00, 24.94requests/s, failures=411]\n",
      "Retrying: 100%|██████████| 411/411 [00:16<00:00, 24.36requests/s, failures=105]\n",
      "Retrying: 100%|██████████| 105/105 [00:04<00:00, 23.27requests/s, failures=26]\n",
      "Retrying: 100%|██████████| 26/26 [00:01<00:00, 13.62requests/s, failures=3]\n",
      "Retrying: 100%|██████████| 3/3 [00:00<00:00,  4.93requests/s, failures=0]"
     ]
    },
    {
     "name": "stdout",
     "output_type": "stream",
     "text": [
      "Total elapsed time: 0:01:36.490489\n"
     ]
    },
    {
     "name": "stderr",
     "output_type": "stream",
     "text": [
      "\n"
     ]
    }
   ],
   "source": [
    "name = '../../data/capitais/Tocantins/tocantins_palmas.csv'\n",
    "pkl = '../../data/capitais/Tocantins/remaining_tasks.pkl'\n",
    "\n",
    "async with CovidRegistry() as reg:\n",
    "    dates = pd.date_range(start='20200101', end='20200629')\n",
    "    await reg.dump(dates, states=['TO'], cities=['Palmas'], include_cardiac=True, file=name, pkl=pkl)"
   ]
  },
  {
   "cell_type": "markdown",
   "metadata": {},
   "source": [
    "# Juntando tudo"
   ]
  },
  {
   "cell_type": "code",
   "execution_count": 29,
   "metadata": {},
   "outputs": [],
   "source": [
    "from pathlib import Path\n",
    "\n",
    "p = Path('../../data/capitais')\n",
    "\n",
    "# Obtendo lista de tabelas\n",
    "csvs = list(p.glob('**/*.csv'))\n",
    "\n",
    "# Carregando tabelas como dataframes\n",
    "dfs = [\n",
    "    pd.read_csv(\n",
    "        csv,\n",
    "        usecols=['Date', 'State', 'City', 'Age', 'Gender', 'Place of Death', 'Cause', '#'],\n",
    "        parse_dates=[1]\n",
    "    )\n",
    "    for csv in csvs\n",
    "]\n",
    "\n",
    "# Concatenando dfs\n",
    "capitais_df = pd.concat(dfs)\n",
    "\n",
    "# Ordenando df\n",
    "capitais_df.sort_values(by=['Date', 'State', 'City', 'Age', 'Gender', 'Place of Death', 'Cause'], axis=0, inplace=True)\n",
    "\n",
    "# Salvando\n",
    "capitais_df.to_csv('../../data/capitais/obitos_covid_capitais.csv', index=False)"
   ]
  },
  {
   "cell_type": "code",
   "execution_count": null,
   "metadata": {},
   "outputs": [],
   "source": []
  }
 ],
 "metadata": {
  "kernelspec": {
   "display_name": "Python 3",
   "language": "python",
   "name": "python3"
  },
  "language_info": {
   "codemirror_mode": {
    "name": "ipython",
    "version": 3
   },
   "file_extension": ".py",
   "mimetype": "text/x-python",
   "name": "python",
   "nbconvert_exporter": "python",
   "pygments_lexer": "ipython3",
   "version": "3.7.7"
  }
 },
 "nbformat": 4,
 "nbformat_minor": 4
}
