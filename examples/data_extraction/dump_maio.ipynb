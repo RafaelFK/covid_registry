{
 "cells": [
  {
   "cell_type": "code",
   "execution_count": 1,
   "metadata": {},
   "outputs": [],
   "source": [
    "from datetime import date, timedelta\n",
    "from covid_registry import CovidRegistry\n",
    "import pandas as pd"
   ]
  },
  {
   "cell_type": "markdown",
   "metadata": {},
   "source": [
    "# Dados de Maio"
   ]
  },
  {
   "cell_type": "code",
   "execution_count": 2,
   "metadata": {},
   "outputs": [],
   "source": [
    "grande_rio = [\n",
    "    'Rio de Janeiro',\n",
    "    'São Gonçalo',\n",
    "    'Duque de Caxias',\n",
    "    'Nova Iguaçu',\n",
    "    'Niteroi',\n",
    "    'Belford Roxo',\n",
    "    'São João de Meriti',\n",
    "    'Mage',\n",
    "    'Itaborai',\n",
    "    'Mesquita',\n",
    "    'Nilópolis',\n",
    "    'Maricá',\n",
    "    'Queimados',\n",
    "    'Itaguai',\n",
    "    'Japeri',\n",
    "    'Seropedica',\n",
    "    'Guapimirim',\n",
    "    'Paracambi',\n",
    "    'Tanguá',\n",
    "]"
   ]
  },
  {
   "cell_type": "code",
   "execution_count": 3,
   "metadata": {},
   "outputs": [
    {
     "name": "stdout",
     "output_type": "stream",
     "text": [
      "This operation will take 5890 requests. Checkpoints will be created once every 200 requests.\n",
      "#0001 -- 200/5890 requests -- 70 failures -- Elapsed: 0:00:16.882066\n",
      "Errors found in chunk:\n",
      "[\"<class 'aiohttp.client_exceptions.ClientResponseError'>\"]\n",
      "#0002 -- 400/5890 requests -- 42 failures -- Elapsed: 0:00:31.297678\n",
      "Errors found in chunk:\n",
      "[\"<class 'aiohttp.client_exceptions.ClientResponseError'>\"]\n",
      "#0003 -- 600/5890 requests -- 71 failures -- Elapsed: 0:00:51.378022\n",
      "Errors found in chunk:\n",
      "[\"<class 'aiohttp.client_exceptions.ClientResponseError'>\"]\n",
      "#0004 -- 800/5890 requests -- 38 failures -- Elapsed: 0:01:06.846084\n",
      "Errors found in chunk:\n",
      "[\"<class 'aiohttp.client_exceptions.ClientResponseError'>\"]\n",
      "#0005 -- 1000/5890 requests -- 93 failures -- Elapsed: 0:01:29.568983\n",
      "Errors found in chunk:\n",
      "[\"<class 'aiohttp.client_exceptions.ClientResponseError'>\"]\n",
      "#0006 -- 1200/5890 requests -- 73 failures -- Elapsed: 0:01:43.969117\n",
      "Errors found in chunk:\n",
      "[\"<class 'aiohttp.client_exceptions.ClientResponseError'>\"]\n",
      "#0007 -- 1400/5890 requests -- 76 failures -- Elapsed: 0:02:04.868796\n",
      "Errors found in chunk:\n",
      "[\"<class 'aiohttp.client_exceptions.ClientResponseError'>\"]\n",
      "#0008 -- 1600/5890 requests -- 82 failures -- Elapsed: 0:02:22.159396\n",
      "Errors found in chunk:\n",
      "[\"<class 'aiohttp.client_exceptions.ClientResponseError'>\"]\n",
      "#0009 -- 1800/5890 requests -- 66 failures -- Elapsed: 0:02:39.130589\n",
      "Errors found in chunk:\n",
      "[\"<class 'aiohttp.client_exceptions.ClientResponseError'>\"]\n",
      "#0010 -- 2000/5890 requests -- 100 failures -- Elapsed: 0:02:59.722412\n",
      "Errors found in chunk:\n",
      "[\"<class 'aiohttp.client_exceptions.ClientResponseError'>\"]\n",
      "#0011 -- 2200/5890 requests -- 73 failures -- Elapsed: 0:03:15.746744\n",
      "Errors found in chunk:\n",
      "[\"<class 'aiohttp.client_exceptions.ClientResponseError'>\"]\n",
      "#0012 -- 2400/5890 requests -- 83 failures -- Elapsed: 0:03:30.789099\n",
      "Errors found in chunk:\n",
      "[\"<class 'aiohttp.client_exceptions.ClientResponseError'>\"]\n",
      "#0013 -- 2600/5890 requests -- 64 failures -- Elapsed: 0:03:44.722615\n",
      "Errors found in chunk:\n",
      "[\"<class 'aiohttp.client_exceptions.ClientResponseError'>\"]\n",
      "#0014 -- 2800/5890 requests -- 83 failures -- Elapsed: 0:03:58.666606\n",
      "Errors found in chunk:\n",
      "[\"<class 'aiohttp.client_exceptions.ClientResponseError'>\"]\n",
      "#0015 -- 3000/5890 requests -- 106 failures -- Elapsed: 0:04:16.377754\n",
      "Errors found in chunk:\n",
      "[\"<class 'aiohttp.client_exceptions.ClientResponseError'>\"]\n",
      "#0016 -- 3200/5890 requests -- 118 failures -- Elapsed: 0:04:33.083646\n",
      "Errors found in chunk:\n",
      "[\"<class 'aiohttp.client_exceptions.ClientResponseError'>\"]\n",
      "#0017 -- 3400/5890 requests -- 96 failures -- Elapsed: 0:04:49.893095\n",
      "Errors found in chunk:\n",
      "[\"<class 'aiohttp.client_exceptions.ClientResponseError'>\"]\n",
      "#0018 -- 3600/5890 requests -- 91 failures -- Elapsed: 0:05:03.776269\n",
      "Errors found in chunk:\n",
      "[\"<class 'aiohttp.client_exceptions.ClientResponseError'>\"]\n",
      "#0019 -- 3800/5890 requests -- 97 failures -- Elapsed: 0:05:17.774552\n",
      "Errors found in chunk:\n",
      "[\"<class 'aiohttp.client_exceptions.ClientResponseError'>\"]\n",
      "#0020 -- 4000/5890 requests -- 99 failures -- Elapsed: 0:05:34.129664\n",
      "Errors found in chunk:\n",
      "[\"<class 'aiohttp.client_exceptions.ClientResponseError'>\"]\n",
      "#0021 -- 4200/5890 requests -- 32 failures -- Elapsed: 0:05:49.585310\n",
      "Errors found in chunk:\n",
      "[\"<class 'aiohttp.client_exceptions.ClientResponseError'>\"]\n",
      "#0022 -- 4400/5890 requests -- 47 failures -- Elapsed: 0:06:14.043490\n",
      "Errors found in chunk:\n",
      "[\"<class 'aiohttp.client_exceptions.ClientResponseError'>\"]\n",
      "#0023 -- 4600/5890 requests -- 41 failures -- Elapsed: 0:06:29.921535\n",
      "Errors found in chunk:\n",
      "[\"<class 'aiohttp.client_exceptions.ClientResponseError'>\"]\n",
      "#0024 -- 4800/5890 requests -- 25 failures -- Elapsed: 0:06:47.750487\n",
      "Errors found in chunk:\n",
      "[\"<class 'aiohttp.client_exceptions.ClientResponseError'>\"]\n",
      "#0025 -- 5000/5890 requests -- 52 failures -- Elapsed: 0:07:18.231029\n",
      "Errors found in chunk:\n",
      "[\"<class 'aiohttp.client_exceptions.ClientResponseError'>\"]\n",
      "#0026 -- 5200/5890 requests -- 109 failures -- Elapsed: 0:07:35.823336\n",
      "Errors found in chunk:\n",
      "[\"<class 'aiohttp.client_exceptions.ClientResponseError'>\"]\n",
      "#0027 -- 5400/5890 requests -- 67 failures -- Elapsed: 0:07:58.359461\n",
      "Errors found in chunk:\n",
      "[\"<class 'aiohttp.client_exceptions.ClientResponseError'>\"]\n",
      "#0028 -- 5600/5890 requests -- 69 failures -- Elapsed: 0:08:53.602088\n",
      "Errors found in chunk:\n",
      "[\"<class 'aiohttp.client_exceptions.ClientResponseError'>\"]\n",
      "#0029 -- 5800/5890 requests -- 52 failures -- Elapsed: 0:09:09.685229\n",
      "Errors found in chunk:\n",
      "[\"<class 'aiohttp.client_exceptions.ClientResponseError'>\"]\n",
      "#0030 -- 5890/5890 requests -- 2 failures -- Elapsed: 0:09:14.739202\n",
      "Errors found in chunk:\n",
      "[\"<class 'aiohttp.client_exceptions.ClientResponseError'>\"]\n",
      "2117 failures occured. Retrying...\n",
      "This operation will take 2117 requests. Checkpoints will be created once every 200 requests.\n",
      "#0001 -- 200/2117 requests -- 37 failures -- Elapsed: 0:09:31.229117\n",
      "Errors found in chunk:\n",
      "[\"<class 'aiohttp.client_exceptions.ClientResponseError'>\"]\n",
      "#0002 -- 400/2117 requests -- 84 failures -- Elapsed: 0:09:45.932128\n",
      "Errors found in chunk:\n",
      "[\"<class 'aiohttp.client_exceptions.ClientResponseError'>\"]\n",
      "#0003 -- 600/2117 requests -- 83 failures -- Elapsed: 0:09:58.059148\n",
      "Errors found in chunk:\n",
      "[\"<class 'aiohttp.client_exceptions.ClientResponseError'>\"]\n",
      "#0004 -- 800/2117 requests -- 72 failures -- Elapsed: 0:10:06.663424\n",
      "Errors found in chunk:\n",
      "[\"<class 'aiohttp.client_exceptions.ClientResponseError'>\"]\n",
      "#0005 -- 1000/2117 requests -- 51 failures -- Elapsed: 0:10:21.459923\n",
      "Errors found in chunk:\n",
      "[\"<class 'aiohttp.client_exceptions.ClientResponseError'>\"]\n",
      "#0006 -- 1200/2117 requests -- 90 failures -- Elapsed: 0:10:34.726539\n",
      "Errors found in chunk:\n",
      "[\"<class 'aiohttp.client_exceptions.ClientResponseError'>\"]\n",
      "#0007 -- 1400/2117 requests -- 57 failures -- Elapsed: 0:10:45.064158\n",
      "Errors found in chunk:\n",
      "[\"<class 'aiohttp.client_exceptions.ClientResponseError'>\"]\n",
      "#0008 -- 1600/2117 requests -- 53 failures -- Elapsed: 0:10:53.902071\n",
      "Errors found in chunk:\n",
      "[\"<class 'aiohttp.client_exceptions.ClientResponseError'>\"]\n",
      "#0009 -- 1800/2117 requests -- 91 failures -- Elapsed: 0:11:10.336031\n",
      "Errors found in chunk:\n",
      "[\"<class 'aiohttp.client_exceptions.ClientResponseError'>\"]\n",
      "#0010 -- 2000/2117 requests -- 83 failures -- Elapsed: 0:11:23.056540\n",
      "Errors found in chunk:\n",
      "[\"<class 'aiohttp.client_exceptions.ClientResponseError'>\"]\n",
      "#0011 -- 2117/2117 requests -- 51 failures -- Elapsed: 0:11:34.809823\n",
      "Errors found in chunk:\n",
      "[\"<class 'aiohttp.client_exceptions.ClientResponseError'>\"]\n",
      "752 failures occured. Retrying...\n",
      "This operation will take 752 requests. Checkpoints will be created once every 200 requests.\n",
      "#0001 -- 200/752 requests -- 92 failures -- Elapsed: 0:11:47.138347\n",
      "Errors found in chunk:\n",
      "[\"<class 'aiohttp.client_exceptions.ClientResponseError'>\"]\n",
      "#0002 -- 400/752 requests -- 75 failures -- Elapsed: 0:11:59.787902\n",
      "Errors found in chunk:\n",
      "[\"<class 'aiohttp.client_exceptions.ClientResponseError'>\"]\n",
      "#0003 -- 600/752 requests -- 61 failures -- Elapsed: 0:12:12.352703\n",
      "Errors found in chunk:\n",
      "[\"<class 'aiohttp.client_exceptions.ClientResponseError'>\"]\n",
      "#0004 -- 752/752 requests -- 76 failures -- Elapsed: 0:12:22.255529\n",
      "Errors found in chunk:\n",
      "[\"<class 'aiohttp.client_exceptions.ClientResponseError'>\"]\n",
      "304 failures occured. Retrying...\n",
      "This operation will take 304 requests. Checkpoints will be created once every 200 requests.\n",
      "#0001 -- 200/304 requests -- 70 failures -- Elapsed: 0:12:33.199488\n",
      "Errors found in chunk:\n",
      "[\"<class 'aiohttp.client_exceptions.ClientResponseError'>\"]\n",
      "#0002 -- 304/304 requests -- 39 failures -- Elapsed: 0:12:39.589275\n",
      "Errors found in chunk:\n",
      "[\"<class 'aiohttp.client_exceptions.ClientResponseError'>\"]\n",
      "109 failures occured. Retrying...\n",
      "This operation will take 109 requests. Checkpoints will be created once every 200 requests.\n",
      "#0001 -- 109/109 requests -- 46 failures -- Elapsed: 0:12:48.139055\n",
      "Errors found in chunk:\n",
      "[\"<class 'aiohttp.client_exceptions.ClientResponseError'>\"]\n",
      "46 failures occured. Retrying...\n",
      "This operation will take 46 requests. Checkpoints will be created once every 200 requests.\n",
      "#0001 -- 46/46 requests -- 25 failures -- Elapsed: 0:12:53.912400\n",
      "Errors found in chunk:\n",
      "[\"<class 'aiohttp.client_exceptions.ClientResponseError'>\"]\n",
      "25 failures occured. Retrying...\n",
      "This operation will take 25 requests. Checkpoints will be created once every 200 requests.\n",
      "#0001 -- 25/25 requests -- 7 failures -- Elapsed: 0:12:56.433913\n",
      "Errors found in chunk:\n",
      "[\"<class 'aiohttp.client_exceptions.ClientResponseError'>\"]\n",
      "7 failures occured. Retrying...\n",
      "This operation will take 7 requests. Checkpoints will be created once every 200 requests.\n",
      "#0001 -- 7/7 requests -- 0 failures -- Elapsed: 0:12:57.976036\n"
     ]
    }
   ],
   "source": [
    "name = 'maio/grande_rio_maio.csv'\n",
    "pkl = 'maio/remaining_tasks.pkl'\n",
    "\n",
    "async with CovidRegistry() as reg:\n",
    "    dates = pd.date_range(start='20200501', end='20200531')\n",
    "    await reg.dump(dates, states=['RJ'], cities=grande_rio, file=name, pkl=pkl)"
   ]
  },
  {
   "cell_type": "markdown",
   "metadata": {},
   "source": [
    "Verificando se há duplicatas:"
   ]
  },
  {
   "cell_type": "code",
   "execution_count": 3,
   "metadata": {},
   "outputs": [],
   "source": [
    "df = pd.read_csv(\n",
    "    'maio/grande_rio_maio.csv',\n",
    "    usecols=['Date', 'State', 'City', 'Age', 'Gender', 'Place of Death', 'Cause', '#'],\n",
    "    parse_dates=[1]\n",
    ")"
   ]
  },
  {
   "cell_type": "code",
   "execution_count": 4,
   "metadata": {},
   "outputs": [],
   "source": [
    "df.sort_values(by=['Date', 'State', 'City', 'Age', 'Gender', 'Place of Death', 'Cause'], axis=0, inplace=True)"
   ]
  },
  {
   "cell_type": "code",
   "execution_count": 5,
   "metadata": {},
   "outputs": [],
   "source": [
    "df.to_csv('maio/grande_rio_maio_sorted.csv')"
   ]
  },
  {
   "cell_type": "code",
   "execution_count": 5,
   "metadata": {},
   "outputs": [
    {
     "data": {
      "text/plain": [
       "False    12199\n",
       "dtype: int64"
      ]
     },
     "execution_count": 5,
     "metadata": {},
     "output_type": "execute_result"
    }
   ],
   "source": [
    "df.duplicated(keep=False).value_counts()"
   ]
  },
  {
   "cell_type": "code",
   "execution_count": null,
   "metadata": {},
   "outputs": [],
   "source": []
  }
 ],
 "metadata": {
  "kernelspec": {
   "display_name": "Python 3.7.7 64-bit",
   "language": "python",
   "name": "python37764bitda9ab85a77be4d569586d3660dd51de9"
  },
  "language_info": {
   "codemirror_mode": {
    "name": "ipython",
    "version": 3
   },
   "file_extension": ".py",
   "mimetype": "text/x-python",
   "name": "python",
   "nbconvert_exporter": "python",
   "pygments_lexer": "ipython3",
   "version": "3.7.7"
  }
 },
 "nbformat": 4,
 "nbformat_minor": 4
}
