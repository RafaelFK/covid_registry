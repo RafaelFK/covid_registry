{
 "cells": [
  {
   "cell_type": "code",
   "execution_count": 1,
   "metadata": {},
   "outputs": [],
   "source": [
    "from datetime import date, timedelta\n",
    "import sys\n",
    "sys.path.insert(1, '../../..')\n",
    "from covid_registry import CovidRegistry\n",
    "import pandas as pd"
   ]
  },
  {
   "cell_type": "markdown",
   "metadata": {},
   "source": [
    "# Dados de fevereiro"
   ]
  },
  {
   "cell_type": "code",
   "execution_count": 3,
   "metadata": {},
   "outputs": [],
   "source": [
    "grande_rio = [\n",
    "    'Rio de Janeiro',\n",
    "    'São Gonçalo',\n",
    "    'Duque de Caxias',\n",
    "    'Nova Iguaçu',\n",
    "    'Niteroi',\n",
    "    'Belford Roxo',\n",
    "    'São João de Meriti',\n",
    "    'Mage',\n",
    "    'Itaborai',\n",
    "    'Mesquita',\n",
    "    'Nilópolis',\n",
    "    'Maricá',\n",
    "    'Queimados',\n",
    "    'Itaguai',\n",
    "    'Japeri',\n",
    "    'Seropedica',\n",
    "    'Guapimirim',\n",
    "    'Paracambi',\n",
    "    'Tanguá',\n",
    "]"
   ]
  },
  {
   "cell_type": "code",
   "execution_count": 4,
   "metadata": {},
   "outputs": [
    {
     "name": "stderr",
     "output_type": "stream",
     "text": [
      "Progress: 100%|██████████| 5510/5510 [04:46<00:00, 19.21requests/s, failures=1837]\n",
      "Retrying: 100%|██████████| 1837/1837 [01:23<00:00, 22.08requests/s, failures=596]\n",
      "Retrying: 100%|██████████| 596/596 [00:32<00:00, 18.41requests/s, failures=182]\n",
      "Retrying: 100%|██████████| 182/182 [00:12<00:00, 14.86requests/s, failures=63]\n",
      "Retrying: 100%|██████████| 63/63 [00:03<00:00, 16.81requests/s, failures=21]\n",
      "Retrying: 100%|██████████| 21/21 [00:05<00:00,  3.87requests/s, failures=0]"
     ]
    },
    {
     "name": "stdout",
     "output_type": "stream",
     "text": [
      "Total elapsed time: 0:07:03.919486\n"
     ]
    },
    {
     "name": "stderr",
     "output_type": "stream",
     "text": [
      "\n"
     ]
    }
   ],
   "source": [
    "name = '../../../data/grande_rio/grande_rio_fevereiro.csv'\n",
    "pkl = 'remaining_tasks_fevereiro.pkl'\n",
    "\n",
    "async with CovidRegistry() as reg:\n",
    "    dates = pd.date_range(start='20200201', end='20200229')\n",
    "    await reg.dump(dates, states=['RJ'], cities=grande_rio, include_cardiac=True, file=name, pkl=pkl, checkpoint_once_in=500)"
   ]
  }
 ],
 "metadata": {
  "kernelspec": {
   "display_name": "Python 3.7.7 64-bit",
   "language": "python",
   "name": "python37764bitda9ab85a77be4d569586d3660dd51de9"
  },
  "language_info": {
   "codemirror_mode": {
    "name": "ipython",
    "version": 3
   },
   "file_extension": ".py",
   "mimetype": "text/x-python",
   "name": "python",
   "nbconvert_exporter": "python",
   "pygments_lexer": "ipython3",
   "version": "3.7.7"
  }
 },
 "nbformat": 4,
 "nbformat_minor": 4
}
