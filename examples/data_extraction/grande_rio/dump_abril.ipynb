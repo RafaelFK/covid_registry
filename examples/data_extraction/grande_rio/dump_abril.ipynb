{
 "cells": [
  {
   "cell_type": "code",
   "execution_count": 1,
   "metadata": {},
   "outputs": [],
   "source": [
    "from datetime import date, timedelta\n",
    "import sys\n",
    "sys.path.insert(1, '../../..')\n",
    "from covid_registry import CovidRegistry\n",
    "import pandas as pd"
   ]
  },
  {
   "cell_type": "markdown",
   "metadata": {},
   "source": [
    "# Dados de abril"
   ]
  },
  {
   "cell_type": "code",
   "execution_count": 2,
   "metadata": {},
   "outputs": [],
   "source": [
    "grande_rio = [\n",
    "    'Rio de Janeiro',\n",
    "    'São Gonçalo',\n",
    "    'Duque de Caxias',\n",
    "    'Nova Iguaçu',\n",
    "    'Niteroi',\n",
    "    'Belford Roxo',\n",
    "    'São João de Meriti',\n",
    "    'Mage',\n",
    "    'Itaborai',\n",
    "    'Mesquita',\n",
    "    'Nilópolis',\n",
    "    'Maricá',\n",
    "    'Queimados',\n",
    "    'Itaguai',\n",
    "    'Japeri',\n",
    "    'Seropedica',\n",
    "    'Guapimirim',\n",
    "    'Paracambi',\n",
    "    'Tanguá',\n",
    "]"
   ]
  },
  {
   "cell_type": "code",
   "execution_count": 3,
   "metadata": {},
   "outputs": [
    {
     "name": "stderr",
     "output_type": "stream",
     "text": [
      "Progress: 100%|██████████| 5700/5700 [08:45<00:00, 10.85requests/s, failures=1595]\n",
      "Retrying: 100%|██████████| 1595/1595 [02:04<00:00, 12.85requests/s, failures=534]\n",
      "Retrying: 100%|██████████| 534/534 [00:37<00:00, 14.32requests/s, failures=181]\n",
      "Retrying: 100%|██████████| 181/181 [00:15<00:00, 11.79requests/s, failures=41]\n",
      "Retrying: 100%|██████████| 41/41 [00:02<00:00, 14.83requests/s, failures=3]\n",
      "Retrying: 100%|██████████| 3/3 [00:00<00:00,  3.97requests/s, failures=0]"
     ]
    },
    {
     "name": "stdout",
     "output_type": "stream",
     "text": [
      "Total elapsed time: 0:11:45.895910\n"
     ]
    },
    {
     "name": "stderr",
     "output_type": "stream",
     "text": [
      "\n"
     ]
    }
   ],
   "source": [
    "name = '../../../data/grande_rio/grande_rio_abril.csv'\n",
    "pkl = 'remaining_tasks_abril.pkl'\n",
    "\n",
    "async with CovidRegistry() as reg:\n",
    "    dates = pd.date_range(start='20200401', end='20200430')\n",
    "    await reg.dump(dates, states=['RJ'], cities=grande_rio, include_cardiac=True, file=name, pkl=pkl, checkpoint_once_in=100)"
   ]
  }
 ],
 "metadata": {
  "kernelspec": {
   "display_name": "Python 3.7.7 64-bit",
   "language": "python",
   "name": "python37764bitda9ab85a77be4d569586d3660dd51de9"
  },
  "language_info": {
   "codemirror_mode": {
    "name": "ipython",
    "version": 3
   },
   "file_extension": ".py",
   "mimetype": "text/x-python",
   "name": "python",
   "nbconvert_exporter": "python",
   "pygments_lexer": "ipython3",
   "version": "3.7.7"
  }
 },
 "nbformat": 4,
 "nbformat_minor": 4
}
