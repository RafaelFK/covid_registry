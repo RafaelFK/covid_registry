{
 "cells": [
  {
   "cell_type": "code",
   "execution_count": 1,
   "metadata": {},
   "outputs": [],
   "source": [
    "from pathlib import Path\n",
    "import pandas as pd"
   ]
  },
  {
   "cell_type": "markdown",
   "metadata": {},
   "source": [
    "# Juntando tudo"
   ]
  },
  {
   "cell_type": "code",
   "execution_count": 2,
   "metadata": {},
   "outputs": [],
   "source": [
    "from pathlib import Path\n",
    "\n",
    "p = Path('../../../data/grande_rio')\n",
    "\n",
    "# Obtendo lista de tabelas\n",
    "csvs = list(p.glob('**/*.csv'))\n",
    "\n",
    "# Carregando tabelas como dataframes\n",
    "dfs = [\n",
    "    pd.read_csv(\n",
    "        csv,\n",
    "        usecols=['Date', 'State', 'City', 'Age', 'Gender', 'Place of Death', 'Cause', '#'],\n",
    "        parse_dates=[1]\n",
    "    )\n",
    "    for csv in csvs\n",
    "]\n",
    "\n",
    "# Concatenando dfs\n",
    "capitais_df = pd.concat(dfs)\n",
    "\n",
    "# Ordenando df\n",
    "capitais_df.sort_values(by=['Date', 'State', 'City', 'Age', 'Gender', 'Place of Death', 'Cause'], axis=0, inplace=True)\n",
    "\n",
    "# Salvando\n",
    "capitais_df.to_csv('../../../data/grande_rio/obitos_covid_grande_rio.csv', index=False)"
   ]
  }
 ],
 "metadata": {
  "kernelspec": {
   "display_name": "Python 3.7.7 64-bit",
   "language": "python",
   "name": "python37764bitda9ab85a77be4d569586d3660dd51de9"
  },
  "language_info": {
   "codemirror_mode": {
    "name": "ipython",
    "version": 3
   },
   "file_extension": ".py",
   "mimetype": "text/x-python",
   "name": "python",
   "nbconvert_exporter": "python",
   "pygments_lexer": "ipython3",
   "version": "3.7.7"
  }
 },
 "nbformat": 4,
 "nbformat_minor": 4
}
