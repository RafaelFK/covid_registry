{
 "cells": [
  {
   "cell_type": "code",
   "execution_count": 2,
   "metadata": {},
   "outputs": [],
   "source": [
    "from datetime import date, timedelta\n",
    "import sys\n",
    "sys.path.insert(1, '../../..')\n",
    "from covid_registry import CovidRegistry\n",
    "import pandas as pd"
   ]
  },
  {
   "cell_type": "markdown",
   "metadata": {},
   "source": [
    "# Dados de Janeiro"
   ]
  },
  {
   "cell_type": "code",
   "execution_count": 3,
   "metadata": {},
   "outputs": [],
   "source": [
    "grande_rio = [\n",
    "    'Rio de Janeiro',\n",
    "    'São Gonçalo',\n",
    "    'Duque de Caxias',\n",
    "    'Nova Iguaçu',\n",
    "    'Niteroi',\n",
    "    'Belford Roxo',\n",
    "    'São João de Meriti',\n",
    "    'Mage',\n",
    "    'Itaborai',\n",
    "    'Mesquita',\n",
    "    'Nilópolis',\n",
    "    'Maricá',\n",
    "    'Queimados',\n",
    "    'Itaguai',\n",
    "    'Japeri',\n",
    "    'Seropedica',\n",
    "    'Guapimirim',\n",
    "    'Paracambi',\n",
    "    'Tanguá',\n",
    "]"
   ]
  },
  {
   "cell_type": "markdown",
   "metadata": {},
   "source": [
    "Vamos tomar os dados mês a mês, começando com janeiro:"
   ]
  },
  {
   "cell_type": "code",
   "execution_count": 4,
   "metadata": {},
   "outputs": [
    {
     "name": "stderr",
     "output_type": "stream",
     "text": [
      "Progress: 100%|██████████| 5890/5890 [11:34<00:00,  8.48requests/s, failures=1435]\n",
      "Retrying: 100%|██████████| 1435/1435 [02:07<00:00, 11.29requests/s, failures=386]\n",
      "Retrying: 100%|██████████| 386/386 [00:40<00:00,  9.53requests/s, failures=82]\n",
      "Retrying: 100%|██████████| 82/82 [00:13<00:00,  5.91requests/s, failures=16]\n",
      "Retrying: 100%|██████████| 16/16 [00:07<00:00,  2.21requests/s, failures=0]"
     ]
    },
    {
     "name": "stdout",
     "output_type": "stream",
     "text": [
      "Total elapsed time: 0:14:43.537864\n"
     ]
    },
    {
     "name": "stderr",
     "output_type": "stream",
     "text": [
      "\n"
     ]
    }
   ],
   "source": [
    "name = '../../../data/grande_rio/grande_rio_janeiro.csv'\n",
    "pkl = 'remaining_tasks.pkl'\n",
    "\n",
    "async with CovidRegistry() as reg:\n",
    "    dates = pd.date_range(start='20200101', end='20200131')\n",
    "    await reg.dump(dates, states=['RJ'], cities=grande_rio, include_cardiac=True, file=name, pkl=pkl, checkpoint_once_in=50)"
   ]
  }
 ],
 "metadata": {
  "kernelspec": {
   "display_name": "Python 3.7.7 64-bit",
   "language": "python",
   "name": "python37764bitda9ab85a77be4d569586d3660dd51de9"
  },
  "language_info": {
   "codemirror_mode": {
    "name": "ipython",
    "version": 3
   },
   "file_extension": ".py",
   "mimetype": "text/x-python",
   "name": "python",
   "nbconvert_exporter": "python",
   "pygments_lexer": "ipython3",
   "version": "3.7.7"
  }
 },
 "nbformat": 4,
 "nbformat_minor": 4
}
