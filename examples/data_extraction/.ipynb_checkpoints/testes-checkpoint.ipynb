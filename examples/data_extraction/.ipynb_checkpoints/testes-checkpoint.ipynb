{
 "cells": [
  {
   "cell_type": "code",
   "execution_count": 1,
   "metadata": {},
   "outputs": [],
   "source": [
    "from datetime import date, timedelta\n",
    "from covid_registry import CovidRegistry\n",
    "import pandas as pd"
   ]
  },
  {
   "cell_type": "code",
   "execution_count": 2,
   "metadata": {
    "jupyter": {
     "source_hidden": true
    }
   },
   "outputs": [],
   "source": [
    "grande_rio = [\n",
    "    'Rio de Janeiro',\n",
    "    'São Gonçalo',\n",
    "    'Duque de Caxias',\n",
    "    'Nova Iguaçu',\n",
    "    'Niteroi',\n",
    "    'Belford Roxo',\n",
    "    'São João de Meriti',\n",
    "    'Mage',\n",
    "    'Itaborai',\n",
    "    'Mesquita',\n",
    "    'Nilópolis',\n",
    "    'Maricá',\n",
    "    'Queimados',\n",
    "    'Itaguai',\n",
    "    'Japeri',\n",
    "    'Seropedica',\n",
    "    'Guapimirim',\n",
    "    'Paracambi',\n",
    "    'Tanguá',\n",
    "]"
   ]
  },
  {
   "cell_type": "markdown",
   "metadata": {},
   "source": [
    "# Testes"
   ]
  },
  {
   "cell_type": "markdown",
   "metadata": {},
   "source": [
    "As tabelas produzidas até agora apresentam problemas, com um número massivo de pontos repetidos e possivelmente pontos faltantes. Preciso determinar qual a origem do problema."
   ]
  },
  {
   "cell_type": "markdown",
   "metadata": {},
   "source": [
    "## Sob quais condições os erros aparecem?"
   ]
  },
  {
   "cell_type": "markdown",
   "metadata": {},
   "source": [
    "Os erros foram observados nos dados extraídos para o mês de janeiro relativos aos municípios da região metropolitana do Rio de Janeiro para ambos os gêneros e todos os locais de óbito. Esses parâmetros tem algum impacto na ocorrêcia do erro?"
   ]
  },
  {
   "cell_type": "markdown",
   "metadata": {},
   "source": [
    "Se realizar a consulta para apenas um dia, observo o erro?"
   ]
  },
  {
   "cell_type": "code",
   "execution_count": 3,
   "metadata": {},
   "outputs": [
    {
     "name": "stdout",
     "output_type": "stream",
     "text": [
      "This operation will take 190 requests. Checkpoints will be created once every 200 requests.\n",
      "#0001 -- 190/190 requests -- 0 failures -- Elapsed: 0:00:16.245275\n",
      "91 failures occured. Retrying...\n",
      "This operation will take 91 requests. Checkpoints will be created once every 200 requests.\n",
      "#0001 -- 91/91 requests -- 0 failures -- Elapsed: 0:00:21.633485\n",
      "56 failures occured. Retrying...\n",
      "This operation will take 56 requests. Checkpoints will be created once every 200 requests.\n",
      "#0001 -- 56/56 requests -- 0 failures -- Elapsed: 0:00:25.536107\n",
      "22 failures occured. Retrying...\n",
      "This operation will take 22 requests. Checkpoints will be created once every 200 requests.\n",
      "#0001 -- 22/22 requests -- 0 failures -- Elapsed: 0:00:27.116842\n",
      "1 failures occured. Retrying...\n",
      "This operation will take 1 requests. Checkpoints will be created once every 200 requests.\n",
      "#0001 -- 1/1 requests -- 0 failures -- Elapsed: 0:00:27.488191\n"
     ]
    }
   ],
   "source": [
    "name = 'tests/single_day/grande_rio.csv'\n",
    "pkl = 'tests/single_day/remaining_tasks.pkl'\n",
    "\n",
    "async with CovidRegistry() as reg:\n",
    "    dates = pd.date_range(start='20200101', end='20200101')\n",
    "    await reg.dump(dates, states=['RJ'], cities=grande_rio, file=name, pkl=pkl)"
   ]
  },
  {
   "cell_type": "markdown",
   "metadata": {},
   "source": [
    "Vamos, agora, validar o resultado. Alguns pontos para ter em mente: Apesar do número de requisições iniciais ser maior do que o tamanho do 'chunk', o fato de requisições mal sucedidas terem ocorrido, forçou a operação a se dar em 5 blocos, cada qual resultou em um dataframe que foi anexado ao arquivo final."
   ]
  },
  {
   "cell_type": "code",
   "execution_count": null,
   "metadata": {},
   "outputs": [],
   "source": []
  }
 ],
 "metadata": {
  "kernelspec": {
   "display_name": "Python 3",
   "language": "python",
   "name": "python3"
  },
  "language_info": {
   "codemirror_mode": {
    "name": "ipython",
    "version": 3
   },
   "file_extension": ".py",
   "mimetype": "text/x-python",
   "name": "python",
   "nbconvert_exporter": "python",
   "pygments_lexer": "ipython3",
   "version": "3.7.7"
  }
 },
 "nbformat": 4,
 "nbformat_minor": 4
}
