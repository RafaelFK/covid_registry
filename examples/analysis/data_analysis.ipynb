{
 "cells": [
  {
   "cell_type": "code",
   "execution_count": 1,
   "metadata": {},
   "outputs": [],
   "source": [
    "from pathlib import Path\n",
    "import pandas as pd\n",
    "import matplotlib.pyplot as plt\n",
    "from  matplotlib.dates import AutoDateLocator, AutoDateFormatter\n",
    "import matplotlib.ticker as ticker"
   ]
  },
  {
   "cell_type": "markdown",
   "metadata": {},
   "source": [
    "# Analisando os dados de Óbitos no Rio de Janeiro"
   ]
  },
  {
   "cell_type": "markdown",
   "metadata": {},
   "source": [
    "Vamos exemplificar algumas consultas e visualizações dos dados de óbitos da região metropolitana do Rio de Janeiro. Esses dados estão divididos em tabelas referentes aos meses de janeiro à maio. Precisaremos primeiro importá-los e, em seguida, poderemos fazer vários tipos de consulta sobre eles:"
   ]
  },
  {
   "cell_type": "markdown",
   "metadata": {},
   "source": [
    "## 1. Importação e preparação dos dados"
   ]
  },
  {
   "cell_type": "markdown",
   "metadata": {},
   "source": [
    "Primeiro, criamos uma lista com os caminhos dos arquivos que precisamos:"
   ]
  },
  {
   "cell_type": "code",
   "execution_count": 2,
   "metadata": {},
   "outputs": [
    {
     "data": {
      "text/plain": [
       "[PosixPath('../../data/grande_rio/grande_rio_janeiro.csv'),\n",
       " PosixPath('../../data/grande_rio/grande_rio_junho.csv'),\n",
       " PosixPath('../../data/grande_rio/grande_rio_maio.csv'),\n",
       " PosixPath('../../data/grande_rio/grande_rio_marco.csv'),\n",
       " PosixPath('../../data/grande_rio/grande_rio_fevereiro.csv'),\n",
       " PosixPath('../../data/grande_rio/grande_rio_abril.csv'),\n",
       " PosixPath('../../data/grande_rio/obitos_covid_grande_rio.csv')]"
      ]
     },
     "execution_count": 2,
     "metadata": {},
     "output_type": "execute_result"
    }
   ],
   "source": [
    "p = Path('../../data/grande_rio')\n",
    "paths = list(p.glob('*.csv'))\n",
    "paths"
   ]
  },
  {
   "cell_type": "markdown",
   "metadata": {},
   "source": [
    "São apenas os seis primeiros da lista. Excuímos o último:"
   ]
  },
  {
   "cell_type": "code",
   "execution_count": 3,
   "metadata": {},
   "outputs": [
    {
     "data": {
      "text/plain": [
       "[PosixPath('../../data/grande_rio/grande_rio_janeiro.csv'),\n",
       " PosixPath('../../data/grande_rio/grande_rio_junho.csv'),\n",
       " PosixPath('../../data/grande_rio/grande_rio_maio.csv'),\n",
       " PosixPath('../../data/grande_rio/grande_rio_marco.csv'),\n",
       " PosixPath('../../data/grande_rio/grande_rio_fevereiro.csv'),\n",
       " PosixPath('../../data/grande_rio/grande_rio_abril.csv')]"
      ]
     },
     "execution_count": 3,
     "metadata": {},
     "output_type": "execute_result"
    }
   ],
   "source": [
    "paths = paths[:-1]\n",
    "paths"
   ]
  },
  {
   "cell_type": "markdown",
   "metadata": {},
   "source": [
    "Agora, importamos cada um deles como um Data Frame independente:"
   ]
  },
  {
   "cell_type": "code",
   "execution_count": 4,
   "metadata": {},
   "outputs": [],
   "source": [
    "dataframes = [\n",
    "    pd.read_csv(\n",
    "        path,\n",
    "        usecols=['Date', 'State', 'City', 'Age', 'Gender', 'Place of Death', 'Cause' ,'#',],\n",
    "        parse_dates=[0],\n",
    "        index_col=0\n",
    "    )\n",
    "    for path in paths\n",
    "]"
   ]
  },
  {
   "cell_type": "markdown",
   "metadata": {},
   "source": [
    "Vamos verificar as cinco primeiras linhas do primeiro Data Frame para ver se está tudo certo:"
   ]
  },
  {
   "cell_type": "code",
   "execution_count": 5,
   "metadata": {},
   "outputs": [
    {
     "data": {
      "text/html": [
       "<div>\n",
       "<style scoped>\n",
       "    .dataframe tbody tr th:only-of-type {\n",
       "        vertical-align: middle;\n",
       "    }\n",
       "\n",
       "    .dataframe tbody tr th {\n",
       "        vertical-align: top;\n",
       "    }\n",
       "\n",
       "    .dataframe thead th {\n",
       "        text-align: right;\n",
       "    }\n",
       "</style>\n",
       "<table border=\"1\" class=\"dataframe\">\n",
       "  <thead>\n",
       "    <tr style=\"text-align: right;\">\n",
       "      <th></th>\n",
       "      <th>State</th>\n",
       "      <th>City</th>\n",
       "      <th>Age</th>\n",
       "      <th>Gender</th>\n",
       "      <th>Place of Death</th>\n",
       "      <th>Cause</th>\n",
       "      <th>#</th>\n",
       "    </tr>\n",
       "    <tr>\n",
       "      <th>Date</th>\n",
       "      <th></th>\n",
       "      <th></th>\n",
       "      <th></th>\n",
       "      <th></th>\n",
       "      <th></th>\n",
       "      <th></th>\n",
       "      <th></th>\n",
       "    </tr>\n",
       "  </thead>\n",
       "  <tbody>\n",
       "    <tr>\n",
       "      <th>2019-01-01</th>\n",
       "      <td>RJ</td>\n",
       "      <td>Rio de Janeiro</td>\n",
       "      <td>&lt; 9</td>\n",
       "      <td>M</td>\n",
       "      <td>HOSPITAL</td>\n",
       "      <td>OUTRAS</td>\n",
       "      <td>1</td>\n",
       "    </tr>\n",
       "    <tr>\n",
       "      <th>2019-01-01</th>\n",
       "      <td>RJ</td>\n",
       "      <td>Rio de Janeiro</td>\n",
       "      <td>&lt; 9</td>\n",
       "      <td>M</td>\n",
       "      <td>HOSPITAL</td>\n",
       "      <td>PNEUMONIA</td>\n",
       "      <td>1</td>\n",
       "    </tr>\n",
       "    <tr>\n",
       "      <th>2020-01-01</th>\n",
       "      <td>RJ</td>\n",
       "      <td>Rio de Janeiro</td>\n",
       "      <td>&lt; 9</td>\n",
       "      <td>M</td>\n",
       "      <td>HOSPITAL</td>\n",
       "      <td>CHOQUE_CARD</td>\n",
       "      <td>1</td>\n",
       "    </tr>\n",
       "    <tr>\n",
       "      <th>2020-01-01</th>\n",
       "      <td>RJ</td>\n",
       "      <td>Rio de Janeiro</td>\n",
       "      <td>&lt; 9</td>\n",
       "      <td>M</td>\n",
       "      <td>HOSPITAL</td>\n",
       "      <td>SEPTICEMIA</td>\n",
       "      <td>1</td>\n",
       "    </tr>\n",
       "    <tr>\n",
       "      <th>2019-01-01</th>\n",
       "      <td>RJ</td>\n",
       "      <td>Rio de Janeiro</td>\n",
       "      <td>20 - 29</td>\n",
       "      <td>M</td>\n",
       "      <td>HOSPITAL</td>\n",
       "      <td>OUTRAS</td>\n",
       "      <td>1</td>\n",
       "    </tr>\n",
       "  </tbody>\n",
       "</table>\n",
       "</div>"
      ],
      "text/plain": [
       "           State            City      Age Gender Place of Death        Cause  \\\n",
       "Date                                                                           \n",
       "2019-01-01    RJ  Rio de Janeiro      < 9      M       HOSPITAL       OUTRAS   \n",
       "2019-01-01    RJ  Rio de Janeiro      < 9      M       HOSPITAL    PNEUMONIA   \n",
       "2020-01-01    RJ  Rio de Janeiro      < 9      M       HOSPITAL  CHOQUE_CARD   \n",
       "2020-01-01    RJ  Rio de Janeiro      < 9      M       HOSPITAL   SEPTICEMIA   \n",
       "2019-01-01    RJ  Rio de Janeiro  20 - 29      M       HOSPITAL       OUTRAS   \n",
       "\n",
       "            #  \n",
       "Date           \n",
       "2019-01-01  1  \n",
       "2019-01-01  1  \n",
       "2020-01-01  1  \n",
       "2020-01-01  1  \n",
       "2019-01-01  1  "
      ]
     },
     "execution_count": 5,
     "metadata": {},
     "output_type": "execute_result"
    }
   ],
   "source": [
    "dataframes[0].head()"
   ]
  },
  {
   "cell_type": "markdown",
   "metadata": {},
   "source": [
    "Como vamos querer analisar os dados como um todo, vamos juntar todos esses Data Frames em um só e ordená-lo:"
   ]
  },
  {
   "cell_type": "code",
   "execution_count": 6,
   "metadata": {},
   "outputs": [],
   "source": [
    "# Concatenando data frames\n",
    "obitos_df = pd.concat(dataframes)\n",
    "\n",
    "# Ordenando o data frame\n",
    "obitos_df.sort_values(by=['Date', 'State', 'City', 'Age', 'Gender', 'Place of Death', 'Cause'], axis=0, inplace=True)"
   ]
  },
  {
   "cell_type": "code",
   "execution_count": 7,
   "metadata": {},
   "outputs": [
    {
     "data": {
      "text/html": [
       "<div>\n",
       "<style scoped>\n",
       "    .dataframe tbody tr th:only-of-type {\n",
       "        vertical-align: middle;\n",
       "    }\n",
       "\n",
       "    .dataframe tbody tr th {\n",
       "        vertical-align: top;\n",
       "    }\n",
       "\n",
       "    .dataframe thead th {\n",
       "        text-align: right;\n",
       "    }\n",
       "</style>\n",
       "<table border=\"1\" class=\"dataframe\">\n",
       "  <thead>\n",
       "    <tr style=\"text-align: right;\">\n",
       "      <th></th>\n",
       "      <th>State</th>\n",
       "      <th>City</th>\n",
       "      <th>Age</th>\n",
       "      <th>Gender</th>\n",
       "      <th>Place of Death</th>\n",
       "      <th>Cause</th>\n",
       "      <th>#</th>\n",
       "    </tr>\n",
       "    <tr>\n",
       "      <th>Date</th>\n",
       "      <th></th>\n",
       "      <th></th>\n",
       "      <th></th>\n",
       "      <th></th>\n",
       "      <th></th>\n",
       "      <th></th>\n",
       "      <th></th>\n",
       "    </tr>\n",
       "  </thead>\n",
       "  <tbody>\n",
       "    <tr>\n",
       "      <th>2019-01-01</th>\n",
       "      <td>RJ</td>\n",
       "      <td>Belford Roxo</td>\n",
       "      <td>30 - 39</td>\n",
       "      <td>F</td>\n",
       "      <td>HOSPITAL</td>\n",
       "      <td>INSUFICIENCIA_RESPIRATORIA</td>\n",
       "      <td>1</td>\n",
       "    </tr>\n",
       "    <tr>\n",
       "      <th>2019-01-01</th>\n",
       "      <td>RJ</td>\n",
       "      <td>Belford Roxo</td>\n",
       "      <td>60 - 69</td>\n",
       "      <td>M</td>\n",
       "      <td>HOSPITAL</td>\n",
       "      <td>SEPTICEMIA</td>\n",
       "      <td>1</td>\n",
       "    </tr>\n",
       "    <tr>\n",
       "      <th>2019-01-01</th>\n",
       "      <td>RJ</td>\n",
       "      <td>Belford Roxo</td>\n",
       "      <td>80 - 89</td>\n",
       "      <td>F</td>\n",
       "      <td>HOSPITAL</td>\n",
       "      <td>OUTRAS</td>\n",
       "      <td>1</td>\n",
       "    </tr>\n",
       "    <tr>\n",
       "      <th>2019-01-01</th>\n",
       "      <td>RJ</td>\n",
       "      <td>Belford Roxo</td>\n",
       "      <td>90 - 99</td>\n",
       "      <td>F</td>\n",
       "      <td>DOMICILIO</td>\n",
       "      <td>INFARTO</td>\n",
       "      <td>1</td>\n",
       "    </tr>\n",
       "    <tr>\n",
       "      <th>2019-01-01</th>\n",
       "      <td>RJ</td>\n",
       "      <td>Duque de Caxias</td>\n",
       "      <td>20 - 29</td>\n",
       "      <td>M</td>\n",
       "      <td>VIA_PUBLICA</td>\n",
       "      <td>OUTRAS</td>\n",
       "      <td>1</td>\n",
       "    </tr>\n",
       "  </tbody>\n",
       "</table>\n",
       "</div>"
      ],
      "text/plain": [
       "           State             City      Age Gender Place of Death  \\\n",
       "Date                                                               \n",
       "2019-01-01    RJ     Belford Roxo  30 - 39      F       HOSPITAL   \n",
       "2019-01-01    RJ     Belford Roxo  60 - 69      M       HOSPITAL   \n",
       "2019-01-01    RJ     Belford Roxo  80 - 89      F       HOSPITAL   \n",
       "2019-01-01    RJ     Belford Roxo  90 - 99      F      DOMICILIO   \n",
       "2019-01-01    RJ  Duque de Caxias  20 - 29      M    VIA_PUBLICA   \n",
       "\n",
       "                                 Cause  #  \n",
       "Date                                       \n",
       "2019-01-01  INSUFICIENCIA_RESPIRATORIA  1  \n",
       "2019-01-01                  SEPTICEMIA  1  \n",
       "2019-01-01                      OUTRAS  1  \n",
       "2019-01-01                     INFARTO  1  \n",
       "2019-01-01                      OUTRAS  1  "
      ]
     },
     "execution_count": 7,
     "metadata": {},
     "output_type": "execute_result"
    }
   ],
   "source": [
    "obitos_df.head()"
   ]
  },
  {
   "cell_type": "code",
   "execution_count": 8,
   "metadata": {},
   "outputs": [
    {
     "data": {
      "text/html": [
       "<div>\n",
       "<style scoped>\n",
       "    .dataframe tbody tr th:only-of-type {\n",
       "        vertical-align: middle;\n",
       "    }\n",
       "\n",
       "    .dataframe tbody tr th {\n",
       "        vertical-align: top;\n",
       "    }\n",
       "\n",
       "    .dataframe thead th {\n",
       "        text-align: right;\n",
       "    }\n",
       "</style>\n",
       "<table border=\"1\" class=\"dataframe\">\n",
       "  <thead>\n",
       "    <tr style=\"text-align: right;\">\n",
       "      <th></th>\n",
       "      <th>State</th>\n",
       "      <th>City</th>\n",
       "      <th>Age</th>\n",
       "      <th>Gender</th>\n",
       "      <th>Place of Death</th>\n",
       "      <th>Cause</th>\n",
       "      <th>#</th>\n",
       "    </tr>\n",
       "    <tr>\n",
       "      <th>Date</th>\n",
       "      <th></th>\n",
       "      <th></th>\n",
       "      <th></th>\n",
       "      <th></th>\n",
       "      <th></th>\n",
       "      <th></th>\n",
       "      <th></th>\n",
       "    </tr>\n",
       "  </thead>\n",
       "  <tbody>\n",
       "    <tr>\n",
       "      <th>2020-06-29</th>\n",
       "      <td>RJ</td>\n",
       "      <td>São Gonçalo</td>\n",
       "      <td>70 - 79</td>\n",
       "      <td>F</td>\n",
       "      <td>HOSPITAL</td>\n",
       "      <td>PNEUMONIA</td>\n",
       "      <td>1</td>\n",
       "    </tr>\n",
       "    <tr>\n",
       "      <th>2020-06-29</th>\n",
       "      <td>RJ</td>\n",
       "      <td>São Gonçalo</td>\n",
       "      <td>70 - 79</td>\n",
       "      <td>M</td>\n",
       "      <td>HOSPITAL</td>\n",
       "      <td>PNEUMONIA</td>\n",
       "      <td>1</td>\n",
       "    </tr>\n",
       "    <tr>\n",
       "      <th>2020-06-29</th>\n",
       "      <td>RJ</td>\n",
       "      <td>São Gonçalo</td>\n",
       "      <td>&lt; 9</td>\n",
       "      <td>M</td>\n",
       "      <td>HOSPITAL</td>\n",
       "      <td>INSUFICIENCIA_RESPIRATORIA</td>\n",
       "      <td>1</td>\n",
       "    </tr>\n",
       "    <tr>\n",
       "      <th>2020-06-29</th>\n",
       "      <td>RJ</td>\n",
       "      <td>São João de Meriti</td>\n",
       "      <td>70 - 79</td>\n",
       "      <td>M</td>\n",
       "      <td>HOSPITAL</td>\n",
       "      <td>OUTRAS</td>\n",
       "      <td>1</td>\n",
       "    </tr>\n",
       "    <tr>\n",
       "      <th>2020-06-29</th>\n",
       "      <td>RJ</td>\n",
       "      <td>São João de Meriti</td>\n",
       "      <td>90 - 99</td>\n",
       "      <td>M</td>\n",
       "      <td>HOSPITAL</td>\n",
       "      <td>PNEUMONIA</td>\n",
       "      <td>1</td>\n",
       "    </tr>\n",
       "  </tbody>\n",
       "</table>\n",
       "</div>"
      ],
      "text/plain": [
       "           State                City      Age Gender Place of Death  \\\n",
       "Date                                                                  \n",
       "2020-06-29    RJ         São Gonçalo  70 - 79      F       HOSPITAL   \n",
       "2020-06-29    RJ         São Gonçalo  70 - 79      M       HOSPITAL   \n",
       "2020-06-29    RJ         São Gonçalo      < 9      M       HOSPITAL   \n",
       "2020-06-29    RJ  São João de Meriti  70 - 79      M       HOSPITAL   \n",
       "2020-06-29    RJ  São João de Meriti  90 - 99      M       HOSPITAL   \n",
       "\n",
       "                                 Cause  #  \n",
       "Date                                       \n",
       "2020-06-29                   PNEUMONIA  1  \n",
       "2020-06-29                   PNEUMONIA  1  \n",
       "2020-06-29  INSUFICIENCIA_RESPIRATORIA  1  \n",
       "2020-06-29                      OUTRAS  1  \n",
       "2020-06-29                   PNEUMONIA  1  "
      ]
     },
     "execution_count": 8,
     "metadata": {},
     "output_type": "execute_result"
    }
   ],
   "source": [
    "obitos_df.tail()"
   ]
  },
  {
   "cell_type": "markdown",
   "metadata": {},
   "source": [
    "## 2. Análise de Dados"
   ]
  },
  {
   "cell_type": "markdown",
   "metadata": {},
   "source": [
    "Tendo todos os nossos dados de interesse em uma estrutura conveniente como um data frame, podemos realizar uma uma ampla gama de sumarizações e visualizações, usando as funcionalidades providas pelas bibliotecas ```pandas``` e ```matplotlib```. É interessante notar que, apesar de termos de usar comandos diferentes para produzir cada visualização, a lógica subjacente é sempre a mesma e recebe o nome de [Split-Apply-Combine Strategy](http://vita.had.co.nz/papers/plyr.pdf)."
   ]
  },
  {
   "cell_type": "markdown",
   "metadata": {},
   "source": [
    "### 2.1 Comparando óbitos entre 2019 e 2020"
   ]
  },
  {
   "cell_type": "markdown",
   "metadata": {},
   "source": [
    "Uma primeira pergunta básica que podemos fazer é: qual o total de óbitos registrados?"
   ]
  },
  {
   "cell_type": "code",
   "execution_count": 9,
   "metadata": {},
   "outputs": [
    {
     "data": {
      "text/html": [
       "<div>\n",
       "<style scoped>\n",
       "    .dataframe tbody tr th:only-of-type {\n",
       "        vertical-align: middle;\n",
       "    }\n",
       "\n",
       "    .dataframe tbody tr th {\n",
       "        vertical-align: top;\n",
       "    }\n",
       "\n",
       "    .dataframe thead th {\n",
       "        text-align: right;\n",
       "    }\n",
       "</style>\n",
       "<table border=\"1\" class=\"dataframe\">\n",
       "  <thead>\n",
       "    <tr style=\"text-align: right;\">\n",
       "      <th></th>\n",
       "      <th>#</th>\n",
       "    </tr>\n",
       "    <tr>\n",
       "      <th>Date</th>\n",
       "      <th></th>\n",
       "    </tr>\n",
       "  </thead>\n",
       "  <tbody>\n",
       "    <tr>\n",
       "      <th>2019</th>\n",
       "      <td>48852</td>\n",
       "    </tr>\n",
       "    <tr>\n",
       "      <th>2020</th>\n",
       "      <td>57083</td>\n",
       "    </tr>\n",
       "  </tbody>\n",
       "</table>\n",
       "</div>"
      ],
      "text/plain": [
       "          #\n",
       "Date       \n",
       "2019  48852\n",
       "2020  57083"
      ]
     },
     "execution_count": 9,
     "metadata": {},
     "output_type": "execute_result"
    }
   ],
   "source": [
    "obitos_by_year = obitos_df.groupby([obitos_df.index.year]).sum()\n",
    "obitos_by_year"
   ]
  },
  {
   "cell_type": "markdown",
   "metadata": {},
   "source": [
    "O que fizemos aqui foi agrupar os óbitos registrados por seus respectivos anos e, em seguida, somar os óbitos em seus grupos. "
   ]
  },
  {
   "cell_type": "markdown",
   "metadata": {},
   "source": [
    "É fácil agora plotar esse resultado:"
   ]
  },
  {
   "cell_type": "code",
   "execution_count": 10,
   "metadata": {},
   "outputs": [
    {
     "data": {
      "image/png": "[encoded data removed]",
      "text/plain": [
       "<Figure size 432x288 with 1 Axes>"
      ]
     },
     "metadata": {
      "needs_background": "light"
     },
     "output_type": "display_data"
    }
   ],
   "source": [
    "obitos_by_year.plot.bar(rot=0);"
   ]
  },
  {
   "cell_type": "markdown",
   "metadata": {},
   "source": [
    "Poderíamos ter também plotado a transposta desse data frame, que produz um resultado mais bonito:"
   ]
  },
  {
   "cell_type": "code",
   "execution_count": 11,
   "metadata": {},
   "outputs": [
    {
     "data": {
      "image/png": "[encoded data removed]",
      "text/plain": [
       "<Figure size 432x288 with 1 Axes>"
      ]
     },
     "metadata": {
      "needs_background": "light"
     },
     "output_type": "display_data"
    }
   ],
   "source": [
    "obitos_by_year.T.plot.bar(rot=0);"
   ]
  },
  {
   "cell_type": "markdown",
   "metadata": {},
   "source": [
    "## 2.2. Estratificando por causa"
   ]
  },
  {
   "cell_type": "markdown",
   "metadata": {},
   "source": [
    "Se quiséssemos continuar comparando os dois anos, mas estratificar os óbitos em função da causa declarada?"
   ]
  },
  {
   "cell_type": "code",
   "execution_count": 12,
   "metadata": {},
   "outputs": [
    {
     "data": {
      "text/html": [
       "<div>\n",
       "<style scoped>\n",
       "    .dataframe tbody tr th:only-of-type {\n",
       "        vertical-align: middle;\n",
       "    }\n",
       "\n",
       "    .dataframe tbody tr th {\n",
       "        vertical-align: top;\n",
       "    }\n",
       "\n",
       "    .dataframe thead th {\n",
       "        text-align: right;\n",
       "    }\n",
       "</style>\n",
       "<table border=\"1\" class=\"dataframe\">\n",
       "  <thead>\n",
       "    <tr style=\"text-align: right;\">\n",
       "      <th></th>\n",
       "      <th></th>\n",
       "      <th>#</th>\n",
       "    </tr>\n",
       "    <tr>\n",
       "      <th>Date</th>\n",
       "      <th>Cause</th>\n",
       "      <th></th>\n",
       "    </tr>\n",
       "  </thead>\n",
       "  <tbody>\n",
       "    <tr>\n",
       "      <th rowspan=\"11\" valign=\"top\">2019</th>\n",
       "      <th>AVC</th>\n",
       "      <td>1506</td>\n",
       "    </tr>\n",
       "    <tr>\n",
       "      <th>CARDIOPATIA</th>\n",
       "      <td>1491</td>\n",
       "    </tr>\n",
       "    <tr>\n",
       "      <th>CHOQUE_CARD</th>\n",
       "      <td>2070</td>\n",
       "    </tr>\n",
       "    <tr>\n",
       "      <th>INDETERMINADA</th>\n",
       "      <td>20</td>\n",
       "    </tr>\n",
       "    <tr>\n",
       "      <th>INFARTO</th>\n",
       "      <td>4621</td>\n",
       "    </tr>\n",
       "    <tr>\n",
       "      <th>INSUFICIENCIA_RESPIRATORIA</th>\n",
       "      <td>2806</td>\n",
       "    </tr>\n",
       "    <tr>\n",
       "      <th>OUTRAS</th>\n",
       "      <td>19245</td>\n",
       "    </tr>\n",
       "    <tr>\n",
       "      <th>PNEUMONIA</th>\n",
       "      <td>8377</td>\n",
       "    </tr>\n",
       "    <tr>\n",
       "      <th>SEPTICEMIA</th>\n",
       "      <td>8548</td>\n",
       "    </tr>\n",
       "    <tr>\n",
       "      <th>SRAG</th>\n",
       "      <td>33</td>\n",
       "    </tr>\n",
       "    <tr>\n",
       "      <th>SUBITA</th>\n",
       "      <td>135</td>\n",
       "    </tr>\n",
       "    <tr>\n",
       "      <th rowspan=\"14\" valign=\"top\">2020</th>\n",
       "      <th>AVC</th>\n",
       "      <td>1531</td>\n",
       "    </tr>\n",
       "    <tr>\n",
       "      <th>CARDIOPATIA</th>\n",
       "      <td>1797</td>\n",
       "    </tr>\n",
       "    <tr>\n",
       "      <th>CHOQUE_CARD</th>\n",
       "      <td>1896</td>\n",
       "    </tr>\n",
       "    <tr>\n",
       "      <th>COVID</th>\n",
       "      <td>9566</td>\n",
       "    </tr>\n",
       "    <tr>\n",
       "      <th>COVID_AVC</th>\n",
       "      <td>99</td>\n",
       "    </tr>\n",
       "    <tr>\n",
       "      <th>COVID_INFARTO</th>\n",
       "      <td>113</td>\n",
       "    </tr>\n",
       "    <tr>\n",
       "      <th>INDETERMINADA</th>\n",
       "      <td>721</td>\n",
       "    </tr>\n",
       "    <tr>\n",
       "      <th>INFARTO</th>\n",
       "      <td>4236</td>\n",
       "    </tr>\n",
       "    <tr>\n",
       "      <th>INSUFICIENCIA_RESPIRATORIA</th>\n",
       "      <td>3090</td>\n",
       "    </tr>\n",
       "    <tr>\n",
       "      <th>OUTRAS</th>\n",
       "      <td>18314</td>\n",
       "    </tr>\n",
       "    <tr>\n",
       "      <th>PNEUMONIA</th>\n",
       "      <td>7717</td>\n",
       "    </tr>\n",
       "    <tr>\n",
       "      <th>SEPTICEMIA</th>\n",
       "      <td>6832</td>\n",
       "    </tr>\n",
       "    <tr>\n",
       "      <th>SRAG</th>\n",
       "      <td>872</td>\n",
       "    </tr>\n",
       "    <tr>\n",
       "      <th>SUBITA</th>\n",
       "      <td>299</td>\n",
       "    </tr>\n",
       "  </tbody>\n",
       "</table>\n",
       "</div>"
      ],
      "text/plain": [
       "                                     #\n",
       "Date Cause                            \n",
       "2019 AVC                          1506\n",
       "     CARDIOPATIA                  1491\n",
       "     CHOQUE_CARD                  2070\n",
       "     INDETERMINADA                  20\n",
       "     INFARTO                      4621\n",
       "     INSUFICIENCIA_RESPIRATORIA   2806\n",
       "     OUTRAS                      19245\n",
       "     PNEUMONIA                    8377\n",
       "     SEPTICEMIA                   8548\n",
       "     SRAG                           33\n",
       "     SUBITA                        135\n",
       "2020 AVC                          1531\n",
       "     CARDIOPATIA                  1797\n",
       "     CHOQUE_CARD                  1896\n",
       "     COVID                        9566\n",
       "     COVID_AVC                      99\n",
       "     COVID_INFARTO                 113\n",
       "     INDETERMINADA                 721\n",
       "     INFARTO                      4236\n",
       "     INSUFICIENCIA_RESPIRATORIA   3090\n",
       "     OUTRAS                      18314\n",
       "     PNEUMONIA                    7717\n",
       "     SEPTICEMIA                   6832\n",
       "     SRAG                          872\n",
       "     SUBITA                        299"
      ]
     },
     "execution_count": 12,
     "metadata": {},
     "output_type": "execute_result"
    }
   ],
   "source": [
    "obitos_by_year_cause = obitos_df.groupby([obitos_df.index.year, obitos_df.Cause]).sum()\n",
    "obitos_by_year_cause"
   ]
  },
  {
   "cell_type": "markdown",
   "metadata": {},
   "source": [
    "Para que possamos plotar esse resultado de forma conveniente, temos que fazer algumas transformações no data frame. Primeiro, transformar as causas em colunas:"
   ]
  },
  {
   "cell_type": "code",
   "execution_count": 13,
   "metadata": {},
   "outputs": [
    {
     "data": {
      "text/html": [
       "<div>\n",
       "<style scoped>\n",
       "    .dataframe tbody tr th:only-of-type {\n",
       "        vertical-align: middle;\n",
       "    }\n",
       "\n",
       "    .dataframe tbody tr th {\n",
       "        vertical-align: top;\n",
       "    }\n",
       "\n",
       "    .dataframe thead th {\n",
       "        text-align: right;\n",
       "    }\n",
       "</style>\n",
       "<table border=\"1\" class=\"dataframe\">\n",
       "  <thead>\n",
       "    <tr style=\"text-align: right;\">\n",
       "      <th>Cause</th>\n",
       "      <th>AVC</th>\n",
       "      <th>CARDIOPATIA</th>\n",
       "      <th>CHOQUE_CARD</th>\n",
       "      <th>COVID</th>\n",
       "      <th>COVID_AVC</th>\n",
       "      <th>COVID_INFARTO</th>\n",
       "      <th>INDETERMINADA</th>\n",
       "      <th>INFARTO</th>\n",
       "      <th>INSUFICIENCIA_RESPIRATORIA</th>\n",
       "      <th>OUTRAS</th>\n",
       "      <th>PNEUMONIA</th>\n",
       "      <th>SEPTICEMIA</th>\n",
       "      <th>SRAG</th>\n",
       "      <th>SUBITA</th>\n",
       "    </tr>\n",
       "    <tr>\n",
       "      <th>Date</th>\n",
       "      <th></th>\n",
       "      <th></th>\n",
       "      <th></th>\n",
       "      <th></th>\n",
       "      <th></th>\n",
       "      <th></th>\n",
       "      <th></th>\n",
       "      <th></th>\n",
       "      <th></th>\n",
       "      <th></th>\n",
       "      <th></th>\n",
       "      <th></th>\n",
       "      <th></th>\n",
       "      <th></th>\n",
       "    </tr>\n",
       "  </thead>\n",
       "  <tbody>\n",
       "    <tr>\n",
       "      <th>2019</th>\n",
       "      <td>1506</td>\n",
       "      <td>1491</td>\n",
       "      <td>2070</td>\n",
       "      <td>0</td>\n",
       "      <td>0</td>\n",
       "      <td>0</td>\n",
       "      <td>20</td>\n",
       "      <td>4621</td>\n",
       "      <td>2806</td>\n",
       "      <td>19245</td>\n",
       "      <td>8377</td>\n",
       "      <td>8548</td>\n",
       "      <td>33</td>\n",
       "      <td>135</td>\n",
       "    </tr>\n",
       "    <tr>\n",
       "      <th>2020</th>\n",
       "      <td>1531</td>\n",
       "      <td>1797</td>\n",
       "      <td>1896</td>\n",
       "      <td>9566</td>\n",
       "      <td>99</td>\n",
       "      <td>113</td>\n",
       "      <td>721</td>\n",
       "      <td>4236</td>\n",
       "      <td>3090</td>\n",
       "      <td>18314</td>\n",
       "      <td>7717</td>\n",
       "      <td>6832</td>\n",
       "      <td>872</td>\n",
       "      <td>299</td>\n",
       "    </tr>\n",
       "  </tbody>\n",
       "</table>\n",
       "</div>"
      ],
      "text/plain": [
       "Cause   AVC  CARDIOPATIA  CHOQUE_CARD  COVID  COVID_AVC  COVID_INFARTO  \\\n",
       "Date                                                                     \n",
       "2019   1506         1491         2070      0          0              0   \n",
       "2020   1531         1797         1896   9566         99            113   \n",
       "\n",
       "Cause  INDETERMINADA  INFARTO  INSUFICIENCIA_RESPIRATORIA  OUTRAS  PNEUMONIA  \\\n",
       "Date                                                                           \n",
       "2019              20     4621                        2806   19245       8377   \n",
       "2020             721     4236                        3090   18314       7717   \n",
       "\n",
       "Cause  SEPTICEMIA  SRAG  SUBITA  \n",
       "Date                             \n",
       "2019         8548    33     135  \n",
       "2020         6832   872     299  "
      ]
     },
     "execution_count": 13,
     "metadata": {},
     "output_type": "execute_result"
    }
   ],
   "source": [
    "obitos_by_year_cause = obitos_by_year_cause.unstack(fill_value=0) # Fill_value=0 faz com que o dado faltante de covid em 2019 seja preenchido com zero\n",
    "obitos_by_year_cause.columns = obitos_by_year_cause.columns.droplevel() # Simplificando a rotulação das colunas\n",
    "obitos_by_year_cause"
   ]
  },
  {
   "cell_type": "code",
   "execution_count": 14,
   "metadata": {},
   "outputs": [
    {
     "data": {
      "image/png": "[encoded data removed]",
      "text/plain": [
       "<Figure size 432x288 with 1 Axes>"
      ]
     },
     "metadata": {
      "needs_background": "light"
     },
     "output_type": "display_data"
    }
   ],
   "source": [
    "obitos_by_year_cause.plot.bar(rot=0, width=.9);"
   ]
  },
  {
   "cell_type": "markdown",
   "metadata": {},
   "source": [
    "Esse gráfico torna extremamente evidente que o número oficial de óbitos por COVID19 subestima o excedente de mortos provavelmente acarretados pela pandemia."
   ]
  },
  {
   "cell_type": "markdown",
   "metadata": {},
   "source": [
    "Desse resultado também podemos plotar apenas certas causas:"
   ]
  },
  {
   "cell_type": "code",
   "execution_count": 15,
   "metadata": {},
   "outputs": [
    {
     "data": {
      "image/png": "[encoded data removed]",
      "text/plain": [
       "<Figure size 432x288 with 1 Axes>"
      ]
     },
     "metadata": {
      "needs_background": "light"
     },
     "output_type": "display_data"
    }
   ],
   "source": [
    "obitos_by_year_cause.plot.bar(rot=0, width=.9, y=['SRAG', 'INDETERMINADA']);"
   ]
  },
  {
   "cell_type": "markdown",
   "metadata": {},
   "source": [
    "Esse gráfico escancara ainda mais que casos de COVID quase que certamente estão sendo erroneamente classificados."
   ]
  },
  {
   "cell_type": "markdown",
   "metadata": {},
   "source": [
    "Podemos também plotar o primeiro gráfico excetuando a causa 'OUTRAS', que dificulta a visualização das demais:"
   ]
  },
  {
   "cell_type": "code",
   "execution_count": 16,
   "metadata": {},
   "outputs": [
    {
     "data": {
      "image/png": "[encoded data removed]",
      "text/plain": [
       "<Figure size 432x288 with 1 Axes>"
      ]
     },
     "metadata": {
      "needs_background": "light"
     },
     "output_type": "display_data"
    }
   ],
   "source": [
    "obitos_by_year_cause.plot.bar(rot=0, width=.9, y=obitos_by_year_cause.columns.difference(['OUTRAS']));"
   ]
  },
  {
   "cell_type": "markdown",
   "metadata": {},
   "source": [
    "## 2.3. Por local de óbito"
   ]
  },
  {
   "cell_type": "markdown",
   "metadata": {},
   "source": [
    "Vamos agora observar como a taxa de óbitos mudou entre os dois anos relativo aos locais de óbito. O procedimento é similar ao realizado na última análise:"
   ]
  },
  {
   "cell_type": "code",
   "execution_count": 17,
   "metadata": {},
   "outputs": [
    {
     "data": {
      "text/html": [
       "<div>\n",
       "<style scoped>\n",
       "    .dataframe tbody tr th:only-of-type {\n",
       "        vertical-align: middle;\n",
       "    }\n",
       "\n",
       "    .dataframe tbody tr th {\n",
       "        vertical-align: top;\n",
       "    }\n",
       "\n",
       "    .dataframe thead th {\n",
       "        text-align: right;\n",
       "    }\n",
       "</style>\n",
       "<table border=\"1\" class=\"dataframe\">\n",
       "  <thead>\n",
       "    <tr style=\"text-align: right;\">\n",
       "      <th></th>\n",
       "      <th></th>\n",
       "      <th>#</th>\n",
       "    </tr>\n",
       "    <tr>\n",
       "      <th>Date</th>\n",
       "      <th>Place of Death</th>\n",
       "      <th></th>\n",
       "    </tr>\n",
       "  </thead>\n",
       "  <tbody>\n",
       "    <tr>\n",
       "      <th rowspan=\"4\" valign=\"top\">2019</th>\n",
       "      <th>DOMICILIO</th>\n",
       "      <td>6481</td>\n",
       "    </tr>\n",
       "    <tr>\n",
       "      <th>HOSPITAL</th>\n",
       "      <td>41219</td>\n",
       "    </tr>\n",
       "    <tr>\n",
       "      <th>OUTROS</th>\n",
       "      <td>980</td>\n",
       "    </tr>\n",
       "    <tr>\n",
       "      <th>VIA_PUBLICA</th>\n",
       "      <td>172</td>\n",
       "    </tr>\n",
       "    <tr>\n",
       "      <th rowspan=\"4\" valign=\"top\">2020</th>\n",
       "      <th>DOMICILIO</th>\n",
       "      <td>8252</td>\n",
       "    </tr>\n",
       "    <tr>\n",
       "      <th>HOSPITAL</th>\n",
       "      <td>47677</td>\n",
       "    </tr>\n",
       "    <tr>\n",
       "      <th>OUTROS</th>\n",
       "      <td>878</td>\n",
       "    </tr>\n",
       "    <tr>\n",
       "      <th>VIA_PUBLICA</th>\n",
       "      <td>276</td>\n",
       "    </tr>\n",
       "  </tbody>\n",
       "</table>\n",
       "</div>"
      ],
      "text/plain": [
       "                         #\n",
       "Date Place of Death       \n",
       "2019 DOMICILIO        6481\n",
       "     HOSPITAL        41219\n",
       "     OUTROS            980\n",
       "     VIA_PUBLICA       172\n",
       "2020 DOMICILIO        8252\n",
       "     HOSPITAL        47677\n",
       "     OUTROS            878\n",
       "     VIA_PUBLICA       276"
      ]
     },
     "execution_count": 17,
     "metadata": {},
     "output_type": "execute_result"
    }
   ],
   "source": [
    "obitos_by_year_place = obitos_df.groupby([obitos_df.index.year, obitos_df['Place of Death']]).sum()\n",
    "obitos_by_year_place"
   ]
  },
  {
   "cell_type": "code",
   "execution_count": 18,
   "metadata": {},
   "outputs": [
    {
     "data": {
      "text/html": [
       "<div>\n",
       "<style scoped>\n",
       "    .dataframe tbody tr th:only-of-type {\n",
       "        vertical-align: middle;\n",
       "    }\n",
       "\n",
       "    .dataframe tbody tr th {\n",
       "        vertical-align: top;\n",
       "    }\n",
       "\n",
       "    .dataframe thead th {\n",
       "        text-align: right;\n",
       "    }\n",
       "</style>\n",
       "<table border=\"1\" class=\"dataframe\">\n",
       "  <thead>\n",
       "    <tr style=\"text-align: right;\">\n",
       "      <th>Place of Death</th>\n",
       "      <th>DOMICILIO</th>\n",
       "      <th>HOSPITAL</th>\n",
       "      <th>OUTROS</th>\n",
       "      <th>VIA_PUBLICA</th>\n",
       "    </tr>\n",
       "    <tr>\n",
       "      <th>Date</th>\n",
       "      <th></th>\n",
       "      <th></th>\n",
       "      <th></th>\n",
       "      <th></th>\n",
       "    </tr>\n",
       "  </thead>\n",
       "  <tbody>\n",
       "    <tr>\n",
       "      <th>2019</th>\n",
       "      <td>6481</td>\n",
       "      <td>41219</td>\n",
       "      <td>980</td>\n",
       "      <td>172</td>\n",
       "    </tr>\n",
       "    <tr>\n",
       "      <th>2020</th>\n",
       "      <td>8252</td>\n",
       "      <td>47677</td>\n",
       "      <td>878</td>\n",
       "      <td>276</td>\n",
       "    </tr>\n",
       "  </tbody>\n",
       "</table>\n",
       "</div>"
      ],
      "text/plain": [
       "Place of Death  DOMICILIO  HOSPITAL  OUTROS  VIA_PUBLICA\n",
       "Date                                                    \n",
       "2019                 6481     41219     980          172\n",
       "2020                 8252     47677     878          276"
      ]
     },
     "execution_count": 18,
     "metadata": {},
     "output_type": "execute_result"
    }
   ],
   "source": [
    "obitos_by_year_place = obitos_by_year_place.unstack(fill_value=0)\n",
    "obitos_by_year_place.columns = obitos_by_year_place.columns.droplevel()\n",
    "obitos_by_year_place"
   ]
  },
  {
   "cell_type": "code",
   "execution_count": 19,
   "metadata": {},
   "outputs": [
    {
     "data": {
      "image/png": "[encoded data removed]",
      "text/plain": [
       "<Figure size 432x288 with 1 Axes>"
      ]
     },
     "metadata": {
      "needs_background": "light"
     },
     "output_type": "display_data"
    }
   ],
   "source": [
    "obitos_by_year_place.plot.bar(rot=0, width=.9);"
   ]
  },
  {
   "cell_type": "markdown",
   "metadata": {},
   "source": [
    "Como número de óbitos em hospitais é significativamente maior que todos os outros locais, vamos omití-lo para melhor visualizá-los:"
   ]
  },
  {
   "cell_type": "code",
   "execution_count": 20,
   "metadata": {},
   "outputs": [],
   "source": [
    "y=obitos_by_year_cause.columns.difference(['OUTRAS'])"
   ]
  },
  {
   "cell_type": "code",
   "execution_count": 21,
   "metadata": {},
   "outputs": [
    {
     "data": {
      "image/png": "[encoded data removed]",
      "text/plain": [
       "<Figure size 432x288 with 1 Axes>"
      ]
     },
     "metadata": {
      "needs_background": "light"
     },
     "output_type": "display_data"
    }
   ],
   "source": [
    "obitos_by_year_place.plot.bar(rot=0, width=.9, y=obitos_by_year_place.columns.difference(['HOSPITAL']));"
   ]
  },
  {
   "cell_type": "markdown",
   "metadata": {},
   "source": [
    "O excesso de óbitos domiciliares não é desprezível. Possivelmente evidência uma dificuldade de acesso a cuidados médicos encarados por uma parcela das vítimas da pandêmia"
   ]
  },
  {
   "cell_type": "markdown",
   "metadata": {},
   "source": [
    "## 2.4. Analisando os dados diariamente"
   ]
  },
  {
   "cell_type": "markdown",
   "metadata": {},
   "source": [
    "Até agora, avaliamos os dados sumarizados por seus respectivos anos. Isso, no entanto, não nos permite compreender o impacto da dinâmica de propagação do vírus. Para tal, precisamos usar uma unidade mais granular de tempo."
   ]
  },
  {
   "cell_type": "markdown",
   "metadata": {},
   "source": [
    "### 2.4.1. Indiscriminando causa e local"
   ]
  },
  {
   "cell_type": "markdown",
   "metadata": {},
   "source": [
    "Primeiro, criamos uma função auxiliar para criar os dados sumarizados dia a dia:"
   ]
  },
  {
   "cell_type": "code",
   "execution_count": 22,
   "metadata": {},
   "outputs": [],
   "source": [
    "def df_by_day(df, groupby=[]):\n",
    "    temps = []\n",
    "    for year in ['2019', '2020']:\n",
    "        temp = df[year].reset_index()\n",
    "        temp['date_str'] = list(map(lambda t: '{:02d}-{:02d}'.format(*t), zip(temp['Date'].dt.month, temp['Date'].dt.day)))\n",
    "        temp = temp.groupby([temp.Date.dt.year, temp.date_str, *groupby]).sum().unstack([0]+[2+i for i in range(len(groupby))], fill_value=0)\n",
    "        temp.columns = temp.columns.droplevel()\n",
    "        temps.append(temp)\n",
    "        \n",
    "    return pd.concat(temps, axis=1).sort_index().fillna(0)"
   ]
  },
  {
   "cell_type": "code",
   "execution_count": 23,
   "metadata": {},
   "outputs": [
    {
     "data": {
      "text/html": [
       "<div>\n",
       "<style scoped>\n",
       "    .dataframe tbody tr th:only-of-type {\n",
       "        vertical-align: middle;\n",
       "    }\n",
       "\n",
       "    .dataframe tbody tr th {\n",
       "        vertical-align: top;\n",
       "    }\n",
       "\n",
       "    .dataframe thead th {\n",
       "        text-align: right;\n",
       "    }\n",
       "</style>\n",
       "<table border=\"1\" class=\"dataframe\">\n",
       "  <thead>\n",
       "    <tr style=\"text-align: right;\">\n",
       "      <th>Date</th>\n",
       "      <th>2019</th>\n",
       "      <th>2020</th>\n",
       "    </tr>\n",
       "  </thead>\n",
       "  <tbody>\n",
       "    <tr>\n",
       "      <th>01-01</th>\n",
       "      <td>251.0</td>\n",
       "      <td>319</td>\n",
       "    </tr>\n",
       "    <tr>\n",
       "      <th>01-02</th>\n",
       "      <td>236.0</td>\n",
       "      <td>255</td>\n",
       "    </tr>\n",
       "    <tr>\n",
       "      <th>01-03</th>\n",
       "      <td>270.0</td>\n",
       "      <td>244</td>\n",
       "    </tr>\n",
       "    <tr>\n",
       "      <th>01-04</th>\n",
       "      <td>304.0</td>\n",
       "      <td>242</td>\n",
       "    </tr>\n",
       "    <tr>\n",
       "      <th>01-05</th>\n",
       "      <td>252.0</td>\n",
       "      <td>249</td>\n",
       "    </tr>\n",
       "    <tr>\n",
       "      <th>...</th>\n",
       "      <td>...</td>\n",
       "      <td>...</td>\n",
       "    </tr>\n",
       "    <tr>\n",
       "      <th>06-25</th>\n",
       "      <td>282.0</td>\n",
       "      <td>228</td>\n",
       "    </tr>\n",
       "    <tr>\n",
       "      <th>06-26</th>\n",
       "      <td>295.0</td>\n",
       "      <td>217</td>\n",
       "    </tr>\n",
       "    <tr>\n",
       "      <th>06-27</th>\n",
       "      <td>271.0</td>\n",
       "      <td>196</td>\n",
       "    </tr>\n",
       "    <tr>\n",
       "      <th>06-28</th>\n",
       "      <td>288.0</td>\n",
       "      <td>195</td>\n",
       "    </tr>\n",
       "    <tr>\n",
       "      <th>06-29</th>\n",
       "      <td>279.0</td>\n",
       "      <td>86</td>\n",
       "    </tr>\n",
       "  </tbody>\n",
       "</table>\n",
       "<p>181 rows × 2 columns</p>\n",
       "</div>"
      ],
      "text/plain": [
       "Date    2019  2020\n",
       "01-01  251.0   319\n",
       "01-02  236.0   255\n",
       "01-03  270.0   244\n",
       "01-04  304.0   242\n",
       "01-05  252.0   249\n",
       "...      ...   ...\n",
       "06-25  282.0   228\n",
       "06-26  295.0   217\n",
       "06-27  271.0   196\n",
       "06-28  288.0   195\n",
       "06-29  279.0    86\n",
       "\n",
       "[181 rows x 2 columns]"
      ]
     },
     "execution_count": 23,
     "metadata": {},
     "output_type": "execute_result"
    }
   ],
   "source": [
    "by_day = df_by_day(obitos_df)\n",
    "by_day"
   ]
  },
  {
   "cell_type": "markdown",
   "metadata": {},
   "source": [
    "Plotando o valor cumulativo de óbitos ao longo do tempo:"
   ]
  },
  {
   "cell_type": "code",
   "execution_count": 24,
   "metadata": {},
   "outputs": [
    {
     "data": {
      "image/png": "[encoded data removed]",
      "text/plain": [
       "<Figure size 432x288 with 1 Axes>"
      ]
     },
     "metadata": {
      "needs_background": "light"
     },
     "output_type": "display_data"
    }
   ],
   "source": [
    "fig, ax = plt.subplots()\n",
    "\n",
    "ax.plot(by_day.index, by_day[2019].cumsum(), label='2019')\n",
    "ax.plot(by_day.index, by_day[2020].cumsum(), label='2020')\n",
    "\n",
    "loc = ax.xaxis.set_major_locator(ticker.MaxNLocator(6))\n",
    "ax.legend()\n",
    "\n",
    "ax.set_xlabel('Data')\n",
    "ax.set_ylabel('Óbitos')\n",
    "ax.set_title('Óbitos acumulados ao longo do tempo')\n",
    "\n",
    "plt.xticks(rotation=50)\n",
    "\n",
    "plt.show()"
   ]
  },
  {
   "cell_type": "markdown",
   "metadata": {},
   "source": [
    "É interessante notar que o descolamento das curvas só acontece a partir de meados de abril."
   ]
  },
  {
   "cell_type": "markdown",
   "metadata": {},
   "source": [
    "### 2.4.2. Destacando causas"
   ]
  },
  {
   "cell_type": "markdown",
   "metadata": {},
   "source": [
    "Vamos um gráfico similar ao anterior, mas destacando causas, individuais ou em grupos. Primeiro, coletamos os dados diários discriminando as causas."
   ]
  },
  {
   "cell_type": "code",
   "execution_count": 25,
   "metadata": {},
   "outputs": [
    {
     "data": {
      "text/html": [
       "<div>\n",
       "<style scoped>\n",
       "    .dataframe tbody tr th:only-of-type {\n",
       "        vertical-align: middle;\n",
       "    }\n",
       "\n",
       "    .dataframe tbody tr th {\n",
       "        vertical-align: top;\n",
       "    }\n",
       "\n",
       "    .dataframe thead tr th {\n",
       "        text-align: left;\n",
       "    }\n",
       "</style>\n",
       "<table border=\"1\" class=\"dataframe\">\n",
       "  <thead>\n",
       "    <tr>\n",
       "      <th>Date</th>\n",
       "      <th colspan=\"10\" halign=\"left\">2019</th>\n",
       "      <th>...</th>\n",
       "      <th colspan=\"10\" halign=\"left\">2020</th>\n",
       "    </tr>\n",
       "    <tr>\n",
       "      <th>Cause</th>\n",
       "      <th>AVC</th>\n",
       "      <th>CARDIOPATIA</th>\n",
       "      <th>CHOQUE_CARD</th>\n",
       "      <th>INFARTO</th>\n",
       "      <th>INSUFICIENCIA_RESPIRATORIA</th>\n",
       "      <th>OUTRAS</th>\n",
       "      <th>PNEUMONIA</th>\n",
       "      <th>SEPTICEMIA</th>\n",
       "      <th>SRAG</th>\n",
       "      <th>SUBITA</th>\n",
       "      <th>...</th>\n",
       "      <th>INFARTO</th>\n",
       "      <th>INSUFICIENCIA_RESPIRATORIA</th>\n",
       "      <th>OUTRAS</th>\n",
       "      <th>PNEUMONIA</th>\n",
       "      <th>SEPTICEMIA</th>\n",
       "      <th>SUBITA</th>\n",
       "      <th>SRAG</th>\n",
       "      <th>COVID</th>\n",
       "      <th>COVID_INFARTO</th>\n",
       "      <th>COVID_AVC</th>\n",
       "    </tr>\n",
       "  </thead>\n",
       "  <tbody>\n",
       "    <tr>\n",
       "      <th>01-01</th>\n",
       "      <td>7.0</td>\n",
       "      <td>3.0</td>\n",
       "      <td>8.0</td>\n",
       "      <td>23.0</td>\n",
       "      <td>14.0</td>\n",
       "      <td>96.0</td>\n",
       "      <td>50.0</td>\n",
       "      <td>45.0</td>\n",
       "      <td>2.0</td>\n",
       "      <td>3.0</td>\n",
       "      <td>...</td>\n",
       "      <td>33</td>\n",
       "      <td>23</td>\n",
       "      <td>121</td>\n",
       "      <td>55</td>\n",
       "      <td>52</td>\n",
       "      <td>1</td>\n",
       "      <td>0</td>\n",
       "      <td>0</td>\n",
       "      <td>0</td>\n",
       "      <td>0</td>\n",
       "    </tr>\n",
       "    <tr>\n",
       "      <th>01-02</th>\n",
       "      <td>7.0</td>\n",
       "      <td>6.0</td>\n",
       "      <td>9.0</td>\n",
       "      <td>26.0</td>\n",
       "      <td>9.0</td>\n",
       "      <td>111.0</td>\n",
       "      <td>28.0</td>\n",
       "      <td>38.0</td>\n",
       "      <td>0.0</td>\n",
       "      <td>2.0</td>\n",
       "      <td>...</td>\n",
       "      <td>30</td>\n",
       "      <td>12</td>\n",
       "      <td>104</td>\n",
       "      <td>44</td>\n",
       "      <td>38</td>\n",
       "      <td>3</td>\n",
       "      <td>1</td>\n",
       "      <td>0</td>\n",
       "      <td>0</td>\n",
       "      <td>0</td>\n",
       "    </tr>\n",
       "    <tr>\n",
       "      <th>01-03</th>\n",
       "      <td>5.0</td>\n",
       "      <td>9.0</td>\n",
       "      <td>10.0</td>\n",
       "      <td>22.0</td>\n",
       "      <td>14.0</td>\n",
       "      <td>112.0</td>\n",
       "      <td>43.0</td>\n",
       "      <td>53.0</td>\n",
       "      <td>2.0</td>\n",
       "      <td>0.0</td>\n",
       "      <td>...</td>\n",
       "      <td>30</td>\n",
       "      <td>13</td>\n",
       "      <td>86</td>\n",
       "      <td>48</td>\n",
       "      <td>39</td>\n",
       "      <td>1</td>\n",
       "      <td>0</td>\n",
       "      <td>0</td>\n",
       "      <td>0</td>\n",
       "      <td>0</td>\n",
       "    </tr>\n",
       "    <tr>\n",
       "      <th>01-04</th>\n",
       "      <td>7.0</td>\n",
       "      <td>9.0</td>\n",
       "      <td>8.0</td>\n",
       "      <td>28.0</td>\n",
       "      <td>16.0</td>\n",
       "      <td>137.0</td>\n",
       "      <td>42.0</td>\n",
       "      <td>56.0</td>\n",
       "      <td>0.0</td>\n",
       "      <td>0.0</td>\n",
       "      <td>...</td>\n",
       "      <td>25</td>\n",
       "      <td>9</td>\n",
       "      <td>77</td>\n",
       "      <td>49</td>\n",
       "      <td>43</td>\n",
       "      <td>0</td>\n",
       "      <td>0</td>\n",
       "      <td>0</td>\n",
       "      <td>0</td>\n",
       "      <td>0</td>\n",
       "    </tr>\n",
       "    <tr>\n",
       "      <th>01-05</th>\n",
       "      <td>7.0</td>\n",
       "      <td>4.0</td>\n",
       "      <td>11.0</td>\n",
       "      <td>28.0</td>\n",
       "      <td>19.0</td>\n",
       "      <td>92.0</td>\n",
       "      <td>35.0</td>\n",
       "      <td>54.0</td>\n",
       "      <td>0.0</td>\n",
       "      <td>1.0</td>\n",
       "      <td>...</td>\n",
       "      <td>33</td>\n",
       "      <td>13</td>\n",
       "      <td>93</td>\n",
       "      <td>46</td>\n",
       "      <td>39</td>\n",
       "      <td>0</td>\n",
       "      <td>0</td>\n",
       "      <td>0</td>\n",
       "      <td>0</td>\n",
       "      <td>0</td>\n",
       "    </tr>\n",
       "    <tr>\n",
       "      <th>...</th>\n",
       "      <td>...</td>\n",
       "      <td>...</td>\n",
       "      <td>...</td>\n",
       "      <td>...</td>\n",
       "      <td>...</td>\n",
       "      <td>...</td>\n",
       "      <td>...</td>\n",
       "      <td>...</td>\n",
       "      <td>...</td>\n",
       "      <td>...</td>\n",
       "      <td>...</td>\n",
       "      <td>...</td>\n",
       "      <td>...</td>\n",
       "      <td>...</td>\n",
       "      <td>...</td>\n",
       "      <td>...</td>\n",
       "      <td>...</td>\n",
       "      <td>...</td>\n",
       "      <td>...</td>\n",
       "      <td>...</td>\n",
       "      <td>...</td>\n",
       "    </tr>\n",
       "    <tr>\n",
       "      <th>06-25</th>\n",
       "      <td>5.0</td>\n",
       "      <td>6.0</td>\n",
       "      <td>11.0</td>\n",
       "      <td>23.0</td>\n",
       "      <td>14.0</td>\n",
       "      <td>107.0</td>\n",
       "      <td>64.0</td>\n",
       "      <td>52.0</td>\n",
       "      <td>0.0</td>\n",
       "      <td>0.0</td>\n",
       "      <td>...</td>\n",
       "      <td>16</td>\n",
       "      <td>13</td>\n",
       "      <td>73</td>\n",
       "      <td>20</td>\n",
       "      <td>33</td>\n",
       "      <td>3</td>\n",
       "      <td>6</td>\n",
       "      <td>41</td>\n",
       "      <td>1</td>\n",
       "      <td>1</td>\n",
       "    </tr>\n",
       "    <tr>\n",
       "      <th>06-26</th>\n",
       "      <td>13.0</td>\n",
       "      <td>8.0</td>\n",
       "      <td>23.0</td>\n",
       "      <td>37.0</td>\n",
       "      <td>8.0</td>\n",
       "      <td>104.0</td>\n",
       "      <td>53.0</td>\n",
       "      <td>47.0</td>\n",
       "      <td>0.0</td>\n",
       "      <td>2.0</td>\n",
       "      <td>...</td>\n",
       "      <td>20</td>\n",
       "      <td>6</td>\n",
       "      <td>75</td>\n",
       "      <td>22</td>\n",
       "      <td>23</td>\n",
       "      <td>1</td>\n",
       "      <td>4</td>\n",
       "      <td>36</td>\n",
       "      <td>1</td>\n",
       "      <td>2</td>\n",
       "    </tr>\n",
       "    <tr>\n",
       "      <th>06-27</th>\n",
       "      <td>11.0</td>\n",
       "      <td>11.0</td>\n",
       "      <td>14.0</td>\n",
       "      <td>17.0</td>\n",
       "      <td>13.0</td>\n",
       "      <td>107.0</td>\n",
       "      <td>60.0</td>\n",
       "      <td>38.0</td>\n",
       "      <td>0.0</td>\n",
       "      <td>0.0</td>\n",
       "      <td>...</td>\n",
       "      <td>15</td>\n",
       "      <td>11</td>\n",
       "      <td>65</td>\n",
       "      <td>15</td>\n",
       "      <td>30</td>\n",
       "      <td>0</td>\n",
       "      <td>4</td>\n",
       "      <td>26</td>\n",
       "      <td>0</td>\n",
       "      <td>1</td>\n",
       "    </tr>\n",
       "    <tr>\n",
       "      <th>06-28</th>\n",
       "      <td>10.0</td>\n",
       "      <td>11.0</td>\n",
       "      <td>18.0</td>\n",
       "      <td>37.0</td>\n",
       "      <td>12.0</td>\n",
       "      <td>105.0</td>\n",
       "      <td>49.0</td>\n",
       "      <td>44.0</td>\n",
       "      <td>0.0</td>\n",
       "      <td>2.0</td>\n",
       "      <td>...</td>\n",
       "      <td>16</td>\n",
       "      <td>14</td>\n",
       "      <td>61</td>\n",
       "      <td>20</td>\n",
       "      <td>19</td>\n",
       "      <td>5</td>\n",
       "      <td>2</td>\n",
       "      <td>35</td>\n",
       "      <td>0</td>\n",
       "      <td>0</td>\n",
       "    </tr>\n",
       "    <tr>\n",
       "      <th>06-29</th>\n",
       "      <td>12.0</td>\n",
       "      <td>7.0</td>\n",
       "      <td>10.0</td>\n",
       "      <td>33.0</td>\n",
       "      <td>17.0</td>\n",
       "      <td>105.0</td>\n",
       "      <td>48.0</td>\n",
       "      <td>47.0</td>\n",
       "      <td>0.0</td>\n",
       "      <td>0.0</td>\n",
       "      <td>...</td>\n",
       "      <td>3</td>\n",
       "      <td>4</td>\n",
       "      <td>24</td>\n",
       "      <td>11</td>\n",
       "      <td>10</td>\n",
       "      <td>0</td>\n",
       "      <td>2</td>\n",
       "      <td>20</td>\n",
       "      <td>0</td>\n",
       "      <td>0</td>\n",
       "    </tr>\n",
       "  </tbody>\n",
       "</table>\n",
       "<p>181 rows × 25 columns</p>\n",
       "</div>"
      ],
      "text/plain": [
       "Date   2019                                                                    \\\n",
       "Cause   AVC CARDIOPATIA CHOQUE_CARD INFARTO INSUFICIENCIA_RESPIRATORIA OUTRAS   \n",
       "01-01   7.0         3.0         8.0    23.0                       14.0   96.0   \n",
       "01-02   7.0         6.0         9.0    26.0                        9.0  111.0   \n",
       "01-03   5.0         9.0        10.0    22.0                       14.0  112.0   \n",
       "01-04   7.0         9.0         8.0    28.0                       16.0  137.0   \n",
       "01-05   7.0         4.0        11.0    28.0                       19.0   92.0   \n",
       "...     ...         ...         ...     ...                        ...    ...   \n",
       "06-25   5.0         6.0        11.0    23.0                       14.0  107.0   \n",
       "06-26  13.0         8.0        23.0    37.0                        8.0  104.0   \n",
       "06-27  11.0        11.0        14.0    17.0                       13.0  107.0   \n",
       "06-28  10.0        11.0        18.0    37.0                       12.0  105.0   \n",
       "06-29  12.0         7.0        10.0    33.0                       17.0  105.0   \n",
       "\n",
       "Date                                    ...    2020  \\\n",
       "Cause PNEUMONIA SEPTICEMIA SRAG SUBITA  ... INFARTO   \n",
       "01-01      50.0       45.0  2.0    3.0  ...      33   \n",
       "01-02      28.0       38.0  0.0    2.0  ...      30   \n",
       "01-03      43.0       53.0  2.0    0.0  ...      30   \n",
       "01-04      42.0       56.0  0.0    0.0  ...      25   \n",
       "01-05      35.0       54.0  0.0    1.0  ...      33   \n",
       "...         ...        ...  ...    ...  ...     ...   \n",
       "06-25      64.0       52.0  0.0    0.0  ...      16   \n",
       "06-26      53.0       47.0  0.0    2.0  ...      20   \n",
       "06-27      60.0       38.0  0.0    0.0  ...      15   \n",
       "06-28      49.0       44.0  0.0    2.0  ...      16   \n",
       "06-29      48.0       47.0  0.0    0.0  ...       3   \n",
       "\n",
       "Date                                                                      \\\n",
       "Cause INSUFICIENCIA_RESPIRATORIA OUTRAS PNEUMONIA SEPTICEMIA SUBITA SRAG   \n",
       "01-01                         23    121        55         52      1    0   \n",
       "01-02                         12    104        44         38      3    1   \n",
       "01-03                         13     86        48         39      1    0   \n",
       "01-04                          9     77        49         43      0    0   \n",
       "01-05                         13     93        46         39      0    0   \n",
       "...                          ...    ...       ...        ...    ...  ...   \n",
       "06-25                         13     73        20         33      3    6   \n",
       "06-26                          6     75        22         23      1    4   \n",
       "06-27                         11     65        15         30      0    4   \n",
       "06-28                         14     61        20         19      5    2   \n",
       "06-29                          4     24        11         10      0    2   \n",
       "\n",
       "Date                                 \n",
       "Cause COVID COVID_INFARTO COVID_AVC  \n",
       "01-01     0             0         0  \n",
       "01-02     0             0         0  \n",
       "01-03     0             0         0  \n",
       "01-04     0             0         0  \n",
       "01-05     0             0         0  \n",
       "...     ...           ...       ...  \n",
       "06-25    41             1         1  \n",
       "06-26    36             1         2  \n",
       "06-27    26             0         1  \n",
       "06-28    35             0         0  \n",
       "06-29    20             0         0  \n",
       "\n",
       "[181 rows x 25 columns]"
      ]
     },
     "execution_count": 25,
     "metadata": {},
     "output_type": "execute_result"
    }
   ],
   "source": [
    "by_cause = df_by_day(obitos_df, groupby=['Cause'])\n",
    "by_cause"
   ]
  },
  {
   "cell_type": "markdown",
   "metadata": {},
   "source": [
    "Vamos traçar três curvas: óbitos por todas as causas em 2019, óbitos por todas as causas em 2020 e óbitos acarretados por COVID19 em 2020:"
   ]
  },
  {
   "cell_type": "code",
   "execution_count": 26,
   "metadata": {},
   "outputs": [],
   "source": [
    "all_2019 = by_cause[2019].sum(axis=1)\n",
    "all_2020 = by_cause[2020].sum(axis=1)\n",
    "covid_2020 = by_cause[2020][['COVID']]"
   ]
  },
  {
   "cell_type": "code",
   "execution_count": 27,
   "metadata": {},
   "outputs": [
    {
     "data": {
      "image/png": "[encoded data removed]",
      "text/plain": [
       "<Figure size 432x288 with 1 Axes>"
      ]
     },
     "metadata": {
      "needs_background": "light"
     },
     "output_type": "display_data"
    }
   ],
   "source": [
    "fig, ax = plt.subplots()\n",
    "\n",
    "ax.plot(by_cause.index, all_2019.cumsum(), label='2019 (Todas)')\n",
    "ax.plot(by_cause.index, all_2020.cumsum(), label='2020 (Todas)')\n",
    "ax.plot(by_cause.index, covid_2020.cumsum(), label='2020 (COVID)')\n",
    "\n",
    "loc = ax.xaxis.set_major_locator(ticker.MaxNLocator(6))\n",
    "ax.legend()\n",
    "\n",
    "ax.set_xlabel('Data')\n",
    "ax.set_ylabel('Óbitos')\n",
    "ax.set_title('Óbitos acumulados ao longo do tempo')\n",
    "\n",
    "plt.xticks(rotation=50)\n",
    "\n",
    "plt.show()"
   ]
  },
  {
   "cell_type": "markdown",
   "metadata": {},
   "source": [
    "Podemos ver aqui que os óbitos por COVID19 em grande parte justificam o excesso de óbitos em 2020."
   ]
  },
  {
   "cell_type": "markdown",
   "metadata": {},
   "source": [
    "# Função genérica de plotagem de óbitos por grupo ao longo do tempo"
   ]
  },
  {
   "cell_type": "markdown",
   "metadata": {},
   "source": [
    "Podemos generalizar a ideia dos últimos gráficos em um função que nos permite traçar curvas de óbitos especificadas a partir das causas (ou local de óbito, como veremos adiante). A função toma como argumento principal um dicionário com formato:"
   ]
  },
  {
   "cell_type": "markdown",
   "metadata": {},
   "source": [
    "```\n",
    "{\n",
    "    2019: {\n",
    "        <nome_curva>: [<causas>]\n",
    "    },\n",
    "    2020: {\n",
    "        <nome_curva>: [<causas>]\n",
    "    }\n",
    "}\n",
    "```"
   ]
  },
  {
   "cell_type": "code",
   "execution_count": 28,
   "metadata": {},
   "outputs": [],
   "source": [
    "def plot_by_group(dataframe, curves, group='Cause', cumulative=True, title=None, max_ticks=10, xlabel='Data', ylabel='Óbitos'):\n",
    "    if group != 'Cause' and group != 'Place of Death':\n",
    "        raise ValueError(\"Group argument must be either 'Cause' or 'Place of Death'!\")\n",
    "    \n",
    "    by_group = df_by_day(dataframe, groupby=[group])\n",
    "    \n",
    "    fig, ax = plt.subplots()\n",
    "    \n",
    "    for year, cs in curves.items():\n",
    "        df = by_group[int(year)]\n",
    "        \n",
    "        for label, c in cs.items():\n",
    "            if c == 'all':\n",
    "                c = df.columns\n",
    "            \n",
    "            # Summarize deaths by the specified causes\n",
    "            series = df[c].sum(axis=1)\n",
    "                \n",
    "            if cumulative:\n",
    "                series = series.cumsum()\n",
    "                \n",
    "            ax.plot(by_group.index, series, label=label)\n",
    "\n",
    "    loc = ax.xaxis.set_major_locator(ticker.MaxNLocator(max_ticks))\n",
    "    ax.legend()\n",
    "\n",
    "    ax.set_xlabel(xlabel)\n",
    "    ax.set_ylabel(ylabel)\n",
    "    \n",
    "    if title:\n",
    "        ax.set_title(title)\n",
    "    elif cumulative:\n",
    "        ax.set_title('Óbitos acumulados ao longo do tempo')\n",
    "    else:\n",
    "        ax.set_title('Óbitos registrados ao longo do tempo')\n",
    "\n",
    "    plt.xticks(rotation=50)\n",
    "\n",
    "    # plt.show()\n",
    "    return fig"
   ]
  },
  {
   "cell_type": "markdown",
   "metadata": {},
   "source": [
    "Agora, podemos reproduzir o último gráfico:"
   ]
  },
  {
   "cell_type": "code",
   "execution_count": 29,
   "metadata": {},
   "outputs": [
    {
     "data": {
      "image/png": "[encoded data removed]",
      "text/plain": [
       "<Figure size 432x288 with 1 Axes>"
      ]
     },
     "metadata": {
      "needs_background": "light"
     },
     "output_type": "display_data"
    }
   ],
   "source": [
    "fig = plot_by_group(obitos_df, curves={\n",
    "    2019: {\n",
    "        '2019 (Todas)': 'all'\n",
    "    },\n",
    "    2020: {\n",
    "       '2020 (Todas)': 'all',\n",
    "        '2020 (Covid)': ['COVID']\n",
    "    }\n",
    "})"
   ]
  },
  {
   "cell_type": "markdown",
   "metadata": {},
   "source": [
    "A função retorna a figura para que possamos salvá-la como uma imagem:"
   ]
  },
  {
   "cell_type": "code",
   "execution_count": 30,
   "metadata": {},
   "outputs": [],
   "source": [
    "fig.savefig('fig.png')"
   ]
  },
  {
   "cell_type": "markdown",
   "metadata": {},
   "source": [
    "Note que se não atribuírmos o retorno da função ou se não terminarmos sua chamada com um ponto e vírgula, o notebook acaba a exibindo duas vezes."
   ]
  },
  {
   "cell_type": "markdown",
   "metadata": {},
   "source": [
    "Podemos usar a função para traçar diferentes curvas. Vamos comparar obítos registrados como 'SRAG' nos dois anos:"
   ]
  },
  {
   "cell_type": "code",
   "execution_count": 31,
   "metadata": {},
   "outputs": [
    {
     "data": {
      "image/png": "[encoded data removed]",
      "text/plain": [
       "<Figure size 432x288 with 1 Axes>"
      ]
     },
     "metadata": {
      "needs_background": "light"
     },
     "output_type": "display_data"
    }
   ],
   "source": [
    "fig = plot_by_group(obitos_df, curves={\n",
    "    2019: {\n",
    "        '2019 (SRAG)': ['SRAG']\n",
    "    },\n",
    "    2020: {\n",
    "        '2020 (SRAG)': ['SRAG']\n",
    "    }\n",
    "})"
   ]
  },
  {
   "cell_type": "markdown",
   "metadata": {},
   "source": [
    "### 2.4.3. Destacando local de óbito"
   ]
  },
  {
   "cell_type": "markdown",
   "metadata": {},
   "source": [
    "A função definida na última seção também nos permite descriminar por local de óbito:"
   ]
  },
  {
   "cell_type": "code",
   "execution_count": 32,
   "metadata": {},
   "outputs": [
    {
     "data": {
      "image/png": "[encoded data removed]",
      "text/plain": [
       "<Figure size 432x288 with 1 Axes>"
      ]
     },
     "metadata": {
      "needs_background": "light"
     },
     "output_type": "display_data"
    }
   ],
   "source": [
    "plot_by_group(obitos_df, curves={\n",
    "    2019: {\n",
    "        '2019 (todos)': 'all'\n",
    "    },\n",
    "    2020: {\n",
    "        '2020 (Todos)': 'all',\n",
    "        '2020 (Hospital)': ['HOSPITAL'],\n",
    "        '2020 (Domicílio)': ['DOMICILIO']\n",
    "    }\n",
    "}, group='Place of Death');"
   ]
  },
  {
   "cell_type": "markdown",
   "metadata": {},
   "source": [
    "Aqui podemos ver que o crescimento do número de mortes em hospitais, seguindo de forma bem mais discrita do crescimento do número de óbidos em domicílio, respondem em grande parte o excesso de mortes no em 2020."
   ]
  }
 ],
 "metadata": {
  "kernelspec": {
   "display_name": "Python 3",
   "language": "python",
   "name": "python3"
  },
  "language_info": {
   "codemirror_mode": {
    "name": "ipython",
    "version": 3
   },
   "file_extension": ".py",
   "mimetype": "text/x-python",
   "name": "python",
   "nbconvert_exporter": "python",
   "pygments_lexer": "ipython3",
   "version": "3.7.7"
  }
 },
 "nbformat": 4,
 "nbformat_minor": 4
}
