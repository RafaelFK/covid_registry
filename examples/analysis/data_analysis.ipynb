{
 "cells": [
  {
   "cell_type": "code",
   "execution_count": null,
   "metadata": {},
   "outputs": [],
   "source": [
    "from pathlib import Path\n",
    "import pandas as pd\n",
    "import matplotlib.pyplot as plt\n",
    "from  matplotlib.dates import AutoDateLocator, AutoDateFormatter\n",
    "import matplotlib.ticker as ticker"
   ]
  },
  {
   "cell_type": "markdown",
   "metadata": {},
   "source": [
    "# Analisando os dados de Óbitos no Rio de Janeiro"
   ]
  },
  {
   "cell_type": "markdown",
   "metadata": {},
   "source": [
    "Vamos exemplificar algumas consultas e visualizações dos dados de óbitos da região metropolitana do Rio de Janeiro. Esses dados estão divididos em tabelas referentes aos meses de janeiro à maio. Precisaremos primeiro importá-los e, em seguida, poderemos fazer vários tipos de consulta sobre eles:"
   ]
  },
  {
   "cell_type": "markdown",
   "metadata": {},
   "source": [
    "## 1. Importação e preparação dos dados"
   ]
  },
  {
   "cell_type": "markdown",
   "metadata": {},
   "source": [
    "Primeiro, criamos uma lista com os caminhos dos arquivos que precisamos:"
   ]
  },
  {
   "cell_type": "code",
   "execution_count": 2,
   "metadata": {},
   "outputs": [
    {
     "data": {
      "text/plain": [
       "[PosixPath('maio/grande_rio_maio.csv'),\n",
       " PosixPath('abril/grande_rio_abril.csv'),\n",
       " PosixPath('fevereiro/grande_rio_fevereiro.csv'),\n",
       " PosixPath('janeiro/grande_rio_janeiro.csv'),\n",
       " PosixPath('marco/grande_rio_marco.csv'),\n",
       " PosixPath('Capitais/obitos_covid_capitais.csv')]"
      ]
     },
     "execution_count": 2,
     "metadata": {},
     "output_type": "execute_result"
    }
   ],
   "source": [
    "p = Path('.')\n",
    "paths = list(p.glob('*/*.csv'))\n",
    "paths"
   ]
  },
  {
   "cell_type": "markdown",
   "metadata": {},
   "source": [
    "São apenas os cinco primeiros da lista. Excuímos o último:"
   ]
  },
  {
   "cell_type": "code",
   "execution_count": 3,
   "metadata": {},
   "outputs": [
    {
     "data": {
      "text/plain": [
       "[PosixPath('maio/grande_rio_maio.csv'),\n",
       " PosixPath('abril/grande_rio_abril.csv'),\n",
       " PosixPath('fevereiro/grande_rio_fevereiro.csv'),\n",
       " PosixPath('janeiro/grande_rio_janeiro.csv'),\n",
       " PosixPath('marco/grande_rio_marco.csv')]"
      ]
     },
     "execution_count": 3,
     "metadata": {},
     "output_type": "execute_result"
    }
   ],
   "source": [
    "paths = paths[:-1]\n",
    "paths"
   ]
  },
  {
   "cell_type": "markdown",
   "metadata": {},
   "source": [
    "Agora, importamos cada um deles como um Data Frame independente:"
   ]
  },
  {
   "cell_type": "code",
   "execution_count": 4,
   "metadata": {},
   "outputs": [],
   "source": [
    "dataframes = [\n",
    "    pd.read_csv(\n",
    "        path,\n",
    "        usecols=['Date', 'State', 'City', 'Age', 'Gender', 'Place of Death', 'Cause' ,'#',],\n",
    "        parse_dates=[0],\n",
    "        index_col=0\n",
    "    )\n",
    "    for path in paths\n",
    "]"
   ]
  },
  {
   "cell_type": "markdown",
   "metadata": {},
   "source": [
    "Vamos verificar as cinco primeiras linhas do primeiro Data Frame para ver se está tudo certo:"
   ]
  },
  {
   "cell_type": "code",
   "execution_count": 5,
   "metadata": {},
   "outputs": [
    {
     "data": {
      "text/html": [
       "<div>\n",
       "<style scoped>\n",
       "    .dataframe tbody tr th:only-of-type {\n",
       "        vertical-align: middle;\n",
       "    }\n",
       "\n",
       "    .dataframe tbody tr th {\n",
       "        vertical-align: top;\n",
       "    }\n",
       "\n",
       "    .dataframe thead th {\n",
       "        text-align: right;\n",
       "    }\n",
       "</style>\n",
       "<table border=\"1\" class=\"dataframe\">\n",
       "  <thead>\n",
       "    <tr style=\"text-align: right;\">\n",
       "      <th></th>\n",
       "      <th>State</th>\n",
       "      <th>City</th>\n",
       "      <th>Age</th>\n",
       "      <th>Gender</th>\n",
       "      <th>Place of Death</th>\n",
       "      <th>Cause</th>\n",
       "      <th>#</th>\n",
       "    </tr>\n",
       "    <tr>\n",
       "      <th>Date</th>\n",
       "      <th></th>\n",
       "      <th></th>\n",
       "      <th></th>\n",
       "      <th></th>\n",
       "      <th></th>\n",
       "      <th></th>\n",
       "      <th></th>\n",
       "    </tr>\n",
       "  </thead>\n",
       "  <tbody>\n",
       "    <tr>\n",
       "      <th>2019-05-01</th>\n",
       "      <td>RJ</td>\n",
       "      <td>Rio de Janeiro</td>\n",
       "      <td>&lt; 9</td>\n",
       "      <td>M</td>\n",
       "      <td>HOSPITAL</td>\n",
       "      <td>OUTRAS</td>\n",
       "      <td>1</td>\n",
       "    </tr>\n",
       "    <tr>\n",
       "      <th>2019-05-01</th>\n",
       "      <td>RJ</td>\n",
       "      <td>Rio de Janeiro</td>\n",
       "      <td>&lt; 9</td>\n",
       "      <td>M</td>\n",
       "      <td>HOSPITAL</td>\n",
       "      <td>PNEUMONIA</td>\n",
       "      <td>1</td>\n",
       "    </tr>\n",
       "    <tr>\n",
       "      <th>2019-05-01</th>\n",
       "      <td>RJ</td>\n",
       "      <td>Rio de Janeiro</td>\n",
       "      <td>10 - 19</td>\n",
       "      <td>M</td>\n",
       "      <td>HOSPITAL</td>\n",
       "      <td>OUTRAS</td>\n",
       "      <td>1</td>\n",
       "    </tr>\n",
       "    <tr>\n",
       "      <th>2020-05-01</th>\n",
       "      <td>RJ</td>\n",
       "      <td>Rio de Janeiro</td>\n",
       "      <td>10 - 19</td>\n",
       "      <td>M</td>\n",
       "      <td>HOSPITAL</td>\n",
       "      <td>OUTRAS</td>\n",
       "      <td>2</td>\n",
       "    </tr>\n",
       "    <tr>\n",
       "      <th>2019-05-01</th>\n",
       "      <td>RJ</td>\n",
       "      <td>Rio de Janeiro</td>\n",
       "      <td>20 - 29</td>\n",
       "      <td>M</td>\n",
       "      <td>HOSPITAL</td>\n",
       "      <td>SEPTICEMIA</td>\n",
       "      <td>1</td>\n",
       "    </tr>\n",
       "  </tbody>\n",
       "</table>\n",
       "</div>"
      ],
      "text/plain": [
       "           State            City      Age Gender Place of Death       Cause  #\n",
       "Date                                                                          \n",
       "2019-05-01    RJ  Rio de Janeiro      < 9      M       HOSPITAL      OUTRAS  1\n",
       "2019-05-01    RJ  Rio de Janeiro      < 9      M       HOSPITAL   PNEUMONIA  1\n",
       "2019-05-01    RJ  Rio de Janeiro  10 - 19      M       HOSPITAL      OUTRAS  1\n",
       "2020-05-01    RJ  Rio de Janeiro  10 - 19      M       HOSPITAL      OUTRAS  2\n",
       "2019-05-01    RJ  Rio de Janeiro  20 - 29      M       HOSPITAL  SEPTICEMIA  1"
      ]
     },
     "execution_count": 5,
     "metadata": {},
     "output_type": "execute_result"
    }
   ],
   "source": [
    "dataframes[0].head()"
   ]
  },
  {
   "cell_type": "markdown",
   "metadata": {},
   "source": [
    "Como vamos querer analisar os dados como um todo, vamos juntar todos esses Data Frames em um só e ordená-lo:"
   ]
  },
  {
   "cell_type": "code",
   "execution_count": 6,
   "metadata": {},
   "outputs": [],
   "source": [
    "# Concatenando data frames\n",
    "obitos_df = pd.concat(dataframes)\n",
    "\n",
    "# Ordenando o data frame\n",
    "obitos_df.sort_values(by=['Date', 'State', 'City', 'Age', 'Gender', 'Place of Death', 'Cause'], axis=0, inplace=True)"
   ]
  },
  {
   "cell_type": "code",
   "execution_count": 7,
   "metadata": {},
   "outputs": [
    {
     "data": {
      "text/html": [
       "<div>\n",
       "<style scoped>\n",
       "    .dataframe tbody tr th:only-of-type {\n",
       "        vertical-align: middle;\n",
       "    }\n",
       "\n",
       "    .dataframe tbody tr th {\n",
       "        vertical-align: top;\n",
       "    }\n",
       "\n",
       "    .dataframe thead th {\n",
       "        text-align: right;\n",
       "    }\n",
       "</style>\n",
       "<table border=\"1\" class=\"dataframe\">\n",
       "  <thead>\n",
       "    <tr style=\"text-align: right;\">\n",
       "      <th></th>\n",
       "      <th>State</th>\n",
       "      <th>City</th>\n",
       "      <th>Age</th>\n",
       "      <th>Gender</th>\n",
       "      <th>Place of Death</th>\n",
       "      <th>Cause</th>\n",
       "      <th>#</th>\n",
       "    </tr>\n",
       "    <tr>\n",
       "      <th>Date</th>\n",
       "      <th></th>\n",
       "      <th></th>\n",
       "      <th></th>\n",
       "      <th></th>\n",
       "      <th></th>\n",
       "      <th></th>\n",
       "      <th></th>\n",
       "    </tr>\n",
       "  </thead>\n",
       "  <tbody>\n",
       "    <tr>\n",
       "      <th>2019-01-01</th>\n",
       "      <td>RJ</td>\n",
       "      <td>Belford Roxo</td>\n",
       "      <td>30 - 39</td>\n",
       "      <td>F</td>\n",
       "      <td>HOSPITAL</td>\n",
       "      <td>INSUFICIENCIA_RESPIRATORIA</td>\n",
       "      <td>1</td>\n",
       "    </tr>\n",
       "    <tr>\n",
       "      <th>2019-01-01</th>\n",
       "      <td>RJ</td>\n",
       "      <td>Belford Roxo</td>\n",
       "      <td>60 - 69</td>\n",
       "      <td>M</td>\n",
       "      <td>HOSPITAL</td>\n",
       "      <td>SEPTICEMIA</td>\n",
       "      <td>1</td>\n",
       "    </tr>\n",
       "    <tr>\n",
       "      <th>2019-01-01</th>\n",
       "      <td>RJ</td>\n",
       "      <td>Belford Roxo</td>\n",
       "      <td>80 - 89</td>\n",
       "      <td>F</td>\n",
       "      <td>HOSPITAL</td>\n",
       "      <td>OUTRAS</td>\n",
       "      <td>1</td>\n",
       "    </tr>\n",
       "    <tr>\n",
       "      <th>2019-01-01</th>\n",
       "      <td>RJ</td>\n",
       "      <td>Belford Roxo</td>\n",
       "      <td>90 - 99</td>\n",
       "      <td>F</td>\n",
       "      <td>DOMICILIO</td>\n",
       "      <td>OUTRAS</td>\n",
       "      <td>1</td>\n",
       "    </tr>\n",
       "    <tr>\n",
       "      <th>2019-01-01</th>\n",
       "      <td>RJ</td>\n",
       "      <td>Duque de Caxias</td>\n",
       "      <td>20 - 29</td>\n",
       "      <td>M</td>\n",
       "      <td>VIA_PUBLICA</td>\n",
       "      <td>OUTRAS</td>\n",
       "      <td>1</td>\n",
       "    </tr>\n",
       "  </tbody>\n",
       "</table>\n",
       "</div>"
      ],
      "text/plain": [
       "           State             City      Age Gender Place of Death  \\\n",
       "Date                                                               \n",
       "2019-01-01    RJ     Belford Roxo  30 - 39      F       HOSPITAL   \n",
       "2019-01-01    RJ     Belford Roxo  60 - 69      M       HOSPITAL   \n",
       "2019-01-01    RJ     Belford Roxo  80 - 89      F       HOSPITAL   \n",
       "2019-01-01    RJ     Belford Roxo  90 - 99      F      DOMICILIO   \n",
       "2019-01-01    RJ  Duque de Caxias  20 - 29      M    VIA_PUBLICA   \n",
       "\n",
       "                                 Cause  #  \n",
       "Date                                       \n",
       "2019-01-01  INSUFICIENCIA_RESPIRATORIA  1  \n",
       "2019-01-01                  SEPTICEMIA  1  \n",
       "2019-01-01                      OUTRAS  1  \n",
       "2019-01-01                      OUTRAS  1  \n",
       "2019-01-01                      OUTRAS  1  "
      ]
     },
     "execution_count": 7,
     "metadata": {},
     "output_type": "execute_result"
    }
   ],
   "source": [
    "obitos_df.head()"
   ]
  },
  {
   "cell_type": "code",
   "execution_count": 8,
   "metadata": {},
   "outputs": [
    {
     "data": {
      "text/html": [
       "<div>\n",
       "<style scoped>\n",
       "    .dataframe tbody tr th:only-of-type {\n",
       "        vertical-align: middle;\n",
       "    }\n",
       "\n",
       "    .dataframe tbody tr th {\n",
       "        vertical-align: top;\n",
       "    }\n",
       "\n",
       "    .dataframe thead th {\n",
       "        text-align: right;\n",
       "    }\n",
       "</style>\n",
       "<table border=\"1\" class=\"dataframe\">\n",
       "  <thead>\n",
       "    <tr style=\"text-align: right;\">\n",
       "      <th></th>\n",
       "      <th>State</th>\n",
       "      <th>City</th>\n",
       "      <th>Age</th>\n",
       "      <th>Gender</th>\n",
       "      <th>Place of Death</th>\n",
       "      <th>Cause</th>\n",
       "      <th>#</th>\n",
       "    </tr>\n",
       "    <tr>\n",
       "      <th>Date</th>\n",
       "      <th></th>\n",
       "      <th></th>\n",
       "      <th></th>\n",
       "      <th></th>\n",
       "      <th></th>\n",
       "      <th></th>\n",
       "      <th></th>\n",
       "    </tr>\n",
       "  </thead>\n",
       "  <tbody>\n",
       "    <tr>\n",
       "      <th>2020-05-31</th>\n",
       "      <td>RJ</td>\n",
       "      <td>São Gonçalo</td>\n",
       "      <td>60 - 69</td>\n",
       "      <td>M</td>\n",
       "      <td>HOSPITAL</td>\n",
       "      <td>COVID</td>\n",
       "      <td>1</td>\n",
       "    </tr>\n",
       "    <tr>\n",
       "      <th>2020-05-31</th>\n",
       "      <td>RJ</td>\n",
       "      <td>São Gonçalo</td>\n",
       "      <td>60 - 69</td>\n",
       "      <td>M</td>\n",
       "      <td>HOSPITAL</td>\n",
       "      <td>PNEUMONIA</td>\n",
       "      <td>1</td>\n",
       "    </tr>\n",
       "    <tr>\n",
       "      <th>2020-05-31</th>\n",
       "      <td>RJ</td>\n",
       "      <td>São Gonçalo</td>\n",
       "      <td>70 - 79</td>\n",
       "      <td>F</td>\n",
       "      <td>HOSPITAL</td>\n",
       "      <td>OUTRAS</td>\n",
       "      <td>2</td>\n",
       "    </tr>\n",
       "    <tr>\n",
       "      <th>2020-05-31</th>\n",
       "      <td>RJ</td>\n",
       "      <td>São Gonçalo</td>\n",
       "      <td>70 - 79</td>\n",
       "      <td>F</td>\n",
       "      <td>OUTROS</td>\n",
       "      <td>OUTRAS</td>\n",
       "      <td>1</td>\n",
       "    </tr>\n",
       "    <tr>\n",
       "      <th>2020-05-31</th>\n",
       "      <td>RJ</td>\n",
       "      <td>Tanguá</td>\n",
       "      <td>70 - 79</td>\n",
       "      <td>F</td>\n",
       "      <td>DOMICILIO</td>\n",
       "      <td>OUTRAS</td>\n",
       "      <td>1</td>\n",
       "    </tr>\n",
       "  </tbody>\n",
       "</table>\n",
       "</div>"
      ],
      "text/plain": [
       "           State         City      Age Gender Place of Death      Cause  #\n",
       "Date                                                                      \n",
       "2020-05-31    RJ  São Gonçalo  60 - 69      M       HOSPITAL      COVID  1\n",
       "2020-05-31    RJ  São Gonçalo  60 - 69      M       HOSPITAL  PNEUMONIA  1\n",
       "2020-05-31    RJ  São Gonçalo  70 - 79      F       HOSPITAL     OUTRAS  2\n",
       "2020-05-31    RJ  São Gonçalo  70 - 79      F         OUTROS     OUTRAS  1\n",
       "2020-05-31    RJ       Tanguá  70 - 79      F      DOMICILIO     OUTRAS  1"
      ]
     },
     "execution_count": 8,
     "metadata": {},
     "output_type": "execute_result"
    }
   ],
   "source": [
    "obitos_df.tail()"
   ]
  },
  {
   "cell_type": "markdown",
   "metadata": {},
   "source": [
    "## 2. Análise de Dados"
   ]
  },
  {
   "cell_type": "markdown",
   "metadata": {},
   "source": [
    "Tendo todos os nossos dados de interesse em uma estrutura conveniente como um data frame, podemos realizar uma uma ampla gama de sumarizações e visualizações, usando as funcionalidades providas pelas bibliotecas ```pandas``` e ```matplotlib```. É interessante notar que, apesar de termos de usar comandos diferentes para produzir cada visualização, a lógica subjacente é sempre a mesma e recebe o nome de [Split-Apply-Combine Strategy](http://vita.had.co.nz/papers/plyr.pdf)."
   ]
  },
  {
   "cell_type": "markdown",
   "metadata": {},
   "source": [
    "### 2.1 Comparando óbitos entre 2019 e 2020"
   ]
  },
  {
   "cell_type": "markdown",
   "metadata": {},
   "source": [
    "Uma primeira pergunta básica que podemos fazer é: qual o total de óbitos registrados?"
   ]
  },
  {
   "cell_type": "code",
   "execution_count": 9,
   "metadata": {},
   "outputs": [
    {
     "data": {
      "text/html": [
       "<div>\n",
       "<style scoped>\n",
       "    .dataframe tbody tr th:only-of-type {\n",
       "        vertical-align: middle;\n",
       "    }\n",
       "\n",
       "    .dataframe tbody tr th {\n",
       "        vertical-align: top;\n",
       "    }\n",
       "\n",
       "    .dataframe thead th {\n",
       "        text-align: right;\n",
       "    }\n",
       "</style>\n",
       "<table border=\"1\" class=\"dataframe\">\n",
       "  <thead>\n",
       "    <tr style=\"text-align: right;\">\n",
       "      <th></th>\n",
       "      <th>#</th>\n",
       "    </tr>\n",
       "    <tr>\n",
       "      <th>Date</th>\n",
       "      <th></th>\n",
       "    </tr>\n",
       "  </thead>\n",
       "  <tbody>\n",
       "    <tr>\n",
       "      <th>2019</th>\n",
       "      <td>39101</td>\n",
       "    </tr>\n",
       "    <tr>\n",
       "      <th>2020</th>\n",
       "      <td>46815</td>\n",
       "    </tr>\n",
       "  </tbody>\n",
       "</table>\n",
       "</div>"
      ],
      "text/plain": [
       "          #\n",
       "Date       \n",
       "2019  39101\n",
       "2020  46815"
      ]
     },
     "execution_count": 9,
     "metadata": {},
     "output_type": "execute_result"
    }
   ],
   "source": [
    "obitos_by_year = obitos_df.groupby([obitos_df.index.year]).sum()\n",
    "obitos_by_year"
   ]
  },
  {
   "cell_type": "markdown",
   "metadata": {},
   "source": [
    "O que fizemos aqui foi agrupar os óbitos registrados por seus respectivos anos e, em seguida, somar os óbitos em seus grupos. "
   ]
  },
  {
   "cell_type": "markdown",
   "metadata": {},
   "source": [
    "É fácil agora plotar esse resultado:"
   ]
  },
  {
   "cell_type": "code",
   "execution_count": 10,
   "metadata": {},
   "outputs": [
    {
     "data": {
      "image/png": "[encoded data removed]",
      "text/plain": [
       "<Figure size 432x288 with 1 Axes>"
      ]
     },
     "metadata": {
      "needs_background": "light"
     },
     "output_type": "display_data"
    }
   ],
   "source": [
    "obitos_by_year.plot.bar(rot=0);"
   ]
  },
  {
   "cell_type": "markdown",
   "metadata": {},
   "source": [
    "Poderíamos ter também plotado a transposta desse data frame, que produz um resultado mais bonito:"
   ]
  },
  {
   "cell_type": "code",
   "execution_count": 11,
   "metadata": {},
   "outputs": [
    {
     "data": {
      "image/png": "[encoded data removed]",
      "text/plain": [
       "<Figure size 432x288 with 1 Axes>"
      ]
     },
     "metadata": {
      "needs_background": "light"
     },
     "output_type": "display_data"
    }
   ],
   "source": [
    "obitos_by_year.T.plot.bar(rot=0);"
   ]
  },
  {
   "cell_type": "markdown",
   "metadata": {},
   "source": [
    "## 2.2. Estratificando por causa"
   ]
  },
  {
   "cell_type": "markdown",
   "metadata": {},
   "source": [
    "Se quiséssemos continuar comparando os dois anos, mas estratificar os óbitos em função da causa declarada?"
   ]
  },
  {
   "cell_type": "code",
   "execution_count": 12,
   "metadata": {},
   "outputs": [
    {
     "data": {
      "text/html": [
       "<div>\n",
       "<style scoped>\n",
       "    .dataframe tbody tr th:only-of-type {\n",
       "        vertical-align: middle;\n",
       "    }\n",
       "\n",
       "    .dataframe tbody tr th {\n",
       "        vertical-align: top;\n",
       "    }\n",
       "\n",
       "    .dataframe thead th {\n",
       "        text-align: right;\n",
       "    }\n",
       "</style>\n",
       "<table border=\"1\" class=\"dataframe\">\n",
       "  <thead>\n",
       "    <tr style=\"text-align: right;\">\n",
       "      <th></th>\n",
       "      <th></th>\n",
       "      <th>#</th>\n",
       "    </tr>\n",
       "    <tr>\n",
       "      <th>Date</th>\n",
       "      <th>Cause</th>\n",
       "      <th></th>\n",
       "    </tr>\n",
       "  </thead>\n",
       "  <tbody>\n",
       "    <tr>\n",
       "      <th rowspan=\"6\" valign=\"top\">2019</th>\n",
       "      <th>INDETERMINADA</th>\n",
       "      <td>12</td>\n",
       "    </tr>\n",
       "    <tr>\n",
       "      <th>INSUFICIENCIA_RESPIRATORIA</th>\n",
       "      <td>2534</td>\n",
       "    </tr>\n",
       "    <tr>\n",
       "      <th>OUTRAS</th>\n",
       "      <td>22179</td>\n",
       "    </tr>\n",
       "    <tr>\n",
       "      <th>PNEUMONIA</th>\n",
       "      <td>6955</td>\n",
       "    </tr>\n",
       "    <tr>\n",
       "      <th>SEPTICEMIA</th>\n",
       "      <td>7389</td>\n",
       "    </tr>\n",
       "    <tr>\n",
       "      <th>SRAG</th>\n",
       "      <td>32</td>\n",
       "    </tr>\n",
       "    <tr>\n",
       "      <th rowspan=\"7\" valign=\"top\">2020</th>\n",
       "      <th>COVID</th>\n",
       "      <td>7023</td>\n",
       "    </tr>\n",
       "    <tr>\n",
       "      <th>INDETERMINADA</th>\n",
       "      <td>694</td>\n",
       "    </tr>\n",
       "    <tr>\n",
       "      <th>INSUFICIENCIA_RESPIRATORIA</th>\n",
       "      <td>2988</td>\n",
       "    </tr>\n",
       "    <tr>\n",
       "      <th>OUTRAS</th>\n",
       "      <td>21960</td>\n",
       "    </tr>\n",
       "    <tr>\n",
       "      <th>PNEUMONIA</th>\n",
       "      <td>7094</td>\n",
       "    </tr>\n",
       "    <tr>\n",
       "      <th>SEPTICEMIA</th>\n",
       "      <td>6230</td>\n",
       "    </tr>\n",
       "    <tr>\n",
       "      <th>SRAG</th>\n",
       "      <td>826</td>\n",
       "    </tr>\n",
       "  </tbody>\n",
       "</table>\n",
       "</div>"
      ],
      "text/plain": [
       "                                     #\n",
       "Date Cause                            \n",
       "2019 INDETERMINADA                  12\n",
       "     INSUFICIENCIA_RESPIRATORIA   2534\n",
       "     OUTRAS                      22179\n",
       "     PNEUMONIA                    6955\n",
       "     SEPTICEMIA                   7389\n",
       "     SRAG                           32\n",
       "2020 COVID                        7023\n",
       "     INDETERMINADA                 694\n",
       "     INSUFICIENCIA_RESPIRATORIA   2988\n",
       "     OUTRAS                      21960\n",
       "     PNEUMONIA                    7094\n",
       "     SEPTICEMIA                   6230\n",
       "     SRAG                          826"
      ]
     },
     "execution_count": 12,
     "metadata": {},
     "output_type": "execute_result"
    }
   ],
   "source": [
    "obitos_by_year_cause = obitos_df.groupby([obitos_df.index.year, obitos_df.Cause]).sum()\n",
    "obitos_by_year_cause"
   ]
  },
  {
   "cell_type": "markdown",
   "metadata": {},
   "source": [
    "Para que possamos plotar esse resultado de forma conveniente, temos que fazer algumas transformações no data frame. Primeiro, transformar as causas em colunas:"
   ]
  },
  {
   "cell_type": "code",
   "execution_count": 13,
   "metadata": {},
   "outputs": [
    {
     "data": {
      "text/html": [
       "<div>\n",
       "<style scoped>\n",
       "    .dataframe tbody tr th:only-of-type {\n",
       "        vertical-align: middle;\n",
       "    }\n",
       "\n",
       "    .dataframe tbody tr th {\n",
       "        vertical-align: top;\n",
       "    }\n",
       "\n",
       "    .dataframe thead th {\n",
       "        text-align: right;\n",
       "    }\n",
       "</style>\n",
       "<table border=\"1\" class=\"dataframe\">\n",
       "  <thead>\n",
       "    <tr style=\"text-align: right;\">\n",
       "      <th>Cause</th>\n",
       "      <th>COVID</th>\n",
       "      <th>INDETERMINADA</th>\n",
       "      <th>INSUFICIENCIA_RESPIRATORIA</th>\n",
       "      <th>OUTRAS</th>\n",
       "      <th>PNEUMONIA</th>\n",
       "      <th>SEPTICEMIA</th>\n",
       "      <th>SRAG</th>\n",
       "    </tr>\n",
       "    <tr>\n",
       "      <th>Date</th>\n",
       "      <th></th>\n",
       "      <th></th>\n",
       "      <th></th>\n",
       "      <th></th>\n",
       "      <th></th>\n",
       "      <th></th>\n",
       "      <th></th>\n",
       "    </tr>\n",
       "  </thead>\n",
       "  <tbody>\n",
       "    <tr>\n",
       "      <th>2019</th>\n",
       "      <td>0</td>\n",
       "      <td>12</td>\n",
       "      <td>2534</td>\n",
       "      <td>22179</td>\n",
       "      <td>6955</td>\n",
       "      <td>7389</td>\n",
       "      <td>32</td>\n",
       "    </tr>\n",
       "    <tr>\n",
       "      <th>2020</th>\n",
       "      <td>7023</td>\n",
       "      <td>694</td>\n",
       "      <td>2988</td>\n",
       "      <td>21960</td>\n",
       "      <td>7094</td>\n",
       "      <td>6230</td>\n",
       "      <td>826</td>\n",
       "    </tr>\n",
       "  </tbody>\n",
       "</table>\n",
       "</div>"
      ],
      "text/plain": [
       "Cause  COVID  INDETERMINADA  INSUFICIENCIA_RESPIRATORIA  OUTRAS  PNEUMONIA  \\\n",
       "Date                                                                         \n",
       "2019       0             12                        2534   22179       6955   \n",
       "2020    7023            694                        2988   21960       7094   \n",
       "\n",
       "Cause  SEPTICEMIA  SRAG  \n",
       "Date                     \n",
       "2019         7389    32  \n",
       "2020         6230   826  "
      ]
     },
     "execution_count": 13,
     "metadata": {},
     "output_type": "execute_result"
    }
   ],
   "source": [
    "obitos_by_year_cause = obitos_by_year_cause.unstack(fill_value=0) # Fill_value=0 faz com que o dado faltante de covid em 2019 seja preenchido com zero\n",
    "obitos_by_year_cause.columns = obitos_by_year_cause.columns.droplevel() # Simplificando a rotulação das colunas\n",
    "obitos_by_year_cause"
   ]
  },
  {
   "cell_type": "code",
   "execution_count": 14,
   "metadata": {},
   "outputs": [
    {
     "data": {
      "image/png": "[encoded data removed]",
      "text/plain": [
       "<Figure size 432x288 with 1 Axes>"
      ]
     },
     "metadata": {
      "needs_background": "light"
     },
     "output_type": "display_data"
    }
   ],
   "source": [
    "obitos_by_year_cause.plot.bar(rot=0, width=.9);"
   ]
  },
  {
   "cell_type": "markdown",
   "metadata": {},
   "source": [
    "Esse gráfico torna extremamente evidente que o número oficial de óbitos por COVID19 subestima o excedente de mortos provavelmente acarretados pela pandemia."
   ]
  },
  {
   "cell_type": "markdown",
   "metadata": {},
   "source": [
    "Desse resultado também podemos plotar apenas certas causas:"
   ]
  },
  {
   "cell_type": "code",
   "execution_count": 15,
   "metadata": {},
   "outputs": [
    {
     "data": {
      "image/png": "[encoded data removed]",
      "text/plain": [
       "<Figure size 432x288 with 1 Axes>"
      ]
     },
     "metadata": {
      "needs_background": "light"
     },
     "output_type": "display_data"
    }
   ],
   "source": [
    "obitos_by_year_cause.plot.bar(rot=0, width=.9, y=['SRAG', 'INDETERMINADA']);"
   ]
  },
  {
   "cell_type": "markdown",
   "metadata": {},
   "source": [
    "Esse gráfico escancara ainda mais que casos de COVID quase que certamente estão sendo erroneamente classificados."
   ]
  },
  {
   "cell_type": "markdown",
   "metadata": {},
   "source": [
    "Podemos também plotar o primeiro gráfico excetuando a causa 'OUTRAS', que dificulta a visualização das demais:"
   ]
  },
  {
   "cell_type": "code",
   "execution_count": 16,
   "metadata": {},
   "outputs": [
    {
     "data": {
      "image/png": "[encoded data removed]",
      "text/plain": [
       "<Figure size 432x288 with 1 Axes>"
      ]
     },
     "metadata": {
      "needs_background": "light"
     },
     "output_type": "display_data"
    }
   ],
   "source": [
    "obitos_by_year_cause.plot.bar(rot=0, width=.9, y=obitos_by_year_cause.columns.difference(['OUTRAS']));"
   ]
  },
  {
   "cell_type": "markdown",
   "metadata": {},
   "source": [
    "## 2.3. Por local de óbito"
   ]
  },
  {
   "cell_type": "markdown",
   "metadata": {},
   "source": [
    "Vamos agora observar como a taxa de óbitos mudou entre os dois anos relativo aos locais de óbito. O procedimento é similar ao realizado na última análise:"
   ]
  },
  {
   "cell_type": "code",
   "execution_count": 17,
   "metadata": {},
   "outputs": [
    {
     "data": {
      "text/html": [
       "<div>\n",
       "<style scoped>\n",
       "    .dataframe tbody tr th:only-of-type {\n",
       "        vertical-align: middle;\n",
       "    }\n",
       "\n",
       "    .dataframe tbody tr th {\n",
       "        vertical-align: top;\n",
       "    }\n",
       "\n",
       "    .dataframe thead th {\n",
       "        text-align: right;\n",
       "    }\n",
       "</style>\n",
       "<table border=\"1\" class=\"dataframe\">\n",
       "  <thead>\n",
       "    <tr style=\"text-align: right;\">\n",
       "      <th></th>\n",
       "      <th></th>\n",
       "      <th>#</th>\n",
       "    </tr>\n",
       "    <tr>\n",
       "      <th>Date</th>\n",
       "      <th>Place of Death</th>\n",
       "      <th></th>\n",
       "    </tr>\n",
       "  </thead>\n",
       "  <tbody>\n",
       "    <tr>\n",
       "      <th rowspan=\"4\" valign=\"top\">2019</th>\n",
       "      <th>DOMICILIO</th>\n",
       "      <td>5152</td>\n",
       "    </tr>\n",
       "    <tr>\n",
       "      <th>HOSPITAL</th>\n",
       "      <td>33079</td>\n",
       "    </tr>\n",
       "    <tr>\n",
       "      <th>OUTROS</th>\n",
       "      <td>744</td>\n",
       "    </tr>\n",
       "    <tr>\n",
       "      <th>VIA_PUBLICA</th>\n",
       "      <td>126</td>\n",
       "    </tr>\n",
       "    <tr>\n",
       "      <th rowspan=\"4\" valign=\"top\">2020</th>\n",
       "      <th>DOMICILIO</th>\n",
       "      <td>6772</td>\n",
       "    </tr>\n",
       "    <tr>\n",
       "      <th>HOSPITAL</th>\n",
       "      <td>39066</td>\n",
       "    </tr>\n",
       "    <tr>\n",
       "      <th>OUTROS</th>\n",
       "      <td>758</td>\n",
       "    </tr>\n",
       "    <tr>\n",
       "      <th>VIA_PUBLICA</th>\n",
       "      <td>219</td>\n",
       "    </tr>\n",
       "  </tbody>\n",
       "</table>\n",
       "</div>"
      ],
      "text/plain": [
       "                         #\n",
       "Date Place of Death       \n",
       "2019 DOMICILIO        5152\n",
       "     HOSPITAL        33079\n",
       "     OUTROS            744\n",
       "     VIA_PUBLICA       126\n",
       "2020 DOMICILIO        6772\n",
       "     HOSPITAL        39066\n",
       "     OUTROS            758\n",
       "     VIA_PUBLICA       219"
      ]
     },
     "execution_count": 17,
     "metadata": {},
     "output_type": "execute_result"
    }
   ],
   "source": [
    "obitos_by_year_place = obitos_df.groupby([obitos_df.index.year, obitos_df['Place of Death']]).sum()\n",
    "obitos_by_year_place"
   ]
  },
  {
   "cell_type": "code",
   "execution_count": 18,
   "metadata": {},
   "outputs": [
    {
     "data": {
      "text/html": [
       "<div>\n",
       "<style scoped>\n",
       "    .dataframe tbody tr th:only-of-type {\n",
       "        vertical-align: middle;\n",
       "    }\n",
       "\n",
       "    .dataframe tbody tr th {\n",
       "        vertical-align: top;\n",
       "    }\n",
       "\n",
       "    .dataframe thead th {\n",
       "        text-align: right;\n",
       "    }\n",
       "</style>\n",
       "<table border=\"1\" class=\"dataframe\">\n",
       "  <thead>\n",
       "    <tr style=\"text-align: right;\">\n",
       "      <th>Place of Death</th>\n",
       "      <th>DOMICILIO</th>\n",
       "      <th>HOSPITAL</th>\n",
       "      <th>OUTROS</th>\n",
       "      <th>VIA_PUBLICA</th>\n",
       "    </tr>\n",
       "    <tr>\n",
       "      <th>Date</th>\n",
       "      <th></th>\n",
       "      <th></th>\n",
       "      <th></th>\n",
       "      <th></th>\n",
       "    </tr>\n",
       "  </thead>\n",
       "  <tbody>\n",
       "    <tr>\n",
       "      <th>2019</th>\n",
       "      <td>5152</td>\n",
       "      <td>33079</td>\n",
       "      <td>744</td>\n",
       "      <td>126</td>\n",
       "    </tr>\n",
       "    <tr>\n",
       "      <th>2020</th>\n",
       "      <td>6772</td>\n",
       "      <td>39066</td>\n",
       "      <td>758</td>\n",
       "      <td>219</td>\n",
       "    </tr>\n",
       "  </tbody>\n",
       "</table>\n",
       "</div>"
      ],
      "text/plain": [
       "Place of Death  DOMICILIO  HOSPITAL  OUTROS  VIA_PUBLICA\n",
       "Date                                                    \n",
       "2019                 5152     33079     744          126\n",
       "2020                 6772     39066     758          219"
      ]
     },
     "execution_count": 18,
     "metadata": {},
     "output_type": "execute_result"
    }
   ],
   "source": [
    "obitos_by_year_place = obitos_by_year_place.unstack(fill_value=0)\n",
    "obitos_by_year_place.columns = obitos_by_year_place.columns.droplevel()\n",
    "obitos_by_year_place"
   ]
  },
  {
   "cell_type": "code",
   "execution_count": 19,
   "metadata": {},
   "outputs": [
    {
     "data": {
      "image/png": "[encoded data removed]",
      "text/plain": [
       "<Figure size 432x288 with 1 Axes>"
      ]
     },
     "metadata": {
      "needs_background": "light"
     },
     "output_type": "display_data"
    }
   ],
   "source": [
    "obitos_by_year_place.plot.bar(rot=0, width=.9);"
   ]
  },
  {
   "cell_type": "markdown",
   "metadata": {},
   "source": [
    "Como número de óbitos em hospitais é significativamente maior que todos os outros locais, vamos omití-lo para melhor visualizá-los:"
   ]
  },
  {
   "cell_type": "code",
   "execution_count": 20,
   "metadata": {},
   "outputs": [],
   "source": [
    "y=obitos_by_year_cause.columns.difference(['OUTRAS'])"
   ]
  },
  {
   "cell_type": "code",
   "execution_count": 21,
   "metadata": {},
   "outputs": [
    {
     "data": {
      "image/png": "[encoded data removed]",
      "text/plain": [
       "<Figure size 432x288 with 1 Axes>"
      ]
     },
     "metadata": {
      "needs_background": "light"
     },
     "output_type": "display_data"
    }
   ],
   "source": [
    "obitos_by_year_place.plot.bar(rot=0, width=.9, y=obitos_by_year_place.columns.difference(['HOSPITAL']));"
   ]
  },
  {
   "cell_type": "markdown",
   "metadata": {},
   "source": [
    "O excesso de óbitos domiciliares não é desprezível. Possivelmente evidência uma dificuldade de acesso a cuidados médicos encarados por uma parcela das vítimas da pandêmia"
   ]
  },
  {
   "cell_type": "markdown",
   "metadata": {},
   "source": [
    "## 2.4. Analisando os dados diariamente"
   ]
  },
  {
   "cell_type": "markdown",
   "metadata": {},
   "source": [
    "Até agora, avaliamos os dados sumarizados por seus respectivos anos. Isso, no entanto, não nos permite compreender o impacto da dinâmica de propagação do vírus. Para tal, precisamos usar uma unidade mais granular de tempo."
   ]
  },
  {
   "cell_type": "markdown",
   "metadata": {},
   "source": [
    "### 2.4.1. Indiscriminando causa e local"
   ]
  },
  {
   "cell_type": "markdown",
   "metadata": {},
   "source": [
    "Primeiro, criamos uma função auxiliar para criar os dados sumarizados dia a dia:"
   ]
  },
  {
   "cell_type": "code",
   "execution_count": 22,
   "metadata": {},
   "outputs": [],
   "source": [
    "def df_by_day(df, groupby=[]):\n",
    "    temps = []\n",
    "    for year in ['2019', '2020']:\n",
    "        temp = df[year].reset_index()\n",
    "        temp['date_str'] = list(map(lambda t: '{:02d}-{:02d}'.format(*t), zip(temp['Date'].dt.month, temp['Date'].dt.day)))\n",
    "        temp = temp.groupby([temp.Date.dt.year, temp.date_str, *groupby]).sum().unstack([0]+[2+i for i in range(len(groupby))], fill_value=0)\n",
    "        temp.columns = temp.columns.droplevel()\n",
    "        temps.append(temp)\n",
    "        \n",
    "    return pd.concat(temps, axis=1).sort_index().fillna(0)"
   ]
  },
  {
   "cell_type": "code",
   "execution_count": 25,
   "metadata": {},
   "outputs": [
    {
     "data": {
      "text/html": [
       "<div>\n",
       "<style scoped>\n",
       "    .dataframe tbody tr th:only-of-type {\n",
       "        vertical-align: middle;\n",
       "    }\n",
       "\n",
       "    .dataframe tbody tr th {\n",
       "        vertical-align: top;\n",
       "    }\n",
       "\n",
       "    .dataframe thead th {\n",
       "        text-align: right;\n",
       "    }\n",
       "</style>\n",
       "<table border=\"1\" class=\"dataframe\">\n",
       "  <thead>\n",
       "    <tr style=\"text-align: right;\">\n",
       "      <th>Date</th>\n",
       "      <th>2019</th>\n",
       "      <th>2020</th>\n",
       "    </tr>\n",
       "  </thead>\n",
       "  <tbody>\n",
       "    <tr>\n",
       "      <th>01-01</th>\n",
       "      <td>240.0</td>\n",
       "      <td>297</td>\n",
       "    </tr>\n",
       "    <tr>\n",
       "      <th>01-02</th>\n",
       "      <td>229.0</td>\n",
       "      <td>238</td>\n",
       "    </tr>\n",
       "    <tr>\n",
       "      <th>01-03</th>\n",
       "      <td>262.0</td>\n",
       "      <td>220</td>\n",
       "    </tr>\n",
       "    <tr>\n",
       "      <th>01-04</th>\n",
       "      <td>296.0</td>\n",
       "      <td>219</td>\n",
       "    </tr>\n",
       "    <tr>\n",
       "      <th>01-05</th>\n",
       "      <td>239.0</td>\n",
       "      <td>232</td>\n",
       "    </tr>\n",
       "    <tr>\n",
       "      <th>...</th>\n",
       "      <td>...</td>\n",
       "      <td>...</td>\n",
       "    </tr>\n",
       "    <tr>\n",
       "      <th>05-27</th>\n",
       "      <td>322.0</td>\n",
       "      <td>363</td>\n",
       "    </tr>\n",
       "    <tr>\n",
       "      <th>05-28</th>\n",
       "      <td>303.0</td>\n",
       "      <td>318</td>\n",
       "    </tr>\n",
       "    <tr>\n",
       "      <th>05-29</th>\n",
       "      <td>295.0</td>\n",
       "      <td>291</td>\n",
       "    </tr>\n",
       "    <tr>\n",
       "      <th>05-30</th>\n",
       "      <td>288.0</td>\n",
       "      <td>234</td>\n",
       "    </tr>\n",
       "    <tr>\n",
       "      <th>05-31</th>\n",
       "      <td>302.0</td>\n",
       "      <td>80</td>\n",
       "    </tr>\n",
       "  </tbody>\n",
       "</table>\n",
       "<p>152 rows × 2 columns</p>\n",
       "</div>"
      ],
      "text/plain": [
       "Date    2019  2020\n",
       "01-01  240.0   297\n",
       "01-02  229.0   238\n",
       "01-03  262.0   220\n",
       "01-04  296.0   219\n",
       "01-05  239.0   232\n",
       "...      ...   ...\n",
       "05-27  322.0   363\n",
       "05-28  303.0   318\n",
       "05-29  295.0   291\n",
       "05-30  288.0   234\n",
       "05-31  302.0    80\n",
       "\n",
       "[152 rows x 2 columns]"
      ]
     },
     "execution_count": 25,
     "metadata": {},
     "output_type": "execute_result"
    }
   ],
   "source": [
    "by_day = df_by_day(obitos_df)\n",
    "by_day"
   ]
  },
  {
   "cell_type": "markdown",
   "metadata": {},
   "source": [
    "Plotando o valor cumulativo de óbitos ao longo do tempo:"
   ]
  },
  {
   "cell_type": "code",
   "execution_count": 26,
   "metadata": {},
   "outputs": [
    {
     "data": {
      "image/png": "[encoded data removed]",
      "text/plain": [
       "<Figure size 432x288 with 1 Axes>"
      ]
     },
     "metadata": {
      "needs_background": "light"
     },
     "output_type": "display_data"
    }
   ],
   "source": [
    "fig, ax = plt.subplots()\n",
    "\n",
    "ax.plot(by_day.index, by_day[2019].cumsum(), label='2019')\n",
    "ax.plot(by_day.index, by_day[2020].cumsum(), label='2020')\n",
    "\n",
    "loc = ax.xaxis.set_major_locator(ticker.MaxNLocator(6))\n",
    "ax.legend()\n",
    "\n",
    "ax.set_xlabel('Data')\n",
    "ax.set_ylabel('Óbitos')\n",
    "ax.set_title('Óbitos acumulados ao longo do tempo')\n",
    "\n",
    "plt.xticks(rotation=50)\n",
    "\n",
    "plt.show()"
   ]
  },
  {
   "cell_type": "markdown",
   "metadata": {},
   "source": [
    "É interessante notar que o descolamento das curvas só acontece a partir de meados de abril."
   ]
  },
  {
   "cell_type": "markdown",
   "metadata": {},
   "source": [
    "### 2.4.2. Destacando causas"
   ]
  },
  {
   "cell_type": "markdown",
   "metadata": {},
   "source": [
    "Vamos um gráfico similar ao anterior, mas destacando causas, individuais ou em grupos. Primeiro, coletamos os dados diários discriminando as causas."
   ]
  },
  {
   "cell_type": "code",
   "execution_count": 27,
   "metadata": {},
   "outputs": [
    {
     "data": {
      "text/html": [
       "<div>\n",
       "<style scoped>\n",
       "    .dataframe tbody tr th:only-of-type {\n",
       "        vertical-align: middle;\n",
       "    }\n",
       "\n",
       "    .dataframe tbody tr th {\n",
       "        vertical-align: top;\n",
       "    }\n",
       "\n",
       "    .dataframe thead tr th {\n",
       "        text-align: left;\n",
       "    }\n",
       "</style>\n",
       "<table border=\"1\" class=\"dataframe\">\n",
       "  <thead>\n",
       "    <tr>\n",
       "      <th>Date</th>\n",
       "      <th colspan=\"6\" halign=\"left\">2019</th>\n",
       "      <th colspan=\"7\" halign=\"left\">2020</th>\n",
       "    </tr>\n",
       "    <tr>\n",
       "      <th>Cause</th>\n",
       "      <th>INSUFICIENCIA_RESPIRATORIA</th>\n",
       "      <th>OUTRAS</th>\n",
       "      <th>PNEUMONIA</th>\n",
       "      <th>SEPTICEMIA</th>\n",
       "      <th>SRAG</th>\n",
       "      <th>INDETERMINADA</th>\n",
       "      <th>INDETERMINADA</th>\n",
       "      <th>INSUFICIENCIA_RESPIRATORIA</th>\n",
       "      <th>OUTRAS</th>\n",
       "      <th>PNEUMONIA</th>\n",
       "      <th>SEPTICEMIA</th>\n",
       "      <th>SRAG</th>\n",
       "      <th>COVID</th>\n",
       "    </tr>\n",
       "  </thead>\n",
       "  <tbody>\n",
       "    <tr>\n",
       "      <th>01-01</th>\n",
       "      <td>14.0</td>\n",
       "      <td>129.0</td>\n",
       "      <td>51.0</td>\n",
       "      <td>44.0</td>\n",
       "      <td>2.0</td>\n",
       "      <td>0.0</td>\n",
       "      <td>4</td>\n",
       "      <td>27</td>\n",
       "      <td>160</td>\n",
       "      <td>54</td>\n",
       "      <td>52</td>\n",
       "      <td>0</td>\n",
       "      <td>0</td>\n",
       "    </tr>\n",
       "    <tr>\n",
       "      <th>01-02</th>\n",
       "      <td>11.0</td>\n",
       "      <td>151.0</td>\n",
       "      <td>28.0</td>\n",
       "      <td>39.0</td>\n",
       "      <td>0.0</td>\n",
       "      <td>0.0</td>\n",
       "      <td>4</td>\n",
       "      <td>15</td>\n",
       "      <td>137</td>\n",
       "      <td>42</td>\n",
       "      <td>39</td>\n",
       "      <td>1</td>\n",
       "      <td>0</td>\n",
       "    </tr>\n",
       "    <tr>\n",
       "      <th>01-03</th>\n",
       "      <td>13.0</td>\n",
       "      <td>148.0</td>\n",
       "      <td>45.0</td>\n",
       "      <td>54.0</td>\n",
       "      <td>2.0</td>\n",
       "      <td>0.0</td>\n",
       "      <td>3</td>\n",
       "      <td>13</td>\n",
       "      <td>123</td>\n",
       "      <td>46</td>\n",
       "      <td>35</td>\n",
       "      <td>0</td>\n",
       "      <td>0</td>\n",
       "    </tr>\n",
       "    <tr>\n",
       "      <th>01-04</th>\n",
       "      <td>18.0</td>\n",
       "      <td>180.0</td>\n",
       "      <td>41.0</td>\n",
       "      <td>56.0</td>\n",
       "      <td>0.0</td>\n",
       "      <td>1.0</td>\n",
       "      <td>7</td>\n",
       "      <td>10</td>\n",
       "      <td>114</td>\n",
       "      <td>43</td>\n",
       "      <td>45</td>\n",
       "      <td>0</td>\n",
       "      <td>0</td>\n",
       "    </tr>\n",
       "    <tr>\n",
       "      <th>01-05</th>\n",
       "      <td>17.0</td>\n",
       "      <td>126.0</td>\n",
       "      <td>37.0</td>\n",
       "      <td>58.0</td>\n",
       "      <td>0.0</td>\n",
       "      <td>1.0</td>\n",
       "      <td>3</td>\n",
       "      <td>13</td>\n",
       "      <td>130</td>\n",
       "      <td>44</td>\n",
       "      <td>42</td>\n",
       "      <td>0</td>\n",
       "      <td>0</td>\n",
       "    </tr>\n",
       "    <tr>\n",
       "      <th>...</th>\n",
       "      <td>...</td>\n",
       "      <td>...</td>\n",
       "      <td>...</td>\n",
       "      <td>...</td>\n",
       "      <td>...</td>\n",
       "      <td>...</td>\n",
       "      <td>...</td>\n",
       "      <td>...</td>\n",
       "      <td>...</td>\n",
       "      <td>...</td>\n",
       "      <td>...</td>\n",
       "      <td>...</td>\n",
       "      <td>...</td>\n",
       "    </tr>\n",
       "    <tr>\n",
       "      <th>05-27</th>\n",
       "      <td>22.0</td>\n",
       "      <td>181.0</td>\n",
       "      <td>67.0</td>\n",
       "      <td>51.0</td>\n",
       "      <td>1.0</td>\n",
       "      <td>0.0</td>\n",
       "      <td>5</td>\n",
       "      <td>18</td>\n",
       "      <td>147</td>\n",
       "      <td>35</td>\n",
       "      <td>31</td>\n",
       "      <td>14</td>\n",
       "      <td>113</td>\n",
       "    </tr>\n",
       "    <tr>\n",
       "      <th>05-28</th>\n",
       "      <td>17.0</td>\n",
       "      <td>167.0</td>\n",
       "      <td>65.0</td>\n",
       "      <td>54.0</td>\n",
       "      <td>0.0</td>\n",
       "      <td>0.0</td>\n",
       "      <td>3</td>\n",
       "      <td>17</td>\n",
       "      <td>128</td>\n",
       "      <td>31</td>\n",
       "      <td>24</td>\n",
       "      <td>6</td>\n",
       "      <td>109</td>\n",
       "    </tr>\n",
       "    <tr>\n",
       "      <th>05-29</th>\n",
       "      <td>18.0</td>\n",
       "      <td>164.0</td>\n",
       "      <td>56.0</td>\n",
       "      <td>56.0</td>\n",
       "      <td>1.0</td>\n",
       "      <td>0.0</td>\n",
       "      <td>4</td>\n",
       "      <td>10</td>\n",
       "      <td>106</td>\n",
       "      <td>28</td>\n",
       "      <td>25</td>\n",
       "      <td>9</td>\n",
       "      <td>109</td>\n",
       "    </tr>\n",
       "    <tr>\n",
       "      <th>05-30</th>\n",
       "      <td>19.0</td>\n",
       "      <td>165.0</td>\n",
       "      <td>54.0</td>\n",
       "      <td>49.0</td>\n",
       "      <td>1.0</td>\n",
       "      <td>0.0</td>\n",
       "      <td>3</td>\n",
       "      <td>11</td>\n",
       "      <td>92</td>\n",
       "      <td>37</td>\n",
       "      <td>16</td>\n",
       "      <td>4</td>\n",
       "      <td>71</td>\n",
       "    </tr>\n",
       "    <tr>\n",
       "      <th>05-31</th>\n",
       "      <td>18.0</td>\n",
       "      <td>169.0</td>\n",
       "      <td>62.0</td>\n",
       "      <td>53.0</td>\n",
       "      <td>0.0</td>\n",
       "      <td>0.0</td>\n",
       "      <td>0</td>\n",
       "      <td>2</td>\n",
       "      <td>46</td>\n",
       "      <td>6</td>\n",
       "      <td>4</td>\n",
       "      <td>1</td>\n",
       "      <td>21</td>\n",
       "    </tr>\n",
       "  </tbody>\n",
       "</table>\n",
       "<p>152 rows × 13 columns</p>\n",
       "</div>"
      ],
      "text/plain": [
       "Date                        2019                                   \\\n",
       "Cause INSUFICIENCIA_RESPIRATORIA OUTRAS PNEUMONIA SEPTICEMIA SRAG   \n",
       "01-01                       14.0  129.0      51.0       44.0  2.0   \n",
       "01-02                       11.0  151.0      28.0       39.0  0.0   \n",
       "01-03                       13.0  148.0      45.0       54.0  2.0   \n",
       "01-04                       18.0  180.0      41.0       56.0  0.0   \n",
       "01-05                       17.0  126.0      37.0       58.0  0.0   \n",
       "...                          ...    ...       ...        ...  ...   \n",
       "05-27                       22.0  181.0      67.0       51.0  1.0   \n",
       "05-28                       17.0  167.0      65.0       54.0  0.0   \n",
       "05-29                       18.0  164.0      56.0       56.0  1.0   \n",
       "05-30                       19.0  165.0      54.0       49.0  1.0   \n",
       "05-31                       18.0  169.0      62.0       53.0  0.0   \n",
       "\n",
       "Date                         2020                                              \\\n",
       "Cause INDETERMINADA INDETERMINADA INSUFICIENCIA_RESPIRATORIA OUTRAS PNEUMONIA   \n",
       "01-01           0.0             4                         27    160        54   \n",
       "01-02           0.0             4                         15    137        42   \n",
       "01-03           0.0             3                         13    123        46   \n",
       "01-04           1.0             7                         10    114        43   \n",
       "01-05           1.0             3                         13    130        44   \n",
       "...             ...           ...                        ...    ...       ...   \n",
       "05-27           0.0             5                         18    147        35   \n",
       "05-28           0.0             3                         17    128        31   \n",
       "05-29           0.0             4                         10    106        28   \n",
       "05-30           0.0             3                         11     92        37   \n",
       "05-31           0.0             0                          2     46         6   \n",
       "\n",
       "Date                         \n",
       "Cause SEPTICEMIA SRAG COVID  \n",
       "01-01         52    0     0  \n",
       "01-02         39    1     0  \n",
       "01-03         35    0     0  \n",
       "01-04         45    0     0  \n",
       "01-05         42    0     0  \n",
       "...          ...  ...   ...  \n",
       "05-27         31   14   113  \n",
       "05-28         24    6   109  \n",
       "05-29         25    9   109  \n",
       "05-30         16    4    71  \n",
       "05-31          4    1    21  \n",
       "\n",
       "[152 rows x 13 columns]"
      ]
     },
     "execution_count": 27,
     "metadata": {},
     "output_type": "execute_result"
    }
   ],
   "source": [
    "by_cause = df_by_day(obitos_df, groupby=['Cause'])\n",
    "by_cause"
   ]
  },
  {
   "cell_type": "markdown",
   "metadata": {},
   "source": [
    "Vamos traçar três curvas: óbitos por todas as causas em 2019, óbitos por todas as causas em 2020 e óbitos acarretados por COVID19 em 2020:"
   ]
  },
  {
   "cell_type": "code",
   "execution_count": 28,
   "metadata": {},
   "outputs": [],
   "source": [
    "all_2019 = by_cause[2019].sum(axis=1)\n",
    "all_2020 = by_cause[2020].sum(axis=1)\n",
    "covid_2020 = by_cause[2020][['COVID']]"
   ]
  },
  {
   "cell_type": "code",
   "execution_count": 29,
   "metadata": {},
   "outputs": [
    {
     "data": {
      "image/png": "[encoded data removed]",
      "text/plain": [
       "<Figure size 432x288 with 1 Axes>"
      ]
     },
     "metadata": {
      "needs_background": "light"
     },
     "output_type": "display_data"
    }
   ],
   "source": [
    "fig, ax = plt.subplots()\n",
    "\n",
    "ax.plot(by_cause.index, all_2019.cumsum(), label='2019 (Todas)')\n",
    "ax.plot(by_cause.index, all_2020.cumsum(), label='2020 (Todas)')\n",
    "ax.plot(by_cause.index, covid_2020.cumsum(), label='2020 (COVID)')\n",
    "\n",
    "loc = ax.xaxis.set_major_locator(ticker.MaxNLocator(6))\n",
    "ax.legend()\n",
    "\n",
    "ax.set_xlabel('Data')\n",
    "ax.set_ylabel('Óbitos')\n",
    "ax.set_title('Óbitos acumulados ao longo do tempo')\n",
    "\n",
    "plt.xticks(rotation=50)\n",
    "\n",
    "plt.show()"
   ]
  },
  {
   "cell_type": "markdown",
   "metadata": {},
   "source": [
    "Podemos ver aqui que os óbitos por COVID19 em grande parte justificam o excesso de óbitos em 2020."
   ]
  },
  {
   "cell_type": "markdown",
   "metadata": {},
   "source": [
    "# Função genérica de plotagem de óbitos por grupo ao longo do tempo"
   ]
  },
  {
   "cell_type": "markdown",
   "metadata": {},
   "source": [
    "Podemos generalizar a ideia dos últimos gráficos em um função que nos permite traçar curvas de óbitos especificadas a partir das causas (ou local de óbito, como veremos adiante). A função toma como argumento principal um dicionário com formato:"
   ]
  },
  {
   "cell_type": "markdown",
   "metadata": {},
   "source": [
    "```\n",
    "{\n",
    "    2019: {\n",
    "        <nome_curva>: [<causas>]\n",
    "    },\n",
    "    2020: {\n",
    "        <nome_curva>: [<causas>]\n",
    "    }\n",
    "}\n",
    "```"
   ]
  },
  {
   "cell_type": "code",
   "execution_count": 30,
   "metadata": {},
   "outputs": [],
   "source": [
    "def plot_by_group(dataframe, curves, group='Cause', cumulative=True, title=None, max_ticks=10, xlabel='Data', ylabel='Óbitos'):\n",
    "    if group != 'Cause' and group != 'Place of Death':\n",
    "        raise ValueError(\"Group argument must be either 'Cause' or 'Place of Death'!\")\n",
    "    \n",
    "    by_group = df_by_day(dataframe, groupby=[group])\n",
    "    \n",
    "    fig, ax = plt.subplots()\n",
    "    \n",
    "    for year, cs in curves.items():\n",
    "        df = by_group[int(year)]\n",
    "        \n",
    "        for label, c in cs.items():\n",
    "            if c == 'all':\n",
    "                c = df.columns\n",
    "            \n",
    "            # Summarize deaths by the specified causes\n",
    "            series = df[c].sum(axis=1)\n",
    "                \n",
    "            if cumulative:\n",
    "                series = series.cumsum()\n",
    "                \n",
    "            ax.plot(by_group.index, series, label=label)\n",
    "\n",
    "    loc = ax.xaxis.set_major_locator(ticker.MaxNLocator(max_ticks))\n",
    "    ax.legend()\n",
    "\n",
    "    ax.set_xlabel(xlabel)\n",
    "    ax.set_ylabel(ylabel)\n",
    "    \n",
    "    if title:\n",
    "        ax.set_title(title)\n",
    "    elif cumulative:\n",
    "        ax.set_title('Óbitos acumulados ao longo do tempo')\n",
    "    else:\n",
    "        ax.set_title('Óbitos registrados ao longo do tempo')\n",
    "\n",
    "    plt.xticks(rotation=50)\n",
    "\n",
    "    # plt.show()\n",
    "    return fig"
   ]
  },
  {
   "cell_type": "markdown",
   "metadata": {},
   "source": [
    "Agora, podemos reproduzir o último gráfico:"
   ]
  },
  {
   "cell_type": "code",
   "execution_count": 31,
   "metadata": {},
   "outputs": [
    {
     "data": {
      "image/png": "[encoded data removed]",
      "text/plain": [
       "<Figure size 432x288 with 1 Axes>"
      ]
     },
     "metadata": {
      "needs_background": "light"
     },
     "output_type": "display_data"
    }
   ],
   "source": [
    "fig = plot_by_group(obitos_df, curves={\n",
    "    2019: {\n",
    "        '2019 (Todas)': 'all'\n",
    "    },\n",
    "    2020: {\n",
    "       '2020 (Todas)': 'all',\n",
    "        '2020 (Covid)': ['COVID']\n",
    "    }\n",
    "})"
   ]
  },
  {
   "cell_type": "markdown",
   "metadata": {},
   "source": [
    "A função retorna a figura para que possamos salvá-la como uma imagem:"
   ]
  },
  {
   "cell_type": "code",
   "execution_count": 32,
   "metadata": {},
   "outputs": [],
   "source": [
    "fig.savefig('fig.png')"
   ]
  },
  {
   "cell_type": "markdown",
   "metadata": {},
   "source": [
    "Note que se não atribuírmos o retorno da função ou se não terminarmos sua chamada com um ponto e vírgula, o notebook acaba a exibindo duas vezes."
   ]
  },
  {
   "cell_type": "markdown",
   "metadata": {},
   "source": [
    "Podemos usar a função para traçar diferentes curvas. Vamos comparar obítos registrados como 'SRAG' nos dois anos:"
   ]
  },
  {
   "cell_type": "code",
   "execution_count": 33,
   "metadata": {},
   "outputs": [
    {
     "data": {
      "image/png": "[encoded data removed]",
      "text/plain": [
       "<Figure size 432x288 with 1 Axes>"
      ]
     },
     "metadata": {
      "needs_background": "light"
     },
     "output_type": "display_data"
    }
   ],
   "source": [
    "fig = plot_by_group(obitos_df, curves={\n",
    "    2019: {\n",
    "        '2019 (SRAG)': ['SRAG']\n",
    "    },\n",
    "    2020: {\n",
    "        '2020 (SRAG)': ['SRAG']\n",
    "    }\n",
    "})"
   ]
  },
  {
   "cell_type": "markdown",
   "metadata": {},
   "source": [
    "### 2.4.3. Destacando local de óbito"
   ]
  },
  {
   "cell_type": "markdown",
   "metadata": {},
   "source": [
    "A função definida na última seção também nos permite descriminar por local de óbito:"
   ]
  },
  {
   "cell_type": "code",
   "execution_count": 34,
   "metadata": {},
   "outputs": [
    {
     "data": {
      "image/png": "[encoded data removed]",
      "text/plain": [
       "<Figure size 432x288 with 1 Axes>"
      ]
     },
     "metadata": {
      "needs_background": "light"
     },
     "output_type": "display_data"
    }
   ],
   "source": [
    "plot_by_group(obitos_df, curves={\n",
    "    2019: {\n",
    "        '2019 (todos)': 'all'\n",
    "    },\n",
    "    2020: {\n",
    "        '2020 (Todos)': 'all',\n",
    "        '2020 (Hospital)': ['HOSPITAL'],\n",
    "        '2020 (Domicílio)': ['DOMICILIO']\n",
    "    }\n",
    "}, group='Place of Death');"
   ]
  },
  {
   "cell_type": "markdown",
   "metadata": {},
   "source": [
    "Aqui podemos ver que o crescimento do número de mortes em hospitais, seguindo de forma bem mais discrita do crescimento do número de óbidos em domicílio, respondem em grande parte o excesso de mortes no em 2020."
   ]
  },
  {
   "cell_type": "code",
   "execution_count": null,
   "metadata": {},
   "outputs": [],
   "source": []
  }
 ],
 "metadata": {
  "kernelspec": {
   "display_name": "Python 3",
   "language": "python",
   "name": "python3"
  },
  "language_info": {
   "codemirror_mode": {
    "name": "ipython",
    "version": 3
   },
   "file_extension": ".py",
   "mimetype": "text/x-python",
   "name": "python",
   "nbconvert_exporter": "python",
   "pygments_lexer": "ipython3",
   "version": "3.7.7"
  }
 },
 "nbformat": 4,
 "nbformat_minor": 4
}
