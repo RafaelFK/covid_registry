{
 "cells": [
  {
   "cell_type": "code",
   "execution_count": 1,
   "metadata": {},
   "outputs": [],
   "source": [
    "from datetime import date, timedelta\n",
    "from covid_registry import CovidRegistry\n",
    "import pandas as pd"
   ]
  },
  {
   "cell_type": "markdown",
   "metadata": {},
   "source": [
    "# Dados de fevereiro"
   ]
  },
  {
   "cell_type": "code",
   "execution_count": 2,
   "metadata": {},
   "outputs": [],
   "source": [
    "grande_rio = [\n",
    "    'Rio de Janeiro',\n",
    "    'São Gonçalo',\n",
    "    'Duque de Caxias',\n",
    "    'Nova Iguaçu',\n",
    "    'Niteroi',\n",
    "    'Belford Roxo',\n",
    "    'São João de Meriti',\n",
    "    'Mage',\n",
    "    'Itaborai',\n",
    "    'Mesquita',\n",
    "    'Nilópolis',\n",
    "    'Maricá',\n",
    "    'Queimados',\n",
    "    'Itaguai',\n",
    "    'Japeri',\n",
    "    'Seropedica',\n",
    "    'Guapimirim',\n",
    "    'Paracambi',\n",
    "    'Tanguá',\n",
    "]"
   ]
  },
  {
   "cell_type": "code",
   "execution_count": 3,
   "metadata": {},
   "outputs": [],
   "source": [
    "name = 'fevereiro/grande_rio_fevereiro.csv'\n",
    "pkl = 'fevereiro/remaining_tasks.pkl'"
   ]
  },
  {
   "cell_type": "code",
   "execution_count": 4,
   "metadata": {},
   "outputs": [
    {
     "name": "stdout",
     "output_type": "stream",
     "text": [
      "This operation will take 5510 requests. Checkpoints will be created once every 500 requests.\n",
      "#0001 -- 500/5510 requests -- 0 failures -- Elapsed: 0:00:19.535245\n",
      "#0002 -- 1000/5510 requests -- 0 failures -- Elapsed: 0:00:43.619124\n",
      "#0003 -- 1500/5510 requests -- 1 failures -- Elapsed: 0:02:41.770408\n",
      "Errors found in chunk:\n",
      "[\"<class 'aiohttp.client_exceptions.ClientResponseError'>\"]\n"
     ]
    },
    {
     "name": "stderr",
     "output_type": "stream",
     "text": [
      "  File \"/home/rkatopodis/project/covid_registry/covid_registry.py\", line 82, in query\n",
      "    j = (await (await self._get(self.api_url, params)).json())['chart']\n",
      "  File \"/home/rkatopodis/project/covid_registry/covid_registry.py\", line 242, in _get\n",
      "    res.raise_for_status()\n",
      "  File \"/home/rkatopodis/miniconda3/envs/covid/lib/python3.7/site-packages/aiohttp/client_reqrep.py\", line 946, in raise_for_status\n",
      "    headers=self.headers)\n"
     ]
    },
    {
     "name": "stdout",
     "output_type": "stream",
     "text": [
      "#0004 -- 2000/5510 requests -- 11 failures -- Elapsed: 0:05:30.881971\n",
      "Errors found in chunk:\n",
      "[\"<class 'aiohttp.client_exceptions.ClientResponseError'>\"]\n"
     ]
    },
    {
     "name": "stderr",
     "output_type": "stream",
     "text": [
      "  File \"/home/rkatopodis/project/covid_registry/covid_registry.py\", line 82, in query\n",
      "    j = (await (await self._get(self.api_url, params)).json())['chart']\n",
      "  File \"/home/rkatopodis/project/covid_registry/covid_registry.py\", line 242, in _get\n",
      "    res.raise_for_status()\n",
      "  File \"/home/rkatopodis/miniconda3/envs/covid/lib/python3.7/site-packages/aiohttp/client_reqrep.py\", line 946, in raise_for_status\n",
      "    headers=self.headers)\n"
     ]
    },
    {
     "name": "stdout",
     "output_type": "stream",
     "text": [
      "#0005 -- 2500/5510 requests -- 17 failures -- Elapsed: 0:07:17.269526\n",
      "Errors found in chunk:\n",
      "[\"<class 'aiohttp.client_exceptions.ClientResponseError'>\"]\n"
     ]
    },
    {
     "name": "stderr",
     "output_type": "stream",
     "text": [
      "  File \"/home/rkatopodis/project/covid_registry/covid_registry.py\", line 82, in query\n",
      "    j = (await (await self._get(self.api_url, params)).json())['chart']\n",
      "  File \"/home/rkatopodis/project/covid_registry/covid_registry.py\", line 242, in _get\n",
      "    }\n",
      "  File \"/home/rkatopodis/miniconda3/envs/covid/lib/python3.7/site-packages/aiohttp/client_reqrep.py\", line 946, in raise_for_status\n",
      "    headers=self.headers)\n"
     ]
    },
    {
     "name": "stdout",
     "output_type": "stream",
     "text": [
      "#0006 -- 3000/5510 requests -- 42 failures -- Elapsed: 0:08:56.950151\n",
      "Errors found in chunk:\n",
      "[\"<class 'aiohttp.client_exceptions.ClientResponseError'>\"]\n"
     ]
    },
    {
     "name": "stderr",
     "output_type": "stream",
     "text": [
      "  File \"/home/rkatopodis/project/covid_registry/covid_registry.py\", line 82, in query\n",
      "    j = (await (await self._get(self.api_url, params)).json())['chart']\n",
      "  File \"/home/rkatopodis/project/covid_registry/covid_registry.py\", line 242, in _get\n",
      "    }\n",
      "  File \"/home/rkatopodis/miniconda3/envs/covid/lib/python3.7/site-packages/aiohttp/client_reqrep.py\", line 946, in raise_for_status\n",
      "    headers=self.headers)\n"
     ]
    },
    {
     "name": "stdout",
     "output_type": "stream",
     "text": [
      "#0007 -- 3500/5510 requests -- 43 failures -- Elapsed: 0:09:22.294542\n",
      "Errors found in chunk:\n",
      "[\"<class 'aiohttp.client_exceptions.ClientResponseError'>\"]\n"
     ]
    },
    {
     "name": "stderr",
     "output_type": "stream",
     "text": [
      "  File \"/home/rkatopodis/project/covid_registry/covid_registry.py\", line 82, in query\n",
      "    j = (await (await self._get(self.api_url, params)).json())['chart']\n",
      "  File \"/home/rkatopodis/project/covid_registry/covid_registry.py\", line 242, in _get\n",
      "    }\n",
      "  File \"/home/rkatopodis/miniconda3/envs/covid/lib/python3.7/site-packages/aiohttp/client_reqrep.py\", line 946, in raise_for_status\n",
      "    headers=self.headers)\n"
     ]
    },
    {
     "name": "stdout",
     "output_type": "stream",
     "text": [
      "#0008 -- 4000/5510 requests -- 43 failures -- Elapsed: 0:09:47.174180\n",
      "Errors found in chunk:\n",
      "[]\n",
      "#0009 -- 4500/5510 requests -- 43 failures -- Elapsed: 0:10:11.718622\n",
      "Errors found in chunk:\n",
      "[]\n",
      "#0010 -- 5000/5510 requests -- 43 failures -- Elapsed: 0:10:36.731702\n",
      "Errors found in chunk:\n",
      "[]\n",
      "#0011 -- 5500/5510 requests -- 43 failures -- Elapsed: 0:11:01.159649\n",
      "Errors found in chunk:\n",
      "[]\n",
      "#0012 -- 5510/5510 requests -- 43 failures -- Elapsed: 0:11:06.900167\n",
      "Errors found in chunk:\n",
      "[]\n",
      "43 failures occured. Retrying...\n",
      "This operation will take 43 requests. Checkpoints will be created once every 500 requests.\n",
      "#0001 -- 43/43 requests -- 0 failures -- Elapsed: 0:11:08.998032\n"
     ]
    }
   ],
   "source": [
    "async with CovidRegistry() as reg:\n",
    "    dates = pd.date_range(start='20200201', end='20200229')\n",
    "    await reg.dump(dates, states=['RJ'], cities=grande_rio, file=name, pkl=pkl, checkpoint_once_in=500)"
   ]
  },
  {
   "cell_type": "markdown",
   "metadata": {},
   "source": [
    "Verificando se há duplicatas:"
   ]
  },
  {
   "cell_type": "code",
   "execution_count": 5,
   "metadata": {},
   "outputs": [],
   "source": [
    "df = pd.read_csv(\n",
    "    name,\n",
    "    usecols=['Date', 'State', 'City', 'Age', 'Gender', 'Place of Death', 'Cause', '#'],\n",
    "    parse_dates=[1]\n",
    ")"
   ]
  },
  {
   "cell_type": "code",
   "execution_count": 6,
   "metadata": {},
   "outputs": [
    {
     "data": {
      "text/plain": [
       "False    8184\n",
       "dtype: int64"
      ]
     },
     "execution_count": 6,
     "metadata": {},
     "output_type": "execute_result"
    }
   ],
   "source": [
    "df.duplicated(keep=False).value_counts()"
   ]
  },
  {
   "cell_type": "code",
   "execution_count": null,
   "metadata": {},
   "outputs": [],
   "source": []
  }
 ],
 "metadata": {
  "kernelspec": {
   "display_name": "Python 3.7.7 64-bit",
   "language": "python",
   "name": "python37764bitda9ab85a77be4d569586d3660dd51de9"
  },
  "language_info": {
   "codemirror_mode": {
    "name": "ipython",
    "version": 3
   },
   "file_extension": ".py",
   "mimetype": "text/x-python",
   "name": "python",
   "nbconvert_exporter": "python",
   "pygments_lexer": "ipython3",
   "version": "3.7.7"
  }
 },
 "nbformat": 4,
 "nbformat_minor": 4
}
