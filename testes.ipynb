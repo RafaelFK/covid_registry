{
 "cells": [
  {
   "cell_type": "code",
   "execution_count": 42,
   "metadata": {},
   "outputs": [],
   "source": [
    "from datetime import date, timedelta\n",
    "from covid_registry import CovidRegistry\n",
    "import pandas as pd\n",
    "from pathlib import Path"
   ]
  },
  {
   "cell_type": "code",
   "execution_count": 3,
   "metadata": {
    "jupyter": {
     "source_hidden": true
    }
   },
   "outputs": [],
   "source": [
    "grande_rio = [\n",
    "    'Rio de Janeiro',\n",
    "    'São Gonçalo',\n",
    "    'Duque de Caxias',\n",
    "    'Nova Iguaçu',\n",
    "    'Niteroi',\n",
    "    'Belford Roxo',\n",
    "    'São João de Meriti',\n",
    "    'Mage',\n",
    "    'Itaborai',\n",
    "    'Mesquita',\n",
    "    'Nilópolis',\n",
    "    'Maricá',\n",
    "    'Queimados',\n",
    "    'Itaguai',\n",
    "    'Japeri',\n",
    "    'Seropedica',\n",
    "    'Guapimirim',\n",
    "    'Paracambi',\n",
    "    'Tanguá',\n",
    "]"
   ]
  },
  {
   "cell_type": "markdown",
   "metadata": {},
   "source": [
    "# Testes"
   ]
  },
  {
   "cell_type": "markdown",
   "metadata": {},
   "source": [
    "As tabelas produzidas até agora apresentam problemas, com um número massivo de pontos repetidos e possivelmente pontos faltantes. Preciso determinar qual a origem do problema."
   ]
  },
  {
   "cell_type": "markdown",
   "metadata": {},
   "source": [
    "## 1. Sob quais condições os erros aparecem?"
   ]
  },
  {
   "cell_type": "markdown",
   "metadata": {},
   "source": [
    "Os erros foram observados nos dados extraídos para o mês de janeiro relativos aos municípios da região metropolitana do Rio de Janeiro para ambos os gêneros e todos os locais de óbito. Esses parâmetros tem algum impacto na ocorrêcia do erro?"
   ]
  },
  {
   "cell_type": "markdown",
   "metadata": {},
   "source": [
    "### 1.1 Limitando o intervalo de tempo"
   ]
  },
  {
   "cell_type": "markdown",
   "metadata": {},
   "source": [
    "#### 1.1.1 Apenas um dia"
   ]
  },
  {
   "cell_type": "markdown",
   "metadata": {},
   "source": [
    "Se realizar a consulta para apenas um dia, observo o erro?"
   ]
  },
  {
   "cell_type": "code",
   "execution_count": 4,
   "metadata": {},
   "outputs": [
    {
     "name": "stdout",
     "output_type": "stream",
     "text": [
      "This operation will take 190 requests. Checkpoints will be created once every 200 requests.\n",
      "#0001 -- 190/190 requests -- 0 failures -- Elapsed: 0:00:08.373151\n"
     ]
    }
   ],
   "source": [
    "name = 'tests/single_day/grande_rio.csv'\n",
    "pkl = 'tests/single_day/remaining_tasks.pkl'\n",
    "\n",
    "async with CovidRegistry() as reg:\n",
    "    dates = pd.date_range(start='20200101', end='20200101')\n",
    "    await reg.dump(dates, states=['RJ'], cities=grande_rio, file=name, pkl=pkl)"
   ]
  },
  {
   "cell_type": "markdown",
   "metadata": {},
   "source": [
    "Vamos, agora, validar o resultado. Alguns pontos para ter em mente: Apesar do número de requisições iniciais ser maior do que o tamanho do 'chunk', o fato de requisições mal sucedidas terem ocorrido, forçou a operação a se dar em 5 blocos, cada qual resultou em um dataframe que foi anexado ao arquivo final."
   ]
  },
  {
   "cell_type": "code",
   "execution_count": 5,
   "metadata": {},
   "outputs": [],
   "source": [
    "test_file = Path('tests/single_day/grande_rio.csv')"
   ]
  },
  {
   "cell_type": "code",
   "execution_count": 6,
   "metadata": {},
   "outputs": [],
   "source": [
    "df = pd.read_csv(\n",
    "    test_file,\n",
    "    usecols=['Date', 'State', 'City', 'Age', 'Gender', 'Place of Death', 'Cause', '#'],\n",
    "    parse_dates=[1]\n",
    ")"
   ]
  },
  {
   "cell_type": "code",
   "execution_count": 7,
   "metadata": {},
   "outputs": [
    {
     "data": {
      "text/html": [
       "<div>\n",
       "<style scoped>\n",
       "    .dataframe tbody tr th:only-of-type {\n",
       "        vertical-align: middle;\n",
       "    }\n",
       "\n",
       "    .dataframe tbody tr th {\n",
       "        vertical-align: top;\n",
       "    }\n",
       "\n",
       "    .dataframe thead th {\n",
       "        text-align: right;\n",
       "    }\n",
       "</style>\n",
       "<table border=\"1\" class=\"dataframe\">\n",
       "  <thead>\n",
       "    <tr style=\"text-align: right;\">\n",
       "      <th></th>\n",
       "      <th>Date</th>\n",
       "      <th>State</th>\n",
       "      <th>City</th>\n",
       "      <th>Age</th>\n",
       "      <th>Gender</th>\n",
       "      <th>Place of Death</th>\n",
       "      <th>Cause</th>\n",
       "      <th>#</th>\n",
       "    </tr>\n",
       "  </thead>\n",
       "  <tbody>\n",
       "    <tr>\n",
       "      <th>0</th>\n",
       "      <td>2019-01-01</td>\n",
       "      <td>RJ</td>\n",
       "      <td>Rio de Janeiro</td>\n",
       "      <td>&lt; 9</td>\n",
       "      <td>M</td>\n",
       "      <td>HOSPITAL</td>\n",
       "      <td>OUTRAS</td>\n",
       "      <td>1</td>\n",
       "    </tr>\n",
       "    <tr>\n",
       "      <th>1</th>\n",
       "      <td>2019-01-01</td>\n",
       "      <td>RJ</td>\n",
       "      <td>Rio de Janeiro</td>\n",
       "      <td>&lt; 9</td>\n",
       "      <td>M</td>\n",
       "      <td>HOSPITAL</td>\n",
       "      <td>PNEUMONIA</td>\n",
       "      <td>1</td>\n",
       "    </tr>\n",
       "    <tr>\n",
       "      <th>2</th>\n",
       "      <td>2020-01-01</td>\n",
       "      <td>RJ</td>\n",
       "      <td>Rio de Janeiro</td>\n",
       "      <td>&lt; 9</td>\n",
       "      <td>M</td>\n",
       "      <td>HOSPITAL</td>\n",
       "      <td>INSUFICIENCIA_RESPIRATORIA</td>\n",
       "      <td>1</td>\n",
       "    </tr>\n",
       "    <tr>\n",
       "      <th>3</th>\n",
       "      <td>2020-01-01</td>\n",
       "      <td>RJ</td>\n",
       "      <td>Rio de Janeiro</td>\n",
       "      <td>&lt; 9</td>\n",
       "      <td>M</td>\n",
       "      <td>HOSPITAL</td>\n",
       "      <td>SEPTICEMIA</td>\n",
       "      <td>1</td>\n",
       "    </tr>\n",
       "    <tr>\n",
       "      <th>4</th>\n",
       "      <td>2019-01-01</td>\n",
       "      <td>RJ</td>\n",
       "      <td>Rio de Janeiro</td>\n",
       "      <td>20 - 29</td>\n",
       "      <td>M</td>\n",
       "      <td>HOSPITAL</td>\n",
       "      <td>OUTRAS</td>\n",
       "      <td>1</td>\n",
       "    </tr>\n",
       "  </tbody>\n",
       "</table>\n",
       "</div>"
      ],
      "text/plain": [
       "         Date State            City      Age Gender Place of Death  \\\n",
       "0  2019-01-01    RJ  Rio de Janeiro      < 9      M       HOSPITAL   \n",
       "1  2019-01-01    RJ  Rio de Janeiro      < 9      M       HOSPITAL   \n",
       "2  2020-01-01    RJ  Rio de Janeiro      < 9      M       HOSPITAL   \n",
       "3  2020-01-01    RJ  Rio de Janeiro      < 9      M       HOSPITAL   \n",
       "4  2019-01-01    RJ  Rio de Janeiro  20 - 29      M       HOSPITAL   \n",
       "\n",
       "                        Cause  #  \n",
       "0                      OUTRAS  1  \n",
       "1                   PNEUMONIA  1  \n",
       "2  INSUFICIENCIA_RESPIRATORIA  1  \n",
       "3                  SEPTICEMIA  1  \n",
       "4                      OUTRAS  1  "
      ]
     },
     "execution_count": 7,
     "metadata": {},
     "output_type": "execute_result"
    }
   ],
   "source": [
    "df.head()"
   ]
  },
  {
   "cell_type": "markdown",
   "metadata": {},
   "source": [
    "Vamos ordenar o dataframe e observar se temos repetições:"
   ]
  },
  {
   "cell_type": "code",
   "execution_count": 8,
   "metadata": {},
   "outputs": [],
   "source": [
    "df.sort_values(by=['Date', 'State', 'City', 'Age', 'Gender', 'Place of Death', 'Cause'], axis=0, inplace=True)"
   ]
  },
  {
   "cell_type": "code",
   "execution_count": 9,
   "metadata": {},
   "outputs": [
    {
     "data": {
      "text/html": [
       "<div>\n",
       "<style scoped>\n",
       "    .dataframe tbody tr th:only-of-type {\n",
       "        vertical-align: middle;\n",
       "    }\n",
       "\n",
       "    .dataframe tbody tr th {\n",
       "        vertical-align: top;\n",
       "    }\n",
       "\n",
       "    .dataframe thead th {\n",
       "        text-align: right;\n",
       "    }\n",
       "</style>\n",
       "<table border=\"1\" class=\"dataframe\">\n",
       "  <thead>\n",
       "    <tr style=\"text-align: right;\">\n",
       "      <th></th>\n",
       "      <th>Date</th>\n",
       "      <th>State</th>\n",
       "      <th>City</th>\n",
       "      <th>Age</th>\n",
       "      <th>Gender</th>\n",
       "      <th>Place of Death</th>\n",
       "      <th>Cause</th>\n",
       "      <th>#</th>\n",
       "    </tr>\n",
       "  </thead>\n",
       "  <tbody>\n",
       "    <tr>\n",
       "      <th>248</th>\n",
       "      <td>2019-01-01</td>\n",
       "      <td>RJ</td>\n",
       "      <td>Belford Roxo</td>\n",
       "      <td>30 - 39</td>\n",
       "      <td>F</td>\n",
       "      <td>HOSPITAL</td>\n",
       "      <td>INSUFICIENCIA_RESPIRATORIA</td>\n",
       "      <td>1</td>\n",
       "    </tr>\n",
       "    <tr>\n",
       "      <th>246</th>\n",
       "      <td>2019-01-01</td>\n",
       "      <td>RJ</td>\n",
       "      <td>Belford Roxo</td>\n",
       "      <td>60 - 69</td>\n",
       "      <td>M</td>\n",
       "      <td>HOSPITAL</td>\n",
       "      <td>SEPTICEMIA</td>\n",
       "      <td>1</td>\n",
       "    </tr>\n",
       "    <tr>\n",
       "      <th>249</th>\n",
       "      <td>2019-01-01</td>\n",
       "      <td>RJ</td>\n",
       "      <td>Belford Roxo</td>\n",
       "      <td>80 - 89</td>\n",
       "      <td>F</td>\n",
       "      <td>HOSPITAL</td>\n",
       "      <td>OUTRAS</td>\n",
       "      <td>1</td>\n",
       "    </tr>\n",
       "    <tr>\n",
       "      <th>253</th>\n",
       "      <td>2019-01-01</td>\n",
       "      <td>RJ</td>\n",
       "      <td>Belford Roxo</td>\n",
       "      <td>90 - 99</td>\n",
       "      <td>F</td>\n",
       "      <td>DOMICILIO</td>\n",
       "      <td>OUTRAS</td>\n",
       "      <td>1</td>\n",
       "    </tr>\n",
       "    <tr>\n",
       "      <th>172</th>\n",
       "      <td>2019-01-01</td>\n",
       "      <td>RJ</td>\n",
       "      <td>Duque de Caxias</td>\n",
       "      <td>20 - 29</td>\n",
       "      <td>M</td>\n",
       "      <td>VIA_PUBLICA</td>\n",
       "      <td>OUTRAS</td>\n",
       "      <td>1</td>\n",
       "    </tr>\n",
       "  </tbody>\n",
       "</table>\n",
       "</div>"
      ],
      "text/plain": [
       "           Date State             City      Age Gender Place of Death  \\\n",
       "248  2019-01-01    RJ     Belford Roxo  30 - 39      F       HOSPITAL   \n",
       "246  2019-01-01    RJ     Belford Roxo  60 - 69      M       HOSPITAL   \n",
       "249  2019-01-01    RJ     Belford Roxo  80 - 89      F       HOSPITAL   \n",
       "253  2019-01-01    RJ     Belford Roxo  90 - 99      F      DOMICILIO   \n",
       "172  2019-01-01    RJ  Duque de Caxias  20 - 29      M    VIA_PUBLICA   \n",
       "\n",
       "                          Cause  #  \n",
       "248  INSUFICIENCIA_RESPIRATORIA  1  \n",
       "246                  SEPTICEMIA  1  \n",
       "249                      OUTRAS  1  \n",
       "253                      OUTRAS  1  \n",
       "172                      OUTRAS  1  "
      ]
     },
     "execution_count": 9,
     "metadata": {},
     "output_type": "execute_result"
    }
   ],
   "source": [
    "df.head()"
   ]
  },
  {
   "cell_type": "markdown",
   "metadata": {},
   "source": [
    "Visualmente, não parece haver repetições. Vamos tentar provar isso. O método `duplicated`, como usado a seguir, retorna uma série booleana onde toda linha que ocorre mais de uma vez é marcada como True. Se tivermos uma quantia não nula de verdadeiros nessa série, temos duplicatas:"
   ]
  },
  {
   "cell_type": "code",
   "execution_count": 10,
   "metadata": {},
   "outputs": [
    {
     "data": {
      "text/plain": [
       "False    333\n",
       "dtype: int64"
      ]
     },
     "execution_count": 10,
     "metadata": {},
     "output_type": "execute_result"
    }
   ],
   "source": [
    "df.duplicated(keep=False).value_counts()"
   ]
  },
  {
   "cell_type": "markdown",
   "metadata": {},
   "source": [
    "E se tivéssemos forçado o chunking?"
   ]
  },
  {
   "cell_type": "code",
   "execution_count": 11,
   "metadata": {},
   "outputs": [
    {
     "name": "stdout",
     "output_type": "stream",
     "text": [
      "This operation will take 190 requests. Checkpoints will be created once every 50 requests.\n",
      "#0001 -- 50/190 requests -- 0 failures -- Elapsed: 0:00:02.673167\n",
      "#0002 -- 100/190 requests -- 0 failures -- Elapsed: 0:00:04.972636\n",
      "#0003 -- 150/190 requests -- 0 failures -- Elapsed: 0:00:09.381964\n",
      "#0004 -- 190/190 requests -- 0 failures -- Elapsed: 0:00:11.632529\n"
     ]
    }
   ],
   "source": [
    "name = 'tests/single_day/grande_rio.csv'\n",
    "pkl = 'tests/single_day/remaining_tasks.pkl'\n",
    "\n",
    "async with CovidRegistry() as reg:\n",
    "    dates = pd.date_range(start='20200101', end='20200101')\n",
    "    await reg.dump(dates, states=['RJ'], cities=grande_rio, file=name, pkl=pkl, checkpoint_once_in=50)"
   ]
  },
  {
   "cell_type": "markdown",
   "metadata": {},
   "source": [
    "Avaliando novamente os resultados:"
   ]
  },
  {
   "cell_type": "code",
   "execution_count": 12,
   "metadata": {},
   "outputs": [],
   "source": [
    "df = pd.read_csv(\n",
    "    test_file,\n",
    "    usecols=['Date', 'State', 'City', 'Age', 'Gender', 'Place of Death', 'Cause', '#'],\n",
    "    parse_dates=[1]\n",
    ")"
   ]
  },
  {
   "cell_type": "code",
   "execution_count": 13,
   "metadata": {},
   "outputs": [
    {
     "data": {
      "text/html": [
       "<div>\n",
       "<style scoped>\n",
       "    .dataframe tbody tr th:only-of-type {\n",
       "        vertical-align: middle;\n",
       "    }\n",
       "\n",
       "    .dataframe tbody tr th {\n",
       "        vertical-align: top;\n",
       "    }\n",
       "\n",
       "    .dataframe thead th {\n",
       "        text-align: right;\n",
       "    }\n",
       "</style>\n",
       "<table border=\"1\" class=\"dataframe\">\n",
       "  <thead>\n",
       "    <tr style=\"text-align: right;\">\n",
       "      <th></th>\n",
       "      <th>Date</th>\n",
       "      <th>State</th>\n",
       "      <th>City</th>\n",
       "      <th>Age</th>\n",
       "      <th>Gender</th>\n",
       "      <th>Place of Death</th>\n",
       "      <th>Cause</th>\n",
       "      <th>#</th>\n",
       "    </tr>\n",
       "  </thead>\n",
       "  <tbody>\n",
       "    <tr>\n",
       "      <th>248</th>\n",
       "      <td>2019-01-01</td>\n",
       "      <td>RJ</td>\n",
       "      <td>Belford Roxo</td>\n",
       "      <td>30 - 39</td>\n",
       "      <td>F</td>\n",
       "      <td>HOSPITAL</td>\n",
       "      <td>INSUFICIENCIA_RESPIRATORIA</td>\n",
       "      <td>1</td>\n",
       "    </tr>\n",
       "    <tr>\n",
       "      <th>246</th>\n",
       "      <td>2019-01-01</td>\n",
       "      <td>RJ</td>\n",
       "      <td>Belford Roxo</td>\n",
       "      <td>60 - 69</td>\n",
       "      <td>M</td>\n",
       "      <td>HOSPITAL</td>\n",
       "      <td>SEPTICEMIA</td>\n",
       "      <td>1</td>\n",
       "    </tr>\n",
       "    <tr>\n",
       "      <th>249</th>\n",
       "      <td>2019-01-01</td>\n",
       "      <td>RJ</td>\n",
       "      <td>Belford Roxo</td>\n",
       "      <td>80 - 89</td>\n",
       "      <td>F</td>\n",
       "      <td>HOSPITAL</td>\n",
       "      <td>OUTRAS</td>\n",
       "      <td>1</td>\n",
       "    </tr>\n",
       "    <tr>\n",
       "      <th>253</th>\n",
       "      <td>2019-01-01</td>\n",
       "      <td>RJ</td>\n",
       "      <td>Belford Roxo</td>\n",
       "      <td>90 - 99</td>\n",
       "      <td>F</td>\n",
       "      <td>DOMICILIO</td>\n",
       "      <td>OUTRAS</td>\n",
       "      <td>1</td>\n",
       "    </tr>\n",
       "    <tr>\n",
       "      <th>172</th>\n",
       "      <td>2019-01-01</td>\n",
       "      <td>RJ</td>\n",
       "      <td>Duque de Caxias</td>\n",
       "      <td>20 - 29</td>\n",
       "      <td>M</td>\n",
       "      <td>VIA_PUBLICA</td>\n",
       "      <td>OUTRAS</td>\n",
       "      <td>1</td>\n",
       "    </tr>\n",
       "    <tr>\n",
       "      <th>159</th>\n",
       "      <td>2019-01-01</td>\n",
       "      <td>RJ</td>\n",
       "      <td>Duque de Caxias</td>\n",
       "      <td>30 - 39</td>\n",
       "      <td>M</td>\n",
       "      <td>HOSPITAL</td>\n",
       "      <td>SEPTICEMIA</td>\n",
       "      <td>1</td>\n",
       "    </tr>\n",
       "    <tr>\n",
       "      <th>174</th>\n",
       "      <td>2019-01-01</td>\n",
       "      <td>RJ</td>\n",
       "      <td>Duque de Caxias</td>\n",
       "      <td>40 - 49</td>\n",
       "      <td>F</td>\n",
       "      <td>HOSPITAL</td>\n",
       "      <td>OUTRAS</td>\n",
       "      <td>1</td>\n",
       "    </tr>\n",
       "    <tr>\n",
       "      <th>160</th>\n",
       "      <td>2019-01-01</td>\n",
       "      <td>RJ</td>\n",
       "      <td>Duque de Caxias</td>\n",
       "      <td>40 - 49</td>\n",
       "      <td>M</td>\n",
       "      <td>HOSPITAL</td>\n",
       "      <td>OUTRAS</td>\n",
       "      <td>2</td>\n",
       "    </tr>\n",
       "    <tr>\n",
       "      <th>176</th>\n",
       "      <td>2019-01-01</td>\n",
       "      <td>RJ</td>\n",
       "      <td>Duque de Caxias</td>\n",
       "      <td>60 - 69</td>\n",
       "      <td>F</td>\n",
       "      <td>HOSPITAL</td>\n",
       "      <td>OUTRAS</td>\n",
       "      <td>1</td>\n",
       "    </tr>\n",
       "    <tr>\n",
       "      <th>177</th>\n",
       "      <td>2019-01-01</td>\n",
       "      <td>RJ</td>\n",
       "      <td>Duque de Caxias</td>\n",
       "      <td>60 - 69</td>\n",
       "      <td>F</td>\n",
       "      <td>HOSPITAL</td>\n",
       "      <td>SEPTICEMIA</td>\n",
       "      <td>1</td>\n",
       "    </tr>\n",
       "    <tr>\n",
       "      <th>170</th>\n",
       "      <td>2019-01-01</td>\n",
       "      <td>RJ</td>\n",
       "      <td>Duque de Caxias</td>\n",
       "      <td>60 - 69</td>\n",
       "      <td>M</td>\n",
       "      <td>DOMICILIO</td>\n",
       "      <td>OUTRAS</td>\n",
       "      <td>1</td>\n",
       "    </tr>\n",
       "    <tr>\n",
       "      <th>161</th>\n",
       "      <td>2019-01-01</td>\n",
       "      <td>RJ</td>\n",
       "      <td>Duque de Caxias</td>\n",
       "      <td>60 - 69</td>\n",
       "      <td>M</td>\n",
       "      <td>HOSPITAL</td>\n",
       "      <td>OUTRAS</td>\n",
       "      <td>2</td>\n",
       "    </tr>\n",
       "  </tbody>\n",
       "</table>\n",
       "</div>"
      ],
      "text/plain": [
       "           Date State             City      Age Gender Place of Death  \\\n",
       "248  2019-01-01    RJ     Belford Roxo  30 - 39      F       HOSPITAL   \n",
       "246  2019-01-01    RJ     Belford Roxo  60 - 69      M       HOSPITAL   \n",
       "249  2019-01-01    RJ     Belford Roxo  80 - 89      F       HOSPITAL   \n",
       "253  2019-01-01    RJ     Belford Roxo  90 - 99      F      DOMICILIO   \n",
       "172  2019-01-01    RJ  Duque de Caxias  20 - 29      M    VIA_PUBLICA   \n",
       "159  2019-01-01    RJ  Duque de Caxias  30 - 39      M       HOSPITAL   \n",
       "174  2019-01-01    RJ  Duque de Caxias  40 - 49      F       HOSPITAL   \n",
       "160  2019-01-01    RJ  Duque de Caxias  40 - 49      M       HOSPITAL   \n",
       "176  2019-01-01    RJ  Duque de Caxias  60 - 69      F       HOSPITAL   \n",
       "177  2019-01-01    RJ  Duque de Caxias  60 - 69      F       HOSPITAL   \n",
       "170  2019-01-01    RJ  Duque de Caxias  60 - 69      M      DOMICILIO   \n",
       "161  2019-01-01    RJ  Duque de Caxias  60 - 69      M       HOSPITAL   \n",
       "\n",
       "                          Cause  #  \n",
       "248  INSUFICIENCIA_RESPIRATORIA  1  \n",
       "246                  SEPTICEMIA  1  \n",
       "249                      OUTRAS  1  \n",
       "253                      OUTRAS  1  \n",
       "172                      OUTRAS  1  \n",
       "159                  SEPTICEMIA  1  \n",
       "174                      OUTRAS  1  \n",
       "160                      OUTRAS  2  \n",
       "176                      OUTRAS  1  \n",
       "177                  SEPTICEMIA  1  \n",
       "170                      OUTRAS  1  \n",
       "161                      OUTRAS  2  "
      ]
     },
     "execution_count": 13,
     "metadata": {},
     "output_type": "execute_result"
    }
   ],
   "source": [
    "df.sort_values(by=['Date', 'State', 'City', 'Age', 'Gender', 'Place of Death', 'Cause'], axis=0, inplace=True)\n",
    "df.head(12)"
   ]
  },
  {
   "cell_type": "code",
   "execution_count": 14,
   "metadata": {},
   "outputs": [
    {
     "data": {
      "text/plain": [
       "False    333\n",
       "dtype: int64"
      ]
     },
     "execution_count": 14,
     "metadata": {},
     "output_type": "execute_result"
    }
   ],
   "source": [
    "df.duplicated(keep=False).value_counts()"
   ]
  }
 ],
 "metadata": {
  "kernelspec": {
   "display_name": "Python 3",
   "language": "python",
   "name": "python3"
  },
  "language_info": {
   "codemirror_mode": {
    "name": "ipython",
    "version": 3
   },
   "file_extension": ".py",
   "mimetype": "text/x-python",
   "name": "python",
   "nbconvert_exporter": "python",
   "pygments_lexer": "ipython3",
   "version": "3.7.7"
  }
 },
 "nbformat": 4,
 "nbformat_minor": 4
}
